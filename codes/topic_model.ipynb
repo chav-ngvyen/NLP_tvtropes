{
 "cells": [
  {
   "cell_type": "code",
   "execution_count": 4,
   "id": "bb3fc565",
   "metadata": {},
   "outputs": [],
   "source": [
    "import pandas as pd\n",
    "from preprocess_functions import *\n",
    "\n",
    "# Load trained BERTopic model\n",
    "from bertopic import BERTopic\n",
    "\n",
    "topic_model = BERTopic.load(\"../models/bertopic\")"
   ]
  },
  {
   "cell_type": "code",
   "execution_count": 5,
   "id": "7d40c838",
   "metadata": {},
   "outputs": [
    {
     "name": "stderr",
     "output_type": "stream",
     "text": [
      "100%|██████████████████████████████████| 30984/30984 [00:02<00:00, 10370.80it/s]\n"
     ]
    }
   ],
   "source": [
    "tdf = pd.read_csv(\"../TVTropesData/tropes.csv\")\n",
    "\n",
    "# Clean Trope column\n",
    "tdf['Trope'] = clean_trope(tdf.Trope)\n",
    "tdf = tdf.drop(columns=\"Unnamed: 0\")\n",
    "tdf['clean_description'] = preprocess(tdf.Description)\n",
    "\n",
    "docs = tdf.clean_description"
   ]
  },
  {
   "cell_type": "code",
   "execution_count": 6,
   "id": "23297869",
   "metadata": {},
   "outputs": [
    {
     "data": {
      "application/vnd.plotly.v1+json": {
       "config": {
        "plotlyServerURL": "https://plot.ly"
       },
       "data": [
        {
         "customdata": [
          [
           0,
           "evil | villain | good | hero | bad",
           2587
          ],
          [
           1,
           "time | work | series | story | original",
           1500
          ],
          [
           2,
           "language | words | word | character | english",
           1473
          ],
          [
           3,
           "game | games | player | players | gameplay",
           723
          ],
          [
           4,
           "wear | dress | clothes | wearing | clothing",
           663
          ],
          [
           5,
           "death | dead | die | suicide | character",
           602
          ],
          [
           6,
           "powers | power | magic | super | character",
           567
          ],
          [
           7,
           "song | music | songs | musical | theme",
           565
          ],
          [
           8,
           "animal | animals | dog | cats | pet",
           543
          ],
          [
           9,
           "parents | parent | child | family | father",
           521
          ],
          [
           10,
           "cop | police | crime | detective | law",
           428
          ],
          [
           11,
           "love | relationship | couple | romantic | alice",
           412
          ],
          [
           12,
           "light | darkness | sun | moon | weather",
           383
          ],
          [
           13,
           "names | nickname | named | naming | character",
           365
          ],
          [
           14,
           "food | eat | eating | meat | chef",
           341
          ],
          [
           15,
           "god | religion | gods | church | religious",
           335
          ],
          [
           16,
           "camera | animation | shot | used | film",
           327
          ],
          [
           17,
           "age | child | children | old | kids",
           315
          ],
          [
           18,
           "accent | black | white | minority | group",
           307
          ],
          [
           19,
           "twins | twin | identity | identical | masquerade",
           305
          ],
          [
           20,
           "item | macguffin | items | artifact | object",
           300
          ],
          [
           21,
           "gender | female | male | women | girl",
           271
          ],
          [
           22,
           "gun | guns | weapon | weapons | bullets",
           267
          ],
          [
           23,
           "attack | damage | martial | hit | arts",
           254
          ],
          [
           24,
           "weapon | sword | weapons | blade | swords",
           249
          ],
          [
           25,
           "character | characters | cast | actor | bus",
           223
          ],
          [
           26,
           "dream | dreams | sleep | bed | dreaming",
           222
          ],
          [
           27,
           "blood | zombie | zombies | disease | sick",
           216
          ],
          [
           28,
           "horror | puppet | fear | toy | toys",
           207
          ],
          [
           29,
           "color | blue | red | colors | hair",
           206
          ],
          [
           30,
           "elevator | falling | glass | jump | fall",
           206
          ],
          [
           31,
           "product | commercial | products | commercials | ad",
           206
          ],
          [
           32,
           "robot | robots | mecha | human | mechanical",
           201
          ],
          [
           33,
           "aesop | smart | genius | character | guy",
           201
          ],
          [
           34,
           "gesture | finger | hand | pose | head",
           200
          ],
          [
           35,
           "sex | sexual | virgin | slut | men",
           189
          ],
          [
           36,
           "money | rich | wealth | poor | class",
           186
          ],
          [
           37,
           "drugs | alcohol | poison | drink | drug",
           185
          ],
          [
           38,
           "title | titles | pun | work | noun",
           168
          ],
          [
           39,
           "eyes | eye | smile | grin | character",
           168
          ],
          [
           40,
           "school | teacher | schools | students | student",
           164
          ],
          [
           41,
           "elemental | smoking | element | elements | water",
           161
          ],
          [
           42,
           "metal | rock | bands | music | genre",
           161
          ],
          [
           43,
           "car | vehicle | cars | driver | drive",
           160
          ],
          [
           44,
           "ending | endings | twist | finale | series",
           160
          ],
          [
           45,
           "actor | actors | celebrity | role | acting",
           156
          ],
          [
           46,
           "humans | aliens | alien | human | humanity",
           153
          ],
          [
           47,
           "water | fish | underwater | sea | drowning",
           141
          ],
          [
           48,
           "hair | beard | hairstyle | haircut | bald",
           139
          ],
          [
           49,
           "boss | game | difficulty | bosses | final",
           138
          ],
          [
           50,
           "gay | yuri | straight | lesbian | lgbt",
           138
          ],
          [
           51,
           "money | currency | coins | store | coin",
           137
          ],
          [
           52,
           "baby | pregnancy | pregnant | child | egg",
           135
          ],
          [
           53,
           "monster | bees | monsters | hive | bee",
           130
          ],
          [
           54,
           "prison | escape | prisoners | prisoner | hostage",
           128
          ],
          [
           55,
           "bomb | lava | explosion | explosions | explosive",
           125
          ],
          [
           56,
           "transformation | shapeshifter | shapeshifting | form | human",
           120
          ],
          [
           57,
           "friends | friend | friendship | hero | enemy",
           118
          ],
          [
           58,
           "doctor | medical | heart | patient | healing",
           117
          ],
          [
           59,
           "insanity | insane | mental | mad | sanity",
           104
          ],
          [
           60,
           "ship | cool | tanks | space | aircraft",
           101
          ],
          [
           61,
           "limbs | bones | body | handed | left",
           101
          ],
          [
           62,
           "torture | trap | victim | traps | torturer",
           100
          ],
          [
           63,
           "marriage | wedding | married | bride | arranged",
           100
          ]
         ],
         "hovertemplate": "<b>Topic %{customdata[0]}</b><br>Words: %{customdata[1]}<br>Size: %{customdata[2]}",
         "legendgroup": "",
         "marker": {
          "color": "#B0BEC5",
          "line": {
           "color": "DarkSlateGrey",
           "width": 2
          },
          "size": [
           2587,
           1500,
           1473,
           723,
           663,
           602,
           567,
           565,
           543,
           521,
           428,
           412,
           383,
           365,
           341,
           335,
           327,
           315,
           307,
           305,
           300,
           271,
           267,
           254,
           249,
           223,
           222,
           216,
           207,
           206,
           206,
           206,
           201,
           201,
           200,
           189,
           186,
           185,
           168,
           168,
           164,
           161,
           161,
           160,
           160,
           156,
           153,
           141,
           139,
           138,
           138,
           137,
           135,
           130,
           128,
           125,
           120,
           118,
           117,
           104,
           101,
           101,
           100,
           100
          ],
          "sizemode": "area",
          "sizeref": 1.616875,
          "symbol": "circle"
         },
         "mode": "markers",
         "name": "",
         "orientation": "v",
         "showlegend": false,
         "type": "scatter",
         "x": [
          -2.0462982654571533,
          -2.455601692199707,
          -2.298275947570801,
          -3.114588499069214,
          -17.949390411376953,
          7.789003372192383,
          -4.432224750518799,
          -2.4524893760681152,
          8.646345138549805,
          5.628018379211426,
          7.408107280731201,
          6.466100692749023,
          -4.217554569244385,
          -6.365384101867676,
          8.1309175491333,
          7.8993916511535645,
          -3.2577388286590576,
          5.1449995040893555,
          -17.320316314697266,
          -4.593034744262695,
          -4.386378288269043,
          -17.588655471801758,
          13.074725151062012,
          -5.79715633392334,
          13.257139205932617,
          -5.849339008331299,
          7.511734485626221,
          7.957060813903809,
          7.804825305938721,
          -17.553007125854492,
          -6.026442050933838,
          -3.1828012466430664,
          -3.6568973064422607,
          -4.172022342681885,
          -5.974921226501465,
          6.1719746589660645,
          5.473987579345703,
          8.117960929870605,
          -6.199929237365723,
          -4.300563812255859,
          5.023240089416504,
          -4.190185070037842,
          -2.4994280338287354,
          -6.047487258911133,
          -6.02500057220459,
          -5.695711612701416,
          -3.7150700092315674,
          -6.139328956604004,
          -18.033960342407227,
          -5.898418426513672,
          -17.638042449951172,
          -4.41235876083374,
          5.48342227935791,
          8.797237396240234,
          8.23052978515625,
          13.351470947265625,
          -4.683803081512451,
          6.30398416519165,
          7.9318928718566895,
          7.550876140594482,
          13.005489349365234,
          -3.5836551189422607,
          8.296895027160645,
          6.5509033203125
         ],
         "xaxis": "x",
         "y": [
          8.973546028137207,
          8.919089317321777,
          8.884322166442871,
          8.207521438598633,
          0.8764419555664062,
          -10.299822807312012,
          5.556556224822998,
          9.515344619750977,
          -10.659472465515137,
          -10.664586067199707,
          -10.647320747375488,
          -10.788961410522461,
          6.4139556884765625,
          -14.2317533493042,
          5.481619834899902,
          -10.388110160827637,
          8.099595069885254,
          -10.494153022766113,
          0.2359640896320343,
          5.7070512771606445,
          4.965114593505859,
          0.5044164657592773,
          9.637205123901367,
          5.608444690704346,
          9.454742431640625,
          -13.715523719787598,
          -10.32160472869873,
          -10.849773406982422,
          -10.791580200195312,
          0.46819472312927246,
          5.129586219787598,
          8.143244743347168,
          5.494773864746094,
          5.782073974609375,
          5.664735317230225,
          -10.494904518127441,
          -10.696301460266113,
          5.469139575958252,
          -14.066242218017578,
          6.323015213012695,
          -10.3939208984375,
          6.466364860534668,
          9.652192115783691,
          4.995264530181885,
          -13.891212463378906,
          -13.561869621276855,
          5.531027317047119,
          5.078403472900391,
          0.962750256061554,
          5.552257537841797,
          0.5526115894317627,
          4.87453556060791,
          -10.85869312286377,
          -10.571730613708496,
          -10.218124389648438,
          9.360246658325195,
          5.7072906494140625,
          -10.638105392456055,
          -10.685956954956055,
          -10.455394744873047,
          9.706130981445312,
          5.419093132019043,
          -10.132824897766113,
          -10.897443771362305
         ],
         "yaxis": "y"
        }
       ],
       "layout": {
        "annotations": [
         {
          "showarrow": false,
          "text": "D1",
          "x": -20.73905439376831,
          "y": -2.6022328615188597,
          "yshift": 10
         },
         {
          "showarrow": false,
          "text": "D2",
          "x": -2.69243140220642,
          "xshift": 10,
          "y": 11.16205062866211
         }
        ],
        "height": 650,
        "hoverlabel": {
         "bgcolor": "white",
         "font": {
          "family": "Rockwell",
          "size": 16
         }
        },
        "legend": {
         "itemsizing": "constant",
         "tracegroupgap": 0
        },
        "margin": {
         "t": 60
        },
        "shapes": [
         {
          "line": {
           "color": "#CFD8DC",
           "width": 2
          },
          "type": "line",
          "x0": -2.69243140220642,
          "x1": -2.69243140220642,
          "y0": -16.36651635169983,
          "y1": 11.16205062866211
         },
         {
          "line": {
           "color": "#9E9E9E",
           "width": 2
          },
          "type": "line",
          "x0": -20.73905439376831,
          "x1": 15.35419158935547,
          "y0": -2.6022328615188597,
          "y1": -2.6022328615188597
         }
        ],
        "sliders": [
         {
          "active": 0,
          "pad": {
           "t": 50
          },
          "steps": [
           {
            "args": [
             {
              "marker.color": [
               [
                "red",
                "#B0BEC5",
                "#B0BEC5",
                "#B0BEC5",
                "#B0BEC5",
                "#B0BEC5",
                "#B0BEC5",
                "#B0BEC5",
                "#B0BEC5",
                "#B0BEC5",
                "#B0BEC5",
                "#B0BEC5",
                "#B0BEC5",
                "#B0BEC5",
                "#B0BEC5",
                "#B0BEC5",
                "#B0BEC5",
                "#B0BEC5",
                "#B0BEC5",
                "#B0BEC5",
                "#B0BEC5",
                "#B0BEC5",
                "#B0BEC5",
                "#B0BEC5",
                "#B0BEC5",
                "#B0BEC5",
                "#B0BEC5",
                "#B0BEC5",
                "#B0BEC5",
                "#B0BEC5",
                "#B0BEC5",
                "#B0BEC5",
                "#B0BEC5",
                "#B0BEC5",
                "#B0BEC5",
                "#B0BEC5",
                "#B0BEC5",
                "#B0BEC5",
                "#B0BEC5",
                "#B0BEC5",
                "#B0BEC5",
                "#B0BEC5",
                "#B0BEC5",
                "#B0BEC5",
                "#B0BEC5",
                "#B0BEC5",
                "#B0BEC5",
                "#B0BEC5",
                "#B0BEC5",
                "#B0BEC5",
                "#B0BEC5",
                "#B0BEC5",
                "#B0BEC5",
                "#B0BEC5",
                "#B0BEC5",
                "#B0BEC5",
                "#B0BEC5",
                "#B0BEC5",
                "#B0BEC5",
                "#B0BEC5",
                "#B0BEC5",
                "#B0BEC5",
                "#B0BEC5",
                "#B0BEC5"
               ]
              ]
             }
            ],
            "label": "Topic 0",
            "method": "update"
           },
           {
            "args": [
             {
              "marker.color": [
               [
                "#B0BEC5",
                "red",
                "#B0BEC5",
                "#B0BEC5",
                "#B0BEC5",
                "#B0BEC5",
                "#B0BEC5",
                "#B0BEC5",
                "#B0BEC5",
                "#B0BEC5",
                "#B0BEC5",
                "#B0BEC5",
                "#B0BEC5",
                "#B0BEC5",
                "#B0BEC5",
                "#B0BEC5",
                "#B0BEC5",
                "#B0BEC5",
                "#B0BEC5",
                "#B0BEC5",
                "#B0BEC5",
                "#B0BEC5",
                "#B0BEC5",
                "#B0BEC5",
                "#B0BEC5",
                "#B0BEC5",
                "#B0BEC5",
                "#B0BEC5",
                "#B0BEC5",
                "#B0BEC5",
                "#B0BEC5",
                "#B0BEC5",
                "#B0BEC5",
                "#B0BEC5",
                "#B0BEC5",
                "#B0BEC5",
                "#B0BEC5",
                "#B0BEC5",
                "#B0BEC5",
                "#B0BEC5",
                "#B0BEC5",
                "#B0BEC5",
                "#B0BEC5",
                "#B0BEC5",
                "#B0BEC5",
                "#B0BEC5",
                "#B0BEC5",
                "#B0BEC5",
                "#B0BEC5",
                "#B0BEC5",
                "#B0BEC5",
                "#B0BEC5",
                "#B0BEC5",
                "#B0BEC5",
                "#B0BEC5",
                "#B0BEC5",
                "#B0BEC5",
                "#B0BEC5",
                "#B0BEC5",
                "#B0BEC5",
                "#B0BEC5",
                "#B0BEC5",
                "#B0BEC5",
                "#B0BEC5"
               ]
              ]
             }
            ],
            "label": "Topic 1",
            "method": "update"
           },
           {
            "args": [
             {
              "marker.color": [
               [
                "#B0BEC5",
                "#B0BEC5",
                "red",
                "#B0BEC5",
                "#B0BEC5",
                "#B0BEC5",
                "#B0BEC5",
                "#B0BEC5",
                "#B0BEC5",
                "#B0BEC5",
                "#B0BEC5",
                "#B0BEC5",
                "#B0BEC5",
                "#B0BEC5",
                "#B0BEC5",
                "#B0BEC5",
                "#B0BEC5",
                "#B0BEC5",
                "#B0BEC5",
                "#B0BEC5",
                "#B0BEC5",
                "#B0BEC5",
                "#B0BEC5",
                "#B0BEC5",
                "#B0BEC5",
                "#B0BEC5",
                "#B0BEC5",
                "#B0BEC5",
                "#B0BEC5",
                "#B0BEC5",
                "#B0BEC5",
                "#B0BEC5",
                "#B0BEC5",
                "#B0BEC5",
                "#B0BEC5",
                "#B0BEC5",
                "#B0BEC5",
                "#B0BEC5",
                "#B0BEC5",
                "#B0BEC5",
                "#B0BEC5",
                "#B0BEC5",
                "#B0BEC5",
                "#B0BEC5",
                "#B0BEC5",
                "#B0BEC5",
                "#B0BEC5",
                "#B0BEC5",
                "#B0BEC5",
                "#B0BEC5",
                "#B0BEC5",
                "#B0BEC5",
                "#B0BEC5",
                "#B0BEC5",
                "#B0BEC5",
                "#B0BEC5",
                "#B0BEC5",
                "#B0BEC5",
                "#B0BEC5",
                "#B0BEC5",
                "#B0BEC5",
                "#B0BEC5",
                "#B0BEC5",
                "#B0BEC5"
               ]
              ]
             }
            ],
            "label": "Topic 2",
            "method": "update"
           },
           {
            "args": [
             {
              "marker.color": [
               [
                "#B0BEC5",
                "#B0BEC5",
                "#B0BEC5",
                "red",
                "#B0BEC5",
                "#B0BEC5",
                "#B0BEC5",
                "#B0BEC5",
                "#B0BEC5",
                "#B0BEC5",
                "#B0BEC5",
                "#B0BEC5",
                "#B0BEC5",
                "#B0BEC5",
                "#B0BEC5",
                "#B0BEC5",
                "#B0BEC5",
                "#B0BEC5",
                "#B0BEC5",
                "#B0BEC5",
                "#B0BEC5",
                "#B0BEC5",
                "#B0BEC5",
                "#B0BEC5",
                "#B0BEC5",
                "#B0BEC5",
                "#B0BEC5",
                "#B0BEC5",
                "#B0BEC5",
                "#B0BEC5",
                "#B0BEC5",
                "#B0BEC5",
                "#B0BEC5",
                "#B0BEC5",
                "#B0BEC5",
                "#B0BEC5",
                "#B0BEC5",
                "#B0BEC5",
                "#B0BEC5",
                "#B0BEC5",
                "#B0BEC5",
                "#B0BEC5",
                "#B0BEC5",
                "#B0BEC5",
                "#B0BEC5",
                "#B0BEC5",
                "#B0BEC5",
                "#B0BEC5",
                "#B0BEC5",
                "#B0BEC5",
                "#B0BEC5",
                "#B0BEC5",
                "#B0BEC5",
                "#B0BEC5",
                "#B0BEC5",
                "#B0BEC5",
                "#B0BEC5",
                "#B0BEC5",
                "#B0BEC5",
                "#B0BEC5",
                "#B0BEC5",
                "#B0BEC5",
                "#B0BEC5",
                "#B0BEC5"
               ]
              ]
             }
            ],
            "label": "Topic 3",
            "method": "update"
           },
           {
            "args": [
             {
              "marker.color": [
               [
                "#B0BEC5",
                "#B0BEC5",
                "#B0BEC5",
                "#B0BEC5",
                "red",
                "#B0BEC5",
                "#B0BEC5",
                "#B0BEC5",
                "#B0BEC5",
                "#B0BEC5",
                "#B0BEC5",
                "#B0BEC5",
                "#B0BEC5",
                "#B0BEC5",
                "#B0BEC5",
                "#B0BEC5",
                "#B0BEC5",
                "#B0BEC5",
                "#B0BEC5",
                "#B0BEC5",
                "#B0BEC5",
                "#B0BEC5",
                "#B0BEC5",
                "#B0BEC5",
                "#B0BEC5",
                "#B0BEC5",
                "#B0BEC5",
                "#B0BEC5",
                "#B0BEC5",
                "#B0BEC5",
                "#B0BEC5",
                "#B0BEC5",
                "#B0BEC5",
                "#B0BEC5",
                "#B0BEC5",
                "#B0BEC5",
                "#B0BEC5",
                "#B0BEC5",
                "#B0BEC5",
                "#B0BEC5",
                "#B0BEC5",
                "#B0BEC5",
                "#B0BEC5",
                "#B0BEC5",
                "#B0BEC5",
                "#B0BEC5",
                "#B0BEC5",
                "#B0BEC5",
                "#B0BEC5",
                "#B0BEC5",
                "#B0BEC5",
                "#B0BEC5",
                "#B0BEC5",
                "#B0BEC5",
                "#B0BEC5",
                "#B0BEC5",
                "#B0BEC5",
                "#B0BEC5",
                "#B0BEC5",
                "#B0BEC5",
                "#B0BEC5",
                "#B0BEC5",
                "#B0BEC5",
                "#B0BEC5"
               ]
              ]
             }
            ],
            "label": "Topic 4",
            "method": "update"
           },
           {
            "args": [
             {
              "marker.color": [
               [
                "#B0BEC5",
                "#B0BEC5",
                "#B0BEC5",
                "#B0BEC5",
                "#B0BEC5",
                "red",
                "#B0BEC5",
                "#B0BEC5",
                "#B0BEC5",
                "#B0BEC5",
                "#B0BEC5",
                "#B0BEC5",
                "#B0BEC5",
                "#B0BEC5",
                "#B0BEC5",
                "#B0BEC5",
                "#B0BEC5",
                "#B0BEC5",
                "#B0BEC5",
                "#B0BEC5",
                "#B0BEC5",
                "#B0BEC5",
                "#B0BEC5",
                "#B0BEC5",
                "#B0BEC5",
                "#B0BEC5",
                "#B0BEC5",
                "#B0BEC5",
                "#B0BEC5",
                "#B0BEC5",
                "#B0BEC5",
                "#B0BEC5",
                "#B0BEC5",
                "#B0BEC5",
                "#B0BEC5",
                "#B0BEC5",
                "#B0BEC5",
                "#B0BEC5",
                "#B0BEC5",
                "#B0BEC5",
                "#B0BEC5",
                "#B0BEC5",
                "#B0BEC5",
                "#B0BEC5",
                "#B0BEC5",
                "#B0BEC5",
                "#B0BEC5",
                "#B0BEC5",
                "#B0BEC5",
                "#B0BEC5",
                "#B0BEC5",
                "#B0BEC5",
                "#B0BEC5",
                "#B0BEC5",
                "#B0BEC5",
                "#B0BEC5",
                "#B0BEC5",
                "#B0BEC5",
                "#B0BEC5",
                "#B0BEC5",
                "#B0BEC5",
                "#B0BEC5",
                "#B0BEC5",
                "#B0BEC5"
               ]
              ]
             }
            ],
            "label": "Topic 5",
            "method": "update"
           },
           {
            "args": [
             {
              "marker.color": [
               [
                "#B0BEC5",
                "#B0BEC5",
                "#B0BEC5",
                "#B0BEC5",
                "#B0BEC5",
                "#B0BEC5",
                "red",
                "#B0BEC5",
                "#B0BEC5",
                "#B0BEC5",
                "#B0BEC5",
                "#B0BEC5",
                "#B0BEC5",
                "#B0BEC5",
                "#B0BEC5",
                "#B0BEC5",
                "#B0BEC5",
                "#B0BEC5",
                "#B0BEC5",
                "#B0BEC5",
                "#B0BEC5",
                "#B0BEC5",
                "#B0BEC5",
                "#B0BEC5",
                "#B0BEC5",
                "#B0BEC5",
                "#B0BEC5",
                "#B0BEC5",
                "#B0BEC5",
                "#B0BEC5",
                "#B0BEC5",
                "#B0BEC5",
                "#B0BEC5",
                "#B0BEC5",
                "#B0BEC5",
                "#B0BEC5",
                "#B0BEC5",
                "#B0BEC5",
                "#B0BEC5",
                "#B0BEC5",
                "#B0BEC5",
                "#B0BEC5",
                "#B0BEC5",
                "#B0BEC5",
                "#B0BEC5",
                "#B0BEC5",
                "#B0BEC5",
                "#B0BEC5",
                "#B0BEC5",
                "#B0BEC5",
                "#B0BEC5",
                "#B0BEC5",
                "#B0BEC5",
                "#B0BEC5",
                "#B0BEC5",
                "#B0BEC5",
                "#B0BEC5",
                "#B0BEC5",
                "#B0BEC5",
                "#B0BEC5",
                "#B0BEC5",
                "#B0BEC5",
                "#B0BEC5",
                "#B0BEC5"
               ]
              ]
             }
            ],
            "label": "Topic 6",
            "method": "update"
           },
           {
            "args": [
             {
              "marker.color": [
               [
                "#B0BEC5",
                "#B0BEC5",
                "#B0BEC5",
                "#B0BEC5",
                "#B0BEC5",
                "#B0BEC5",
                "#B0BEC5",
                "red",
                "#B0BEC5",
                "#B0BEC5",
                "#B0BEC5",
                "#B0BEC5",
                "#B0BEC5",
                "#B0BEC5",
                "#B0BEC5",
                "#B0BEC5",
                "#B0BEC5",
                "#B0BEC5",
                "#B0BEC5",
                "#B0BEC5",
                "#B0BEC5",
                "#B0BEC5",
                "#B0BEC5",
                "#B0BEC5",
                "#B0BEC5",
                "#B0BEC5",
                "#B0BEC5",
                "#B0BEC5",
                "#B0BEC5",
                "#B0BEC5",
                "#B0BEC5",
                "#B0BEC5",
                "#B0BEC5",
                "#B0BEC5",
                "#B0BEC5",
                "#B0BEC5",
                "#B0BEC5",
                "#B0BEC5",
                "#B0BEC5",
                "#B0BEC5",
                "#B0BEC5",
                "#B0BEC5",
                "#B0BEC5",
                "#B0BEC5",
                "#B0BEC5",
                "#B0BEC5",
                "#B0BEC5",
                "#B0BEC5",
                "#B0BEC5",
                "#B0BEC5",
                "#B0BEC5",
                "#B0BEC5",
                "#B0BEC5",
                "#B0BEC5",
                "#B0BEC5",
                "#B0BEC5",
                "#B0BEC5",
                "#B0BEC5",
                "#B0BEC5",
                "#B0BEC5",
                "#B0BEC5",
                "#B0BEC5",
                "#B0BEC5",
                "#B0BEC5"
               ]
              ]
             }
            ],
            "label": "Topic 7",
            "method": "update"
           },
           {
            "args": [
             {
              "marker.color": [
               [
                "#B0BEC5",
                "#B0BEC5",
                "#B0BEC5",
                "#B0BEC5",
                "#B0BEC5",
                "#B0BEC5",
                "#B0BEC5",
                "#B0BEC5",
                "red",
                "#B0BEC5",
                "#B0BEC5",
                "#B0BEC5",
                "#B0BEC5",
                "#B0BEC5",
                "#B0BEC5",
                "#B0BEC5",
                "#B0BEC5",
                "#B0BEC5",
                "#B0BEC5",
                "#B0BEC5",
                "#B0BEC5",
                "#B0BEC5",
                "#B0BEC5",
                "#B0BEC5",
                "#B0BEC5",
                "#B0BEC5",
                "#B0BEC5",
                "#B0BEC5",
                "#B0BEC5",
                "#B0BEC5",
                "#B0BEC5",
                "#B0BEC5",
                "#B0BEC5",
                "#B0BEC5",
                "#B0BEC5",
                "#B0BEC5",
                "#B0BEC5",
                "#B0BEC5",
                "#B0BEC5",
                "#B0BEC5",
                "#B0BEC5",
                "#B0BEC5",
                "#B0BEC5",
                "#B0BEC5",
                "#B0BEC5",
                "#B0BEC5",
                "#B0BEC5",
                "#B0BEC5",
                "#B0BEC5",
                "#B0BEC5",
                "#B0BEC5",
                "#B0BEC5",
                "#B0BEC5",
                "#B0BEC5",
                "#B0BEC5",
                "#B0BEC5",
                "#B0BEC5",
                "#B0BEC5",
                "#B0BEC5",
                "#B0BEC5",
                "#B0BEC5",
                "#B0BEC5",
                "#B0BEC5",
                "#B0BEC5"
               ]
              ]
             }
            ],
            "label": "Topic 8",
            "method": "update"
           },
           {
            "args": [
             {
              "marker.color": [
               [
                "#B0BEC5",
                "#B0BEC5",
                "#B0BEC5",
                "#B0BEC5",
                "#B0BEC5",
                "#B0BEC5",
                "#B0BEC5",
                "#B0BEC5",
                "#B0BEC5",
                "red",
                "#B0BEC5",
                "#B0BEC5",
                "#B0BEC5",
                "#B0BEC5",
                "#B0BEC5",
                "#B0BEC5",
                "#B0BEC5",
                "#B0BEC5",
                "#B0BEC5",
                "#B0BEC5",
                "#B0BEC5",
                "#B0BEC5",
                "#B0BEC5",
                "#B0BEC5",
                "#B0BEC5",
                "#B0BEC5",
                "#B0BEC5",
                "#B0BEC5",
                "#B0BEC5",
                "#B0BEC5",
                "#B0BEC5",
                "#B0BEC5",
                "#B0BEC5",
                "#B0BEC5",
                "#B0BEC5",
                "#B0BEC5",
                "#B0BEC5",
                "#B0BEC5",
                "#B0BEC5",
                "#B0BEC5",
                "#B0BEC5",
                "#B0BEC5",
                "#B0BEC5",
                "#B0BEC5",
                "#B0BEC5",
                "#B0BEC5",
                "#B0BEC5",
                "#B0BEC5",
                "#B0BEC5",
                "#B0BEC5",
                "#B0BEC5",
                "#B0BEC5",
                "#B0BEC5",
                "#B0BEC5",
                "#B0BEC5",
                "#B0BEC5",
                "#B0BEC5",
                "#B0BEC5",
                "#B0BEC5",
                "#B0BEC5",
                "#B0BEC5",
                "#B0BEC5",
                "#B0BEC5",
                "#B0BEC5"
               ]
              ]
             }
            ],
            "label": "Topic 9",
            "method": "update"
           },
           {
            "args": [
             {
              "marker.color": [
               [
                "#B0BEC5",
                "#B0BEC5",
                "#B0BEC5",
                "#B0BEC5",
                "#B0BEC5",
                "#B0BEC5",
                "#B0BEC5",
                "#B0BEC5",
                "#B0BEC5",
                "#B0BEC5",
                "red",
                "#B0BEC5",
                "#B0BEC5",
                "#B0BEC5",
                "#B0BEC5",
                "#B0BEC5",
                "#B0BEC5",
                "#B0BEC5",
                "#B0BEC5",
                "#B0BEC5",
                "#B0BEC5",
                "#B0BEC5",
                "#B0BEC5",
                "#B0BEC5",
                "#B0BEC5",
                "#B0BEC5",
                "#B0BEC5",
                "#B0BEC5",
                "#B0BEC5",
                "#B0BEC5",
                "#B0BEC5",
                "#B0BEC5",
                "#B0BEC5",
                "#B0BEC5",
                "#B0BEC5",
                "#B0BEC5",
                "#B0BEC5",
                "#B0BEC5",
                "#B0BEC5",
                "#B0BEC5",
                "#B0BEC5",
                "#B0BEC5",
                "#B0BEC5",
                "#B0BEC5",
                "#B0BEC5",
                "#B0BEC5",
                "#B0BEC5",
                "#B0BEC5",
                "#B0BEC5",
                "#B0BEC5",
                "#B0BEC5",
                "#B0BEC5",
                "#B0BEC5",
                "#B0BEC5",
                "#B0BEC5",
                "#B0BEC5",
                "#B0BEC5",
                "#B0BEC5",
                "#B0BEC5",
                "#B0BEC5",
                "#B0BEC5",
                "#B0BEC5",
                "#B0BEC5",
                "#B0BEC5"
               ]
              ]
             }
            ],
            "label": "Topic 10",
            "method": "update"
           },
           {
            "args": [
             {
              "marker.color": [
               [
                "#B0BEC5",
                "#B0BEC5",
                "#B0BEC5",
                "#B0BEC5",
                "#B0BEC5",
                "#B0BEC5",
                "#B0BEC5",
                "#B0BEC5",
                "#B0BEC5",
                "#B0BEC5",
                "#B0BEC5",
                "red",
                "#B0BEC5",
                "#B0BEC5",
                "#B0BEC5",
                "#B0BEC5",
                "#B0BEC5",
                "#B0BEC5",
                "#B0BEC5",
                "#B0BEC5",
                "#B0BEC5",
                "#B0BEC5",
                "#B0BEC5",
                "#B0BEC5",
                "#B0BEC5",
                "#B0BEC5",
                "#B0BEC5",
                "#B0BEC5",
                "#B0BEC5",
                "#B0BEC5",
                "#B0BEC5",
                "#B0BEC5",
                "#B0BEC5",
                "#B0BEC5",
                "#B0BEC5",
                "#B0BEC5",
                "#B0BEC5",
                "#B0BEC5",
                "#B0BEC5",
                "#B0BEC5",
                "#B0BEC5",
                "#B0BEC5",
                "#B0BEC5",
                "#B0BEC5",
                "#B0BEC5",
                "#B0BEC5",
                "#B0BEC5",
                "#B0BEC5",
                "#B0BEC5",
                "#B0BEC5",
                "#B0BEC5",
                "#B0BEC5",
                "#B0BEC5",
                "#B0BEC5",
                "#B0BEC5",
                "#B0BEC5",
                "#B0BEC5",
                "#B0BEC5",
                "#B0BEC5",
                "#B0BEC5",
                "#B0BEC5",
                "#B0BEC5",
                "#B0BEC5",
                "#B0BEC5"
               ]
              ]
             }
            ],
            "label": "Topic 11",
            "method": "update"
           },
           {
            "args": [
             {
              "marker.color": [
               [
                "#B0BEC5",
                "#B0BEC5",
                "#B0BEC5",
                "#B0BEC5",
                "#B0BEC5",
                "#B0BEC5",
                "#B0BEC5",
                "#B0BEC5",
                "#B0BEC5",
                "#B0BEC5",
                "#B0BEC5",
                "#B0BEC5",
                "red",
                "#B0BEC5",
                "#B0BEC5",
                "#B0BEC5",
                "#B0BEC5",
                "#B0BEC5",
                "#B0BEC5",
                "#B0BEC5",
                "#B0BEC5",
                "#B0BEC5",
                "#B0BEC5",
                "#B0BEC5",
                "#B0BEC5",
                "#B0BEC5",
                "#B0BEC5",
                "#B0BEC5",
                "#B0BEC5",
                "#B0BEC5",
                "#B0BEC5",
                "#B0BEC5",
                "#B0BEC5",
                "#B0BEC5",
                "#B0BEC5",
                "#B0BEC5",
                "#B0BEC5",
                "#B0BEC5",
                "#B0BEC5",
                "#B0BEC5",
                "#B0BEC5",
                "#B0BEC5",
                "#B0BEC5",
                "#B0BEC5",
                "#B0BEC5",
                "#B0BEC5",
                "#B0BEC5",
                "#B0BEC5",
                "#B0BEC5",
                "#B0BEC5",
                "#B0BEC5",
                "#B0BEC5",
                "#B0BEC5",
                "#B0BEC5",
                "#B0BEC5",
                "#B0BEC5",
                "#B0BEC5",
                "#B0BEC5",
                "#B0BEC5",
                "#B0BEC5",
                "#B0BEC5",
                "#B0BEC5",
                "#B0BEC5",
                "#B0BEC5"
               ]
              ]
             }
            ],
            "label": "Topic 12",
            "method": "update"
           },
           {
            "args": [
             {
              "marker.color": [
               [
                "#B0BEC5",
                "#B0BEC5",
                "#B0BEC5",
                "#B0BEC5",
                "#B0BEC5",
                "#B0BEC5",
                "#B0BEC5",
                "#B0BEC5",
                "#B0BEC5",
                "#B0BEC5",
                "#B0BEC5",
                "#B0BEC5",
                "#B0BEC5",
                "red",
                "#B0BEC5",
                "#B0BEC5",
                "#B0BEC5",
                "#B0BEC5",
                "#B0BEC5",
                "#B0BEC5",
                "#B0BEC5",
                "#B0BEC5",
                "#B0BEC5",
                "#B0BEC5",
                "#B0BEC5",
                "#B0BEC5",
                "#B0BEC5",
                "#B0BEC5",
                "#B0BEC5",
                "#B0BEC5",
                "#B0BEC5",
                "#B0BEC5",
                "#B0BEC5",
                "#B0BEC5",
                "#B0BEC5",
                "#B0BEC5",
                "#B0BEC5",
                "#B0BEC5",
                "#B0BEC5",
                "#B0BEC5",
                "#B0BEC5",
                "#B0BEC5",
                "#B0BEC5",
                "#B0BEC5",
                "#B0BEC5",
                "#B0BEC5",
                "#B0BEC5",
                "#B0BEC5",
                "#B0BEC5",
                "#B0BEC5",
                "#B0BEC5",
                "#B0BEC5",
                "#B0BEC5",
                "#B0BEC5",
                "#B0BEC5",
                "#B0BEC5",
                "#B0BEC5",
                "#B0BEC5",
                "#B0BEC5",
                "#B0BEC5",
                "#B0BEC5",
                "#B0BEC5",
                "#B0BEC5",
                "#B0BEC5"
               ]
              ]
             }
            ],
            "label": "Topic 13",
            "method": "update"
           },
           {
            "args": [
             {
              "marker.color": [
               [
                "#B0BEC5",
                "#B0BEC5",
                "#B0BEC5",
                "#B0BEC5",
                "#B0BEC5",
                "#B0BEC5",
                "#B0BEC5",
                "#B0BEC5",
                "#B0BEC5",
                "#B0BEC5",
                "#B0BEC5",
                "#B0BEC5",
                "#B0BEC5",
                "#B0BEC5",
                "red",
                "#B0BEC5",
                "#B0BEC5",
                "#B0BEC5",
                "#B0BEC5",
                "#B0BEC5",
                "#B0BEC5",
                "#B0BEC5",
                "#B0BEC5",
                "#B0BEC5",
                "#B0BEC5",
                "#B0BEC5",
                "#B0BEC5",
                "#B0BEC5",
                "#B0BEC5",
                "#B0BEC5",
                "#B0BEC5",
                "#B0BEC5",
                "#B0BEC5",
                "#B0BEC5",
                "#B0BEC5",
                "#B0BEC5",
                "#B0BEC5",
                "#B0BEC5",
                "#B0BEC5",
                "#B0BEC5",
                "#B0BEC5",
                "#B0BEC5",
                "#B0BEC5",
                "#B0BEC5",
                "#B0BEC5",
                "#B0BEC5",
                "#B0BEC5",
                "#B0BEC5",
                "#B0BEC5",
                "#B0BEC5",
                "#B0BEC5",
                "#B0BEC5",
                "#B0BEC5",
                "#B0BEC5",
                "#B0BEC5",
                "#B0BEC5",
                "#B0BEC5",
                "#B0BEC5",
                "#B0BEC5",
                "#B0BEC5",
                "#B0BEC5",
                "#B0BEC5",
                "#B0BEC5",
                "#B0BEC5"
               ]
              ]
             }
            ],
            "label": "Topic 14",
            "method": "update"
           },
           {
            "args": [
             {
              "marker.color": [
               [
                "#B0BEC5",
                "#B0BEC5",
                "#B0BEC5",
                "#B0BEC5",
                "#B0BEC5",
                "#B0BEC5",
                "#B0BEC5",
                "#B0BEC5",
                "#B0BEC5",
                "#B0BEC5",
                "#B0BEC5",
                "#B0BEC5",
                "#B0BEC5",
                "#B0BEC5",
                "#B0BEC5",
                "red",
                "#B0BEC5",
                "#B0BEC5",
                "#B0BEC5",
                "#B0BEC5",
                "#B0BEC5",
                "#B0BEC5",
                "#B0BEC5",
                "#B0BEC5",
                "#B0BEC5",
                "#B0BEC5",
                "#B0BEC5",
                "#B0BEC5",
                "#B0BEC5",
                "#B0BEC5",
                "#B0BEC5",
                "#B0BEC5",
                "#B0BEC5",
                "#B0BEC5",
                "#B0BEC5",
                "#B0BEC5",
                "#B0BEC5",
                "#B0BEC5",
                "#B0BEC5",
                "#B0BEC5",
                "#B0BEC5",
                "#B0BEC5",
                "#B0BEC5",
                "#B0BEC5",
                "#B0BEC5",
                "#B0BEC5",
                "#B0BEC5",
                "#B0BEC5",
                "#B0BEC5",
                "#B0BEC5",
                "#B0BEC5",
                "#B0BEC5",
                "#B0BEC5",
                "#B0BEC5",
                "#B0BEC5",
                "#B0BEC5",
                "#B0BEC5",
                "#B0BEC5",
                "#B0BEC5",
                "#B0BEC5",
                "#B0BEC5",
                "#B0BEC5",
                "#B0BEC5",
                "#B0BEC5"
               ]
              ]
             }
            ],
            "label": "Topic 15",
            "method": "update"
           },
           {
            "args": [
             {
              "marker.color": [
               [
                "#B0BEC5",
                "#B0BEC5",
                "#B0BEC5",
                "#B0BEC5",
                "#B0BEC5",
                "#B0BEC5",
                "#B0BEC5",
                "#B0BEC5",
                "#B0BEC5",
                "#B0BEC5",
                "#B0BEC5",
                "#B0BEC5",
                "#B0BEC5",
                "#B0BEC5",
                "#B0BEC5",
                "#B0BEC5",
                "red",
                "#B0BEC5",
                "#B0BEC5",
                "#B0BEC5",
                "#B0BEC5",
                "#B0BEC5",
                "#B0BEC5",
                "#B0BEC5",
                "#B0BEC5",
                "#B0BEC5",
                "#B0BEC5",
                "#B0BEC5",
                "#B0BEC5",
                "#B0BEC5",
                "#B0BEC5",
                "#B0BEC5",
                "#B0BEC5",
                "#B0BEC5",
                "#B0BEC5",
                "#B0BEC5",
                "#B0BEC5",
                "#B0BEC5",
                "#B0BEC5",
                "#B0BEC5",
                "#B0BEC5",
                "#B0BEC5",
                "#B0BEC5",
                "#B0BEC5",
                "#B0BEC5",
                "#B0BEC5",
                "#B0BEC5",
                "#B0BEC5",
                "#B0BEC5",
                "#B0BEC5",
                "#B0BEC5",
                "#B0BEC5",
                "#B0BEC5",
                "#B0BEC5",
                "#B0BEC5",
                "#B0BEC5",
                "#B0BEC5",
                "#B0BEC5",
                "#B0BEC5",
                "#B0BEC5",
                "#B0BEC5",
                "#B0BEC5",
                "#B0BEC5",
                "#B0BEC5"
               ]
              ]
             }
            ],
            "label": "Topic 16",
            "method": "update"
           },
           {
            "args": [
             {
              "marker.color": [
               [
                "#B0BEC5",
                "#B0BEC5",
                "#B0BEC5",
                "#B0BEC5",
                "#B0BEC5",
                "#B0BEC5",
                "#B0BEC5",
                "#B0BEC5",
                "#B0BEC5",
                "#B0BEC5",
                "#B0BEC5",
                "#B0BEC5",
                "#B0BEC5",
                "#B0BEC5",
                "#B0BEC5",
                "#B0BEC5",
                "#B0BEC5",
                "red",
                "#B0BEC5",
                "#B0BEC5",
                "#B0BEC5",
                "#B0BEC5",
                "#B0BEC5",
                "#B0BEC5",
                "#B0BEC5",
                "#B0BEC5",
                "#B0BEC5",
                "#B0BEC5",
                "#B0BEC5",
                "#B0BEC5",
                "#B0BEC5",
                "#B0BEC5",
                "#B0BEC5",
                "#B0BEC5",
                "#B0BEC5",
                "#B0BEC5",
                "#B0BEC5",
                "#B0BEC5",
                "#B0BEC5",
                "#B0BEC5",
                "#B0BEC5",
                "#B0BEC5",
                "#B0BEC5",
                "#B0BEC5",
                "#B0BEC5",
                "#B0BEC5",
                "#B0BEC5",
                "#B0BEC5",
                "#B0BEC5",
                "#B0BEC5",
                "#B0BEC5",
                "#B0BEC5",
                "#B0BEC5",
                "#B0BEC5",
                "#B0BEC5",
                "#B0BEC5",
                "#B0BEC5",
                "#B0BEC5",
                "#B0BEC5",
                "#B0BEC5",
                "#B0BEC5",
                "#B0BEC5",
                "#B0BEC5",
                "#B0BEC5"
               ]
              ]
             }
            ],
            "label": "Topic 17",
            "method": "update"
           },
           {
            "args": [
             {
              "marker.color": [
               [
                "#B0BEC5",
                "#B0BEC5",
                "#B0BEC5",
                "#B0BEC5",
                "#B0BEC5",
                "#B0BEC5",
                "#B0BEC5",
                "#B0BEC5",
                "#B0BEC5",
                "#B0BEC5",
                "#B0BEC5",
                "#B0BEC5",
                "#B0BEC5",
                "#B0BEC5",
                "#B0BEC5",
                "#B0BEC5",
                "#B0BEC5",
                "#B0BEC5",
                "red",
                "#B0BEC5",
                "#B0BEC5",
                "#B0BEC5",
                "#B0BEC5",
                "#B0BEC5",
                "#B0BEC5",
                "#B0BEC5",
                "#B0BEC5",
                "#B0BEC5",
                "#B0BEC5",
                "#B0BEC5",
                "#B0BEC5",
                "#B0BEC5",
                "#B0BEC5",
                "#B0BEC5",
                "#B0BEC5",
                "#B0BEC5",
                "#B0BEC5",
                "#B0BEC5",
                "#B0BEC5",
                "#B0BEC5",
                "#B0BEC5",
                "#B0BEC5",
                "#B0BEC5",
                "#B0BEC5",
                "#B0BEC5",
                "#B0BEC5",
                "#B0BEC5",
                "#B0BEC5",
                "#B0BEC5",
                "#B0BEC5",
                "#B0BEC5",
                "#B0BEC5",
                "#B0BEC5",
                "#B0BEC5",
                "#B0BEC5",
                "#B0BEC5",
                "#B0BEC5",
                "#B0BEC5",
                "#B0BEC5",
                "#B0BEC5",
                "#B0BEC5",
                "#B0BEC5",
                "#B0BEC5",
                "#B0BEC5"
               ]
              ]
             }
            ],
            "label": "Topic 18",
            "method": "update"
           },
           {
            "args": [
             {
              "marker.color": [
               [
                "#B0BEC5",
                "#B0BEC5",
                "#B0BEC5",
                "#B0BEC5",
                "#B0BEC5",
                "#B0BEC5",
                "#B0BEC5",
                "#B0BEC5",
                "#B0BEC5",
                "#B0BEC5",
                "#B0BEC5",
                "#B0BEC5",
                "#B0BEC5",
                "#B0BEC5",
                "#B0BEC5",
                "#B0BEC5",
                "#B0BEC5",
                "#B0BEC5",
                "#B0BEC5",
                "red",
                "#B0BEC5",
                "#B0BEC5",
                "#B0BEC5",
                "#B0BEC5",
                "#B0BEC5",
                "#B0BEC5",
                "#B0BEC5",
                "#B0BEC5",
                "#B0BEC5",
                "#B0BEC5",
                "#B0BEC5",
                "#B0BEC5",
                "#B0BEC5",
                "#B0BEC5",
                "#B0BEC5",
                "#B0BEC5",
                "#B0BEC5",
                "#B0BEC5",
                "#B0BEC5",
                "#B0BEC5",
                "#B0BEC5",
                "#B0BEC5",
                "#B0BEC5",
                "#B0BEC5",
                "#B0BEC5",
                "#B0BEC5",
                "#B0BEC5",
                "#B0BEC5",
                "#B0BEC5",
                "#B0BEC5",
                "#B0BEC5",
                "#B0BEC5",
                "#B0BEC5",
                "#B0BEC5",
                "#B0BEC5",
                "#B0BEC5",
                "#B0BEC5",
                "#B0BEC5",
                "#B0BEC5",
                "#B0BEC5",
                "#B0BEC5",
                "#B0BEC5",
                "#B0BEC5",
                "#B0BEC5"
               ]
              ]
             }
            ],
            "label": "Topic 19",
            "method": "update"
           },
           {
            "args": [
             {
              "marker.color": [
               [
                "#B0BEC5",
                "#B0BEC5",
                "#B0BEC5",
                "#B0BEC5",
                "#B0BEC5",
                "#B0BEC5",
                "#B0BEC5",
                "#B0BEC5",
                "#B0BEC5",
                "#B0BEC5",
                "#B0BEC5",
                "#B0BEC5",
                "#B0BEC5",
                "#B0BEC5",
                "#B0BEC5",
                "#B0BEC5",
                "#B0BEC5",
                "#B0BEC5",
                "#B0BEC5",
                "#B0BEC5",
                "red",
                "#B0BEC5",
                "#B0BEC5",
                "#B0BEC5",
                "#B0BEC5",
                "#B0BEC5",
                "#B0BEC5",
                "#B0BEC5",
                "#B0BEC5",
                "#B0BEC5",
                "#B0BEC5",
                "#B0BEC5",
                "#B0BEC5",
                "#B0BEC5",
                "#B0BEC5",
                "#B0BEC5",
                "#B0BEC5",
                "#B0BEC5",
                "#B0BEC5",
                "#B0BEC5",
                "#B0BEC5",
                "#B0BEC5",
                "#B0BEC5",
                "#B0BEC5",
                "#B0BEC5",
                "#B0BEC5",
                "#B0BEC5",
                "#B0BEC5",
                "#B0BEC5",
                "#B0BEC5",
                "#B0BEC5",
                "#B0BEC5",
                "#B0BEC5",
                "#B0BEC5",
                "#B0BEC5",
                "#B0BEC5",
                "#B0BEC5",
                "#B0BEC5",
                "#B0BEC5",
                "#B0BEC5",
                "#B0BEC5",
                "#B0BEC5",
                "#B0BEC5",
                "#B0BEC5"
               ]
              ]
             }
            ],
            "label": "Topic 20",
            "method": "update"
           },
           {
            "args": [
             {
              "marker.color": [
               [
                "#B0BEC5",
                "#B0BEC5",
                "#B0BEC5",
                "#B0BEC5",
                "#B0BEC5",
                "#B0BEC5",
                "#B0BEC5",
                "#B0BEC5",
                "#B0BEC5",
                "#B0BEC5",
                "#B0BEC5",
                "#B0BEC5",
                "#B0BEC5",
                "#B0BEC5",
                "#B0BEC5",
                "#B0BEC5",
                "#B0BEC5",
                "#B0BEC5",
                "#B0BEC5",
                "#B0BEC5",
                "#B0BEC5",
                "red",
                "#B0BEC5",
                "#B0BEC5",
                "#B0BEC5",
                "#B0BEC5",
                "#B0BEC5",
                "#B0BEC5",
                "#B0BEC5",
                "#B0BEC5",
                "#B0BEC5",
                "#B0BEC5",
                "#B0BEC5",
                "#B0BEC5",
                "#B0BEC5",
                "#B0BEC5",
                "#B0BEC5",
                "#B0BEC5",
                "#B0BEC5",
                "#B0BEC5",
                "#B0BEC5",
                "#B0BEC5",
                "#B0BEC5",
                "#B0BEC5",
                "#B0BEC5",
                "#B0BEC5",
                "#B0BEC5",
                "#B0BEC5",
                "#B0BEC5",
                "#B0BEC5",
                "#B0BEC5",
                "#B0BEC5",
                "#B0BEC5",
                "#B0BEC5",
                "#B0BEC5",
                "#B0BEC5",
                "#B0BEC5",
                "#B0BEC5",
                "#B0BEC5",
                "#B0BEC5",
                "#B0BEC5",
                "#B0BEC5",
                "#B0BEC5",
                "#B0BEC5"
               ]
              ]
             }
            ],
            "label": "Topic 21",
            "method": "update"
           },
           {
            "args": [
             {
              "marker.color": [
               [
                "#B0BEC5",
                "#B0BEC5",
                "#B0BEC5",
                "#B0BEC5",
                "#B0BEC5",
                "#B0BEC5",
                "#B0BEC5",
                "#B0BEC5",
                "#B0BEC5",
                "#B0BEC5",
                "#B0BEC5",
                "#B0BEC5",
                "#B0BEC5",
                "#B0BEC5",
                "#B0BEC5",
                "#B0BEC5",
                "#B0BEC5",
                "#B0BEC5",
                "#B0BEC5",
                "#B0BEC5",
                "#B0BEC5",
                "#B0BEC5",
                "red",
                "#B0BEC5",
                "#B0BEC5",
                "#B0BEC5",
                "#B0BEC5",
                "#B0BEC5",
                "#B0BEC5",
                "#B0BEC5",
                "#B0BEC5",
                "#B0BEC5",
                "#B0BEC5",
                "#B0BEC5",
                "#B0BEC5",
                "#B0BEC5",
                "#B0BEC5",
                "#B0BEC5",
                "#B0BEC5",
                "#B0BEC5",
                "#B0BEC5",
                "#B0BEC5",
                "#B0BEC5",
                "#B0BEC5",
                "#B0BEC5",
                "#B0BEC5",
                "#B0BEC5",
                "#B0BEC5",
                "#B0BEC5",
                "#B0BEC5",
                "#B0BEC5",
                "#B0BEC5",
                "#B0BEC5",
                "#B0BEC5",
                "#B0BEC5",
                "#B0BEC5",
                "#B0BEC5",
                "#B0BEC5",
                "#B0BEC5",
                "#B0BEC5",
                "#B0BEC5",
                "#B0BEC5",
                "#B0BEC5",
                "#B0BEC5"
               ]
              ]
             }
            ],
            "label": "Topic 22",
            "method": "update"
           },
           {
            "args": [
             {
              "marker.color": [
               [
                "#B0BEC5",
                "#B0BEC5",
                "#B0BEC5",
                "#B0BEC5",
                "#B0BEC5",
                "#B0BEC5",
                "#B0BEC5",
                "#B0BEC5",
                "#B0BEC5",
                "#B0BEC5",
                "#B0BEC5",
                "#B0BEC5",
                "#B0BEC5",
                "#B0BEC5",
                "#B0BEC5",
                "#B0BEC5",
                "#B0BEC5",
                "#B0BEC5",
                "#B0BEC5",
                "#B0BEC5",
                "#B0BEC5",
                "#B0BEC5",
                "#B0BEC5",
                "red",
                "#B0BEC5",
                "#B0BEC5",
                "#B0BEC5",
                "#B0BEC5",
                "#B0BEC5",
                "#B0BEC5",
                "#B0BEC5",
                "#B0BEC5",
                "#B0BEC5",
                "#B0BEC5",
                "#B0BEC5",
                "#B0BEC5",
                "#B0BEC5",
                "#B0BEC5",
                "#B0BEC5",
                "#B0BEC5",
                "#B0BEC5",
                "#B0BEC5",
                "#B0BEC5",
                "#B0BEC5",
                "#B0BEC5",
                "#B0BEC5",
                "#B0BEC5",
                "#B0BEC5",
                "#B0BEC5",
                "#B0BEC5",
                "#B0BEC5",
                "#B0BEC5",
                "#B0BEC5",
                "#B0BEC5",
                "#B0BEC5",
                "#B0BEC5",
                "#B0BEC5",
                "#B0BEC5",
                "#B0BEC5",
                "#B0BEC5",
                "#B0BEC5",
                "#B0BEC5",
                "#B0BEC5",
                "#B0BEC5"
               ]
              ]
             }
            ],
            "label": "Topic 23",
            "method": "update"
           },
           {
            "args": [
             {
              "marker.color": [
               [
                "#B0BEC5",
                "#B0BEC5",
                "#B0BEC5",
                "#B0BEC5",
                "#B0BEC5",
                "#B0BEC5",
                "#B0BEC5",
                "#B0BEC5",
                "#B0BEC5",
                "#B0BEC5",
                "#B0BEC5",
                "#B0BEC5",
                "#B0BEC5",
                "#B0BEC5",
                "#B0BEC5",
                "#B0BEC5",
                "#B0BEC5",
                "#B0BEC5",
                "#B0BEC5",
                "#B0BEC5",
                "#B0BEC5",
                "#B0BEC5",
                "#B0BEC5",
                "#B0BEC5",
                "red",
                "#B0BEC5",
                "#B0BEC5",
                "#B0BEC5",
                "#B0BEC5",
                "#B0BEC5",
                "#B0BEC5",
                "#B0BEC5",
                "#B0BEC5",
                "#B0BEC5",
                "#B0BEC5",
                "#B0BEC5",
                "#B0BEC5",
                "#B0BEC5",
                "#B0BEC5",
                "#B0BEC5",
                "#B0BEC5",
                "#B0BEC5",
                "#B0BEC5",
                "#B0BEC5",
                "#B0BEC5",
                "#B0BEC5",
                "#B0BEC5",
                "#B0BEC5",
                "#B0BEC5",
                "#B0BEC5",
                "#B0BEC5",
                "#B0BEC5",
                "#B0BEC5",
                "#B0BEC5",
                "#B0BEC5",
                "#B0BEC5",
                "#B0BEC5",
                "#B0BEC5",
                "#B0BEC5",
                "#B0BEC5",
                "#B0BEC5",
                "#B0BEC5",
                "#B0BEC5",
                "#B0BEC5"
               ]
              ]
             }
            ],
            "label": "Topic 24",
            "method": "update"
           },
           {
            "args": [
             {
              "marker.color": [
               [
                "#B0BEC5",
                "#B0BEC5",
                "#B0BEC5",
                "#B0BEC5",
                "#B0BEC5",
                "#B0BEC5",
                "#B0BEC5",
                "#B0BEC5",
                "#B0BEC5",
                "#B0BEC5",
                "#B0BEC5",
                "#B0BEC5",
                "#B0BEC5",
                "#B0BEC5",
                "#B0BEC5",
                "#B0BEC5",
                "#B0BEC5",
                "#B0BEC5",
                "#B0BEC5",
                "#B0BEC5",
                "#B0BEC5",
                "#B0BEC5",
                "#B0BEC5",
                "#B0BEC5",
                "#B0BEC5",
                "red",
                "#B0BEC5",
                "#B0BEC5",
                "#B0BEC5",
                "#B0BEC5",
                "#B0BEC5",
                "#B0BEC5",
                "#B0BEC5",
                "#B0BEC5",
                "#B0BEC5",
                "#B0BEC5",
                "#B0BEC5",
                "#B0BEC5",
                "#B0BEC5",
                "#B0BEC5",
                "#B0BEC5",
                "#B0BEC5",
                "#B0BEC5",
                "#B0BEC5",
                "#B0BEC5",
                "#B0BEC5",
                "#B0BEC5",
                "#B0BEC5",
                "#B0BEC5",
                "#B0BEC5",
                "#B0BEC5",
                "#B0BEC5",
                "#B0BEC5",
                "#B0BEC5",
                "#B0BEC5",
                "#B0BEC5",
                "#B0BEC5",
                "#B0BEC5",
                "#B0BEC5",
                "#B0BEC5",
                "#B0BEC5",
                "#B0BEC5",
                "#B0BEC5",
                "#B0BEC5"
               ]
              ]
             }
            ],
            "label": "Topic 25",
            "method": "update"
           },
           {
            "args": [
             {
              "marker.color": [
               [
                "#B0BEC5",
                "#B0BEC5",
                "#B0BEC5",
                "#B0BEC5",
                "#B0BEC5",
                "#B0BEC5",
                "#B0BEC5",
                "#B0BEC5",
                "#B0BEC5",
                "#B0BEC5",
                "#B0BEC5",
                "#B0BEC5",
                "#B0BEC5",
                "#B0BEC5",
                "#B0BEC5",
                "#B0BEC5",
                "#B0BEC5",
                "#B0BEC5",
                "#B0BEC5",
                "#B0BEC5",
                "#B0BEC5",
                "#B0BEC5",
                "#B0BEC5",
                "#B0BEC5",
                "#B0BEC5",
                "#B0BEC5",
                "red",
                "#B0BEC5",
                "#B0BEC5",
                "#B0BEC5",
                "#B0BEC5",
                "#B0BEC5",
                "#B0BEC5",
                "#B0BEC5",
                "#B0BEC5",
                "#B0BEC5",
                "#B0BEC5",
                "#B0BEC5",
                "#B0BEC5",
                "#B0BEC5",
                "#B0BEC5",
                "#B0BEC5",
                "#B0BEC5",
                "#B0BEC5",
                "#B0BEC5",
                "#B0BEC5",
                "#B0BEC5",
                "#B0BEC5",
                "#B0BEC5",
                "#B0BEC5",
                "#B0BEC5",
                "#B0BEC5",
                "#B0BEC5",
                "#B0BEC5",
                "#B0BEC5",
                "#B0BEC5",
                "#B0BEC5",
                "#B0BEC5",
                "#B0BEC5",
                "#B0BEC5",
                "#B0BEC5",
                "#B0BEC5",
                "#B0BEC5",
                "#B0BEC5"
               ]
              ]
             }
            ],
            "label": "Topic 26",
            "method": "update"
           },
           {
            "args": [
             {
              "marker.color": [
               [
                "#B0BEC5",
                "#B0BEC5",
                "#B0BEC5",
                "#B0BEC5",
                "#B0BEC5",
                "#B0BEC5",
                "#B0BEC5",
                "#B0BEC5",
                "#B0BEC5",
                "#B0BEC5",
                "#B0BEC5",
                "#B0BEC5",
                "#B0BEC5",
                "#B0BEC5",
                "#B0BEC5",
                "#B0BEC5",
                "#B0BEC5",
                "#B0BEC5",
                "#B0BEC5",
                "#B0BEC5",
                "#B0BEC5",
                "#B0BEC5",
                "#B0BEC5",
                "#B0BEC5",
                "#B0BEC5",
                "#B0BEC5",
                "#B0BEC5",
                "red",
                "#B0BEC5",
                "#B0BEC5",
                "#B0BEC5",
                "#B0BEC5",
                "#B0BEC5",
                "#B0BEC5",
                "#B0BEC5",
                "#B0BEC5",
                "#B0BEC5",
                "#B0BEC5",
                "#B0BEC5",
                "#B0BEC5",
                "#B0BEC5",
                "#B0BEC5",
                "#B0BEC5",
                "#B0BEC5",
                "#B0BEC5",
                "#B0BEC5",
                "#B0BEC5",
                "#B0BEC5",
                "#B0BEC5",
                "#B0BEC5",
                "#B0BEC5",
                "#B0BEC5",
                "#B0BEC5",
                "#B0BEC5",
                "#B0BEC5",
                "#B0BEC5",
                "#B0BEC5",
                "#B0BEC5",
                "#B0BEC5",
                "#B0BEC5",
                "#B0BEC5",
                "#B0BEC5",
                "#B0BEC5",
                "#B0BEC5"
               ]
              ]
             }
            ],
            "label": "Topic 27",
            "method": "update"
           },
           {
            "args": [
             {
              "marker.color": [
               [
                "#B0BEC5",
                "#B0BEC5",
                "#B0BEC5",
                "#B0BEC5",
                "#B0BEC5",
                "#B0BEC5",
                "#B0BEC5",
                "#B0BEC5",
                "#B0BEC5",
                "#B0BEC5",
                "#B0BEC5",
                "#B0BEC5",
                "#B0BEC5",
                "#B0BEC5",
                "#B0BEC5",
                "#B0BEC5",
                "#B0BEC5",
                "#B0BEC5",
                "#B0BEC5",
                "#B0BEC5",
                "#B0BEC5",
                "#B0BEC5",
                "#B0BEC5",
                "#B0BEC5",
                "#B0BEC5",
                "#B0BEC5",
                "#B0BEC5",
                "#B0BEC5",
                "red",
                "#B0BEC5",
                "#B0BEC5",
                "#B0BEC5",
                "#B0BEC5",
                "#B0BEC5",
                "#B0BEC5",
                "#B0BEC5",
                "#B0BEC5",
                "#B0BEC5",
                "#B0BEC5",
                "#B0BEC5",
                "#B0BEC5",
                "#B0BEC5",
                "#B0BEC5",
                "#B0BEC5",
                "#B0BEC5",
                "#B0BEC5",
                "#B0BEC5",
                "#B0BEC5",
                "#B0BEC5",
                "#B0BEC5",
                "#B0BEC5",
                "#B0BEC5",
                "#B0BEC5",
                "#B0BEC5",
                "#B0BEC5",
                "#B0BEC5",
                "#B0BEC5",
                "#B0BEC5",
                "#B0BEC5",
                "#B0BEC5",
                "#B0BEC5",
                "#B0BEC5",
                "#B0BEC5",
                "#B0BEC5"
               ]
              ]
             }
            ],
            "label": "Topic 28",
            "method": "update"
           },
           {
            "args": [
             {
              "marker.color": [
               [
                "#B0BEC5",
                "#B0BEC5",
                "#B0BEC5",
                "#B0BEC5",
                "#B0BEC5",
                "#B0BEC5",
                "#B0BEC5",
                "#B0BEC5",
                "#B0BEC5",
                "#B0BEC5",
                "#B0BEC5",
                "#B0BEC5",
                "#B0BEC5",
                "#B0BEC5",
                "#B0BEC5",
                "#B0BEC5",
                "#B0BEC5",
                "#B0BEC5",
                "#B0BEC5",
                "#B0BEC5",
                "#B0BEC5",
                "#B0BEC5",
                "#B0BEC5",
                "#B0BEC5",
                "#B0BEC5",
                "#B0BEC5",
                "#B0BEC5",
                "#B0BEC5",
                "#B0BEC5",
                "red",
                "#B0BEC5",
                "#B0BEC5",
                "#B0BEC5",
                "#B0BEC5",
                "#B0BEC5",
                "#B0BEC5",
                "#B0BEC5",
                "#B0BEC5",
                "#B0BEC5",
                "#B0BEC5",
                "#B0BEC5",
                "#B0BEC5",
                "#B0BEC5",
                "#B0BEC5",
                "#B0BEC5",
                "#B0BEC5",
                "#B0BEC5",
                "#B0BEC5",
                "#B0BEC5",
                "#B0BEC5",
                "#B0BEC5",
                "#B0BEC5",
                "#B0BEC5",
                "#B0BEC5",
                "#B0BEC5",
                "#B0BEC5",
                "#B0BEC5",
                "#B0BEC5",
                "#B0BEC5",
                "#B0BEC5",
                "#B0BEC5",
                "#B0BEC5",
                "#B0BEC5",
                "#B0BEC5"
               ]
              ]
             }
            ],
            "label": "Topic 29",
            "method": "update"
           },
           {
            "args": [
             {
              "marker.color": [
               [
                "#B0BEC5",
                "#B0BEC5",
                "#B0BEC5",
                "#B0BEC5",
                "#B0BEC5",
                "#B0BEC5",
                "#B0BEC5",
                "#B0BEC5",
                "#B0BEC5",
                "#B0BEC5",
                "#B0BEC5",
                "#B0BEC5",
                "#B0BEC5",
                "#B0BEC5",
                "#B0BEC5",
                "#B0BEC5",
                "#B0BEC5",
                "#B0BEC5",
                "#B0BEC5",
                "#B0BEC5",
                "#B0BEC5",
                "#B0BEC5",
                "#B0BEC5",
                "#B0BEC5",
                "#B0BEC5",
                "#B0BEC5",
                "#B0BEC5",
                "#B0BEC5",
                "#B0BEC5",
                "#B0BEC5",
                "red",
                "#B0BEC5",
                "#B0BEC5",
                "#B0BEC5",
                "#B0BEC5",
                "#B0BEC5",
                "#B0BEC5",
                "#B0BEC5",
                "#B0BEC5",
                "#B0BEC5",
                "#B0BEC5",
                "#B0BEC5",
                "#B0BEC5",
                "#B0BEC5",
                "#B0BEC5",
                "#B0BEC5",
                "#B0BEC5",
                "#B0BEC5",
                "#B0BEC5",
                "#B0BEC5",
                "#B0BEC5",
                "#B0BEC5",
                "#B0BEC5",
                "#B0BEC5",
                "#B0BEC5",
                "#B0BEC5",
                "#B0BEC5",
                "#B0BEC5",
                "#B0BEC5",
                "#B0BEC5",
                "#B0BEC5",
                "#B0BEC5",
                "#B0BEC5",
                "#B0BEC5"
               ]
              ]
             }
            ],
            "label": "Topic 30",
            "method": "update"
           },
           {
            "args": [
             {
              "marker.color": [
               [
                "#B0BEC5",
                "#B0BEC5",
                "#B0BEC5",
                "#B0BEC5",
                "#B0BEC5",
                "#B0BEC5",
                "#B0BEC5",
                "#B0BEC5",
                "#B0BEC5",
                "#B0BEC5",
                "#B0BEC5",
                "#B0BEC5",
                "#B0BEC5",
                "#B0BEC5",
                "#B0BEC5",
                "#B0BEC5",
                "#B0BEC5",
                "#B0BEC5",
                "#B0BEC5",
                "#B0BEC5",
                "#B0BEC5",
                "#B0BEC5",
                "#B0BEC5",
                "#B0BEC5",
                "#B0BEC5",
                "#B0BEC5",
                "#B0BEC5",
                "#B0BEC5",
                "#B0BEC5",
                "#B0BEC5",
                "#B0BEC5",
                "red",
                "#B0BEC5",
                "#B0BEC5",
                "#B0BEC5",
                "#B0BEC5",
                "#B0BEC5",
                "#B0BEC5",
                "#B0BEC5",
                "#B0BEC5",
                "#B0BEC5",
                "#B0BEC5",
                "#B0BEC5",
                "#B0BEC5",
                "#B0BEC5",
                "#B0BEC5",
                "#B0BEC5",
                "#B0BEC5",
                "#B0BEC5",
                "#B0BEC5",
                "#B0BEC5",
                "#B0BEC5",
                "#B0BEC5",
                "#B0BEC5",
                "#B0BEC5",
                "#B0BEC5",
                "#B0BEC5",
                "#B0BEC5",
                "#B0BEC5",
                "#B0BEC5",
                "#B0BEC5",
                "#B0BEC5",
                "#B0BEC5",
                "#B0BEC5"
               ]
              ]
             }
            ],
            "label": "Topic 31",
            "method": "update"
           },
           {
            "args": [
             {
              "marker.color": [
               [
                "#B0BEC5",
                "#B0BEC5",
                "#B0BEC5",
                "#B0BEC5",
                "#B0BEC5",
                "#B0BEC5",
                "#B0BEC5",
                "#B0BEC5",
                "#B0BEC5",
                "#B0BEC5",
                "#B0BEC5",
                "#B0BEC5",
                "#B0BEC5",
                "#B0BEC5",
                "#B0BEC5",
                "#B0BEC5",
                "#B0BEC5",
                "#B0BEC5",
                "#B0BEC5",
                "#B0BEC5",
                "#B0BEC5",
                "#B0BEC5",
                "#B0BEC5",
                "#B0BEC5",
                "#B0BEC5",
                "#B0BEC5",
                "#B0BEC5",
                "#B0BEC5",
                "#B0BEC5",
                "#B0BEC5",
                "#B0BEC5",
                "#B0BEC5",
                "red",
                "#B0BEC5",
                "#B0BEC5",
                "#B0BEC5",
                "#B0BEC5",
                "#B0BEC5",
                "#B0BEC5",
                "#B0BEC5",
                "#B0BEC5",
                "#B0BEC5",
                "#B0BEC5",
                "#B0BEC5",
                "#B0BEC5",
                "#B0BEC5",
                "#B0BEC5",
                "#B0BEC5",
                "#B0BEC5",
                "#B0BEC5",
                "#B0BEC5",
                "#B0BEC5",
                "#B0BEC5",
                "#B0BEC5",
                "#B0BEC5",
                "#B0BEC5",
                "#B0BEC5",
                "#B0BEC5",
                "#B0BEC5",
                "#B0BEC5",
                "#B0BEC5",
                "#B0BEC5",
                "#B0BEC5",
                "#B0BEC5"
               ]
              ]
             }
            ],
            "label": "Topic 32",
            "method": "update"
           },
           {
            "args": [
             {
              "marker.color": [
               [
                "#B0BEC5",
                "#B0BEC5",
                "#B0BEC5",
                "#B0BEC5",
                "#B0BEC5",
                "#B0BEC5",
                "#B0BEC5",
                "#B0BEC5",
                "#B0BEC5",
                "#B0BEC5",
                "#B0BEC5",
                "#B0BEC5",
                "#B0BEC5",
                "#B0BEC5",
                "#B0BEC5",
                "#B0BEC5",
                "#B0BEC5",
                "#B0BEC5",
                "#B0BEC5",
                "#B0BEC5",
                "#B0BEC5",
                "#B0BEC5",
                "#B0BEC5",
                "#B0BEC5",
                "#B0BEC5",
                "#B0BEC5",
                "#B0BEC5",
                "#B0BEC5",
                "#B0BEC5",
                "#B0BEC5",
                "#B0BEC5",
                "#B0BEC5",
                "#B0BEC5",
                "red",
                "#B0BEC5",
                "#B0BEC5",
                "#B0BEC5",
                "#B0BEC5",
                "#B0BEC5",
                "#B0BEC5",
                "#B0BEC5",
                "#B0BEC5",
                "#B0BEC5",
                "#B0BEC5",
                "#B0BEC5",
                "#B0BEC5",
                "#B0BEC5",
                "#B0BEC5",
                "#B0BEC5",
                "#B0BEC5",
                "#B0BEC5",
                "#B0BEC5",
                "#B0BEC5",
                "#B0BEC5",
                "#B0BEC5",
                "#B0BEC5",
                "#B0BEC5",
                "#B0BEC5",
                "#B0BEC5",
                "#B0BEC5",
                "#B0BEC5",
                "#B0BEC5",
                "#B0BEC5",
                "#B0BEC5"
               ]
              ]
             }
            ],
            "label": "Topic 33",
            "method": "update"
           },
           {
            "args": [
             {
              "marker.color": [
               [
                "#B0BEC5",
                "#B0BEC5",
                "#B0BEC5",
                "#B0BEC5",
                "#B0BEC5",
                "#B0BEC5",
                "#B0BEC5",
                "#B0BEC5",
                "#B0BEC5",
                "#B0BEC5",
                "#B0BEC5",
                "#B0BEC5",
                "#B0BEC5",
                "#B0BEC5",
                "#B0BEC5",
                "#B0BEC5",
                "#B0BEC5",
                "#B0BEC5",
                "#B0BEC5",
                "#B0BEC5",
                "#B0BEC5",
                "#B0BEC5",
                "#B0BEC5",
                "#B0BEC5",
                "#B0BEC5",
                "#B0BEC5",
                "#B0BEC5",
                "#B0BEC5",
                "#B0BEC5",
                "#B0BEC5",
                "#B0BEC5",
                "#B0BEC5",
                "#B0BEC5",
                "#B0BEC5",
                "red",
                "#B0BEC5",
                "#B0BEC5",
                "#B0BEC5",
                "#B0BEC5",
                "#B0BEC5",
                "#B0BEC5",
                "#B0BEC5",
                "#B0BEC5",
                "#B0BEC5",
                "#B0BEC5",
                "#B0BEC5",
                "#B0BEC5",
                "#B0BEC5",
                "#B0BEC5",
                "#B0BEC5",
                "#B0BEC5",
                "#B0BEC5",
                "#B0BEC5",
                "#B0BEC5",
                "#B0BEC5",
                "#B0BEC5",
                "#B0BEC5",
                "#B0BEC5",
                "#B0BEC5",
                "#B0BEC5",
                "#B0BEC5",
                "#B0BEC5",
                "#B0BEC5",
                "#B0BEC5"
               ]
              ]
             }
            ],
            "label": "Topic 34",
            "method": "update"
           },
           {
            "args": [
             {
              "marker.color": [
               [
                "#B0BEC5",
                "#B0BEC5",
                "#B0BEC5",
                "#B0BEC5",
                "#B0BEC5",
                "#B0BEC5",
                "#B0BEC5",
                "#B0BEC5",
                "#B0BEC5",
                "#B0BEC5",
                "#B0BEC5",
                "#B0BEC5",
                "#B0BEC5",
                "#B0BEC5",
                "#B0BEC5",
                "#B0BEC5",
                "#B0BEC5",
                "#B0BEC5",
                "#B0BEC5",
                "#B0BEC5",
                "#B0BEC5",
                "#B0BEC5",
                "#B0BEC5",
                "#B0BEC5",
                "#B0BEC5",
                "#B0BEC5",
                "#B0BEC5",
                "#B0BEC5",
                "#B0BEC5",
                "#B0BEC5",
                "#B0BEC5",
                "#B0BEC5",
                "#B0BEC5",
                "#B0BEC5",
                "#B0BEC5",
                "red",
                "#B0BEC5",
                "#B0BEC5",
                "#B0BEC5",
                "#B0BEC5",
                "#B0BEC5",
                "#B0BEC5",
                "#B0BEC5",
                "#B0BEC5",
                "#B0BEC5",
                "#B0BEC5",
                "#B0BEC5",
                "#B0BEC5",
                "#B0BEC5",
                "#B0BEC5",
                "#B0BEC5",
                "#B0BEC5",
                "#B0BEC5",
                "#B0BEC5",
                "#B0BEC5",
                "#B0BEC5",
                "#B0BEC5",
                "#B0BEC5",
                "#B0BEC5",
                "#B0BEC5",
                "#B0BEC5",
                "#B0BEC5",
                "#B0BEC5",
                "#B0BEC5"
               ]
              ]
             }
            ],
            "label": "Topic 35",
            "method": "update"
           },
           {
            "args": [
             {
              "marker.color": [
               [
                "#B0BEC5",
                "#B0BEC5",
                "#B0BEC5",
                "#B0BEC5",
                "#B0BEC5",
                "#B0BEC5",
                "#B0BEC5",
                "#B0BEC5",
                "#B0BEC5",
                "#B0BEC5",
                "#B0BEC5",
                "#B0BEC5",
                "#B0BEC5",
                "#B0BEC5",
                "#B0BEC5",
                "#B0BEC5",
                "#B0BEC5",
                "#B0BEC5",
                "#B0BEC5",
                "#B0BEC5",
                "#B0BEC5",
                "#B0BEC5",
                "#B0BEC5",
                "#B0BEC5",
                "#B0BEC5",
                "#B0BEC5",
                "#B0BEC5",
                "#B0BEC5",
                "#B0BEC5",
                "#B0BEC5",
                "#B0BEC5",
                "#B0BEC5",
                "#B0BEC5",
                "#B0BEC5",
                "#B0BEC5",
                "#B0BEC5",
                "red",
                "#B0BEC5",
                "#B0BEC5",
                "#B0BEC5",
                "#B0BEC5",
                "#B0BEC5",
                "#B0BEC5",
                "#B0BEC5",
                "#B0BEC5",
                "#B0BEC5",
                "#B0BEC5",
                "#B0BEC5",
                "#B0BEC5",
                "#B0BEC5",
                "#B0BEC5",
                "#B0BEC5",
                "#B0BEC5",
                "#B0BEC5",
                "#B0BEC5",
                "#B0BEC5",
                "#B0BEC5",
                "#B0BEC5",
                "#B0BEC5",
                "#B0BEC5",
                "#B0BEC5",
                "#B0BEC5",
                "#B0BEC5",
                "#B0BEC5"
               ]
              ]
             }
            ],
            "label": "Topic 36",
            "method": "update"
           },
           {
            "args": [
             {
              "marker.color": [
               [
                "#B0BEC5",
                "#B0BEC5",
                "#B0BEC5",
                "#B0BEC5",
                "#B0BEC5",
                "#B0BEC5",
                "#B0BEC5",
                "#B0BEC5",
                "#B0BEC5",
                "#B0BEC5",
                "#B0BEC5",
                "#B0BEC5",
                "#B0BEC5",
                "#B0BEC5",
                "#B0BEC5",
                "#B0BEC5",
                "#B0BEC5",
                "#B0BEC5",
                "#B0BEC5",
                "#B0BEC5",
                "#B0BEC5",
                "#B0BEC5",
                "#B0BEC5",
                "#B0BEC5",
                "#B0BEC5",
                "#B0BEC5",
                "#B0BEC5",
                "#B0BEC5",
                "#B0BEC5",
                "#B0BEC5",
                "#B0BEC5",
                "#B0BEC5",
                "#B0BEC5",
                "#B0BEC5",
                "#B0BEC5",
                "#B0BEC5",
                "#B0BEC5",
                "red",
                "#B0BEC5",
                "#B0BEC5",
                "#B0BEC5",
                "#B0BEC5",
                "#B0BEC5",
                "#B0BEC5",
                "#B0BEC5",
                "#B0BEC5",
                "#B0BEC5",
                "#B0BEC5",
                "#B0BEC5",
                "#B0BEC5",
                "#B0BEC5",
                "#B0BEC5",
                "#B0BEC5",
                "#B0BEC5",
                "#B0BEC5",
                "#B0BEC5",
                "#B0BEC5",
                "#B0BEC5",
                "#B0BEC5",
                "#B0BEC5",
                "#B0BEC5",
                "#B0BEC5",
                "#B0BEC5",
                "#B0BEC5"
               ]
              ]
             }
            ],
            "label": "Topic 37",
            "method": "update"
           },
           {
            "args": [
             {
              "marker.color": [
               [
                "#B0BEC5",
                "#B0BEC5",
                "#B0BEC5",
                "#B0BEC5",
                "#B0BEC5",
                "#B0BEC5",
                "#B0BEC5",
                "#B0BEC5",
                "#B0BEC5",
                "#B0BEC5",
                "#B0BEC5",
                "#B0BEC5",
                "#B0BEC5",
                "#B0BEC5",
                "#B0BEC5",
                "#B0BEC5",
                "#B0BEC5",
                "#B0BEC5",
                "#B0BEC5",
                "#B0BEC5",
                "#B0BEC5",
                "#B0BEC5",
                "#B0BEC5",
                "#B0BEC5",
                "#B0BEC5",
                "#B0BEC5",
                "#B0BEC5",
                "#B0BEC5",
                "#B0BEC5",
                "#B0BEC5",
                "#B0BEC5",
                "#B0BEC5",
                "#B0BEC5",
                "#B0BEC5",
                "#B0BEC5",
                "#B0BEC5",
                "#B0BEC5",
                "#B0BEC5",
                "red",
                "#B0BEC5",
                "#B0BEC5",
                "#B0BEC5",
                "#B0BEC5",
                "#B0BEC5",
                "#B0BEC5",
                "#B0BEC5",
                "#B0BEC5",
                "#B0BEC5",
                "#B0BEC5",
                "#B0BEC5",
                "#B0BEC5",
                "#B0BEC5",
                "#B0BEC5",
                "#B0BEC5",
                "#B0BEC5",
                "#B0BEC5",
                "#B0BEC5",
                "#B0BEC5",
                "#B0BEC5",
                "#B0BEC5",
                "#B0BEC5",
                "#B0BEC5",
                "#B0BEC5",
                "#B0BEC5"
               ]
              ]
             }
            ],
            "label": "Topic 38",
            "method": "update"
           },
           {
            "args": [
             {
              "marker.color": [
               [
                "#B0BEC5",
                "#B0BEC5",
                "#B0BEC5",
                "#B0BEC5",
                "#B0BEC5",
                "#B0BEC5",
                "#B0BEC5",
                "#B0BEC5",
                "#B0BEC5",
                "#B0BEC5",
                "#B0BEC5",
                "#B0BEC5",
                "#B0BEC5",
                "#B0BEC5",
                "#B0BEC5",
                "#B0BEC5",
                "#B0BEC5",
                "#B0BEC5",
                "#B0BEC5",
                "#B0BEC5",
                "#B0BEC5",
                "#B0BEC5",
                "#B0BEC5",
                "#B0BEC5",
                "#B0BEC5",
                "#B0BEC5",
                "#B0BEC5",
                "#B0BEC5",
                "#B0BEC5",
                "#B0BEC5",
                "#B0BEC5",
                "#B0BEC5",
                "#B0BEC5",
                "#B0BEC5",
                "#B0BEC5",
                "#B0BEC5",
                "#B0BEC5",
                "#B0BEC5",
                "#B0BEC5",
                "red",
                "#B0BEC5",
                "#B0BEC5",
                "#B0BEC5",
                "#B0BEC5",
                "#B0BEC5",
                "#B0BEC5",
                "#B0BEC5",
                "#B0BEC5",
                "#B0BEC5",
                "#B0BEC5",
                "#B0BEC5",
                "#B0BEC5",
                "#B0BEC5",
                "#B0BEC5",
                "#B0BEC5",
                "#B0BEC5",
                "#B0BEC5",
                "#B0BEC5",
                "#B0BEC5",
                "#B0BEC5",
                "#B0BEC5",
                "#B0BEC5",
                "#B0BEC5",
                "#B0BEC5"
               ]
              ]
             }
            ],
            "label": "Topic 39",
            "method": "update"
           },
           {
            "args": [
             {
              "marker.color": [
               [
                "#B0BEC5",
                "#B0BEC5",
                "#B0BEC5",
                "#B0BEC5",
                "#B0BEC5",
                "#B0BEC5",
                "#B0BEC5",
                "#B0BEC5",
                "#B0BEC5",
                "#B0BEC5",
                "#B0BEC5",
                "#B0BEC5",
                "#B0BEC5",
                "#B0BEC5",
                "#B0BEC5",
                "#B0BEC5",
                "#B0BEC5",
                "#B0BEC5",
                "#B0BEC5",
                "#B0BEC5",
                "#B0BEC5",
                "#B0BEC5",
                "#B0BEC5",
                "#B0BEC5",
                "#B0BEC5",
                "#B0BEC5",
                "#B0BEC5",
                "#B0BEC5",
                "#B0BEC5",
                "#B0BEC5",
                "#B0BEC5",
                "#B0BEC5",
                "#B0BEC5",
                "#B0BEC5",
                "#B0BEC5",
                "#B0BEC5",
                "#B0BEC5",
                "#B0BEC5",
                "#B0BEC5",
                "#B0BEC5",
                "red",
                "#B0BEC5",
                "#B0BEC5",
                "#B0BEC5",
                "#B0BEC5",
                "#B0BEC5",
                "#B0BEC5",
                "#B0BEC5",
                "#B0BEC5",
                "#B0BEC5",
                "#B0BEC5",
                "#B0BEC5",
                "#B0BEC5",
                "#B0BEC5",
                "#B0BEC5",
                "#B0BEC5",
                "#B0BEC5",
                "#B0BEC5",
                "#B0BEC5",
                "#B0BEC5",
                "#B0BEC5",
                "#B0BEC5",
                "#B0BEC5",
                "#B0BEC5"
               ]
              ]
             }
            ],
            "label": "Topic 40",
            "method": "update"
           },
           {
            "args": [
             {
              "marker.color": [
               [
                "#B0BEC5",
                "#B0BEC5",
                "#B0BEC5",
                "#B0BEC5",
                "#B0BEC5",
                "#B0BEC5",
                "#B0BEC5",
                "#B0BEC5",
                "#B0BEC5",
                "#B0BEC5",
                "#B0BEC5",
                "#B0BEC5",
                "#B0BEC5",
                "#B0BEC5",
                "#B0BEC5",
                "#B0BEC5",
                "#B0BEC5",
                "#B0BEC5",
                "#B0BEC5",
                "#B0BEC5",
                "#B0BEC5",
                "#B0BEC5",
                "#B0BEC5",
                "#B0BEC5",
                "#B0BEC5",
                "#B0BEC5",
                "#B0BEC5",
                "#B0BEC5",
                "#B0BEC5",
                "#B0BEC5",
                "#B0BEC5",
                "#B0BEC5",
                "#B0BEC5",
                "#B0BEC5",
                "#B0BEC5",
                "#B0BEC5",
                "#B0BEC5",
                "#B0BEC5",
                "#B0BEC5",
                "#B0BEC5",
                "#B0BEC5",
                "red",
                "#B0BEC5",
                "#B0BEC5",
                "#B0BEC5",
                "#B0BEC5",
                "#B0BEC5",
                "#B0BEC5",
                "#B0BEC5",
                "#B0BEC5",
                "#B0BEC5",
                "#B0BEC5",
                "#B0BEC5",
                "#B0BEC5",
                "#B0BEC5",
                "#B0BEC5",
                "#B0BEC5",
                "#B0BEC5",
                "#B0BEC5",
                "#B0BEC5",
                "#B0BEC5",
                "#B0BEC5",
                "#B0BEC5",
                "#B0BEC5"
               ]
              ]
             }
            ],
            "label": "Topic 41",
            "method": "update"
           },
           {
            "args": [
             {
              "marker.color": [
               [
                "#B0BEC5",
                "#B0BEC5",
                "#B0BEC5",
                "#B0BEC5",
                "#B0BEC5",
                "#B0BEC5",
                "#B0BEC5",
                "#B0BEC5",
                "#B0BEC5",
                "#B0BEC5",
                "#B0BEC5",
                "#B0BEC5",
                "#B0BEC5",
                "#B0BEC5",
                "#B0BEC5",
                "#B0BEC5",
                "#B0BEC5",
                "#B0BEC5",
                "#B0BEC5",
                "#B0BEC5",
                "#B0BEC5",
                "#B0BEC5",
                "#B0BEC5",
                "#B0BEC5",
                "#B0BEC5",
                "#B0BEC5",
                "#B0BEC5",
                "#B0BEC5",
                "#B0BEC5",
                "#B0BEC5",
                "#B0BEC5",
                "#B0BEC5",
                "#B0BEC5",
                "#B0BEC5",
                "#B0BEC5",
                "#B0BEC5",
                "#B0BEC5",
                "#B0BEC5",
                "#B0BEC5",
                "#B0BEC5",
                "#B0BEC5",
                "#B0BEC5",
                "red",
                "#B0BEC5",
                "#B0BEC5",
                "#B0BEC5",
                "#B0BEC5",
                "#B0BEC5",
                "#B0BEC5",
                "#B0BEC5",
                "#B0BEC5",
                "#B0BEC5",
                "#B0BEC5",
                "#B0BEC5",
                "#B0BEC5",
                "#B0BEC5",
                "#B0BEC5",
                "#B0BEC5",
                "#B0BEC5",
                "#B0BEC5",
                "#B0BEC5",
                "#B0BEC5",
                "#B0BEC5",
                "#B0BEC5"
               ]
              ]
             }
            ],
            "label": "Topic 42",
            "method": "update"
           },
           {
            "args": [
             {
              "marker.color": [
               [
                "#B0BEC5",
                "#B0BEC5",
                "#B0BEC5",
                "#B0BEC5",
                "#B0BEC5",
                "#B0BEC5",
                "#B0BEC5",
                "#B0BEC5",
                "#B0BEC5",
                "#B0BEC5",
                "#B0BEC5",
                "#B0BEC5",
                "#B0BEC5",
                "#B0BEC5",
                "#B0BEC5",
                "#B0BEC5",
                "#B0BEC5",
                "#B0BEC5",
                "#B0BEC5",
                "#B0BEC5",
                "#B0BEC5",
                "#B0BEC5",
                "#B0BEC5",
                "#B0BEC5",
                "#B0BEC5",
                "#B0BEC5",
                "#B0BEC5",
                "#B0BEC5",
                "#B0BEC5",
                "#B0BEC5",
                "#B0BEC5",
                "#B0BEC5",
                "#B0BEC5",
                "#B0BEC5",
                "#B0BEC5",
                "#B0BEC5",
                "#B0BEC5",
                "#B0BEC5",
                "#B0BEC5",
                "#B0BEC5",
                "#B0BEC5",
                "#B0BEC5",
                "#B0BEC5",
                "red",
                "#B0BEC5",
                "#B0BEC5",
                "#B0BEC5",
                "#B0BEC5",
                "#B0BEC5",
                "#B0BEC5",
                "#B0BEC5",
                "#B0BEC5",
                "#B0BEC5",
                "#B0BEC5",
                "#B0BEC5",
                "#B0BEC5",
                "#B0BEC5",
                "#B0BEC5",
                "#B0BEC5",
                "#B0BEC5",
                "#B0BEC5",
                "#B0BEC5",
                "#B0BEC5",
                "#B0BEC5"
               ]
              ]
             }
            ],
            "label": "Topic 43",
            "method": "update"
           },
           {
            "args": [
             {
              "marker.color": [
               [
                "#B0BEC5",
                "#B0BEC5",
                "#B0BEC5",
                "#B0BEC5",
                "#B0BEC5",
                "#B0BEC5",
                "#B0BEC5",
                "#B0BEC5",
                "#B0BEC5",
                "#B0BEC5",
                "#B0BEC5",
                "#B0BEC5",
                "#B0BEC5",
                "#B0BEC5",
                "#B0BEC5",
                "#B0BEC5",
                "#B0BEC5",
                "#B0BEC5",
                "#B0BEC5",
                "#B0BEC5",
                "#B0BEC5",
                "#B0BEC5",
                "#B0BEC5",
                "#B0BEC5",
                "#B0BEC5",
                "#B0BEC5",
                "#B0BEC5",
                "#B0BEC5",
                "#B0BEC5",
                "#B0BEC5",
                "#B0BEC5",
                "#B0BEC5",
                "#B0BEC5",
                "#B0BEC5",
                "#B0BEC5",
                "#B0BEC5",
                "#B0BEC5",
                "#B0BEC5",
                "#B0BEC5",
                "#B0BEC5",
                "#B0BEC5",
                "#B0BEC5",
                "#B0BEC5",
                "#B0BEC5",
                "red",
                "#B0BEC5",
                "#B0BEC5",
                "#B0BEC5",
                "#B0BEC5",
                "#B0BEC5",
                "#B0BEC5",
                "#B0BEC5",
                "#B0BEC5",
                "#B0BEC5",
                "#B0BEC5",
                "#B0BEC5",
                "#B0BEC5",
                "#B0BEC5",
                "#B0BEC5",
                "#B0BEC5",
                "#B0BEC5",
                "#B0BEC5",
                "#B0BEC5",
                "#B0BEC5"
               ]
              ]
             }
            ],
            "label": "Topic 44",
            "method": "update"
           },
           {
            "args": [
             {
              "marker.color": [
               [
                "#B0BEC5",
                "#B0BEC5",
                "#B0BEC5",
                "#B0BEC5",
                "#B0BEC5",
                "#B0BEC5",
                "#B0BEC5",
                "#B0BEC5",
                "#B0BEC5",
                "#B0BEC5",
                "#B0BEC5",
                "#B0BEC5",
                "#B0BEC5",
                "#B0BEC5",
                "#B0BEC5",
                "#B0BEC5",
                "#B0BEC5",
                "#B0BEC5",
                "#B0BEC5",
                "#B0BEC5",
                "#B0BEC5",
                "#B0BEC5",
                "#B0BEC5",
                "#B0BEC5",
                "#B0BEC5",
                "#B0BEC5",
                "#B0BEC5",
                "#B0BEC5",
                "#B0BEC5",
                "#B0BEC5",
                "#B0BEC5",
                "#B0BEC5",
                "#B0BEC5",
                "#B0BEC5",
                "#B0BEC5",
                "#B0BEC5",
                "#B0BEC5",
                "#B0BEC5",
                "#B0BEC5",
                "#B0BEC5",
                "#B0BEC5",
                "#B0BEC5",
                "#B0BEC5",
                "#B0BEC5",
                "#B0BEC5",
                "red",
                "#B0BEC5",
                "#B0BEC5",
                "#B0BEC5",
                "#B0BEC5",
                "#B0BEC5",
                "#B0BEC5",
                "#B0BEC5",
                "#B0BEC5",
                "#B0BEC5",
                "#B0BEC5",
                "#B0BEC5",
                "#B0BEC5",
                "#B0BEC5",
                "#B0BEC5",
                "#B0BEC5",
                "#B0BEC5",
                "#B0BEC5",
                "#B0BEC5"
               ]
              ]
             }
            ],
            "label": "Topic 45",
            "method": "update"
           },
           {
            "args": [
             {
              "marker.color": [
               [
                "#B0BEC5",
                "#B0BEC5",
                "#B0BEC5",
                "#B0BEC5",
                "#B0BEC5",
                "#B0BEC5",
                "#B0BEC5",
                "#B0BEC5",
                "#B0BEC5",
                "#B0BEC5",
                "#B0BEC5",
                "#B0BEC5",
                "#B0BEC5",
                "#B0BEC5",
                "#B0BEC5",
                "#B0BEC5",
                "#B0BEC5",
                "#B0BEC5",
                "#B0BEC5",
                "#B0BEC5",
                "#B0BEC5",
                "#B0BEC5",
                "#B0BEC5",
                "#B0BEC5",
                "#B0BEC5",
                "#B0BEC5",
                "#B0BEC5",
                "#B0BEC5",
                "#B0BEC5",
                "#B0BEC5",
                "#B0BEC5",
                "#B0BEC5",
                "#B0BEC5",
                "#B0BEC5",
                "#B0BEC5",
                "#B0BEC5",
                "#B0BEC5",
                "#B0BEC5",
                "#B0BEC5",
                "#B0BEC5",
                "#B0BEC5",
                "#B0BEC5",
                "#B0BEC5",
                "#B0BEC5",
                "#B0BEC5",
                "#B0BEC5",
                "red",
                "#B0BEC5",
                "#B0BEC5",
                "#B0BEC5",
                "#B0BEC5",
                "#B0BEC5",
                "#B0BEC5",
                "#B0BEC5",
                "#B0BEC5",
                "#B0BEC5",
                "#B0BEC5",
                "#B0BEC5",
                "#B0BEC5",
                "#B0BEC5",
                "#B0BEC5",
                "#B0BEC5",
                "#B0BEC5",
                "#B0BEC5"
               ]
              ]
             }
            ],
            "label": "Topic 46",
            "method": "update"
           },
           {
            "args": [
             {
              "marker.color": [
               [
                "#B0BEC5",
                "#B0BEC5",
                "#B0BEC5",
                "#B0BEC5",
                "#B0BEC5",
                "#B0BEC5",
                "#B0BEC5",
                "#B0BEC5",
                "#B0BEC5",
                "#B0BEC5",
                "#B0BEC5",
                "#B0BEC5",
                "#B0BEC5",
                "#B0BEC5",
                "#B0BEC5",
                "#B0BEC5",
                "#B0BEC5",
                "#B0BEC5",
                "#B0BEC5",
                "#B0BEC5",
                "#B0BEC5",
                "#B0BEC5",
                "#B0BEC5",
                "#B0BEC5",
                "#B0BEC5",
                "#B0BEC5",
                "#B0BEC5",
                "#B0BEC5",
                "#B0BEC5",
                "#B0BEC5",
                "#B0BEC5",
                "#B0BEC5",
                "#B0BEC5",
                "#B0BEC5",
                "#B0BEC5",
                "#B0BEC5",
                "#B0BEC5",
                "#B0BEC5",
                "#B0BEC5",
                "#B0BEC5",
                "#B0BEC5",
                "#B0BEC5",
                "#B0BEC5",
                "#B0BEC5",
                "#B0BEC5",
                "#B0BEC5",
                "#B0BEC5",
                "red",
                "#B0BEC5",
                "#B0BEC5",
                "#B0BEC5",
                "#B0BEC5",
                "#B0BEC5",
                "#B0BEC5",
                "#B0BEC5",
                "#B0BEC5",
                "#B0BEC5",
                "#B0BEC5",
                "#B0BEC5",
                "#B0BEC5",
                "#B0BEC5",
                "#B0BEC5",
                "#B0BEC5",
                "#B0BEC5"
               ]
              ]
             }
            ],
            "label": "Topic 47",
            "method": "update"
           },
           {
            "args": [
             {
              "marker.color": [
               [
                "#B0BEC5",
                "#B0BEC5",
                "#B0BEC5",
                "#B0BEC5",
                "#B0BEC5",
                "#B0BEC5",
                "#B0BEC5",
                "#B0BEC5",
                "#B0BEC5",
                "#B0BEC5",
                "#B0BEC5",
                "#B0BEC5",
                "#B0BEC5",
                "#B0BEC5",
                "#B0BEC5",
                "#B0BEC5",
                "#B0BEC5",
                "#B0BEC5",
                "#B0BEC5",
                "#B0BEC5",
                "#B0BEC5",
                "#B0BEC5",
                "#B0BEC5",
                "#B0BEC5",
                "#B0BEC5",
                "#B0BEC5",
                "#B0BEC5",
                "#B0BEC5",
                "#B0BEC5",
                "#B0BEC5",
                "#B0BEC5",
                "#B0BEC5",
                "#B0BEC5",
                "#B0BEC5",
                "#B0BEC5",
                "#B0BEC5",
                "#B0BEC5",
                "#B0BEC5",
                "#B0BEC5",
                "#B0BEC5",
                "#B0BEC5",
                "#B0BEC5",
                "#B0BEC5",
                "#B0BEC5",
                "#B0BEC5",
                "#B0BEC5",
                "#B0BEC5",
                "#B0BEC5",
                "red",
                "#B0BEC5",
                "#B0BEC5",
                "#B0BEC5",
                "#B0BEC5",
                "#B0BEC5",
                "#B0BEC5",
                "#B0BEC5",
                "#B0BEC5",
                "#B0BEC5",
                "#B0BEC5",
                "#B0BEC5",
                "#B0BEC5",
                "#B0BEC5",
                "#B0BEC5",
                "#B0BEC5"
               ]
              ]
             }
            ],
            "label": "Topic 48",
            "method": "update"
           },
           {
            "args": [
             {
              "marker.color": [
               [
                "#B0BEC5",
                "#B0BEC5",
                "#B0BEC5",
                "#B0BEC5",
                "#B0BEC5",
                "#B0BEC5",
                "#B0BEC5",
                "#B0BEC5",
                "#B0BEC5",
                "#B0BEC5",
                "#B0BEC5",
                "#B0BEC5",
                "#B0BEC5",
                "#B0BEC5",
                "#B0BEC5",
                "#B0BEC5",
                "#B0BEC5",
                "#B0BEC5",
                "#B0BEC5",
                "#B0BEC5",
                "#B0BEC5",
                "#B0BEC5",
                "#B0BEC5",
                "#B0BEC5",
                "#B0BEC5",
                "#B0BEC5",
                "#B0BEC5",
                "#B0BEC5",
                "#B0BEC5",
                "#B0BEC5",
                "#B0BEC5",
                "#B0BEC5",
                "#B0BEC5",
                "#B0BEC5",
                "#B0BEC5",
                "#B0BEC5",
                "#B0BEC5",
                "#B0BEC5",
                "#B0BEC5",
                "#B0BEC5",
                "#B0BEC5",
                "#B0BEC5",
                "#B0BEC5",
                "#B0BEC5",
                "#B0BEC5",
                "#B0BEC5",
                "#B0BEC5",
                "#B0BEC5",
                "#B0BEC5",
                "red",
                "#B0BEC5",
                "#B0BEC5",
                "#B0BEC5",
                "#B0BEC5",
                "#B0BEC5",
                "#B0BEC5",
                "#B0BEC5",
                "#B0BEC5",
                "#B0BEC5",
                "#B0BEC5",
                "#B0BEC5",
                "#B0BEC5",
                "#B0BEC5",
                "#B0BEC5"
               ]
              ]
             }
            ],
            "label": "Topic 49",
            "method": "update"
           },
           {
            "args": [
             {
              "marker.color": [
               [
                "#B0BEC5",
                "#B0BEC5",
                "#B0BEC5",
                "#B0BEC5",
                "#B0BEC5",
                "#B0BEC5",
                "#B0BEC5",
                "#B0BEC5",
                "#B0BEC5",
                "#B0BEC5",
                "#B0BEC5",
                "#B0BEC5",
                "#B0BEC5",
                "#B0BEC5",
                "#B0BEC5",
                "#B0BEC5",
                "#B0BEC5",
                "#B0BEC5",
                "#B0BEC5",
                "#B0BEC5",
                "#B0BEC5",
                "#B0BEC5",
                "#B0BEC5",
                "#B0BEC5",
                "#B0BEC5",
                "#B0BEC5",
                "#B0BEC5",
                "#B0BEC5",
                "#B0BEC5",
                "#B0BEC5",
                "#B0BEC5",
                "#B0BEC5",
                "#B0BEC5",
                "#B0BEC5",
                "#B0BEC5",
                "#B0BEC5",
                "#B0BEC5",
                "#B0BEC5",
                "#B0BEC5",
                "#B0BEC5",
                "#B0BEC5",
                "#B0BEC5",
                "#B0BEC5",
                "#B0BEC5",
                "#B0BEC5",
                "#B0BEC5",
                "#B0BEC5",
                "#B0BEC5",
                "#B0BEC5",
                "#B0BEC5",
                "red",
                "#B0BEC5",
                "#B0BEC5",
                "#B0BEC5",
                "#B0BEC5",
                "#B0BEC5",
                "#B0BEC5",
                "#B0BEC5",
                "#B0BEC5",
                "#B0BEC5",
                "#B0BEC5",
                "#B0BEC5",
                "#B0BEC5",
                "#B0BEC5"
               ]
              ]
             }
            ],
            "label": "Topic 50",
            "method": "update"
           },
           {
            "args": [
             {
              "marker.color": [
               [
                "#B0BEC5",
                "#B0BEC5",
                "#B0BEC5",
                "#B0BEC5",
                "#B0BEC5",
                "#B0BEC5",
                "#B0BEC5",
                "#B0BEC5",
                "#B0BEC5",
                "#B0BEC5",
                "#B0BEC5",
                "#B0BEC5",
                "#B0BEC5",
                "#B0BEC5",
                "#B0BEC5",
                "#B0BEC5",
                "#B0BEC5",
                "#B0BEC5",
                "#B0BEC5",
                "#B0BEC5",
                "#B0BEC5",
                "#B0BEC5",
                "#B0BEC5",
                "#B0BEC5",
                "#B0BEC5",
                "#B0BEC5",
                "#B0BEC5",
                "#B0BEC5",
                "#B0BEC5",
                "#B0BEC5",
                "#B0BEC5",
                "#B0BEC5",
                "#B0BEC5",
                "#B0BEC5",
                "#B0BEC5",
                "#B0BEC5",
                "#B0BEC5",
                "#B0BEC5",
                "#B0BEC5",
                "#B0BEC5",
                "#B0BEC5",
                "#B0BEC5",
                "#B0BEC5",
                "#B0BEC5",
                "#B0BEC5",
                "#B0BEC5",
                "#B0BEC5",
                "#B0BEC5",
                "#B0BEC5",
                "#B0BEC5",
                "#B0BEC5",
                "red",
                "#B0BEC5",
                "#B0BEC5",
                "#B0BEC5",
                "#B0BEC5",
                "#B0BEC5",
                "#B0BEC5",
                "#B0BEC5",
                "#B0BEC5",
                "#B0BEC5",
                "#B0BEC5",
                "#B0BEC5",
                "#B0BEC5"
               ]
              ]
             }
            ],
            "label": "Topic 51",
            "method": "update"
           },
           {
            "args": [
             {
              "marker.color": [
               [
                "#B0BEC5",
                "#B0BEC5",
                "#B0BEC5",
                "#B0BEC5",
                "#B0BEC5",
                "#B0BEC5",
                "#B0BEC5",
                "#B0BEC5",
                "#B0BEC5",
                "#B0BEC5",
                "#B0BEC5",
                "#B0BEC5",
                "#B0BEC5",
                "#B0BEC5",
                "#B0BEC5",
                "#B0BEC5",
                "#B0BEC5",
                "#B0BEC5",
                "#B0BEC5",
                "#B0BEC5",
                "#B0BEC5",
                "#B0BEC5",
                "#B0BEC5",
                "#B0BEC5",
                "#B0BEC5",
                "#B0BEC5",
                "#B0BEC5",
                "#B0BEC5",
                "#B0BEC5",
                "#B0BEC5",
                "#B0BEC5",
                "#B0BEC5",
                "#B0BEC5",
                "#B0BEC5",
                "#B0BEC5",
                "#B0BEC5",
                "#B0BEC5",
                "#B0BEC5",
                "#B0BEC5",
                "#B0BEC5",
                "#B0BEC5",
                "#B0BEC5",
                "#B0BEC5",
                "#B0BEC5",
                "#B0BEC5",
                "#B0BEC5",
                "#B0BEC5",
                "#B0BEC5",
                "#B0BEC5",
                "#B0BEC5",
                "#B0BEC5",
                "#B0BEC5",
                "red",
                "#B0BEC5",
                "#B0BEC5",
                "#B0BEC5",
                "#B0BEC5",
                "#B0BEC5",
                "#B0BEC5",
                "#B0BEC5",
                "#B0BEC5",
                "#B0BEC5",
                "#B0BEC5",
                "#B0BEC5"
               ]
              ]
             }
            ],
            "label": "Topic 52",
            "method": "update"
           },
           {
            "args": [
             {
              "marker.color": [
               [
                "#B0BEC5",
                "#B0BEC5",
                "#B0BEC5",
                "#B0BEC5",
                "#B0BEC5",
                "#B0BEC5",
                "#B0BEC5",
                "#B0BEC5",
                "#B0BEC5",
                "#B0BEC5",
                "#B0BEC5",
                "#B0BEC5",
                "#B0BEC5",
                "#B0BEC5",
                "#B0BEC5",
                "#B0BEC5",
                "#B0BEC5",
                "#B0BEC5",
                "#B0BEC5",
                "#B0BEC5",
                "#B0BEC5",
                "#B0BEC5",
                "#B0BEC5",
                "#B0BEC5",
                "#B0BEC5",
                "#B0BEC5",
                "#B0BEC5",
                "#B0BEC5",
                "#B0BEC5",
                "#B0BEC5",
                "#B0BEC5",
                "#B0BEC5",
                "#B0BEC5",
                "#B0BEC5",
                "#B0BEC5",
                "#B0BEC5",
                "#B0BEC5",
                "#B0BEC5",
                "#B0BEC5",
                "#B0BEC5",
                "#B0BEC5",
                "#B0BEC5",
                "#B0BEC5",
                "#B0BEC5",
                "#B0BEC5",
                "#B0BEC5",
                "#B0BEC5",
                "#B0BEC5",
                "#B0BEC5",
                "#B0BEC5",
                "#B0BEC5",
                "#B0BEC5",
                "#B0BEC5",
                "red",
                "#B0BEC5",
                "#B0BEC5",
                "#B0BEC5",
                "#B0BEC5",
                "#B0BEC5",
                "#B0BEC5",
                "#B0BEC5",
                "#B0BEC5",
                "#B0BEC5",
                "#B0BEC5"
               ]
              ]
             }
            ],
            "label": "Topic 53",
            "method": "update"
           },
           {
            "args": [
             {
              "marker.color": [
               [
                "#B0BEC5",
                "#B0BEC5",
                "#B0BEC5",
                "#B0BEC5",
                "#B0BEC5",
                "#B0BEC5",
                "#B0BEC5",
                "#B0BEC5",
                "#B0BEC5",
                "#B0BEC5",
                "#B0BEC5",
                "#B0BEC5",
                "#B0BEC5",
                "#B0BEC5",
                "#B0BEC5",
                "#B0BEC5",
                "#B0BEC5",
                "#B0BEC5",
                "#B0BEC5",
                "#B0BEC5",
                "#B0BEC5",
                "#B0BEC5",
                "#B0BEC5",
                "#B0BEC5",
                "#B0BEC5",
                "#B0BEC5",
                "#B0BEC5",
                "#B0BEC5",
                "#B0BEC5",
                "#B0BEC5",
                "#B0BEC5",
                "#B0BEC5",
                "#B0BEC5",
                "#B0BEC5",
                "#B0BEC5",
                "#B0BEC5",
                "#B0BEC5",
                "#B0BEC5",
                "#B0BEC5",
                "#B0BEC5",
                "#B0BEC5",
                "#B0BEC5",
                "#B0BEC5",
                "#B0BEC5",
                "#B0BEC5",
                "#B0BEC5",
                "#B0BEC5",
                "#B0BEC5",
                "#B0BEC5",
                "#B0BEC5",
                "#B0BEC5",
                "#B0BEC5",
                "#B0BEC5",
                "#B0BEC5",
                "red",
                "#B0BEC5",
                "#B0BEC5",
                "#B0BEC5",
                "#B0BEC5",
                "#B0BEC5",
                "#B0BEC5",
                "#B0BEC5",
                "#B0BEC5",
                "#B0BEC5"
               ]
              ]
             }
            ],
            "label": "Topic 54",
            "method": "update"
           },
           {
            "args": [
             {
              "marker.color": [
               [
                "#B0BEC5",
                "#B0BEC5",
                "#B0BEC5",
                "#B0BEC5",
                "#B0BEC5",
                "#B0BEC5",
                "#B0BEC5",
                "#B0BEC5",
                "#B0BEC5",
                "#B0BEC5",
                "#B0BEC5",
                "#B0BEC5",
                "#B0BEC5",
                "#B0BEC5",
                "#B0BEC5",
                "#B0BEC5",
                "#B0BEC5",
                "#B0BEC5",
                "#B0BEC5",
                "#B0BEC5",
                "#B0BEC5",
                "#B0BEC5",
                "#B0BEC5",
                "#B0BEC5",
                "#B0BEC5",
                "#B0BEC5",
                "#B0BEC5",
                "#B0BEC5",
                "#B0BEC5",
                "#B0BEC5",
                "#B0BEC5",
                "#B0BEC5",
                "#B0BEC5",
                "#B0BEC5",
                "#B0BEC5",
                "#B0BEC5",
                "#B0BEC5",
                "#B0BEC5",
                "#B0BEC5",
                "#B0BEC5",
                "#B0BEC5",
                "#B0BEC5",
                "#B0BEC5",
                "#B0BEC5",
                "#B0BEC5",
                "#B0BEC5",
                "#B0BEC5",
                "#B0BEC5",
                "#B0BEC5",
                "#B0BEC5",
                "#B0BEC5",
                "#B0BEC5",
                "#B0BEC5",
                "#B0BEC5",
                "#B0BEC5",
                "red",
                "#B0BEC5",
                "#B0BEC5",
                "#B0BEC5",
                "#B0BEC5",
                "#B0BEC5",
                "#B0BEC5",
                "#B0BEC5",
                "#B0BEC5"
               ]
              ]
             }
            ],
            "label": "Topic 55",
            "method": "update"
           },
           {
            "args": [
             {
              "marker.color": [
               [
                "#B0BEC5",
                "#B0BEC5",
                "#B0BEC5",
                "#B0BEC5",
                "#B0BEC5",
                "#B0BEC5",
                "#B0BEC5",
                "#B0BEC5",
                "#B0BEC5",
                "#B0BEC5",
                "#B0BEC5",
                "#B0BEC5",
                "#B0BEC5",
                "#B0BEC5",
                "#B0BEC5",
                "#B0BEC5",
                "#B0BEC5",
                "#B0BEC5",
                "#B0BEC5",
                "#B0BEC5",
                "#B0BEC5",
                "#B0BEC5",
                "#B0BEC5",
                "#B0BEC5",
                "#B0BEC5",
                "#B0BEC5",
                "#B0BEC5",
                "#B0BEC5",
                "#B0BEC5",
                "#B0BEC5",
                "#B0BEC5",
                "#B0BEC5",
                "#B0BEC5",
                "#B0BEC5",
                "#B0BEC5",
                "#B0BEC5",
                "#B0BEC5",
                "#B0BEC5",
                "#B0BEC5",
                "#B0BEC5",
                "#B0BEC5",
                "#B0BEC5",
                "#B0BEC5",
                "#B0BEC5",
                "#B0BEC5",
                "#B0BEC5",
                "#B0BEC5",
                "#B0BEC5",
                "#B0BEC5",
                "#B0BEC5",
                "#B0BEC5",
                "#B0BEC5",
                "#B0BEC5",
                "#B0BEC5",
                "#B0BEC5",
                "#B0BEC5",
                "red",
                "#B0BEC5",
                "#B0BEC5",
                "#B0BEC5",
                "#B0BEC5",
                "#B0BEC5",
                "#B0BEC5",
                "#B0BEC5"
               ]
              ]
             }
            ],
            "label": "Topic 56",
            "method": "update"
           },
           {
            "args": [
             {
              "marker.color": [
               [
                "#B0BEC5",
                "#B0BEC5",
                "#B0BEC5",
                "#B0BEC5",
                "#B0BEC5",
                "#B0BEC5",
                "#B0BEC5",
                "#B0BEC5",
                "#B0BEC5",
                "#B0BEC5",
                "#B0BEC5",
                "#B0BEC5",
                "#B0BEC5",
                "#B0BEC5",
                "#B0BEC5",
                "#B0BEC5",
                "#B0BEC5",
                "#B0BEC5",
                "#B0BEC5",
                "#B0BEC5",
                "#B0BEC5",
                "#B0BEC5",
                "#B0BEC5",
                "#B0BEC5",
                "#B0BEC5",
                "#B0BEC5",
                "#B0BEC5",
                "#B0BEC5",
                "#B0BEC5",
                "#B0BEC5",
                "#B0BEC5",
                "#B0BEC5",
                "#B0BEC5",
                "#B0BEC5",
                "#B0BEC5",
                "#B0BEC5",
                "#B0BEC5",
                "#B0BEC5",
                "#B0BEC5",
                "#B0BEC5",
                "#B0BEC5",
                "#B0BEC5",
                "#B0BEC5",
                "#B0BEC5",
                "#B0BEC5",
                "#B0BEC5",
                "#B0BEC5",
                "#B0BEC5",
                "#B0BEC5",
                "#B0BEC5",
                "#B0BEC5",
                "#B0BEC5",
                "#B0BEC5",
                "#B0BEC5",
                "#B0BEC5",
                "#B0BEC5",
                "#B0BEC5",
                "red",
                "#B0BEC5",
                "#B0BEC5",
                "#B0BEC5",
                "#B0BEC5",
                "#B0BEC5",
                "#B0BEC5"
               ]
              ]
             }
            ],
            "label": "Topic 57",
            "method": "update"
           },
           {
            "args": [
             {
              "marker.color": [
               [
                "#B0BEC5",
                "#B0BEC5",
                "#B0BEC5",
                "#B0BEC5",
                "#B0BEC5",
                "#B0BEC5",
                "#B0BEC5",
                "#B0BEC5",
                "#B0BEC5",
                "#B0BEC5",
                "#B0BEC5",
                "#B0BEC5",
                "#B0BEC5",
                "#B0BEC5",
                "#B0BEC5",
                "#B0BEC5",
                "#B0BEC5",
                "#B0BEC5",
                "#B0BEC5",
                "#B0BEC5",
                "#B0BEC5",
                "#B0BEC5",
                "#B0BEC5",
                "#B0BEC5",
                "#B0BEC5",
                "#B0BEC5",
                "#B0BEC5",
                "#B0BEC5",
                "#B0BEC5",
                "#B0BEC5",
                "#B0BEC5",
                "#B0BEC5",
                "#B0BEC5",
                "#B0BEC5",
                "#B0BEC5",
                "#B0BEC5",
                "#B0BEC5",
                "#B0BEC5",
                "#B0BEC5",
                "#B0BEC5",
                "#B0BEC5",
                "#B0BEC5",
                "#B0BEC5",
                "#B0BEC5",
                "#B0BEC5",
                "#B0BEC5",
                "#B0BEC5",
                "#B0BEC5",
                "#B0BEC5",
                "#B0BEC5",
                "#B0BEC5",
                "#B0BEC5",
                "#B0BEC5",
                "#B0BEC5",
                "#B0BEC5",
                "#B0BEC5",
                "#B0BEC5",
                "#B0BEC5",
                "red",
                "#B0BEC5",
                "#B0BEC5",
                "#B0BEC5",
                "#B0BEC5",
                "#B0BEC5"
               ]
              ]
             }
            ],
            "label": "Topic 58",
            "method": "update"
           },
           {
            "args": [
             {
              "marker.color": [
               [
                "#B0BEC5",
                "#B0BEC5",
                "#B0BEC5",
                "#B0BEC5",
                "#B0BEC5",
                "#B0BEC5",
                "#B0BEC5",
                "#B0BEC5",
                "#B0BEC5",
                "#B0BEC5",
                "#B0BEC5",
                "#B0BEC5",
                "#B0BEC5",
                "#B0BEC5",
                "#B0BEC5",
                "#B0BEC5",
                "#B0BEC5",
                "#B0BEC5",
                "#B0BEC5",
                "#B0BEC5",
                "#B0BEC5",
                "#B0BEC5",
                "#B0BEC5",
                "#B0BEC5",
                "#B0BEC5",
                "#B0BEC5",
                "#B0BEC5",
                "#B0BEC5",
                "#B0BEC5",
                "#B0BEC5",
                "#B0BEC5",
                "#B0BEC5",
                "#B0BEC5",
                "#B0BEC5",
                "#B0BEC5",
                "#B0BEC5",
                "#B0BEC5",
                "#B0BEC5",
                "#B0BEC5",
                "#B0BEC5",
                "#B0BEC5",
                "#B0BEC5",
                "#B0BEC5",
                "#B0BEC5",
                "#B0BEC5",
                "#B0BEC5",
                "#B0BEC5",
                "#B0BEC5",
                "#B0BEC5",
                "#B0BEC5",
                "#B0BEC5",
                "#B0BEC5",
                "#B0BEC5",
                "#B0BEC5",
                "#B0BEC5",
                "#B0BEC5",
                "#B0BEC5",
                "#B0BEC5",
                "#B0BEC5",
                "red",
                "#B0BEC5",
                "#B0BEC5",
                "#B0BEC5",
                "#B0BEC5"
               ]
              ]
             }
            ],
            "label": "Topic 59",
            "method": "update"
           },
           {
            "args": [
             {
              "marker.color": [
               [
                "#B0BEC5",
                "#B0BEC5",
                "#B0BEC5",
                "#B0BEC5",
                "#B0BEC5",
                "#B0BEC5",
                "#B0BEC5",
                "#B0BEC5",
                "#B0BEC5",
                "#B0BEC5",
                "#B0BEC5",
                "#B0BEC5",
                "#B0BEC5",
                "#B0BEC5",
                "#B0BEC5",
                "#B0BEC5",
                "#B0BEC5",
                "#B0BEC5",
                "#B0BEC5",
                "#B0BEC5",
                "#B0BEC5",
                "#B0BEC5",
                "#B0BEC5",
                "#B0BEC5",
                "#B0BEC5",
                "#B0BEC5",
                "#B0BEC5",
                "#B0BEC5",
                "#B0BEC5",
                "#B0BEC5",
                "#B0BEC5",
                "#B0BEC5",
                "#B0BEC5",
                "#B0BEC5",
                "#B0BEC5",
                "#B0BEC5",
                "#B0BEC5",
                "#B0BEC5",
                "#B0BEC5",
                "#B0BEC5",
                "#B0BEC5",
                "#B0BEC5",
                "#B0BEC5",
                "#B0BEC5",
                "#B0BEC5",
                "#B0BEC5",
                "#B0BEC5",
                "#B0BEC5",
                "#B0BEC5",
                "#B0BEC5",
                "#B0BEC5",
                "#B0BEC5",
                "#B0BEC5",
                "#B0BEC5",
                "#B0BEC5",
                "#B0BEC5",
                "#B0BEC5",
                "#B0BEC5",
                "#B0BEC5",
                "#B0BEC5",
                "red",
                "#B0BEC5",
                "#B0BEC5",
                "#B0BEC5"
               ]
              ]
             }
            ],
            "label": "Topic 60",
            "method": "update"
           },
           {
            "args": [
             {
              "marker.color": [
               [
                "#B0BEC5",
                "#B0BEC5",
                "#B0BEC5",
                "#B0BEC5",
                "#B0BEC5",
                "#B0BEC5",
                "#B0BEC5",
                "#B0BEC5",
                "#B0BEC5",
                "#B0BEC5",
                "#B0BEC5",
                "#B0BEC5",
                "#B0BEC5",
                "#B0BEC5",
                "#B0BEC5",
                "#B0BEC5",
                "#B0BEC5",
                "#B0BEC5",
                "#B0BEC5",
                "#B0BEC5",
                "#B0BEC5",
                "#B0BEC5",
                "#B0BEC5",
                "#B0BEC5",
                "#B0BEC5",
                "#B0BEC5",
                "#B0BEC5",
                "#B0BEC5",
                "#B0BEC5",
                "#B0BEC5",
                "#B0BEC5",
                "#B0BEC5",
                "#B0BEC5",
                "#B0BEC5",
                "#B0BEC5",
                "#B0BEC5",
                "#B0BEC5",
                "#B0BEC5",
                "#B0BEC5",
                "#B0BEC5",
                "#B0BEC5",
                "#B0BEC5",
                "#B0BEC5",
                "#B0BEC5",
                "#B0BEC5",
                "#B0BEC5",
                "#B0BEC5",
                "#B0BEC5",
                "#B0BEC5",
                "#B0BEC5",
                "#B0BEC5",
                "#B0BEC5",
                "#B0BEC5",
                "#B0BEC5",
                "#B0BEC5",
                "#B0BEC5",
                "#B0BEC5",
                "#B0BEC5",
                "#B0BEC5",
                "#B0BEC5",
                "#B0BEC5",
                "red",
                "#B0BEC5",
                "#B0BEC5"
               ]
              ]
             }
            ],
            "label": "Topic 61",
            "method": "update"
           },
           {
            "args": [
             {
              "marker.color": [
               [
                "#B0BEC5",
                "#B0BEC5",
                "#B0BEC5",
                "#B0BEC5",
                "#B0BEC5",
                "#B0BEC5",
                "#B0BEC5",
                "#B0BEC5",
                "#B0BEC5",
                "#B0BEC5",
                "#B0BEC5",
                "#B0BEC5",
                "#B0BEC5",
                "#B0BEC5",
                "#B0BEC5",
                "#B0BEC5",
                "#B0BEC5",
                "#B0BEC5",
                "#B0BEC5",
                "#B0BEC5",
                "#B0BEC5",
                "#B0BEC5",
                "#B0BEC5",
                "#B0BEC5",
                "#B0BEC5",
                "#B0BEC5",
                "#B0BEC5",
                "#B0BEC5",
                "#B0BEC5",
                "#B0BEC5",
                "#B0BEC5",
                "#B0BEC5",
                "#B0BEC5",
                "#B0BEC5",
                "#B0BEC5",
                "#B0BEC5",
                "#B0BEC5",
                "#B0BEC5",
                "#B0BEC5",
                "#B0BEC5",
                "#B0BEC5",
                "#B0BEC5",
                "#B0BEC5",
                "#B0BEC5",
                "#B0BEC5",
                "#B0BEC5",
                "#B0BEC5",
                "#B0BEC5",
                "#B0BEC5",
                "#B0BEC5",
                "#B0BEC5",
                "#B0BEC5",
                "#B0BEC5",
                "#B0BEC5",
                "#B0BEC5",
                "#B0BEC5",
                "#B0BEC5",
                "#B0BEC5",
                "#B0BEC5",
                "#B0BEC5",
                "#B0BEC5",
                "#B0BEC5",
                "red",
                "#B0BEC5"
               ]
              ]
             }
            ],
            "label": "Topic 62",
            "method": "update"
           },
           {
            "args": [
             {
              "marker.color": [
               [
                "#B0BEC5",
                "#B0BEC5",
                "#B0BEC5",
                "#B0BEC5",
                "#B0BEC5",
                "#B0BEC5",
                "#B0BEC5",
                "#B0BEC5",
                "#B0BEC5",
                "#B0BEC5",
                "#B0BEC5",
                "#B0BEC5",
                "#B0BEC5",
                "#B0BEC5",
                "#B0BEC5",
                "#B0BEC5",
                "#B0BEC5",
                "#B0BEC5",
                "#B0BEC5",
                "#B0BEC5",
                "#B0BEC5",
                "#B0BEC5",
                "#B0BEC5",
                "#B0BEC5",
                "#B0BEC5",
                "#B0BEC5",
                "#B0BEC5",
                "#B0BEC5",
                "#B0BEC5",
                "#B0BEC5",
                "#B0BEC5",
                "#B0BEC5",
                "#B0BEC5",
                "#B0BEC5",
                "#B0BEC5",
                "#B0BEC5",
                "#B0BEC5",
                "#B0BEC5",
                "#B0BEC5",
                "#B0BEC5",
                "#B0BEC5",
                "#B0BEC5",
                "#B0BEC5",
                "#B0BEC5",
                "#B0BEC5",
                "#B0BEC5",
                "#B0BEC5",
                "#B0BEC5",
                "#B0BEC5",
                "#B0BEC5",
                "#B0BEC5",
                "#B0BEC5",
                "#B0BEC5",
                "#B0BEC5",
                "#B0BEC5",
                "#B0BEC5",
                "#B0BEC5",
                "#B0BEC5",
                "#B0BEC5",
                "#B0BEC5",
                "#B0BEC5",
                "#B0BEC5",
                "#B0BEC5",
                "red"
               ]
              ]
             }
            ],
            "label": "Topic 63",
            "method": "update"
           }
          ]
         }
        ],
        "template": {
         "data": {
          "bar": [
           {
            "error_x": {
             "color": "rgb(36,36,36)"
            },
            "error_y": {
             "color": "rgb(36,36,36)"
            },
            "marker": {
             "line": {
              "color": "white",
              "width": 0.5
             },
             "pattern": {
              "fillmode": "overlay",
              "size": 10,
              "solidity": 0.2
             }
            },
            "type": "bar"
           }
          ],
          "barpolar": [
           {
            "marker": {
             "line": {
              "color": "white",
              "width": 0.5
             },
             "pattern": {
              "fillmode": "overlay",
              "size": 10,
              "solidity": 0.2
             }
            },
            "type": "barpolar"
           }
          ],
          "carpet": [
           {
            "aaxis": {
             "endlinecolor": "rgb(36,36,36)",
             "gridcolor": "white",
             "linecolor": "white",
             "minorgridcolor": "white",
             "startlinecolor": "rgb(36,36,36)"
            },
            "baxis": {
             "endlinecolor": "rgb(36,36,36)",
             "gridcolor": "white",
             "linecolor": "white",
             "minorgridcolor": "white",
             "startlinecolor": "rgb(36,36,36)"
            },
            "type": "carpet"
           }
          ],
          "choropleth": [
           {
            "colorbar": {
             "outlinewidth": 1,
             "tickcolor": "rgb(36,36,36)",
             "ticks": "outside"
            },
            "type": "choropleth"
           }
          ],
          "contour": [
           {
            "colorbar": {
             "outlinewidth": 1,
             "tickcolor": "rgb(36,36,36)",
             "ticks": "outside"
            },
            "colorscale": [
             [
              0,
              "#440154"
             ],
             [
              0.1111111111111111,
              "#482878"
             ],
             [
              0.2222222222222222,
              "#3e4989"
             ],
             [
              0.3333333333333333,
              "#31688e"
             ],
             [
              0.4444444444444444,
              "#26828e"
             ],
             [
              0.5555555555555556,
              "#1f9e89"
             ],
             [
              0.6666666666666666,
              "#35b779"
             ],
             [
              0.7777777777777778,
              "#6ece58"
             ],
             [
              0.8888888888888888,
              "#b5de2b"
             ],
             [
              1,
              "#fde725"
             ]
            ],
            "type": "contour"
           }
          ],
          "contourcarpet": [
           {
            "colorbar": {
             "outlinewidth": 1,
             "tickcolor": "rgb(36,36,36)",
             "ticks": "outside"
            },
            "type": "contourcarpet"
           }
          ],
          "heatmap": [
           {
            "colorbar": {
             "outlinewidth": 1,
             "tickcolor": "rgb(36,36,36)",
             "ticks": "outside"
            },
            "colorscale": [
             [
              0,
              "#440154"
             ],
             [
              0.1111111111111111,
              "#482878"
             ],
             [
              0.2222222222222222,
              "#3e4989"
             ],
             [
              0.3333333333333333,
              "#31688e"
             ],
             [
              0.4444444444444444,
              "#26828e"
             ],
             [
              0.5555555555555556,
              "#1f9e89"
             ],
             [
              0.6666666666666666,
              "#35b779"
             ],
             [
              0.7777777777777778,
              "#6ece58"
             ],
             [
              0.8888888888888888,
              "#b5de2b"
             ],
             [
              1,
              "#fde725"
             ]
            ],
            "type": "heatmap"
           }
          ],
          "heatmapgl": [
           {
            "colorbar": {
             "outlinewidth": 1,
             "tickcolor": "rgb(36,36,36)",
             "ticks": "outside"
            },
            "colorscale": [
             [
              0,
              "#440154"
             ],
             [
              0.1111111111111111,
              "#482878"
             ],
             [
              0.2222222222222222,
              "#3e4989"
             ],
             [
              0.3333333333333333,
              "#31688e"
             ],
             [
              0.4444444444444444,
              "#26828e"
             ],
             [
              0.5555555555555556,
              "#1f9e89"
             ],
             [
              0.6666666666666666,
              "#35b779"
             ],
             [
              0.7777777777777778,
              "#6ece58"
             ],
             [
              0.8888888888888888,
              "#b5de2b"
             ],
             [
              1,
              "#fde725"
             ]
            ],
            "type": "heatmapgl"
           }
          ],
          "histogram": [
           {
            "marker": {
             "line": {
              "color": "white",
              "width": 0.6
             }
            },
            "type": "histogram"
           }
          ],
          "histogram2d": [
           {
            "colorbar": {
             "outlinewidth": 1,
             "tickcolor": "rgb(36,36,36)",
             "ticks": "outside"
            },
            "colorscale": [
             [
              0,
              "#440154"
             ],
             [
              0.1111111111111111,
              "#482878"
             ],
             [
              0.2222222222222222,
              "#3e4989"
             ],
             [
              0.3333333333333333,
              "#31688e"
             ],
             [
              0.4444444444444444,
              "#26828e"
             ],
             [
              0.5555555555555556,
              "#1f9e89"
             ],
             [
              0.6666666666666666,
              "#35b779"
             ],
             [
              0.7777777777777778,
              "#6ece58"
             ],
             [
              0.8888888888888888,
              "#b5de2b"
             ],
             [
              1,
              "#fde725"
             ]
            ],
            "type": "histogram2d"
           }
          ],
          "histogram2dcontour": [
           {
            "colorbar": {
             "outlinewidth": 1,
             "tickcolor": "rgb(36,36,36)",
             "ticks": "outside"
            },
            "colorscale": [
             [
              0,
              "#440154"
             ],
             [
              0.1111111111111111,
              "#482878"
             ],
             [
              0.2222222222222222,
              "#3e4989"
             ],
             [
              0.3333333333333333,
              "#31688e"
             ],
             [
              0.4444444444444444,
              "#26828e"
             ],
             [
              0.5555555555555556,
              "#1f9e89"
             ],
             [
              0.6666666666666666,
              "#35b779"
             ],
             [
              0.7777777777777778,
              "#6ece58"
             ],
             [
              0.8888888888888888,
              "#b5de2b"
             ],
             [
              1,
              "#fde725"
             ]
            ],
            "type": "histogram2dcontour"
           }
          ],
          "mesh3d": [
           {
            "colorbar": {
             "outlinewidth": 1,
             "tickcolor": "rgb(36,36,36)",
             "ticks": "outside"
            },
            "type": "mesh3d"
           }
          ],
          "parcoords": [
           {
            "line": {
             "colorbar": {
              "outlinewidth": 1,
              "tickcolor": "rgb(36,36,36)",
              "ticks": "outside"
             }
            },
            "type": "parcoords"
           }
          ],
          "pie": [
           {
            "automargin": true,
            "type": "pie"
           }
          ],
          "scatter": [
           {
            "fillpattern": {
             "fillmode": "overlay",
             "size": 10,
             "solidity": 0.2
            },
            "type": "scatter"
           }
          ],
          "scatter3d": [
           {
            "line": {
             "colorbar": {
              "outlinewidth": 1,
              "tickcolor": "rgb(36,36,36)",
              "ticks": "outside"
             }
            },
            "marker": {
             "colorbar": {
              "outlinewidth": 1,
              "tickcolor": "rgb(36,36,36)",
              "ticks": "outside"
             }
            },
            "type": "scatter3d"
           }
          ],
          "scattercarpet": [
           {
            "marker": {
             "colorbar": {
              "outlinewidth": 1,
              "tickcolor": "rgb(36,36,36)",
              "ticks": "outside"
             }
            },
            "type": "scattercarpet"
           }
          ],
          "scattergeo": [
           {
            "marker": {
             "colorbar": {
              "outlinewidth": 1,
              "tickcolor": "rgb(36,36,36)",
              "ticks": "outside"
             }
            },
            "type": "scattergeo"
           }
          ],
          "scattergl": [
           {
            "marker": {
             "colorbar": {
              "outlinewidth": 1,
              "tickcolor": "rgb(36,36,36)",
              "ticks": "outside"
             }
            },
            "type": "scattergl"
           }
          ],
          "scattermapbox": [
           {
            "marker": {
             "colorbar": {
              "outlinewidth": 1,
              "tickcolor": "rgb(36,36,36)",
              "ticks": "outside"
             }
            },
            "type": "scattermapbox"
           }
          ],
          "scatterpolar": [
           {
            "marker": {
             "colorbar": {
              "outlinewidth": 1,
              "tickcolor": "rgb(36,36,36)",
              "ticks": "outside"
             }
            },
            "type": "scatterpolar"
           }
          ],
          "scatterpolargl": [
           {
            "marker": {
             "colorbar": {
              "outlinewidth": 1,
              "tickcolor": "rgb(36,36,36)",
              "ticks": "outside"
             }
            },
            "type": "scatterpolargl"
           }
          ],
          "scatterternary": [
           {
            "marker": {
             "colorbar": {
              "outlinewidth": 1,
              "tickcolor": "rgb(36,36,36)",
              "ticks": "outside"
             }
            },
            "type": "scatterternary"
           }
          ],
          "surface": [
           {
            "colorbar": {
             "outlinewidth": 1,
             "tickcolor": "rgb(36,36,36)",
             "ticks": "outside"
            },
            "colorscale": [
             [
              0,
              "#440154"
             ],
             [
              0.1111111111111111,
              "#482878"
             ],
             [
              0.2222222222222222,
              "#3e4989"
             ],
             [
              0.3333333333333333,
              "#31688e"
             ],
             [
              0.4444444444444444,
              "#26828e"
             ],
             [
              0.5555555555555556,
              "#1f9e89"
             ],
             [
              0.6666666666666666,
              "#35b779"
             ],
             [
              0.7777777777777778,
              "#6ece58"
             ],
             [
              0.8888888888888888,
              "#b5de2b"
             ],
             [
              1,
              "#fde725"
             ]
            ],
            "type": "surface"
           }
          ],
          "table": [
           {
            "cells": {
             "fill": {
              "color": "rgb(237,237,237)"
             },
             "line": {
              "color": "white"
             }
            },
            "header": {
             "fill": {
              "color": "rgb(217,217,217)"
             },
             "line": {
              "color": "white"
             }
            },
            "type": "table"
           }
          ]
         },
         "layout": {
          "annotationdefaults": {
           "arrowhead": 0,
           "arrowwidth": 1
          },
          "autotypenumbers": "strict",
          "coloraxis": {
           "colorbar": {
            "outlinewidth": 1,
            "tickcolor": "rgb(36,36,36)",
            "ticks": "outside"
           }
          },
          "colorscale": {
           "diverging": [
            [
             0,
             "rgb(103,0,31)"
            ],
            [
             0.1,
             "rgb(178,24,43)"
            ],
            [
             0.2,
             "rgb(214,96,77)"
            ],
            [
             0.3,
             "rgb(244,165,130)"
            ],
            [
             0.4,
             "rgb(253,219,199)"
            ],
            [
             0.5,
             "rgb(247,247,247)"
            ],
            [
             0.6,
             "rgb(209,229,240)"
            ],
            [
             0.7,
             "rgb(146,197,222)"
            ],
            [
             0.8,
             "rgb(67,147,195)"
            ],
            [
             0.9,
             "rgb(33,102,172)"
            ],
            [
             1,
             "rgb(5,48,97)"
            ]
           ],
           "sequential": [
            [
             0,
             "#440154"
            ],
            [
             0.1111111111111111,
             "#482878"
            ],
            [
             0.2222222222222222,
             "#3e4989"
            ],
            [
             0.3333333333333333,
             "#31688e"
            ],
            [
             0.4444444444444444,
             "#26828e"
            ],
            [
             0.5555555555555556,
             "#1f9e89"
            ],
            [
             0.6666666666666666,
             "#35b779"
            ],
            [
             0.7777777777777778,
             "#6ece58"
            ],
            [
             0.8888888888888888,
             "#b5de2b"
            ],
            [
             1,
             "#fde725"
            ]
           ],
           "sequentialminus": [
            [
             0,
             "#440154"
            ],
            [
             0.1111111111111111,
             "#482878"
            ],
            [
             0.2222222222222222,
             "#3e4989"
            ],
            [
             0.3333333333333333,
             "#31688e"
            ],
            [
             0.4444444444444444,
             "#26828e"
            ],
            [
             0.5555555555555556,
             "#1f9e89"
            ],
            [
             0.6666666666666666,
             "#35b779"
            ],
            [
             0.7777777777777778,
             "#6ece58"
            ],
            [
             0.8888888888888888,
             "#b5de2b"
            ],
            [
             1,
             "#fde725"
            ]
           ]
          },
          "colorway": [
           "#1F77B4",
           "#FF7F0E",
           "#2CA02C",
           "#D62728",
           "#9467BD",
           "#8C564B",
           "#E377C2",
           "#7F7F7F",
           "#BCBD22",
           "#17BECF"
          ],
          "font": {
           "color": "rgb(36,36,36)"
          },
          "geo": {
           "bgcolor": "white",
           "lakecolor": "white",
           "landcolor": "white",
           "showlakes": true,
           "showland": true,
           "subunitcolor": "white"
          },
          "hoverlabel": {
           "align": "left"
          },
          "hovermode": "closest",
          "mapbox": {
           "style": "light"
          },
          "paper_bgcolor": "white",
          "plot_bgcolor": "white",
          "polar": {
           "angularaxis": {
            "gridcolor": "rgb(232,232,232)",
            "linecolor": "rgb(36,36,36)",
            "showgrid": false,
            "showline": true,
            "ticks": "outside"
           },
           "bgcolor": "white",
           "radialaxis": {
            "gridcolor": "rgb(232,232,232)",
            "linecolor": "rgb(36,36,36)",
            "showgrid": false,
            "showline": true,
            "ticks": "outside"
           }
          },
          "scene": {
           "xaxis": {
            "backgroundcolor": "white",
            "gridcolor": "rgb(232,232,232)",
            "gridwidth": 2,
            "linecolor": "rgb(36,36,36)",
            "showbackground": true,
            "showgrid": false,
            "showline": true,
            "ticks": "outside",
            "zeroline": false,
            "zerolinecolor": "rgb(36,36,36)"
           },
           "yaxis": {
            "backgroundcolor": "white",
            "gridcolor": "rgb(232,232,232)",
            "gridwidth": 2,
            "linecolor": "rgb(36,36,36)",
            "showbackground": true,
            "showgrid": false,
            "showline": true,
            "ticks": "outside",
            "zeroline": false,
            "zerolinecolor": "rgb(36,36,36)"
           },
           "zaxis": {
            "backgroundcolor": "white",
            "gridcolor": "rgb(232,232,232)",
            "gridwidth": 2,
            "linecolor": "rgb(36,36,36)",
            "showbackground": true,
            "showgrid": false,
            "showline": true,
            "ticks": "outside",
            "zeroline": false,
            "zerolinecolor": "rgb(36,36,36)"
           }
          },
          "shapedefaults": {
           "fillcolor": "black",
           "line": {
            "width": 0
           },
           "opacity": 0.3
          },
          "ternary": {
           "aaxis": {
            "gridcolor": "rgb(232,232,232)",
            "linecolor": "rgb(36,36,36)",
            "showgrid": false,
            "showline": true,
            "ticks": "outside"
           },
           "baxis": {
            "gridcolor": "rgb(232,232,232)",
            "linecolor": "rgb(36,36,36)",
            "showgrid": false,
            "showline": true,
            "ticks": "outside"
           },
           "bgcolor": "white",
           "caxis": {
            "gridcolor": "rgb(232,232,232)",
            "linecolor": "rgb(36,36,36)",
            "showgrid": false,
            "showline": true,
            "ticks": "outside"
           }
          },
          "title": {
           "x": 0.05
          },
          "xaxis": {
           "automargin": true,
           "gridcolor": "rgb(232,232,232)",
           "linecolor": "rgb(36,36,36)",
           "showgrid": false,
           "showline": true,
           "ticks": "outside",
           "title": {
            "standoff": 15
           },
           "zeroline": false,
           "zerolinecolor": "rgb(36,36,36)"
          },
          "yaxis": {
           "automargin": true,
           "gridcolor": "rgb(232,232,232)",
           "linecolor": "rgb(36,36,36)",
           "showgrid": false,
           "showline": true,
           "ticks": "outside",
           "title": {
            "standoff": 15
           },
           "zeroline": false,
           "zerolinecolor": "rgb(36,36,36)"
          }
         }
        },
        "title": {
         "font": {
          "color": "Black",
          "size": 22
         },
         "text": "<b>Intertopic Distance Map",
         "x": 0.5,
         "xanchor": "center",
         "y": 0.95,
         "yanchor": "top"
        },
        "width": 650,
        "xaxis": {
         "anchor": "y",
         "domain": [
          0,
          1
         ],
         "range": [
          -20.73905439376831,
          15.35419158935547
         ],
         "title": {
          "text": ""
         },
         "visible": false
        },
        "yaxis": {
         "anchor": "x",
         "domain": [
          0,
          1
         ],
         "range": [
          -16.36651635169983,
          11.16205062866211
         ],
         "title": {
          "text": ""
         },
         "visible": false
        }
       }
      },
      "text/html": [
       "<div>                            <div id=\"e1bc2f14-58a3-44a5-95f4-12e985428da2\" class=\"plotly-graph-div\" style=\"height:650px; width:650px;\"></div>            <script type=\"text/javascript\">                require([\"plotly\"], function(Plotly) {                    window.PLOTLYENV=window.PLOTLYENV || {};                                    if (document.getElementById(\"e1bc2f14-58a3-44a5-95f4-12e985428da2\")) {                    Plotly.newPlot(                        \"e1bc2f14-58a3-44a5-95f4-12e985428da2\",                        [{\"customdata\":[[0,\"evil | villain | good | hero | bad\",2587],[1,\"time | work | series | story | original\",1500],[2,\"language | words | word | character | english\",1473],[3,\"game | games | player | players | gameplay\",723],[4,\"wear | dress | clothes | wearing | clothing\",663],[5,\"death | dead | die | suicide | character\",602],[6,\"powers | power | magic | super | character\",567],[7,\"song | music | songs | musical | theme\",565],[8,\"animal | animals | dog | cats | pet\",543],[9,\"parents | parent | child | family | father\",521],[10,\"cop | police | crime | detective | law\",428],[11,\"love | relationship | couple | romantic | alice\",412],[12,\"light | darkness | sun | moon | weather\",383],[13,\"names | nickname | named | naming | character\",365],[14,\"food | eat | eating | meat | chef\",341],[15,\"god | religion | gods | church | religious\",335],[16,\"camera | animation | shot | used | film\",327],[17,\"age | child | children | old | kids\",315],[18,\"accent | black | white | minority | group\",307],[19,\"twins | twin | identity | identical | masquerade\",305],[20,\"item | macguffin | items | artifact | object\",300],[21,\"gender | female | male | women | girl\",271],[22,\"gun | guns | weapon | weapons | bullets\",267],[23,\"attack | damage | martial | hit | arts\",254],[24,\"weapon | sword | weapons | blade | swords\",249],[25,\"character | characters | cast | actor | bus\",223],[26,\"dream | dreams | sleep | bed | dreaming\",222],[27,\"blood | zombie | zombies | disease | sick\",216],[28,\"horror | puppet | fear | toy | toys\",207],[29,\"color | blue | red | colors | hair\",206],[30,\"elevator | falling | glass | jump | fall\",206],[31,\"product | commercial | products | commercials | ad\",206],[32,\"robot | robots | mecha | human | mechanical\",201],[33,\"aesop | smart | genius | character | guy\",201],[34,\"gesture | finger | hand | pose | head\",200],[35,\"sex | sexual | virgin | slut | men\",189],[36,\"money | rich | wealth | poor | class\",186],[37,\"drugs | alcohol | poison | drink | drug\",185],[38,\"title | titles | pun | work | noun\",168],[39,\"eyes | eye | smile | grin | character\",168],[40,\"school | teacher | schools | students | student\",164],[41,\"elemental | smoking | element | elements | water\",161],[42,\"metal | rock | bands | music | genre\",161],[43,\"car | vehicle | cars | driver | drive\",160],[44,\"ending | endings | twist | finale | series\",160],[45,\"actor | actors | celebrity | role | acting\",156],[46,\"humans | aliens | alien | human | humanity\",153],[47,\"water | fish | underwater | sea | drowning\",141],[48,\"hair | beard | hairstyle | haircut | bald\",139],[49,\"boss | game | difficulty | bosses | final\",138],[50,\"gay | yuri | straight | lesbian | lgbt\",138],[51,\"money | currency | coins | store | coin\",137],[52,\"baby | pregnancy | pregnant | child | egg\",135],[53,\"monster | bees | monsters | hive | bee\",130],[54,\"prison | escape | prisoners | prisoner | hostage\",128],[55,\"bomb | lava | explosion | explosions | explosive\",125],[56,\"transformation | shapeshifter | shapeshifting | form | human\",120],[57,\"friends | friend | friendship | hero | enemy\",118],[58,\"doctor | medical | heart | patient | healing\",117],[59,\"insanity | insane | mental | mad | sanity\",104],[60,\"ship | cool | tanks | space | aircraft\",101],[61,\"limbs | bones | body | handed | left\",101],[62,\"torture | trap | victim | traps | torturer\",100],[63,\"marriage | wedding | married | bride | arranged\",100]],\"hovertemplate\":\"<b>Topic %{customdata[0]}</b><br>Words: %{customdata[1]}<br>Size: %{customdata[2]}\",\"legendgroup\":\"\",\"marker\":{\"color\":\"#B0BEC5\",\"size\":[2587,1500,1473,723,663,602,567,565,543,521,428,412,383,365,341,335,327,315,307,305,300,271,267,254,249,223,222,216,207,206,206,206,201,201,200,189,186,185,168,168,164,161,161,160,160,156,153,141,139,138,138,137,135,130,128,125,120,118,117,104,101,101,100,100],\"sizemode\":\"area\",\"sizeref\":1.616875,\"symbol\":\"circle\",\"line\":{\"color\":\"DarkSlateGrey\",\"width\":2}},\"mode\":\"markers\",\"name\":\"\",\"orientation\":\"v\",\"showlegend\":false,\"x\":[-2.0462982654571533,-2.455601692199707,-2.298275947570801,-3.114588499069214,-17.949390411376953,7.789003372192383,-4.432224750518799,-2.4524893760681152,8.646345138549805,5.628018379211426,7.408107280731201,6.466100692749023,-4.217554569244385,-6.365384101867676,8.1309175491333,7.8993916511535645,-3.2577388286590576,5.1449995040893555,-17.320316314697266,-4.593034744262695,-4.386378288269043,-17.588655471801758,13.074725151062012,-5.79715633392334,13.257139205932617,-5.849339008331299,7.511734485626221,7.957060813903809,7.804825305938721,-17.553007125854492,-6.026442050933838,-3.1828012466430664,-3.6568973064422607,-4.172022342681885,-5.974921226501465,6.1719746589660645,5.473987579345703,8.117960929870605,-6.199929237365723,-4.300563812255859,5.023240089416504,-4.190185070037842,-2.4994280338287354,-6.047487258911133,-6.02500057220459,-5.695711612701416,-3.7150700092315674,-6.139328956604004,-18.033960342407227,-5.898418426513672,-17.638042449951172,-4.41235876083374,5.48342227935791,8.797237396240234,8.23052978515625,13.351470947265625,-4.683803081512451,6.30398416519165,7.9318928718566895,7.550876140594482,13.005489349365234,-3.5836551189422607,8.296895027160645,6.5509033203125],\"xaxis\":\"x\",\"y\":[8.973546028137207,8.919089317321777,8.884322166442871,8.207521438598633,0.8764419555664062,-10.299822807312012,5.556556224822998,9.515344619750977,-10.659472465515137,-10.664586067199707,-10.647320747375488,-10.788961410522461,6.4139556884765625,-14.2317533493042,5.481619834899902,-10.388110160827637,8.099595069885254,-10.494153022766113,0.2359640896320343,5.7070512771606445,4.965114593505859,0.5044164657592773,9.637205123901367,5.608444690704346,9.454742431640625,-13.715523719787598,-10.32160472869873,-10.849773406982422,-10.791580200195312,0.46819472312927246,5.129586219787598,8.143244743347168,5.494773864746094,5.782073974609375,5.664735317230225,-10.494904518127441,-10.696301460266113,5.469139575958252,-14.066242218017578,6.323015213012695,-10.3939208984375,6.466364860534668,9.652192115783691,4.995264530181885,-13.891212463378906,-13.561869621276855,5.531027317047119,5.078403472900391,0.962750256061554,5.552257537841797,0.5526115894317627,4.87453556060791,-10.85869312286377,-10.571730613708496,-10.218124389648438,9.360246658325195,5.7072906494140625,-10.638105392456055,-10.685956954956055,-10.455394744873047,9.706130981445312,5.419093132019043,-10.132824897766113,-10.897443771362305],\"yaxis\":\"y\",\"type\":\"scatter\"}],                        {\"template\":{\"data\":{\"barpolar\":[{\"marker\":{\"line\":{\"color\":\"white\",\"width\":0.5},\"pattern\":{\"fillmode\":\"overlay\",\"size\":10,\"solidity\":0.2}},\"type\":\"barpolar\"}],\"bar\":[{\"error_x\":{\"color\":\"rgb(36,36,36)\"},\"error_y\":{\"color\":\"rgb(36,36,36)\"},\"marker\":{\"line\":{\"color\":\"white\",\"width\":0.5},\"pattern\":{\"fillmode\":\"overlay\",\"size\":10,\"solidity\":0.2}},\"type\":\"bar\"}],\"carpet\":[{\"aaxis\":{\"endlinecolor\":\"rgb(36,36,36)\",\"gridcolor\":\"white\",\"linecolor\":\"white\",\"minorgridcolor\":\"white\",\"startlinecolor\":\"rgb(36,36,36)\"},\"baxis\":{\"endlinecolor\":\"rgb(36,36,36)\",\"gridcolor\":\"white\",\"linecolor\":\"white\",\"minorgridcolor\":\"white\",\"startlinecolor\":\"rgb(36,36,36)\"},\"type\":\"carpet\"}],\"choropleth\":[{\"colorbar\":{\"outlinewidth\":1,\"tickcolor\":\"rgb(36,36,36)\",\"ticks\":\"outside\"},\"type\":\"choropleth\"}],\"contourcarpet\":[{\"colorbar\":{\"outlinewidth\":1,\"tickcolor\":\"rgb(36,36,36)\",\"ticks\":\"outside\"},\"type\":\"contourcarpet\"}],\"contour\":[{\"colorbar\":{\"outlinewidth\":1,\"tickcolor\":\"rgb(36,36,36)\",\"ticks\":\"outside\"},\"colorscale\":[[0.0,\"#440154\"],[0.1111111111111111,\"#482878\"],[0.2222222222222222,\"#3e4989\"],[0.3333333333333333,\"#31688e\"],[0.4444444444444444,\"#26828e\"],[0.5555555555555556,\"#1f9e89\"],[0.6666666666666666,\"#35b779\"],[0.7777777777777778,\"#6ece58\"],[0.8888888888888888,\"#b5de2b\"],[1.0,\"#fde725\"]],\"type\":\"contour\"}],\"heatmapgl\":[{\"colorbar\":{\"outlinewidth\":1,\"tickcolor\":\"rgb(36,36,36)\",\"ticks\":\"outside\"},\"colorscale\":[[0.0,\"#440154\"],[0.1111111111111111,\"#482878\"],[0.2222222222222222,\"#3e4989\"],[0.3333333333333333,\"#31688e\"],[0.4444444444444444,\"#26828e\"],[0.5555555555555556,\"#1f9e89\"],[0.6666666666666666,\"#35b779\"],[0.7777777777777778,\"#6ece58\"],[0.8888888888888888,\"#b5de2b\"],[1.0,\"#fde725\"]],\"type\":\"heatmapgl\"}],\"heatmap\":[{\"colorbar\":{\"outlinewidth\":1,\"tickcolor\":\"rgb(36,36,36)\",\"ticks\":\"outside\"},\"colorscale\":[[0.0,\"#440154\"],[0.1111111111111111,\"#482878\"],[0.2222222222222222,\"#3e4989\"],[0.3333333333333333,\"#31688e\"],[0.4444444444444444,\"#26828e\"],[0.5555555555555556,\"#1f9e89\"],[0.6666666666666666,\"#35b779\"],[0.7777777777777778,\"#6ece58\"],[0.8888888888888888,\"#b5de2b\"],[1.0,\"#fde725\"]],\"type\":\"heatmap\"}],\"histogram2dcontour\":[{\"colorbar\":{\"outlinewidth\":1,\"tickcolor\":\"rgb(36,36,36)\",\"ticks\":\"outside\"},\"colorscale\":[[0.0,\"#440154\"],[0.1111111111111111,\"#482878\"],[0.2222222222222222,\"#3e4989\"],[0.3333333333333333,\"#31688e\"],[0.4444444444444444,\"#26828e\"],[0.5555555555555556,\"#1f9e89\"],[0.6666666666666666,\"#35b779\"],[0.7777777777777778,\"#6ece58\"],[0.8888888888888888,\"#b5de2b\"],[1.0,\"#fde725\"]],\"type\":\"histogram2dcontour\"}],\"histogram2d\":[{\"colorbar\":{\"outlinewidth\":1,\"tickcolor\":\"rgb(36,36,36)\",\"ticks\":\"outside\"},\"colorscale\":[[0.0,\"#440154\"],[0.1111111111111111,\"#482878\"],[0.2222222222222222,\"#3e4989\"],[0.3333333333333333,\"#31688e\"],[0.4444444444444444,\"#26828e\"],[0.5555555555555556,\"#1f9e89\"],[0.6666666666666666,\"#35b779\"],[0.7777777777777778,\"#6ece58\"],[0.8888888888888888,\"#b5de2b\"],[1.0,\"#fde725\"]],\"type\":\"histogram2d\"}],\"histogram\":[{\"marker\":{\"line\":{\"color\":\"white\",\"width\":0.6}},\"type\":\"histogram\"}],\"mesh3d\":[{\"colorbar\":{\"outlinewidth\":1,\"tickcolor\":\"rgb(36,36,36)\",\"ticks\":\"outside\"},\"type\":\"mesh3d\"}],\"parcoords\":[{\"line\":{\"colorbar\":{\"outlinewidth\":1,\"tickcolor\":\"rgb(36,36,36)\",\"ticks\":\"outside\"}},\"type\":\"parcoords\"}],\"pie\":[{\"automargin\":true,\"type\":\"pie\"}],\"scatter3d\":[{\"line\":{\"colorbar\":{\"outlinewidth\":1,\"tickcolor\":\"rgb(36,36,36)\",\"ticks\":\"outside\"}},\"marker\":{\"colorbar\":{\"outlinewidth\":1,\"tickcolor\":\"rgb(36,36,36)\",\"ticks\":\"outside\"}},\"type\":\"scatter3d\"}],\"scattercarpet\":[{\"marker\":{\"colorbar\":{\"outlinewidth\":1,\"tickcolor\":\"rgb(36,36,36)\",\"ticks\":\"outside\"}},\"type\":\"scattercarpet\"}],\"scattergeo\":[{\"marker\":{\"colorbar\":{\"outlinewidth\":1,\"tickcolor\":\"rgb(36,36,36)\",\"ticks\":\"outside\"}},\"type\":\"scattergeo\"}],\"scattergl\":[{\"marker\":{\"colorbar\":{\"outlinewidth\":1,\"tickcolor\":\"rgb(36,36,36)\",\"ticks\":\"outside\"}},\"type\":\"scattergl\"}],\"scattermapbox\":[{\"marker\":{\"colorbar\":{\"outlinewidth\":1,\"tickcolor\":\"rgb(36,36,36)\",\"ticks\":\"outside\"}},\"type\":\"scattermapbox\"}],\"scatterpolargl\":[{\"marker\":{\"colorbar\":{\"outlinewidth\":1,\"tickcolor\":\"rgb(36,36,36)\",\"ticks\":\"outside\"}},\"type\":\"scatterpolargl\"}],\"scatterpolar\":[{\"marker\":{\"colorbar\":{\"outlinewidth\":1,\"tickcolor\":\"rgb(36,36,36)\",\"ticks\":\"outside\"}},\"type\":\"scatterpolar\"}],\"scatter\":[{\"fillpattern\":{\"fillmode\":\"overlay\",\"size\":10,\"solidity\":0.2},\"type\":\"scatter\"}],\"scatterternary\":[{\"marker\":{\"colorbar\":{\"outlinewidth\":1,\"tickcolor\":\"rgb(36,36,36)\",\"ticks\":\"outside\"}},\"type\":\"scatterternary\"}],\"surface\":[{\"colorbar\":{\"outlinewidth\":1,\"tickcolor\":\"rgb(36,36,36)\",\"ticks\":\"outside\"},\"colorscale\":[[0.0,\"#440154\"],[0.1111111111111111,\"#482878\"],[0.2222222222222222,\"#3e4989\"],[0.3333333333333333,\"#31688e\"],[0.4444444444444444,\"#26828e\"],[0.5555555555555556,\"#1f9e89\"],[0.6666666666666666,\"#35b779\"],[0.7777777777777778,\"#6ece58\"],[0.8888888888888888,\"#b5de2b\"],[1.0,\"#fde725\"]],\"type\":\"surface\"}],\"table\":[{\"cells\":{\"fill\":{\"color\":\"rgb(237,237,237)\"},\"line\":{\"color\":\"white\"}},\"header\":{\"fill\":{\"color\":\"rgb(217,217,217)\"},\"line\":{\"color\":\"white\"}},\"type\":\"table\"}]},\"layout\":{\"annotationdefaults\":{\"arrowhead\":0,\"arrowwidth\":1},\"autotypenumbers\":\"strict\",\"coloraxis\":{\"colorbar\":{\"outlinewidth\":1,\"tickcolor\":\"rgb(36,36,36)\",\"ticks\":\"outside\"}},\"colorscale\":{\"diverging\":[[0.0,\"rgb(103,0,31)\"],[0.1,\"rgb(178,24,43)\"],[0.2,\"rgb(214,96,77)\"],[0.3,\"rgb(244,165,130)\"],[0.4,\"rgb(253,219,199)\"],[0.5,\"rgb(247,247,247)\"],[0.6,\"rgb(209,229,240)\"],[0.7,\"rgb(146,197,222)\"],[0.8,\"rgb(67,147,195)\"],[0.9,\"rgb(33,102,172)\"],[1.0,\"rgb(5,48,97)\"]],\"sequential\":[[0.0,\"#440154\"],[0.1111111111111111,\"#482878\"],[0.2222222222222222,\"#3e4989\"],[0.3333333333333333,\"#31688e\"],[0.4444444444444444,\"#26828e\"],[0.5555555555555556,\"#1f9e89\"],[0.6666666666666666,\"#35b779\"],[0.7777777777777778,\"#6ece58\"],[0.8888888888888888,\"#b5de2b\"],[1.0,\"#fde725\"]],\"sequentialminus\":[[0.0,\"#440154\"],[0.1111111111111111,\"#482878\"],[0.2222222222222222,\"#3e4989\"],[0.3333333333333333,\"#31688e\"],[0.4444444444444444,\"#26828e\"],[0.5555555555555556,\"#1f9e89\"],[0.6666666666666666,\"#35b779\"],[0.7777777777777778,\"#6ece58\"],[0.8888888888888888,\"#b5de2b\"],[1.0,\"#fde725\"]]},\"colorway\":[\"#1F77B4\",\"#FF7F0E\",\"#2CA02C\",\"#D62728\",\"#9467BD\",\"#8C564B\",\"#E377C2\",\"#7F7F7F\",\"#BCBD22\",\"#17BECF\"],\"font\":{\"color\":\"rgb(36,36,36)\"},\"geo\":{\"bgcolor\":\"white\",\"lakecolor\":\"white\",\"landcolor\":\"white\",\"showlakes\":true,\"showland\":true,\"subunitcolor\":\"white\"},\"hoverlabel\":{\"align\":\"left\"},\"hovermode\":\"closest\",\"mapbox\":{\"style\":\"light\"},\"paper_bgcolor\":\"white\",\"plot_bgcolor\":\"white\",\"polar\":{\"angularaxis\":{\"gridcolor\":\"rgb(232,232,232)\",\"linecolor\":\"rgb(36,36,36)\",\"showgrid\":false,\"showline\":true,\"ticks\":\"outside\"},\"bgcolor\":\"white\",\"radialaxis\":{\"gridcolor\":\"rgb(232,232,232)\",\"linecolor\":\"rgb(36,36,36)\",\"showgrid\":false,\"showline\":true,\"ticks\":\"outside\"}},\"scene\":{\"xaxis\":{\"backgroundcolor\":\"white\",\"gridcolor\":\"rgb(232,232,232)\",\"gridwidth\":2,\"linecolor\":\"rgb(36,36,36)\",\"showbackground\":true,\"showgrid\":false,\"showline\":true,\"ticks\":\"outside\",\"zeroline\":false,\"zerolinecolor\":\"rgb(36,36,36)\"},\"yaxis\":{\"backgroundcolor\":\"white\",\"gridcolor\":\"rgb(232,232,232)\",\"gridwidth\":2,\"linecolor\":\"rgb(36,36,36)\",\"showbackground\":true,\"showgrid\":false,\"showline\":true,\"ticks\":\"outside\",\"zeroline\":false,\"zerolinecolor\":\"rgb(36,36,36)\"},\"zaxis\":{\"backgroundcolor\":\"white\",\"gridcolor\":\"rgb(232,232,232)\",\"gridwidth\":2,\"linecolor\":\"rgb(36,36,36)\",\"showbackground\":true,\"showgrid\":false,\"showline\":true,\"ticks\":\"outside\",\"zeroline\":false,\"zerolinecolor\":\"rgb(36,36,36)\"}},\"shapedefaults\":{\"fillcolor\":\"black\",\"line\":{\"width\":0},\"opacity\":0.3},\"ternary\":{\"aaxis\":{\"gridcolor\":\"rgb(232,232,232)\",\"linecolor\":\"rgb(36,36,36)\",\"showgrid\":false,\"showline\":true,\"ticks\":\"outside\"},\"baxis\":{\"gridcolor\":\"rgb(232,232,232)\",\"linecolor\":\"rgb(36,36,36)\",\"showgrid\":false,\"showline\":true,\"ticks\":\"outside\"},\"bgcolor\":\"white\",\"caxis\":{\"gridcolor\":\"rgb(232,232,232)\",\"linecolor\":\"rgb(36,36,36)\",\"showgrid\":false,\"showline\":true,\"ticks\":\"outside\"}},\"title\":{\"x\":0.05},\"xaxis\":{\"automargin\":true,\"gridcolor\":\"rgb(232,232,232)\",\"linecolor\":\"rgb(36,36,36)\",\"showgrid\":false,\"showline\":true,\"ticks\":\"outside\",\"title\":{\"standoff\":15},\"zeroline\":false,\"zerolinecolor\":\"rgb(36,36,36)\"},\"yaxis\":{\"automargin\":true,\"gridcolor\":\"rgb(232,232,232)\",\"linecolor\":\"rgb(36,36,36)\",\"showgrid\":false,\"showline\":true,\"ticks\":\"outside\",\"title\":{\"standoff\":15},\"zeroline\":false,\"zerolinecolor\":\"rgb(36,36,36)\"}}},\"xaxis\":{\"anchor\":\"y\",\"domain\":[0.0,1.0],\"title\":{\"text\":\"\"},\"visible\":false,\"range\":[-20.73905439376831,15.35419158935547]},\"yaxis\":{\"anchor\":\"x\",\"domain\":[0.0,1.0],\"title\":{\"text\":\"\"},\"visible\":false,\"range\":[-16.36651635169983,11.16205062866211]},\"legend\":{\"tracegroupgap\":0,\"itemsizing\":\"constant\"},\"margin\":{\"t\":60},\"title\":{\"font\":{\"size\":22,\"color\":\"Black\"},\"text\":\"<b>Intertopic Distance Map\",\"y\":0.95,\"x\":0.5,\"xanchor\":\"center\",\"yanchor\":\"top\"},\"hoverlabel\":{\"font\":{\"size\":16,\"family\":\"Rockwell\"},\"bgcolor\":\"white\"},\"width\":650,\"height\":650,\"sliders\":[{\"active\":0,\"pad\":{\"t\":50},\"steps\":[{\"args\":[{\"marker.color\":[[\"red\",\"#B0BEC5\",\"#B0BEC5\",\"#B0BEC5\",\"#B0BEC5\",\"#B0BEC5\",\"#B0BEC5\",\"#B0BEC5\",\"#B0BEC5\",\"#B0BEC5\",\"#B0BEC5\",\"#B0BEC5\",\"#B0BEC5\",\"#B0BEC5\",\"#B0BEC5\",\"#B0BEC5\",\"#B0BEC5\",\"#B0BEC5\",\"#B0BEC5\",\"#B0BEC5\",\"#B0BEC5\",\"#B0BEC5\",\"#B0BEC5\",\"#B0BEC5\",\"#B0BEC5\",\"#B0BEC5\",\"#B0BEC5\",\"#B0BEC5\",\"#B0BEC5\",\"#B0BEC5\",\"#B0BEC5\",\"#B0BEC5\",\"#B0BEC5\",\"#B0BEC5\",\"#B0BEC5\",\"#B0BEC5\",\"#B0BEC5\",\"#B0BEC5\",\"#B0BEC5\",\"#B0BEC5\",\"#B0BEC5\",\"#B0BEC5\",\"#B0BEC5\",\"#B0BEC5\",\"#B0BEC5\",\"#B0BEC5\",\"#B0BEC5\",\"#B0BEC5\",\"#B0BEC5\",\"#B0BEC5\",\"#B0BEC5\",\"#B0BEC5\",\"#B0BEC5\",\"#B0BEC5\",\"#B0BEC5\",\"#B0BEC5\",\"#B0BEC5\",\"#B0BEC5\",\"#B0BEC5\",\"#B0BEC5\",\"#B0BEC5\",\"#B0BEC5\",\"#B0BEC5\",\"#B0BEC5\"]]}],\"label\":\"Topic 0\",\"method\":\"update\"},{\"args\":[{\"marker.color\":[[\"#B0BEC5\",\"red\",\"#B0BEC5\",\"#B0BEC5\",\"#B0BEC5\",\"#B0BEC5\",\"#B0BEC5\",\"#B0BEC5\",\"#B0BEC5\",\"#B0BEC5\",\"#B0BEC5\",\"#B0BEC5\",\"#B0BEC5\",\"#B0BEC5\",\"#B0BEC5\",\"#B0BEC5\",\"#B0BEC5\",\"#B0BEC5\",\"#B0BEC5\",\"#B0BEC5\",\"#B0BEC5\",\"#B0BEC5\",\"#B0BEC5\",\"#B0BEC5\",\"#B0BEC5\",\"#B0BEC5\",\"#B0BEC5\",\"#B0BEC5\",\"#B0BEC5\",\"#B0BEC5\",\"#B0BEC5\",\"#B0BEC5\",\"#B0BEC5\",\"#B0BEC5\",\"#B0BEC5\",\"#B0BEC5\",\"#B0BEC5\",\"#B0BEC5\",\"#B0BEC5\",\"#B0BEC5\",\"#B0BEC5\",\"#B0BEC5\",\"#B0BEC5\",\"#B0BEC5\",\"#B0BEC5\",\"#B0BEC5\",\"#B0BEC5\",\"#B0BEC5\",\"#B0BEC5\",\"#B0BEC5\",\"#B0BEC5\",\"#B0BEC5\",\"#B0BEC5\",\"#B0BEC5\",\"#B0BEC5\",\"#B0BEC5\",\"#B0BEC5\",\"#B0BEC5\",\"#B0BEC5\",\"#B0BEC5\",\"#B0BEC5\",\"#B0BEC5\",\"#B0BEC5\",\"#B0BEC5\"]]}],\"label\":\"Topic 1\",\"method\":\"update\"},{\"args\":[{\"marker.color\":[[\"#B0BEC5\",\"#B0BEC5\",\"red\",\"#B0BEC5\",\"#B0BEC5\",\"#B0BEC5\",\"#B0BEC5\",\"#B0BEC5\",\"#B0BEC5\",\"#B0BEC5\",\"#B0BEC5\",\"#B0BEC5\",\"#B0BEC5\",\"#B0BEC5\",\"#B0BEC5\",\"#B0BEC5\",\"#B0BEC5\",\"#B0BEC5\",\"#B0BEC5\",\"#B0BEC5\",\"#B0BEC5\",\"#B0BEC5\",\"#B0BEC5\",\"#B0BEC5\",\"#B0BEC5\",\"#B0BEC5\",\"#B0BEC5\",\"#B0BEC5\",\"#B0BEC5\",\"#B0BEC5\",\"#B0BEC5\",\"#B0BEC5\",\"#B0BEC5\",\"#B0BEC5\",\"#B0BEC5\",\"#B0BEC5\",\"#B0BEC5\",\"#B0BEC5\",\"#B0BEC5\",\"#B0BEC5\",\"#B0BEC5\",\"#B0BEC5\",\"#B0BEC5\",\"#B0BEC5\",\"#B0BEC5\",\"#B0BEC5\",\"#B0BEC5\",\"#B0BEC5\",\"#B0BEC5\",\"#B0BEC5\",\"#B0BEC5\",\"#B0BEC5\",\"#B0BEC5\",\"#B0BEC5\",\"#B0BEC5\",\"#B0BEC5\",\"#B0BEC5\",\"#B0BEC5\",\"#B0BEC5\",\"#B0BEC5\",\"#B0BEC5\",\"#B0BEC5\",\"#B0BEC5\",\"#B0BEC5\"]]}],\"label\":\"Topic 2\",\"method\":\"update\"},{\"args\":[{\"marker.color\":[[\"#B0BEC5\",\"#B0BEC5\",\"#B0BEC5\",\"red\",\"#B0BEC5\",\"#B0BEC5\",\"#B0BEC5\",\"#B0BEC5\",\"#B0BEC5\",\"#B0BEC5\",\"#B0BEC5\",\"#B0BEC5\",\"#B0BEC5\",\"#B0BEC5\",\"#B0BEC5\",\"#B0BEC5\",\"#B0BEC5\",\"#B0BEC5\",\"#B0BEC5\",\"#B0BEC5\",\"#B0BEC5\",\"#B0BEC5\",\"#B0BEC5\",\"#B0BEC5\",\"#B0BEC5\",\"#B0BEC5\",\"#B0BEC5\",\"#B0BEC5\",\"#B0BEC5\",\"#B0BEC5\",\"#B0BEC5\",\"#B0BEC5\",\"#B0BEC5\",\"#B0BEC5\",\"#B0BEC5\",\"#B0BEC5\",\"#B0BEC5\",\"#B0BEC5\",\"#B0BEC5\",\"#B0BEC5\",\"#B0BEC5\",\"#B0BEC5\",\"#B0BEC5\",\"#B0BEC5\",\"#B0BEC5\",\"#B0BEC5\",\"#B0BEC5\",\"#B0BEC5\",\"#B0BEC5\",\"#B0BEC5\",\"#B0BEC5\",\"#B0BEC5\",\"#B0BEC5\",\"#B0BEC5\",\"#B0BEC5\",\"#B0BEC5\",\"#B0BEC5\",\"#B0BEC5\",\"#B0BEC5\",\"#B0BEC5\",\"#B0BEC5\",\"#B0BEC5\",\"#B0BEC5\",\"#B0BEC5\"]]}],\"label\":\"Topic 3\",\"method\":\"update\"},{\"args\":[{\"marker.color\":[[\"#B0BEC5\",\"#B0BEC5\",\"#B0BEC5\",\"#B0BEC5\",\"red\",\"#B0BEC5\",\"#B0BEC5\",\"#B0BEC5\",\"#B0BEC5\",\"#B0BEC5\",\"#B0BEC5\",\"#B0BEC5\",\"#B0BEC5\",\"#B0BEC5\",\"#B0BEC5\",\"#B0BEC5\",\"#B0BEC5\",\"#B0BEC5\",\"#B0BEC5\",\"#B0BEC5\",\"#B0BEC5\",\"#B0BEC5\",\"#B0BEC5\",\"#B0BEC5\",\"#B0BEC5\",\"#B0BEC5\",\"#B0BEC5\",\"#B0BEC5\",\"#B0BEC5\",\"#B0BEC5\",\"#B0BEC5\",\"#B0BEC5\",\"#B0BEC5\",\"#B0BEC5\",\"#B0BEC5\",\"#B0BEC5\",\"#B0BEC5\",\"#B0BEC5\",\"#B0BEC5\",\"#B0BEC5\",\"#B0BEC5\",\"#B0BEC5\",\"#B0BEC5\",\"#B0BEC5\",\"#B0BEC5\",\"#B0BEC5\",\"#B0BEC5\",\"#B0BEC5\",\"#B0BEC5\",\"#B0BEC5\",\"#B0BEC5\",\"#B0BEC5\",\"#B0BEC5\",\"#B0BEC5\",\"#B0BEC5\",\"#B0BEC5\",\"#B0BEC5\",\"#B0BEC5\",\"#B0BEC5\",\"#B0BEC5\",\"#B0BEC5\",\"#B0BEC5\",\"#B0BEC5\",\"#B0BEC5\"]]}],\"label\":\"Topic 4\",\"method\":\"update\"},{\"args\":[{\"marker.color\":[[\"#B0BEC5\",\"#B0BEC5\",\"#B0BEC5\",\"#B0BEC5\",\"#B0BEC5\",\"red\",\"#B0BEC5\",\"#B0BEC5\",\"#B0BEC5\",\"#B0BEC5\",\"#B0BEC5\",\"#B0BEC5\",\"#B0BEC5\",\"#B0BEC5\",\"#B0BEC5\",\"#B0BEC5\",\"#B0BEC5\",\"#B0BEC5\",\"#B0BEC5\",\"#B0BEC5\",\"#B0BEC5\",\"#B0BEC5\",\"#B0BEC5\",\"#B0BEC5\",\"#B0BEC5\",\"#B0BEC5\",\"#B0BEC5\",\"#B0BEC5\",\"#B0BEC5\",\"#B0BEC5\",\"#B0BEC5\",\"#B0BEC5\",\"#B0BEC5\",\"#B0BEC5\",\"#B0BEC5\",\"#B0BEC5\",\"#B0BEC5\",\"#B0BEC5\",\"#B0BEC5\",\"#B0BEC5\",\"#B0BEC5\",\"#B0BEC5\",\"#B0BEC5\",\"#B0BEC5\",\"#B0BEC5\",\"#B0BEC5\",\"#B0BEC5\",\"#B0BEC5\",\"#B0BEC5\",\"#B0BEC5\",\"#B0BEC5\",\"#B0BEC5\",\"#B0BEC5\",\"#B0BEC5\",\"#B0BEC5\",\"#B0BEC5\",\"#B0BEC5\",\"#B0BEC5\",\"#B0BEC5\",\"#B0BEC5\",\"#B0BEC5\",\"#B0BEC5\",\"#B0BEC5\",\"#B0BEC5\"]]}],\"label\":\"Topic 5\",\"method\":\"update\"},{\"args\":[{\"marker.color\":[[\"#B0BEC5\",\"#B0BEC5\",\"#B0BEC5\",\"#B0BEC5\",\"#B0BEC5\",\"#B0BEC5\",\"red\",\"#B0BEC5\",\"#B0BEC5\",\"#B0BEC5\",\"#B0BEC5\",\"#B0BEC5\",\"#B0BEC5\",\"#B0BEC5\",\"#B0BEC5\",\"#B0BEC5\",\"#B0BEC5\",\"#B0BEC5\",\"#B0BEC5\",\"#B0BEC5\",\"#B0BEC5\",\"#B0BEC5\",\"#B0BEC5\",\"#B0BEC5\",\"#B0BEC5\",\"#B0BEC5\",\"#B0BEC5\",\"#B0BEC5\",\"#B0BEC5\",\"#B0BEC5\",\"#B0BEC5\",\"#B0BEC5\",\"#B0BEC5\",\"#B0BEC5\",\"#B0BEC5\",\"#B0BEC5\",\"#B0BEC5\",\"#B0BEC5\",\"#B0BEC5\",\"#B0BEC5\",\"#B0BEC5\",\"#B0BEC5\",\"#B0BEC5\",\"#B0BEC5\",\"#B0BEC5\",\"#B0BEC5\",\"#B0BEC5\",\"#B0BEC5\",\"#B0BEC5\",\"#B0BEC5\",\"#B0BEC5\",\"#B0BEC5\",\"#B0BEC5\",\"#B0BEC5\",\"#B0BEC5\",\"#B0BEC5\",\"#B0BEC5\",\"#B0BEC5\",\"#B0BEC5\",\"#B0BEC5\",\"#B0BEC5\",\"#B0BEC5\",\"#B0BEC5\",\"#B0BEC5\"]]}],\"label\":\"Topic 6\",\"method\":\"update\"},{\"args\":[{\"marker.color\":[[\"#B0BEC5\",\"#B0BEC5\",\"#B0BEC5\",\"#B0BEC5\",\"#B0BEC5\",\"#B0BEC5\",\"#B0BEC5\",\"red\",\"#B0BEC5\",\"#B0BEC5\",\"#B0BEC5\",\"#B0BEC5\",\"#B0BEC5\",\"#B0BEC5\",\"#B0BEC5\",\"#B0BEC5\",\"#B0BEC5\",\"#B0BEC5\",\"#B0BEC5\",\"#B0BEC5\",\"#B0BEC5\",\"#B0BEC5\",\"#B0BEC5\",\"#B0BEC5\",\"#B0BEC5\",\"#B0BEC5\",\"#B0BEC5\",\"#B0BEC5\",\"#B0BEC5\",\"#B0BEC5\",\"#B0BEC5\",\"#B0BEC5\",\"#B0BEC5\",\"#B0BEC5\",\"#B0BEC5\",\"#B0BEC5\",\"#B0BEC5\",\"#B0BEC5\",\"#B0BEC5\",\"#B0BEC5\",\"#B0BEC5\",\"#B0BEC5\",\"#B0BEC5\",\"#B0BEC5\",\"#B0BEC5\",\"#B0BEC5\",\"#B0BEC5\",\"#B0BEC5\",\"#B0BEC5\",\"#B0BEC5\",\"#B0BEC5\",\"#B0BEC5\",\"#B0BEC5\",\"#B0BEC5\",\"#B0BEC5\",\"#B0BEC5\",\"#B0BEC5\",\"#B0BEC5\",\"#B0BEC5\",\"#B0BEC5\",\"#B0BEC5\",\"#B0BEC5\",\"#B0BEC5\",\"#B0BEC5\"]]}],\"label\":\"Topic 7\",\"method\":\"update\"},{\"args\":[{\"marker.color\":[[\"#B0BEC5\",\"#B0BEC5\",\"#B0BEC5\",\"#B0BEC5\",\"#B0BEC5\",\"#B0BEC5\",\"#B0BEC5\",\"#B0BEC5\",\"red\",\"#B0BEC5\",\"#B0BEC5\",\"#B0BEC5\",\"#B0BEC5\",\"#B0BEC5\",\"#B0BEC5\",\"#B0BEC5\",\"#B0BEC5\",\"#B0BEC5\",\"#B0BEC5\",\"#B0BEC5\",\"#B0BEC5\",\"#B0BEC5\",\"#B0BEC5\",\"#B0BEC5\",\"#B0BEC5\",\"#B0BEC5\",\"#B0BEC5\",\"#B0BEC5\",\"#B0BEC5\",\"#B0BEC5\",\"#B0BEC5\",\"#B0BEC5\",\"#B0BEC5\",\"#B0BEC5\",\"#B0BEC5\",\"#B0BEC5\",\"#B0BEC5\",\"#B0BEC5\",\"#B0BEC5\",\"#B0BEC5\",\"#B0BEC5\",\"#B0BEC5\",\"#B0BEC5\",\"#B0BEC5\",\"#B0BEC5\",\"#B0BEC5\",\"#B0BEC5\",\"#B0BEC5\",\"#B0BEC5\",\"#B0BEC5\",\"#B0BEC5\",\"#B0BEC5\",\"#B0BEC5\",\"#B0BEC5\",\"#B0BEC5\",\"#B0BEC5\",\"#B0BEC5\",\"#B0BEC5\",\"#B0BEC5\",\"#B0BEC5\",\"#B0BEC5\",\"#B0BEC5\",\"#B0BEC5\",\"#B0BEC5\"]]}],\"label\":\"Topic 8\",\"method\":\"update\"},{\"args\":[{\"marker.color\":[[\"#B0BEC5\",\"#B0BEC5\",\"#B0BEC5\",\"#B0BEC5\",\"#B0BEC5\",\"#B0BEC5\",\"#B0BEC5\",\"#B0BEC5\",\"#B0BEC5\",\"red\",\"#B0BEC5\",\"#B0BEC5\",\"#B0BEC5\",\"#B0BEC5\",\"#B0BEC5\",\"#B0BEC5\",\"#B0BEC5\",\"#B0BEC5\",\"#B0BEC5\",\"#B0BEC5\",\"#B0BEC5\",\"#B0BEC5\",\"#B0BEC5\",\"#B0BEC5\",\"#B0BEC5\",\"#B0BEC5\",\"#B0BEC5\",\"#B0BEC5\",\"#B0BEC5\",\"#B0BEC5\",\"#B0BEC5\",\"#B0BEC5\",\"#B0BEC5\",\"#B0BEC5\",\"#B0BEC5\",\"#B0BEC5\",\"#B0BEC5\",\"#B0BEC5\",\"#B0BEC5\",\"#B0BEC5\",\"#B0BEC5\",\"#B0BEC5\",\"#B0BEC5\",\"#B0BEC5\",\"#B0BEC5\",\"#B0BEC5\",\"#B0BEC5\",\"#B0BEC5\",\"#B0BEC5\",\"#B0BEC5\",\"#B0BEC5\",\"#B0BEC5\",\"#B0BEC5\",\"#B0BEC5\",\"#B0BEC5\",\"#B0BEC5\",\"#B0BEC5\",\"#B0BEC5\",\"#B0BEC5\",\"#B0BEC5\",\"#B0BEC5\",\"#B0BEC5\",\"#B0BEC5\",\"#B0BEC5\"]]}],\"label\":\"Topic 9\",\"method\":\"update\"},{\"args\":[{\"marker.color\":[[\"#B0BEC5\",\"#B0BEC5\",\"#B0BEC5\",\"#B0BEC5\",\"#B0BEC5\",\"#B0BEC5\",\"#B0BEC5\",\"#B0BEC5\",\"#B0BEC5\",\"#B0BEC5\",\"red\",\"#B0BEC5\",\"#B0BEC5\",\"#B0BEC5\",\"#B0BEC5\",\"#B0BEC5\",\"#B0BEC5\",\"#B0BEC5\",\"#B0BEC5\",\"#B0BEC5\",\"#B0BEC5\",\"#B0BEC5\",\"#B0BEC5\",\"#B0BEC5\",\"#B0BEC5\",\"#B0BEC5\",\"#B0BEC5\",\"#B0BEC5\",\"#B0BEC5\",\"#B0BEC5\",\"#B0BEC5\",\"#B0BEC5\",\"#B0BEC5\",\"#B0BEC5\",\"#B0BEC5\",\"#B0BEC5\",\"#B0BEC5\",\"#B0BEC5\",\"#B0BEC5\",\"#B0BEC5\",\"#B0BEC5\",\"#B0BEC5\",\"#B0BEC5\",\"#B0BEC5\",\"#B0BEC5\",\"#B0BEC5\",\"#B0BEC5\",\"#B0BEC5\",\"#B0BEC5\",\"#B0BEC5\",\"#B0BEC5\",\"#B0BEC5\",\"#B0BEC5\",\"#B0BEC5\",\"#B0BEC5\",\"#B0BEC5\",\"#B0BEC5\",\"#B0BEC5\",\"#B0BEC5\",\"#B0BEC5\",\"#B0BEC5\",\"#B0BEC5\",\"#B0BEC5\",\"#B0BEC5\"]]}],\"label\":\"Topic 10\",\"method\":\"update\"},{\"args\":[{\"marker.color\":[[\"#B0BEC5\",\"#B0BEC5\",\"#B0BEC5\",\"#B0BEC5\",\"#B0BEC5\",\"#B0BEC5\",\"#B0BEC5\",\"#B0BEC5\",\"#B0BEC5\",\"#B0BEC5\",\"#B0BEC5\",\"red\",\"#B0BEC5\",\"#B0BEC5\",\"#B0BEC5\",\"#B0BEC5\",\"#B0BEC5\",\"#B0BEC5\",\"#B0BEC5\",\"#B0BEC5\",\"#B0BEC5\",\"#B0BEC5\",\"#B0BEC5\",\"#B0BEC5\",\"#B0BEC5\",\"#B0BEC5\",\"#B0BEC5\",\"#B0BEC5\",\"#B0BEC5\",\"#B0BEC5\",\"#B0BEC5\",\"#B0BEC5\",\"#B0BEC5\",\"#B0BEC5\",\"#B0BEC5\",\"#B0BEC5\",\"#B0BEC5\",\"#B0BEC5\",\"#B0BEC5\",\"#B0BEC5\",\"#B0BEC5\",\"#B0BEC5\",\"#B0BEC5\",\"#B0BEC5\",\"#B0BEC5\",\"#B0BEC5\",\"#B0BEC5\",\"#B0BEC5\",\"#B0BEC5\",\"#B0BEC5\",\"#B0BEC5\",\"#B0BEC5\",\"#B0BEC5\",\"#B0BEC5\",\"#B0BEC5\",\"#B0BEC5\",\"#B0BEC5\",\"#B0BEC5\",\"#B0BEC5\",\"#B0BEC5\",\"#B0BEC5\",\"#B0BEC5\",\"#B0BEC5\",\"#B0BEC5\"]]}],\"label\":\"Topic 11\",\"method\":\"update\"},{\"args\":[{\"marker.color\":[[\"#B0BEC5\",\"#B0BEC5\",\"#B0BEC5\",\"#B0BEC5\",\"#B0BEC5\",\"#B0BEC5\",\"#B0BEC5\",\"#B0BEC5\",\"#B0BEC5\",\"#B0BEC5\",\"#B0BEC5\",\"#B0BEC5\",\"red\",\"#B0BEC5\",\"#B0BEC5\",\"#B0BEC5\",\"#B0BEC5\",\"#B0BEC5\",\"#B0BEC5\",\"#B0BEC5\",\"#B0BEC5\",\"#B0BEC5\",\"#B0BEC5\",\"#B0BEC5\",\"#B0BEC5\",\"#B0BEC5\",\"#B0BEC5\",\"#B0BEC5\",\"#B0BEC5\",\"#B0BEC5\",\"#B0BEC5\",\"#B0BEC5\",\"#B0BEC5\",\"#B0BEC5\",\"#B0BEC5\",\"#B0BEC5\",\"#B0BEC5\",\"#B0BEC5\",\"#B0BEC5\",\"#B0BEC5\",\"#B0BEC5\",\"#B0BEC5\",\"#B0BEC5\",\"#B0BEC5\",\"#B0BEC5\",\"#B0BEC5\",\"#B0BEC5\",\"#B0BEC5\",\"#B0BEC5\",\"#B0BEC5\",\"#B0BEC5\",\"#B0BEC5\",\"#B0BEC5\",\"#B0BEC5\",\"#B0BEC5\",\"#B0BEC5\",\"#B0BEC5\",\"#B0BEC5\",\"#B0BEC5\",\"#B0BEC5\",\"#B0BEC5\",\"#B0BEC5\",\"#B0BEC5\",\"#B0BEC5\"]]}],\"label\":\"Topic 12\",\"method\":\"update\"},{\"args\":[{\"marker.color\":[[\"#B0BEC5\",\"#B0BEC5\",\"#B0BEC5\",\"#B0BEC5\",\"#B0BEC5\",\"#B0BEC5\",\"#B0BEC5\",\"#B0BEC5\",\"#B0BEC5\",\"#B0BEC5\",\"#B0BEC5\",\"#B0BEC5\",\"#B0BEC5\",\"red\",\"#B0BEC5\",\"#B0BEC5\",\"#B0BEC5\",\"#B0BEC5\",\"#B0BEC5\",\"#B0BEC5\",\"#B0BEC5\",\"#B0BEC5\",\"#B0BEC5\",\"#B0BEC5\",\"#B0BEC5\",\"#B0BEC5\",\"#B0BEC5\",\"#B0BEC5\",\"#B0BEC5\",\"#B0BEC5\",\"#B0BEC5\",\"#B0BEC5\",\"#B0BEC5\",\"#B0BEC5\",\"#B0BEC5\",\"#B0BEC5\",\"#B0BEC5\",\"#B0BEC5\",\"#B0BEC5\",\"#B0BEC5\",\"#B0BEC5\",\"#B0BEC5\",\"#B0BEC5\",\"#B0BEC5\",\"#B0BEC5\",\"#B0BEC5\",\"#B0BEC5\",\"#B0BEC5\",\"#B0BEC5\",\"#B0BEC5\",\"#B0BEC5\",\"#B0BEC5\",\"#B0BEC5\",\"#B0BEC5\",\"#B0BEC5\",\"#B0BEC5\",\"#B0BEC5\",\"#B0BEC5\",\"#B0BEC5\",\"#B0BEC5\",\"#B0BEC5\",\"#B0BEC5\",\"#B0BEC5\",\"#B0BEC5\"]]}],\"label\":\"Topic 13\",\"method\":\"update\"},{\"args\":[{\"marker.color\":[[\"#B0BEC5\",\"#B0BEC5\",\"#B0BEC5\",\"#B0BEC5\",\"#B0BEC5\",\"#B0BEC5\",\"#B0BEC5\",\"#B0BEC5\",\"#B0BEC5\",\"#B0BEC5\",\"#B0BEC5\",\"#B0BEC5\",\"#B0BEC5\",\"#B0BEC5\",\"red\",\"#B0BEC5\",\"#B0BEC5\",\"#B0BEC5\",\"#B0BEC5\",\"#B0BEC5\",\"#B0BEC5\",\"#B0BEC5\",\"#B0BEC5\",\"#B0BEC5\",\"#B0BEC5\",\"#B0BEC5\",\"#B0BEC5\",\"#B0BEC5\",\"#B0BEC5\",\"#B0BEC5\",\"#B0BEC5\",\"#B0BEC5\",\"#B0BEC5\",\"#B0BEC5\",\"#B0BEC5\",\"#B0BEC5\",\"#B0BEC5\",\"#B0BEC5\",\"#B0BEC5\",\"#B0BEC5\",\"#B0BEC5\",\"#B0BEC5\",\"#B0BEC5\",\"#B0BEC5\",\"#B0BEC5\",\"#B0BEC5\",\"#B0BEC5\",\"#B0BEC5\",\"#B0BEC5\",\"#B0BEC5\",\"#B0BEC5\",\"#B0BEC5\",\"#B0BEC5\",\"#B0BEC5\",\"#B0BEC5\",\"#B0BEC5\",\"#B0BEC5\",\"#B0BEC5\",\"#B0BEC5\",\"#B0BEC5\",\"#B0BEC5\",\"#B0BEC5\",\"#B0BEC5\",\"#B0BEC5\"]]}],\"label\":\"Topic 14\",\"method\":\"update\"},{\"args\":[{\"marker.color\":[[\"#B0BEC5\",\"#B0BEC5\",\"#B0BEC5\",\"#B0BEC5\",\"#B0BEC5\",\"#B0BEC5\",\"#B0BEC5\",\"#B0BEC5\",\"#B0BEC5\",\"#B0BEC5\",\"#B0BEC5\",\"#B0BEC5\",\"#B0BEC5\",\"#B0BEC5\",\"#B0BEC5\",\"red\",\"#B0BEC5\",\"#B0BEC5\",\"#B0BEC5\",\"#B0BEC5\",\"#B0BEC5\",\"#B0BEC5\",\"#B0BEC5\",\"#B0BEC5\",\"#B0BEC5\",\"#B0BEC5\",\"#B0BEC5\",\"#B0BEC5\",\"#B0BEC5\",\"#B0BEC5\",\"#B0BEC5\",\"#B0BEC5\",\"#B0BEC5\",\"#B0BEC5\",\"#B0BEC5\",\"#B0BEC5\",\"#B0BEC5\",\"#B0BEC5\",\"#B0BEC5\",\"#B0BEC5\",\"#B0BEC5\",\"#B0BEC5\",\"#B0BEC5\",\"#B0BEC5\",\"#B0BEC5\",\"#B0BEC5\",\"#B0BEC5\",\"#B0BEC5\",\"#B0BEC5\",\"#B0BEC5\",\"#B0BEC5\",\"#B0BEC5\",\"#B0BEC5\",\"#B0BEC5\",\"#B0BEC5\",\"#B0BEC5\",\"#B0BEC5\",\"#B0BEC5\",\"#B0BEC5\",\"#B0BEC5\",\"#B0BEC5\",\"#B0BEC5\",\"#B0BEC5\",\"#B0BEC5\"]]}],\"label\":\"Topic 15\",\"method\":\"update\"},{\"args\":[{\"marker.color\":[[\"#B0BEC5\",\"#B0BEC5\",\"#B0BEC5\",\"#B0BEC5\",\"#B0BEC5\",\"#B0BEC5\",\"#B0BEC5\",\"#B0BEC5\",\"#B0BEC5\",\"#B0BEC5\",\"#B0BEC5\",\"#B0BEC5\",\"#B0BEC5\",\"#B0BEC5\",\"#B0BEC5\",\"#B0BEC5\",\"red\",\"#B0BEC5\",\"#B0BEC5\",\"#B0BEC5\",\"#B0BEC5\",\"#B0BEC5\",\"#B0BEC5\",\"#B0BEC5\",\"#B0BEC5\",\"#B0BEC5\",\"#B0BEC5\",\"#B0BEC5\",\"#B0BEC5\",\"#B0BEC5\",\"#B0BEC5\",\"#B0BEC5\",\"#B0BEC5\",\"#B0BEC5\",\"#B0BEC5\",\"#B0BEC5\",\"#B0BEC5\",\"#B0BEC5\",\"#B0BEC5\",\"#B0BEC5\",\"#B0BEC5\",\"#B0BEC5\",\"#B0BEC5\",\"#B0BEC5\",\"#B0BEC5\",\"#B0BEC5\",\"#B0BEC5\",\"#B0BEC5\",\"#B0BEC5\",\"#B0BEC5\",\"#B0BEC5\",\"#B0BEC5\",\"#B0BEC5\",\"#B0BEC5\",\"#B0BEC5\",\"#B0BEC5\",\"#B0BEC5\",\"#B0BEC5\",\"#B0BEC5\",\"#B0BEC5\",\"#B0BEC5\",\"#B0BEC5\",\"#B0BEC5\",\"#B0BEC5\"]]}],\"label\":\"Topic 16\",\"method\":\"update\"},{\"args\":[{\"marker.color\":[[\"#B0BEC5\",\"#B0BEC5\",\"#B0BEC5\",\"#B0BEC5\",\"#B0BEC5\",\"#B0BEC5\",\"#B0BEC5\",\"#B0BEC5\",\"#B0BEC5\",\"#B0BEC5\",\"#B0BEC5\",\"#B0BEC5\",\"#B0BEC5\",\"#B0BEC5\",\"#B0BEC5\",\"#B0BEC5\",\"#B0BEC5\",\"red\",\"#B0BEC5\",\"#B0BEC5\",\"#B0BEC5\",\"#B0BEC5\",\"#B0BEC5\",\"#B0BEC5\",\"#B0BEC5\",\"#B0BEC5\",\"#B0BEC5\",\"#B0BEC5\",\"#B0BEC5\",\"#B0BEC5\",\"#B0BEC5\",\"#B0BEC5\",\"#B0BEC5\",\"#B0BEC5\",\"#B0BEC5\",\"#B0BEC5\",\"#B0BEC5\",\"#B0BEC5\",\"#B0BEC5\",\"#B0BEC5\",\"#B0BEC5\",\"#B0BEC5\",\"#B0BEC5\",\"#B0BEC5\",\"#B0BEC5\",\"#B0BEC5\",\"#B0BEC5\",\"#B0BEC5\",\"#B0BEC5\",\"#B0BEC5\",\"#B0BEC5\",\"#B0BEC5\",\"#B0BEC5\",\"#B0BEC5\",\"#B0BEC5\",\"#B0BEC5\",\"#B0BEC5\",\"#B0BEC5\",\"#B0BEC5\",\"#B0BEC5\",\"#B0BEC5\",\"#B0BEC5\",\"#B0BEC5\",\"#B0BEC5\"]]}],\"label\":\"Topic 17\",\"method\":\"update\"},{\"args\":[{\"marker.color\":[[\"#B0BEC5\",\"#B0BEC5\",\"#B0BEC5\",\"#B0BEC5\",\"#B0BEC5\",\"#B0BEC5\",\"#B0BEC5\",\"#B0BEC5\",\"#B0BEC5\",\"#B0BEC5\",\"#B0BEC5\",\"#B0BEC5\",\"#B0BEC5\",\"#B0BEC5\",\"#B0BEC5\",\"#B0BEC5\",\"#B0BEC5\",\"#B0BEC5\",\"red\",\"#B0BEC5\",\"#B0BEC5\",\"#B0BEC5\",\"#B0BEC5\",\"#B0BEC5\",\"#B0BEC5\",\"#B0BEC5\",\"#B0BEC5\",\"#B0BEC5\",\"#B0BEC5\",\"#B0BEC5\",\"#B0BEC5\",\"#B0BEC5\",\"#B0BEC5\",\"#B0BEC5\",\"#B0BEC5\",\"#B0BEC5\",\"#B0BEC5\",\"#B0BEC5\",\"#B0BEC5\",\"#B0BEC5\",\"#B0BEC5\",\"#B0BEC5\",\"#B0BEC5\",\"#B0BEC5\",\"#B0BEC5\",\"#B0BEC5\",\"#B0BEC5\",\"#B0BEC5\",\"#B0BEC5\",\"#B0BEC5\",\"#B0BEC5\",\"#B0BEC5\",\"#B0BEC5\",\"#B0BEC5\",\"#B0BEC5\",\"#B0BEC5\",\"#B0BEC5\",\"#B0BEC5\",\"#B0BEC5\",\"#B0BEC5\",\"#B0BEC5\",\"#B0BEC5\",\"#B0BEC5\",\"#B0BEC5\"]]}],\"label\":\"Topic 18\",\"method\":\"update\"},{\"args\":[{\"marker.color\":[[\"#B0BEC5\",\"#B0BEC5\",\"#B0BEC5\",\"#B0BEC5\",\"#B0BEC5\",\"#B0BEC5\",\"#B0BEC5\",\"#B0BEC5\",\"#B0BEC5\",\"#B0BEC5\",\"#B0BEC5\",\"#B0BEC5\",\"#B0BEC5\",\"#B0BEC5\",\"#B0BEC5\",\"#B0BEC5\",\"#B0BEC5\",\"#B0BEC5\",\"#B0BEC5\",\"red\",\"#B0BEC5\",\"#B0BEC5\",\"#B0BEC5\",\"#B0BEC5\",\"#B0BEC5\",\"#B0BEC5\",\"#B0BEC5\",\"#B0BEC5\",\"#B0BEC5\",\"#B0BEC5\",\"#B0BEC5\",\"#B0BEC5\",\"#B0BEC5\",\"#B0BEC5\",\"#B0BEC5\",\"#B0BEC5\",\"#B0BEC5\",\"#B0BEC5\",\"#B0BEC5\",\"#B0BEC5\",\"#B0BEC5\",\"#B0BEC5\",\"#B0BEC5\",\"#B0BEC5\",\"#B0BEC5\",\"#B0BEC5\",\"#B0BEC5\",\"#B0BEC5\",\"#B0BEC5\",\"#B0BEC5\",\"#B0BEC5\",\"#B0BEC5\",\"#B0BEC5\",\"#B0BEC5\",\"#B0BEC5\",\"#B0BEC5\",\"#B0BEC5\",\"#B0BEC5\",\"#B0BEC5\",\"#B0BEC5\",\"#B0BEC5\",\"#B0BEC5\",\"#B0BEC5\",\"#B0BEC5\"]]}],\"label\":\"Topic 19\",\"method\":\"update\"},{\"args\":[{\"marker.color\":[[\"#B0BEC5\",\"#B0BEC5\",\"#B0BEC5\",\"#B0BEC5\",\"#B0BEC5\",\"#B0BEC5\",\"#B0BEC5\",\"#B0BEC5\",\"#B0BEC5\",\"#B0BEC5\",\"#B0BEC5\",\"#B0BEC5\",\"#B0BEC5\",\"#B0BEC5\",\"#B0BEC5\",\"#B0BEC5\",\"#B0BEC5\",\"#B0BEC5\",\"#B0BEC5\",\"#B0BEC5\",\"red\",\"#B0BEC5\",\"#B0BEC5\",\"#B0BEC5\",\"#B0BEC5\",\"#B0BEC5\",\"#B0BEC5\",\"#B0BEC5\",\"#B0BEC5\",\"#B0BEC5\",\"#B0BEC5\",\"#B0BEC5\",\"#B0BEC5\",\"#B0BEC5\",\"#B0BEC5\",\"#B0BEC5\",\"#B0BEC5\",\"#B0BEC5\",\"#B0BEC5\",\"#B0BEC5\",\"#B0BEC5\",\"#B0BEC5\",\"#B0BEC5\",\"#B0BEC5\",\"#B0BEC5\",\"#B0BEC5\",\"#B0BEC5\",\"#B0BEC5\",\"#B0BEC5\",\"#B0BEC5\",\"#B0BEC5\",\"#B0BEC5\",\"#B0BEC5\",\"#B0BEC5\",\"#B0BEC5\",\"#B0BEC5\",\"#B0BEC5\",\"#B0BEC5\",\"#B0BEC5\",\"#B0BEC5\",\"#B0BEC5\",\"#B0BEC5\",\"#B0BEC5\",\"#B0BEC5\"]]}],\"label\":\"Topic 20\",\"method\":\"update\"},{\"args\":[{\"marker.color\":[[\"#B0BEC5\",\"#B0BEC5\",\"#B0BEC5\",\"#B0BEC5\",\"#B0BEC5\",\"#B0BEC5\",\"#B0BEC5\",\"#B0BEC5\",\"#B0BEC5\",\"#B0BEC5\",\"#B0BEC5\",\"#B0BEC5\",\"#B0BEC5\",\"#B0BEC5\",\"#B0BEC5\",\"#B0BEC5\",\"#B0BEC5\",\"#B0BEC5\",\"#B0BEC5\",\"#B0BEC5\",\"#B0BEC5\",\"red\",\"#B0BEC5\",\"#B0BEC5\",\"#B0BEC5\",\"#B0BEC5\",\"#B0BEC5\",\"#B0BEC5\",\"#B0BEC5\",\"#B0BEC5\",\"#B0BEC5\",\"#B0BEC5\",\"#B0BEC5\",\"#B0BEC5\",\"#B0BEC5\",\"#B0BEC5\",\"#B0BEC5\",\"#B0BEC5\",\"#B0BEC5\",\"#B0BEC5\",\"#B0BEC5\",\"#B0BEC5\",\"#B0BEC5\",\"#B0BEC5\",\"#B0BEC5\",\"#B0BEC5\",\"#B0BEC5\",\"#B0BEC5\",\"#B0BEC5\",\"#B0BEC5\",\"#B0BEC5\",\"#B0BEC5\",\"#B0BEC5\",\"#B0BEC5\",\"#B0BEC5\",\"#B0BEC5\",\"#B0BEC5\",\"#B0BEC5\",\"#B0BEC5\",\"#B0BEC5\",\"#B0BEC5\",\"#B0BEC5\",\"#B0BEC5\",\"#B0BEC5\"]]}],\"label\":\"Topic 21\",\"method\":\"update\"},{\"args\":[{\"marker.color\":[[\"#B0BEC5\",\"#B0BEC5\",\"#B0BEC5\",\"#B0BEC5\",\"#B0BEC5\",\"#B0BEC5\",\"#B0BEC5\",\"#B0BEC5\",\"#B0BEC5\",\"#B0BEC5\",\"#B0BEC5\",\"#B0BEC5\",\"#B0BEC5\",\"#B0BEC5\",\"#B0BEC5\",\"#B0BEC5\",\"#B0BEC5\",\"#B0BEC5\",\"#B0BEC5\",\"#B0BEC5\",\"#B0BEC5\",\"#B0BEC5\",\"red\",\"#B0BEC5\",\"#B0BEC5\",\"#B0BEC5\",\"#B0BEC5\",\"#B0BEC5\",\"#B0BEC5\",\"#B0BEC5\",\"#B0BEC5\",\"#B0BEC5\",\"#B0BEC5\",\"#B0BEC5\",\"#B0BEC5\",\"#B0BEC5\",\"#B0BEC5\",\"#B0BEC5\",\"#B0BEC5\",\"#B0BEC5\",\"#B0BEC5\",\"#B0BEC5\",\"#B0BEC5\",\"#B0BEC5\",\"#B0BEC5\",\"#B0BEC5\",\"#B0BEC5\",\"#B0BEC5\",\"#B0BEC5\",\"#B0BEC5\",\"#B0BEC5\",\"#B0BEC5\",\"#B0BEC5\",\"#B0BEC5\",\"#B0BEC5\",\"#B0BEC5\",\"#B0BEC5\",\"#B0BEC5\",\"#B0BEC5\",\"#B0BEC5\",\"#B0BEC5\",\"#B0BEC5\",\"#B0BEC5\",\"#B0BEC5\"]]}],\"label\":\"Topic 22\",\"method\":\"update\"},{\"args\":[{\"marker.color\":[[\"#B0BEC5\",\"#B0BEC5\",\"#B0BEC5\",\"#B0BEC5\",\"#B0BEC5\",\"#B0BEC5\",\"#B0BEC5\",\"#B0BEC5\",\"#B0BEC5\",\"#B0BEC5\",\"#B0BEC5\",\"#B0BEC5\",\"#B0BEC5\",\"#B0BEC5\",\"#B0BEC5\",\"#B0BEC5\",\"#B0BEC5\",\"#B0BEC5\",\"#B0BEC5\",\"#B0BEC5\",\"#B0BEC5\",\"#B0BEC5\",\"#B0BEC5\",\"red\",\"#B0BEC5\",\"#B0BEC5\",\"#B0BEC5\",\"#B0BEC5\",\"#B0BEC5\",\"#B0BEC5\",\"#B0BEC5\",\"#B0BEC5\",\"#B0BEC5\",\"#B0BEC5\",\"#B0BEC5\",\"#B0BEC5\",\"#B0BEC5\",\"#B0BEC5\",\"#B0BEC5\",\"#B0BEC5\",\"#B0BEC5\",\"#B0BEC5\",\"#B0BEC5\",\"#B0BEC5\",\"#B0BEC5\",\"#B0BEC5\",\"#B0BEC5\",\"#B0BEC5\",\"#B0BEC5\",\"#B0BEC5\",\"#B0BEC5\",\"#B0BEC5\",\"#B0BEC5\",\"#B0BEC5\",\"#B0BEC5\",\"#B0BEC5\",\"#B0BEC5\",\"#B0BEC5\",\"#B0BEC5\",\"#B0BEC5\",\"#B0BEC5\",\"#B0BEC5\",\"#B0BEC5\",\"#B0BEC5\"]]}],\"label\":\"Topic 23\",\"method\":\"update\"},{\"args\":[{\"marker.color\":[[\"#B0BEC5\",\"#B0BEC5\",\"#B0BEC5\",\"#B0BEC5\",\"#B0BEC5\",\"#B0BEC5\",\"#B0BEC5\",\"#B0BEC5\",\"#B0BEC5\",\"#B0BEC5\",\"#B0BEC5\",\"#B0BEC5\",\"#B0BEC5\",\"#B0BEC5\",\"#B0BEC5\",\"#B0BEC5\",\"#B0BEC5\",\"#B0BEC5\",\"#B0BEC5\",\"#B0BEC5\",\"#B0BEC5\",\"#B0BEC5\",\"#B0BEC5\",\"#B0BEC5\",\"red\",\"#B0BEC5\",\"#B0BEC5\",\"#B0BEC5\",\"#B0BEC5\",\"#B0BEC5\",\"#B0BEC5\",\"#B0BEC5\",\"#B0BEC5\",\"#B0BEC5\",\"#B0BEC5\",\"#B0BEC5\",\"#B0BEC5\",\"#B0BEC5\",\"#B0BEC5\",\"#B0BEC5\",\"#B0BEC5\",\"#B0BEC5\",\"#B0BEC5\",\"#B0BEC5\",\"#B0BEC5\",\"#B0BEC5\",\"#B0BEC5\",\"#B0BEC5\",\"#B0BEC5\",\"#B0BEC5\",\"#B0BEC5\",\"#B0BEC5\",\"#B0BEC5\",\"#B0BEC5\",\"#B0BEC5\",\"#B0BEC5\",\"#B0BEC5\",\"#B0BEC5\",\"#B0BEC5\",\"#B0BEC5\",\"#B0BEC5\",\"#B0BEC5\",\"#B0BEC5\",\"#B0BEC5\"]]}],\"label\":\"Topic 24\",\"method\":\"update\"},{\"args\":[{\"marker.color\":[[\"#B0BEC5\",\"#B0BEC5\",\"#B0BEC5\",\"#B0BEC5\",\"#B0BEC5\",\"#B0BEC5\",\"#B0BEC5\",\"#B0BEC5\",\"#B0BEC5\",\"#B0BEC5\",\"#B0BEC5\",\"#B0BEC5\",\"#B0BEC5\",\"#B0BEC5\",\"#B0BEC5\",\"#B0BEC5\",\"#B0BEC5\",\"#B0BEC5\",\"#B0BEC5\",\"#B0BEC5\",\"#B0BEC5\",\"#B0BEC5\",\"#B0BEC5\",\"#B0BEC5\",\"#B0BEC5\",\"red\",\"#B0BEC5\",\"#B0BEC5\",\"#B0BEC5\",\"#B0BEC5\",\"#B0BEC5\",\"#B0BEC5\",\"#B0BEC5\",\"#B0BEC5\",\"#B0BEC5\",\"#B0BEC5\",\"#B0BEC5\",\"#B0BEC5\",\"#B0BEC5\",\"#B0BEC5\",\"#B0BEC5\",\"#B0BEC5\",\"#B0BEC5\",\"#B0BEC5\",\"#B0BEC5\",\"#B0BEC5\",\"#B0BEC5\",\"#B0BEC5\",\"#B0BEC5\",\"#B0BEC5\",\"#B0BEC5\",\"#B0BEC5\",\"#B0BEC5\",\"#B0BEC5\",\"#B0BEC5\",\"#B0BEC5\",\"#B0BEC5\",\"#B0BEC5\",\"#B0BEC5\",\"#B0BEC5\",\"#B0BEC5\",\"#B0BEC5\",\"#B0BEC5\",\"#B0BEC5\"]]}],\"label\":\"Topic 25\",\"method\":\"update\"},{\"args\":[{\"marker.color\":[[\"#B0BEC5\",\"#B0BEC5\",\"#B0BEC5\",\"#B0BEC5\",\"#B0BEC5\",\"#B0BEC5\",\"#B0BEC5\",\"#B0BEC5\",\"#B0BEC5\",\"#B0BEC5\",\"#B0BEC5\",\"#B0BEC5\",\"#B0BEC5\",\"#B0BEC5\",\"#B0BEC5\",\"#B0BEC5\",\"#B0BEC5\",\"#B0BEC5\",\"#B0BEC5\",\"#B0BEC5\",\"#B0BEC5\",\"#B0BEC5\",\"#B0BEC5\",\"#B0BEC5\",\"#B0BEC5\",\"#B0BEC5\",\"red\",\"#B0BEC5\",\"#B0BEC5\",\"#B0BEC5\",\"#B0BEC5\",\"#B0BEC5\",\"#B0BEC5\",\"#B0BEC5\",\"#B0BEC5\",\"#B0BEC5\",\"#B0BEC5\",\"#B0BEC5\",\"#B0BEC5\",\"#B0BEC5\",\"#B0BEC5\",\"#B0BEC5\",\"#B0BEC5\",\"#B0BEC5\",\"#B0BEC5\",\"#B0BEC5\",\"#B0BEC5\",\"#B0BEC5\",\"#B0BEC5\",\"#B0BEC5\",\"#B0BEC5\",\"#B0BEC5\",\"#B0BEC5\",\"#B0BEC5\",\"#B0BEC5\",\"#B0BEC5\",\"#B0BEC5\",\"#B0BEC5\",\"#B0BEC5\",\"#B0BEC5\",\"#B0BEC5\",\"#B0BEC5\",\"#B0BEC5\",\"#B0BEC5\"]]}],\"label\":\"Topic 26\",\"method\":\"update\"},{\"args\":[{\"marker.color\":[[\"#B0BEC5\",\"#B0BEC5\",\"#B0BEC5\",\"#B0BEC5\",\"#B0BEC5\",\"#B0BEC5\",\"#B0BEC5\",\"#B0BEC5\",\"#B0BEC5\",\"#B0BEC5\",\"#B0BEC5\",\"#B0BEC5\",\"#B0BEC5\",\"#B0BEC5\",\"#B0BEC5\",\"#B0BEC5\",\"#B0BEC5\",\"#B0BEC5\",\"#B0BEC5\",\"#B0BEC5\",\"#B0BEC5\",\"#B0BEC5\",\"#B0BEC5\",\"#B0BEC5\",\"#B0BEC5\",\"#B0BEC5\",\"#B0BEC5\",\"red\",\"#B0BEC5\",\"#B0BEC5\",\"#B0BEC5\",\"#B0BEC5\",\"#B0BEC5\",\"#B0BEC5\",\"#B0BEC5\",\"#B0BEC5\",\"#B0BEC5\",\"#B0BEC5\",\"#B0BEC5\",\"#B0BEC5\",\"#B0BEC5\",\"#B0BEC5\",\"#B0BEC5\",\"#B0BEC5\",\"#B0BEC5\",\"#B0BEC5\",\"#B0BEC5\",\"#B0BEC5\",\"#B0BEC5\",\"#B0BEC5\",\"#B0BEC5\",\"#B0BEC5\",\"#B0BEC5\",\"#B0BEC5\",\"#B0BEC5\",\"#B0BEC5\",\"#B0BEC5\",\"#B0BEC5\",\"#B0BEC5\",\"#B0BEC5\",\"#B0BEC5\",\"#B0BEC5\",\"#B0BEC5\",\"#B0BEC5\"]]}],\"label\":\"Topic 27\",\"method\":\"update\"},{\"args\":[{\"marker.color\":[[\"#B0BEC5\",\"#B0BEC5\",\"#B0BEC5\",\"#B0BEC5\",\"#B0BEC5\",\"#B0BEC5\",\"#B0BEC5\",\"#B0BEC5\",\"#B0BEC5\",\"#B0BEC5\",\"#B0BEC5\",\"#B0BEC5\",\"#B0BEC5\",\"#B0BEC5\",\"#B0BEC5\",\"#B0BEC5\",\"#B0BEC5\",\"#B0BEC5\",\"#B0BEC5\",\"#B0BEC5\",\"#B0BEC5\",\"#B0BEC5\",\"#B0BEC5\",\"#B0BEC5\",\"#B0BEC5\",\"#B0BEC5\",\"#B0BEC5\",\"#B0BEC5\",\"red\",\"#B0BEC5\",\"#B0BEC5\",\"#B0BEC5\",\"#B0BEC5\",\"#B0BEC5\",\"#B0BEC5\",\"#B0BEC5\",\"#B0BEC5\",\"#B0BEC5\",\"#B0BEC5\",\"#B0BEC5\",\"#B0BEC5\",\"#B0BEC5\",\"#B0BEC5\",\"#B0BEC5\",\"#B0BEC5\",\"#B0BEC5\",\"#B0BEC5\",\"#B0BEC5\",\"#B0BEC5\",\"#B0BEC5\",\"#B0BEC5\",\"#B0BEC5\",\"#B0BEC5\",\"#B0BEC5\",\"#B0BEC5\",\"#B0BEC5\",\"#B0BEC5\",\"#B0BEC5\",\"#B0BEC5\",\"#B0BEC5\",\"#B0BEC5\",\"#B0BEC5\",\"#B0BEC5\",\"#B0BEC5\"]]}],\"label\":\"Topic 28\",\"method\":\"update\"},{\"args\":[{\"marker.color\":[[\"#B0BEC5\",\"#B0BEC5\",\"#B0BEC5\",\"#B0BEC5\",\"#B0BEC5\",\"#B0BEC5\",\"#B0BEC5\",\"#B0BEC5\",\"#B0BEC5\",\"#B0BEC5\",\"#B0BEC5\",\"#B0BEC5\",\"#B0BEC5\",\"#B0BEC5\",\"#B0BEC5\",\"#B0BEC5\",\"#B0BEC5\",\"#B0BEC5\",\"#B0BEC5\",\"#B0BEC5\",\"#B0BEC5\",\"#B0BEC5\",\"#B0BEC5\",\"#B0BEC5\",\"#B0BEC5\",\"#B0BEC5\",\"#B0BEC5\",\"#B0BEC5\",\"#B0BEC5\",\"red\",\"#B0BEC5\",\"#B0BEC5\",\"#B0BEC5\",\"#B0BEC5\",\"#B0BEC5\",\"#B0BEC5\",\"#B0BEC5\",\"#B0BEC5\",\"#B0BEC5\",\"#B0BEC5\",\"#B0BEC5\",\"#B0BEC5\",\"#B0BEC5\",\"#B0BEC5\",\"#B0BEC5\",\"#B0BEC5\",\"#B0BEC5\",\"#B0BEC5\",\"#B0BEC5\",\"#B0BEC5\",\"#B0BEC5\",\"#B0BEC5\",\"#B0BEC5\",\"#B0BEC5\",\"#B0BEC5\",\"#B0BEC5\",\"#B0BEC5\",\"#B0BEC5\",\"#B0BEC5\",\"#B0BEC5\",\"#B0BEC5\",\"#B0BEC5\",\"#B0BEC5\",\"#B0BEC5\"]]}],\"label\":\"Topic 29\",\"method\":\"update\"},{\"args\":[{\"marker.color\":[[\"#B0BEC5\",\"#B0BEC5\",\"#B0BEC5\",\"#B0BEC5\",\"#B0BEC5\",\"#B0BEC5\",\"#B0BEC5\",\"#B0BEC5\",\"#B0BEC5\",\"#B0BEC5\",\"#B0BEC5\",\"#B0BEC5\",\"#B0BEC5\",\"#B0BEC5\",\"#B0BEC5\",\"#B0BEC5\",\"#B0BEC5\",\"#B0BEC5\",\"#B0BEC5\",\"#B0BEC5\",\"#B0BEC5\",\"#B0BEC5\",\"#B0BEC5\",\"#B0BEC5\",\"#B0BEC5\",\"#B0BEC5\",\"#B0BEC5\",\"#B0BEC5\",\"#B0BEC5\",\"#B0BEC5\",\"red\",\"#B0BEC5\",\"#B0BEC5\",\"#B0BEC5\",\"#B0BEC5\",\"#B0BEC5\",\"#B0BEC5\",\"#B0BEC5\",\"#B0BEC5\",\"#B0BEC5\",\"#B0BEC5\",\"#B0BEC5\",\"#B0BEC5\",\"#B0BEC5\",\"#B0BEC5\",\"#B0BEC5\",\"#B0BEC5\",\"#B0BEC5\",\"#B0BEC5\",\"#B0BEC5\",\"#B0BEC5\",\"#B0BEC5\",\"#B0BEC5\",\"#B0BEC5\",\"#B0BEC5\",\"#B0BEC5\",\"#B0BEC5\",\"#B0BEC5\",\"#B0BEC5\",\"#B0BEC5\",\"#B0BEC5\",\"#B0BEC5\",\"#B0BEC5\",\"#B0BEC5\"]]}],\"label\":\"Topic 30\",\"method\":\"update\"},{\"args\":[{\"marker.color\":[[\"#B0BEC5\",\"#B0BEC5\",\"#B0BEC5\",\"#B0BEC5\",\"#B0BEC5\",\"#B0BEC5\",\"#B0BEC5\",\"#B0BEC5\",\"#B0BEC5\",\"#B0BEC5\",\"#B0BEC5\",\"#B0BEC5\",\"#B0BEC5\",\"#B0BEC5\",\"#B0BEC5\",\"#B0BEC5\",\"#B0BEC5\",\"#B0BEC5\",\"#B0BEC5\",\"#B0BEC5\",\"#B0BEC5\",\"#B0BEC5\",\"#B0BEC5\",\"#B0BEC5\",\"#B0BEC5\",\"#B0BEC5\",\"#B0BEC5\",\"#B0BEC5\",\"#B0BEC5\",\"#B0BEC5\",\"#B0BEC5\",\"red\",\"#B0BEC5\",\"#B0BEC5\",\"#B0BEC5\",\"#B0BEC5\",\"#B0BEC5\",\"#B0BEC5\",\"#B0BEC5\",\"#B0BEC5\",\"#B0BEC5\",\"#B0BEC5\",\"#B0BEC5\",\"#B0BEC5\",\"#B0BEC5\",\"#B0BEC5\",\"#B0BEC5\",\"#B0BEC5\",\"#B0BEC5\",\"#B0BEC5\",\"#B0BEC5\",\"#B0BEC5\",\"#B0BEC5\",\"#B0BEC5\",\"#B0BEC5\",\"#B0BEC5\",\"#B0BEC5\",\"#B0BEC5\",\"#B0BEC5\",\"#B0BEC5\",\"#B0BEC5\",\"#B0BEC5\",\"#B0BEC5\",\"#B0BEC5\"]]}],\"label\":\"Topic 31\",\"method\":\"update\"},{\"args\":[{\"marker.color\":[[\"#B0BEC5\",\"#B0BEC5\",\"#B0BEC5\",\"#B0BEC5\",\"#B0BEC5\",\"#B0BEC5\",\"#B0BEC5\",\"#B0BEC5\",\"#B0BEC5\",\"#B0BEC5\",\"#B0BEC5\",\"#B0BEC5\",\"#B0BEC5\",\"#B0BEC5\",\"#B0BEC5\",\"#B0BEC5\",\"#B0BEC5\",\"#B0BEC5\",\"#B0BEC5\",\"#B0BEC5\",\"#B0BEC5\",\"#B0BEC5\",\"#B0BEC5\",\"#B0BEC5\",\"#B0BEC5\",\"#B0BEC5\",\"#B0BEC5\",\"#B0BEC5\",\"#B0BEC5\",\"#B0BEC5\",\"#B0BEC5\",\"#B0BEC5\",\"red\",\"#B0BEC5\",\"#B0BEC5\",\"#B0BEC5\",\"#B0BEC5\",\"#B0BEC5\",\"#B0BEC5\",\"#B0BEC5\",\"#B0BEC5\",\"#B0BEC5\",\"#B0BEC5\",\"#B0BEC5\",\"#B0BEC5\",\"#B0BEC5\",\"#B0BEC5\",\"#B0BEC5\",\"#B0BEC5\",\"#B0BEC5\",\"#B0BEC5\",\"#B0BEC5\",\"#B0BEC5\",\"#B0BEC5\",\"#B0BEC5\",\"#B0BEC5\",\"#B0BEC5\",\"#B0BEC5\",\"#B0BEC5\",\"#B0BEC5\",\"#B0BEC5\",\"#B0BEC5\",\"#B0BEC5\",\"#B0BEC5\"]]}],\"label\":\"Topic 32\",\"method\":\"update\"},{\"args\":[{\"marker.color\":[[\"#B0BEC5\",\"#B0BEC5\",\"#B0BEC5\",\"#B0BEC5\",\"#B0BEC5\",\"#B0BEC5\",\"#B0BEC5\",\"#B0BEC5\",\"#B0BEC5\",\"#B0BEC5\",\"#B0BEC5\",\"#B0BEC5\",\"#B0BEC5\",\"#B0BEC5\",\"#B0BEC5\",\"#B0BEC5\",\"#B0BEC5\",\"#B0BEC5\",\"#B0BEC5\",\"#B0BEC5\",\"#B0BEC5\",\"#B0BEC5\",\"#B0BEC5\",\"#B0BEC5\",\"#B0BEC5\",\"#B0BEC5\",\"#B0BEC5\",\"#B0BEC5\",\"#B0BEC5\",\"#B0BEC5\",\"#B0BEC5\",\"#B0BEC5\",\"#B0BEC5\",\"red\",\"#B0BEC5\",\"#B0BEC5\",\"#B0BEC5\",\"#B0BEC5\",\"#B0BEC5\",\"#B0BEC5\",\"#B0BEC5\",\"#B0BEC5\",\"#B0BEC5\",\"#B0BEC5\",\"#B0BEC5\",\"#B0BEC5\",\"#B0BEC5\",\"#B0BEC5\",\"#B0BEC5\",\"#B0BEC5\",\"#B0BEC5\",\"#B0BEC5\",\"#B0BEC5\",\"#B0BEC5\",\"#B0BEC5\",\"#B0BEC5\",\"#B0BEC5\",\"#B0BEC5\",\"#B0BEC5\",\"#B0BEC5\",\"#B0BEC5\",\"#B0BEC5\",\"#B0BEC5\",\"#B0BEC5\"]]}],\"label\":\"Topic 33\",\"method\":\"update\"},{\"args\":[{\"marker.color\":[[\"#B0BEC5\",\"#B0BEC5\",\"#B0BEC5\",\"#B0BEC5\",\"#B0BEC5\",\"#B0BEC5\",\"#B0BEC5\",\"#B0BEC5\",\"#B0BEC5\",\"#B0BEC5\",\"#B0BEC5\",\"#B0BEC5\",\"#B0BEC5\",\"#B0BEC5\",\"#B0BEC5\",\"#B0BEC5\",\"#B0BEC5\",\"#B0BEC5\",\"#B0BEC5\",\"#B0BEC5\",\"#B0BEC5\",\"#B0BEC5\",\"#B0BEC5\",\"#B0BEC5\",\"#B0BEC5\",\"#B0BEC5\",\"#B0BEC5\",\"#B0BEC5\",\"#B0BEC5\",\"#B0BEC5\",\"#B0BEC5\",\"#B0BEC5\",\"#B0BEC5\",\"#B0BEC5\",\"red\",\"#B0BEC5\",\"#B0BEC5\",\"#B0BEC5\",\"#B0BEC5\",\"#B0BEC5\",\"#B0BEC5\",\"#B0BEC5\",\"#B0BEC5\",\"#B0BEC5\",\"#B0BEC5\",\"#B0BEC5\",\"#B0BEC5\",\"#B0BEC5\",\"#B0BEC5\",\"#B0BEC5\",\"#B0BEC5\",\"#B0BEC5\",\"#B0BEC5\",\"#B0BEC5\",\"#B0BEC5\",\"#B0BEC5\",\"#B0BEC5\",\"#B0BEC5\",\"#B0BEC5\",\"#B0BEC5\",\"#B0BEC5\",\"#B0BEC5\",\"#B0BEC5\",\"#B0BEC5\"]]}],\"label\":\"Topic 34\",\"method\":\"update\"},{\"args\":[{\"marker.color\":[[\"#B0BEC5\",\"#B0BEC5\",\"#B0BEC5\",\"#B0BEC5\",\"#B0BEC5\",\"#B0BEC5\",\"#B0BEC5\",\"#B0BEC5\",\"#B0BEC5\",\"#B0BEC5\",\"#B0BEC5\",\"#B0BEC5\",\"#B0BEC5\",\"#B0BEC5\",\"#B0BEC5\",\"#B0BEC5\",\"#B0BEC5\",\"#B0BEC5\",\"#B0BEC5\",\"#B0BEC5\",\"#B0BEC5\",\"#B0BEC5\",\"#B0BEC5\",\"#B0BEC5\",\"#B0BEC5\",\"#B0BEC5\",\"#B0BEC5\",\"#B0BEC5\",\"#B0BEC5\",\"#B0BEC5\",\"#B0BEC5\",\"#B0BEC5\",\"#B0BEC5\",\"#B0BEC5\",\"#B0BEC5\",\"red\",\"#B0BEC5\",\"#B0BEC5\",\"#B0BEC5\",\"#B0BEC5\",\"#B0BEC5\",\"#B0BEC5\",\"#B0BEC5\",\"#B0BEC5\",\"#B0BEC5\",\"#B0BEC5\",\"#B0BEC5\",\"#B0BEC5\",\"#B0BEC5\",\"#B0BEC5\",\"#B0BEC5\",\"#B0BEC5\",\"#B0BEC5\",\"#B0BEC5\",\"#B0BEC5\",\"#B0BEC5\",\"#B0BEC5\",\"#B0BEC5\",\"#B0BEC5\",\"#B0BEC5\",\"#B0BEC5\",\"#B0BEC5\",\"#B0BEC5\",\"#B0BEC5\"]]}],\"label\":\"Topic 35\",\"method\":\"update\"},{\"args\":[{\"marker.color\":[[\"#B0BEC5\",\"#B0BEC5\",\"#B0BEC5\",\"#B0BEC5\",\"#B0BEC5\",\"#B0BEC5\",\"#B0BEC5\",\"#B0BEC5\",\"#B0BEC5\",\"#B0BEC5\",\"#B0BEC5\",\"#B0BEC5\",\"#B0BEC5\",\"#B0BEC5\",\"#B0BEC5\",\"#B0BEC5\",\"#B0BEC5\",\"#B0BEC5\",\"#B0BEC5\",\"#B0BEC5\",\"#B0BEC5\",\"#B0BEC5\",\"#B0BEC5\",\"#B0BEC5\",\"#B0BEC5\",\"#B0BEC5\",\"#B0BEC5\",\"#B0BEC5\",\"#B0BEC5\",\"#B0BEC5\",\"#B0BEC5\",\"#B0BEC5\",\"#B0BEC5\",\"#B0BEC5\",\"#B0BEC5\",\"#B0BEC5\",\"red\",\"#B0BEC5\",\"#B0BEC5\",\"#B0BEC5\",\"#B0BEC5\",\"#B0BEC5\",\"#B0BEC5\",\"#B0BEC5\",\"#B0BEC5\",\"#B0BEC5\",\"#B0BEC5\",\"#B0BEC5\",\"#B0BEC5\",\"#B0BEC5\",\"#B0BEC5\",\"#B0BEC5\",\"#B0BEC5\",\"#B0BEC5\",\"#B0BEC5\",\"#B0BEC5\",\"#B0BEC5\",\"#B0BEC5\",\"#B0BEC5\",\"#B0BEC5\",\"#B0BEC5\",\"#B0BEC5\",\"#B0BEC5\",\"#B0BEC5\"]]}],\"label\":\"Topic 36\",\"method\":\"update\"},{\"args\":[{\"marker.color\":[[\"#B0BEC5\",\"#B0BEC5\",\"#B0BEC5\",\"#B0BEC5\",\"#B0BEC5\",\"#B0BEC5\",\"#B0BEC5\",\"#B0BEC5\",\"#B0BEC5\",\"#B0BEC5\",\"#B0BEC5\",\"#B0BEC5\",\"#B0BEC5\",\"#B0BEC5\",\"#B0BEC5\",\"#B0BEC5\",\"#B0BEC5\",\"#B0BEC5\",\"#B0BEC5\",\"#B0BEC5\",\"#B0BEC5\",\"#B0BEC5\",\"#B0BEC5\",\"#B0BEC5\",\"#B0BEC5\",\"#B0BEC5\",\"#B0BEC5\",\"#B0BEC5\",\"#B0BEC5\",\"#B0BEC5\",\"#B0BEC5\",\"#B0BEC5\",\"#B0BEC5\",\"#B0BEC5\",\"#B0BEC5\",\"#B0BEC5\",\"#B0BEC5\",\"red\",\"#B0BEC5\",\"#B0BEC5\",\"#B0BEC5\",\"#B0BEC5\",\"#B0BEC5\",\"#B0BEC5\",\"#B0BEC5\",\"#B0BEC5\",\"#B0BEC5\",\"#B0BEC5\",\"#B0BEC5\",\"#B0BEC5\",\"#B0BEC5\",\"#B0BEC5\",\"#B0BEC5\",\"#B0BEC5\",\"#B0BEC5\",\"#B0BEC5\",\"#B0BEC5\",\"#B0BEC5\",\"#B0BEC5\",\"#B0BEC5\",\"#B0BEC5\",\"#B0BEC5\",\"#B0BEC5\",\"#B0BEC5\"]]}],\"label\":\"Topic 37\",\"method\":\"update\"},{\"args\":[{\"marker.color\":[[\"#B0BEC5\",\"#B0BEC5\",\"#B0BEC5\",\"#B0BEC5\",\"#B0BEC5\",\"#B0BEC5\",\"#B0BEC5\",\"#B0BEC5\",\"#B0BEC5\",\"#B0BEC5\",\"#B0BEC5\",\"#B0BEC5\",\"#B0BEC5\",\"#B0BEC5\",\"#B0BEC5\",\"#B0BEC5\",\"#B0BEC5\",\"#B0BEC5\",\"#B0BEC5\",\"#B0BEC5\",\"#B0BEC5\",\"#B0BEC5\",\"#B0BEC5\",\"#B0BEC5\",\"#B0BEC5\",\"#B0BEC5\",\"#B0BEC5\",\"#B0BEC5\",\"#B0BEC5\",\"#B0BEC5\",\"#B0BEC5\",\"#B0BEC5\",\"#B0BEC5\",\"#B0BEC5\",\"#B0BEC5\",\"#B0BEC5\",\"#B0BEC5\",\"#B0BEC5\",\"red\",\"#B0BEC5\",\"#B0BEC5\",\"#B0BEC5\",\"#B0BEC5\",\"#B0BEC5\",\"#B0BEC5\",\"#B0BEC5\",\"#B0BEC5\",\"#B0BEC5\",\"#B0BEC5\",\"#B0BEC5\",\"#B0BEC5\",\"#B0BEC5\",\"#B0BEC5\",\"#B0BEC5\",\"#B0BEC5\",\"#B0BEC5\",\"#B0BEC5\",\"#B0BEC5\",\"#B0BEC5\",\"#B0BEC5\",\"#B0BEC5\",\"#B0BEC5\",\"#B0BEC5\",\"#B0BEC5\"]]}],\"label\":\"Topic 38\",\"method\":\"update\"},{\"args\":[{\"marker.color\":[[\"#B0BEC5\",\"#B0BEC5\",\"#B0BEC5\",\"#B0BEC5\",\"#B0BEC5\",\"#B0BEC5\",\"#B0BEC5\",\"#B0BEC5\",\"#B0BEC5\",\"#B0BEC5\",\"#B0BEC5\",\"#B0BEC5\",\"#B0BEC5\",\"#B0BEC5\",\"#B0BEC5\",\"#B0BEC5\",\"#B0BEC5\",\"#B0BEC5\",\"#B0BEC5\",\"#B0BEC5\",\"#B0BEC5\",\"#B0BEC5\",\"#B0BEC5\",\"#B0BEC5\",\"#B0BEC5\",\"#B0BEC5\",\"#B0BEC5\",\"#B0BEC5\",\"#B0BEC5\",\"#B0BEC5\",\"#B0BEC5\",\"#B0BEC5\",\"#B0BEC5\",\"#B0BEC5\",\"#B0BEC5\",\"#B0BEC5\",\"#B0BEC5\",\"#B0BEC5\",\"#B0BEC5\",\"red\",\"#B0BEC5\",\"#B0BEC5\",\"#B0BEC5\",\"#B0BEC5\",\"#B0BEC5\",\"#B0BEC5\",\"#B0BEC5\",\"#B0BEC5\",\"#B0BEC5\",\"#B0BEC5\",\"#B0BEC5\",\"#B0BEC5\",\"#B0BEC5\",\"#B0BEC5\",\"#B0BEC5\",\"#B0BEC5\",\"#B0BEC5\",\"#B0BEC5\",\"#B0BEC5\",\"#B0BEC5\",\"#B0BEC5\",\"#B0BEC5\",\"#B0BEC5\",\"#B0BEC5\"]]}],\"label\":\"Topic 39\",\"method\":\"update\"},{\"args\":[{\"marker.color\":[[\"#B0BEC5\",\"#B0BEC5\",\"#B0BEC5\",\"#B0BEC5\",\"#B0BEC5\",\"#B0BEC5\",\"#B0BEC5\",\"#B0BEC5\",\"#B0BEC5\",\"#B0BEC5\",\"#B0BEC5\",\"#B0BEC5\",\"#B0BEC5\",\"#B0BEC5\",\"#B0BEC5\",\"#B0BEC5\",\"#B0BEC5\",\"#B0BEC5\",\"#B0BEC5\",\"#B0BEC5\",\"#B0BEC5\",\"#B0BEC5\",\"#B0BEC5\",\"#B0BEC5\",\"#B0BEC5\",\"#B0BEC5\",\"#B0BEC5\",\"#B0BEC5\",\"#B0BEC5\",\"#B0BEC5\",\"#B0BEC5\",\"#B0BEC5\",\"#B0BEC5\",\"#B0BEC5\",\"#B0BEC5\",\"#B0BEC5\",\"#B0BEC5\",\"#B0BEC5\",\"#B0BEC5\",\"#B0BEC5\",\"red\",\"#B0BEC5\",\"#B0BEC5\",\"#B0BEC5\",\"#B0BEC5\",\"#B0BEC5\",\"#B0BEC5\",\"#B0BEC5\",\"#B0BEC5\",\"#B0BEC5\",\"#B0BEC5\",\"#B0BEC5\",\"#B0BEC5\",\"#B0BEC5\",\"#B0BEC5\",\"#B0BEC5\",\"#B0BEC5\",\"#B0BEC5\",\"#B0BEC5\",\"#B0BEC5\",\"#B0BEC5\",\"#B0BEC5\",\"#B0BEC5\",\"#B0BEC5\"]]}],\"label\":\"Topic 40\",\"method\":\"update\"},{\"args\":[{\"marker.color\":[[\"#B0BEC5\",\"#B0BEC5\",\"#B0BEC5\",\"#B0BEC5\",\"#B0BEC5\",\"#B0BEC5\",\"#B0BEC5\",\"#B0BEC5\",\"#B0BEC5\",\"#B0BEC5\",\"#B0BEC5\",\"#B0BEC5\",\"#B0BEC5\",\"#B0BEC5\",\"#B0BEC5\",\"#B0BEC5\",\"#B0BEC5\",\"#B0BEC5\",\"#B0BEC5\",\"#B0BEC5\",\"#B0BEC5\",\"#B0BEC5\",\"#B0BEC5\",\"#B0BEC5\",\"#B0BEC5\",\"#B0BEC5\",\"#B0BEC5\",\"#B0BEC5\",\"#B0BEC5\",\"#B0BEC5\",\"#B0BEC5\",\"#B0BEC5\",\"#B0BEC5\",\"#B0BEC5\",\"#B0BEC5\",\"#B0BEC5\",\"#B0BEC5\",\"#B0BEC5\",\"#B0BEC5\",\"#B0BEC5\",\"#B0BEC5\",\"red\",\"#B0BEC5\",\"#B0BEC5\",\"#B0BEC5\",\"#B0BEC5\",\"#B0BEC5\",\"#B0BEC5\",\"#B0BEC5\",\"#B0BEC5\",\"#B0BEC5\",\"#B0BEC5\",\"#B0BEC5\",\"#B0BEC5\",\"#B0BEC5\",\"#B0BEC5\",\"#B0BEC5\",\"#B0BEC5\",\"#B0BEC5\",\"#B0BEC5\",\"#B0BEC5\",\"#B0BEC5\",\"#B0BEC5\",\"#B0BEC5\"]]}],\"label\":\"Topic 41\",\"method\":\"update\"},{\"args\":[{\"marker.color\":[[\"#B0BEC5\",\"#B0BEC5\",\"#B0BEC5\",\"#B0BEC5\",\"#B0BEC5\",\"#B0BEC5\",\"#B0BEC5\",\"#B0BEC5\",\"#B0BEC5\",\"#B0BEC5\",\"#B0BEC5\",\"#B0BEC5\",\"#B0BEC5\",\"#B0BEC5\",\"#B0BEC5\",\"#B0BEC5\",\"#B0BEC5\",\"#B0BEC5\",\"#B0BEC5\",\"#B0BEC5\",\"#B0BEC5\",\"#B0BEC5\",\"#B0BEC5\",\"#B0BEC5\",\"#B0BEC5\",\"#B0BEC5\",\"#B0BEC5\",\"#B0BEC5\",\"#B0BEC5\",\"#B0BEC5\",\"#B0BEC5\",\"#B0BEC5\",\"#B0BEC5\",\"#B0BEC5\",\"#B0BEC5\",\"#B0BEC5\",\"#B0BEC5\",\"#B0BEC5\",\"#B0BEC5\",\"#B0BEC5\",\"#B0BEC5\",\"#B0BEC5\",\"red\",\"#B0BEC5\",\"#B0BEC5\",\"#B0BEC5\",\"#B0BEC5\",\"#B0BEC5\",\"#B0BEC5\",\"#B0BEC5\",\"#B0BEC5\",\"#B0BEC5\",\"#B0BEC5\",\"#B0BEC5\",\"#B0BEC5\",\"#B0BEC5\",\"#B0BEC5\",\"#B0BEC5\",\"#B0BEC5\",\"#B0BEC5\",\"#B0BEC5\",\"#B0BEC5\",\"#B0BEC5\",\"#B0BEC5\"]]}],\"label\":\"Topic 42\",\"method\":\"update\"},{\"args\":[{\"marker.color\":[[\"#B0BEC5\",\"#B0BEC5\",\"#B0BEC5\",\"#B0BEC5\",\"#B0BEC5\",\"#B0BEC5\",\"#B0BEC5\",\"#B0BEC5\",\"#B0BEC5\",\"#B0BEC5\",\"#B0BEC5\",\"#B0BEC5\",\"#B0BEC5\",\"#B0BEC5\",\"#B0BEC5\",\"#B0BEC5\",\"#B0BEC5\",\"#B0BEC5\",\"#B0BEC5\",\"#B0BEC5\",\"#B0BEC5\",\"#B0BEC5\",\"#B0BEC5\",\"#B0BEC5\",\"#B0BEC5\",\"#B0BEC5\",\"#B0BEC5\",\"#B0BEC5\",\"#B0BEC5\",\"#B0BEC5\",\"#B0BEC5\",\"#B0BEC5\",\"#B0BEC5\",\"#B0BEC5\",\"#B0BEC5\",\"#B0BEC5\",\"#B0BEC5\",\"#B0BEC5\",\"#B0BEC5\",\"#B0BEC5\",\"#B0BEC5\",\"#B0BEC5\",\"#B0BEC5\",\"red\",\"#B0BEC5\",\"#B0BEC5\",\"#B0BEC5\",\"#B0BEC5\",\"#B0BEC5\",\"#B0BEC5\",\"#B0BEC5\",\"#B0BEC5\",\"#B0BEC5\",\"#B0BEC5\",\"#B0BEC5\",\"#B0BEC5\",\"#B0BEC5\",\"#B0BEC5\",\"#B0BEC5\",\"#B0BEC5\",\"#B0BEC5\",\"#B0BEC5\",\"#B0BEC5\",\"#B0BEC5\"]]}],\"label\":\"Topic 43\",\"method\":\"update\"},{\"args\":[{\"marker.color\":[[\"#B0BEC5\",\"#B0BEC5\",\"#B0BEC5\",\"#B0BEC5\",\"#B0BEC5\",\"#B0BEC5\",\"#B0BEC5\",\"#B0BEC5\",\"#B0BEC5\",\"#B0BEC5\",\"#B0BEC5\",\"#B0BEC5\",\"#B0BEC5\",\"#B0BEC5\",\"#B0BEC5\",\"#B0BEC5\",\"#B0BEC5\",\"#B0BEC5\",\"#B0BEC5\",\"#B0BEC5\",\"#B0BEC5\",\"#B0BEC5\",\"#B0BEC5\",\"#B0BEC5\",\"#B0BEC5\",\"#B0BEC5\",\"#B0BEC5\",\"#B0BEC5\",\"#B0BEC5\",\"#B0BEC5\",\"#B0BEC5\",\"#B0BEC5\",\"#B0BEC5\",\"#B0BEC5\",\"#B0BEC5\",\"#B0BEC5\",\"#B0BEC5\",\"#B0BEC5\",\"#B0BEC5\",\"#B0BEC5\",\"#B0BEC5\",\"#B0BEC5\",\"#B0BEC5\",\"#B0BEC5\",\"red\",\"#B0BEC5\",\"#B0BEC5\",\"#B0BEC5\",\"#B0BEC5\",\"#B0BEC5\",\"#B0BEC5\",\"#B0BEC5\",\"#B0BEC5\",\"#B0BEC5\",\"#B0BEC5\",\"#B0BEC5\",\"#B0BEC5\",\"#B0BEC5\",\"#B0BEC5\",\"#B0BEC5\",\"#B0BEC5\",\"#B0BEC5\",\"#B0BEC5\",\"#B0BEC5\"]]}],\"label\":\"Topic 44\",\"method\":\"update\"},{\"args\":[{\"marker.color\":[[\"#B0BEC5\",\"#B0BEC5\",\"#B0BEC5\",\"#B0BEC5\",\"#B0BEC5\",\"#B0BEC5\",\"#B0BEC5\",\"#B0BEC5\",\"#B0BEC5\",\"#B0BEC5\",\"#B0BEC5\",\"#B0BEC5\",\"#B0BEC5\",\"#B0BEC5\",\"#B0BEC5\",\"#B0BEC5\",\"#B0BEC5\",\"#B0BEC5\",\"#B0BEC5\",\"#B0BEC5\",\"#B0BEC5\",\"#B0BEC5\",\"#B0BEC5\",\"#B0BEC5\",\"#B0BEC5\",\"#B0BEC5\",\"#B0BEC5\",\"#B0BEC5\",\"#B0BEC5\",\"#B0BEC5\",\"#B0BEC5\",\"#B0BEC5\",\"#B0BEC5\",\"#B0BEC5\",\"#B0BEC5\",\"#B0BEC5\",\"#B0BEC5\",\"#B0BEC5\",\"#B0BEC5\",\"#B0BEC5\",\"#B0BEC5\",\"#B0BEC5\",\"#B0BEC5\",\"#B0BEC5\",\"#B0BEC5\",\"red\",\"#B0BEC5\",\"#B0BEC5\",\"#B0BEC5\",\"#B0BEC5\",\"#B0BEC5\",\"#B0BEC5\",\"#B0BEC5\",\"#B0BEC5\",\"#B0BEC5\",\"#B0BEC5\",\"#B0BEC5\",\"#B0BEC5\",\"#B0BEC5\",\"#B0BEC5\",\"#B0BEC5\",\"#B0BEC5\",\"#B0BEC5\",\"#B0BEC5\"]]}],\"label\":\"Topic 45\",\"method\":\"update\"},{\"args\":[{\"marker.color\":[[\"#B0BEC5\",\"#B0BEC5\",\"#B0BEC5\",\"#B0BEC5\",\"#B0BEC5\",\"#B0BEC5\",\"#B0BEC5\",\"#B0BEC5\",\"#B0BEC5\",\"#B0BEC5\",\"#B0BEC5\",\"#B0BEC5\",\"#B0BEC5\",\"#B0BEC5\",\"#B0BEC5\",\"#B0BEC5\",\"#B0BEC5\",\"#B0BEC5\",\"#B0BEC5\",\"#B0BEC5\",\"#B0BEC5\",\"#B0BEC5\",\"#B0BEC5\",\"#B0BEC5\",\"#B0BEC5\",\"#B0BEC5\",\"#B0BEC5\",\"#B0BEC5\",\"#B0BEC5\",\"#B0BEC5\",\"#B0BEC5\",\"#B0BEC5\",\"#B0BEC5\",\"#B0BEC5\",\"#B0BEC5\",\"#B0BEC5\",\"#B0BEC5\",\"#B0BEC5\",\"#B0BEC5\",\"#B0BEC5\",\"#B0BEC5\",\"#B0BEC5\",\"#B0BEC5\",\"#B0BEC5\",\"#B0BEC5\",\"#B0BEC5\",\"red\",\"#B0BEC5\",\"#B0BEC5\",\"#B0BEC5\",\"#B0BEC5\",\"#B0BEC5\",\"#B0BEC5\",\"#B0BEC5\",\"#B0BEC5\",\"#B0BEC5\",\"#B0BEC5\",\"#B0BEC5\",\"#B0BEC5\",\"#B0BEC5\",\"#B0BEC5\",\"#B0BEC5\",\"#B0BEC5\",\"#B0BEC5\"]]}],\"label\":\"Topic 46\",\"method\":\"update\"},{\"args\":[{\"marker.color\":[[\"#B0BEC5\",\"#B0BEC5\",\"#B0BEC5\",\"#B0BEC5\",\"#B0BEC5\",\"#B0BEC5\",\"#B0BEC5\",\"#B0BEC5\",\"#B0BEC5\",\"#B0BEC5\",\"#B0BEC5\",\"#B0BEC5\",\"#B0BEC5\",\"#B0BEC5\",\"#B0BEC5\",\"#B0BEC5\",\"#B0BEC5\",\"#B0BEC5\",\"#B0BEC5\",\"#B0BEC5\",\"#B0BEC5\",\"#B0BEC5\",\"#B0BEC5\",\"#B0BEC5\",\"#B0BEC5\",\"#B0BEC5\",\"#B0BEC5\",\"#B0BEC5\",\"#B0BEC5\",\"#B0BEC5\",\"#B0BEC5\",\"#B0BEC5\",\"#B0BEC5\",\"#B0BEC5\",\"#B0BEC5\",\"#B0BEC5\",\"#B0BEC5\",\"#B0BEC5\",\"#B0BEC5\",\"#B0BEC5\",\"#B0BEC5\",\"#B0BEC5\",\"#B0BEC5\",\"#B0BEC5\",\"#B0BEC5\",\"#B0BEC5\",\"#B0BEC5\",\"red\",\"#B0BEC5\",\"#B0BEC5\",\"#B0BEC5\",\"#B0BEC5\",\"#B0BEC5\",\"#B0BEC5\",\"#B0BEC5\",\"#B0BEC5\",\"#B0BEC5\",\"#B0BEC5\",\"#B0BEC5\",\"#B0BEC5\",\"#B0BEC5\",\"#B0BEC5\",\"#B0BEC5\",\"#B0BEC5\"]]}],\"label\":\"Topic 47\",\"method\":\"update\"},{\"args\":[{\"marker.color\":[[\"#B0BEC5\",\"#B0BEC5\",\"#B0BEC5\",\"#B0BEC5\",\"#B0BEC5\",\"#B0BEC5\",\"#B0BEC5\",\"#B0BEC5\",\"#B0BEC5\",\"#B0BEC5\",\"#B0BEC5\",\"#B0BEC5\",\"#B0BEC5\",\"#B0BEC5\",\"#B0BEC5\",\"#B0BEC5\",\"#B0BEC5\",\"#B0BEC5\",\"#B0BEC5\",\"#B0BEC5\",\"#B0BEC5\",\"#B0BEC5\",\"#B0BEC5\",\"#B0BEC5\",\"#B0BEC5\",\"#B0BEC5\",\"#B0BEC5\",\"#B0BEC5\",\"#B0BEC5\",\"#B0BEC5\",\"#B0BEC5\",\"#B0BEC5\",\"#B0BEC5\",\"#B0BEC5\",\"#B0BEC5\",\"#B0BEC5\",\"#B0BEC5\",\"#B0BEC5\",\"#B0BEC5\",\"#B0BEC5\",\"#B0BEC5\",\"#B0BEC5\",\"#B0BEC5\",\"#B0BEC5\",\"#B0BEC5\",\"#B0BEC5\",\"#B0BEC5\",\"#B0BEC5\",\"red\",\"#B0BEC5\",\"#B0BEC5\",\"#B0BEC5\",\"#B0BEC5\",\"#B0BEC5\",\"#B0BEC5\",\"#B0BEC5\",\"#B0BEC5\",\"#B0BEC5\",\"#B0BEC5\",\"#B0BEC5\",\"#B0BEC5\",\"#B0BEC5\",\"#B0BEC5\",\"#B0BEC5\"]]}],\"label\":\"Topic 48\",\"method\":\"update\"},{\"args\":[{\"marker.color\":[[\"#B0BEC5\",\"#B0BEC5\",\"#B0BEC5\",\"#B0BEC5\",\"#B0BEC5\",\"#B0BEC5\",\"#B0BEC5\",\"#B0BEC5\",\"#B0BEC5\",\"#B0BEC5\",\"#B0BEC5\",\"#B0BEC5\",\"#B0BEC5\",\"#B0BEC5\",\"#B0BEC5\",\"#B0BEC5\",\"#B0BEC5\",\"#B0BEC5\",\"#B0BEC5\",\"#B0BEC5\",\"#B0BEC5\",\"#B0BEC5\",\"#B0BEC5\",\"#B0BEC5\",\"#B0BEC5\",\"#B0BEC5\",\"#B0BEC5\",\"#B0BEC5\",\"#B0BEC5\",\"#B0BEC5\",\"#B0BEC5\",\"#B0BEC5\",\"#B0BEC5\",\"#B0BEC5\",\"#B0BEC5\",\"#B0BEC5\",\"#B0BEC5\",\"#B0BEC5\",\"#B0BEC5\",\"#B0BEC5\",\"#B0BEC5\",\"#B0BEC5\",\"#B0BEC5\",\"#B0BEC5\",\"#B0BEC5\",\"#B0BEC5\",\"#B0BEC5\",\"#B0BEC5\",\"#B0BEC5\",\"red\",\"#B0BEC5\",\"#B0BEC5\",\"#B0BEC5\",\"#B0BEC5\",\"#B0BEC5\",\"#B0BEC5\",\"#B0BEC5\",\"#B0BEC5\",\"#B0BEC5\",\"#B0BEC5\",\"#B0BEC5\",\"#B0BEC5\",\"#B0BEC5\",\"#B0BEC5\"]]}],\"label\":\"Topic 49\",\"method\":\"update\"},{\"args\":[{\"marker.color\":[[\"#B0BEC5\",\"#B0BEC5\",\"#B0BEC5\",\"#B0BEC5\",\"#B0BEC5\",\"#B0BEC5\",\"#B0BEC5\",\"#B0BEC5\",\"#B0BEC5\",\"#B0BEC5\",\"#B0BEC5\",\"#B0BEC5\",\"#B0BEC5\",\"#B0BEC5\",\"#B0BEC5\",\"#B0BEC5\",\"#B0BEC5\",\"#B0BEC5\",\"#B0BEC5\",\"#B0BEC5\",\"#B0BEC5\",\"#B0BEC5\",\"#B0BEC5\",\"#B0BEC5\",\"#B0BEC5\",\"#B0BEC5\",\"#B0BEC5\",\"#B0BEC5\",\"#B0BEC5\",\"#B0BEC5\",\"#B0BEC5\",\"#B0BEC5\",\"#B0BEC5\",\"#B0BEC5\",\"#B0BEC5\",\"#B0BEC5\",\"#B0BEC5\",\"#B0BEC5\",\"#B0BEC5\",\"#B0BEC5\",\"#B0BEC5\",\"#B0BEC5\",\"#B0BEC5\",\"#B0BEC5\",\"#B0BEC5\",\"#B0BEC5\",\"#B0BEC5\",\"#B0BEC5\",\"#B0BEC5\",\"#B0BEC5\",\"red\",\"#B0BEC5\",\"#B0BEC5\",\"#B0BEC5\",\"#B0BEC5\",\"#B0BEC5\",\"#B0BEC5\",\"#B0BEC5\",\"#B0BEC5\",\"#B0BEC5\",\"#B0BEC5\",\"#B0BEC5\",\"#B0BEC5\",\"#B0BEC5\"]]}],\"label\":\"Topic 50\",\"method\":\"update\"},{\"args\":[{\"marker.color\":[[\"#B0BEC5\",\"#B0BEC5\",\"#B0BEC5\",\"#B0BEC5\",\"#B0BEC5\",\"#B0BEC5\",\"#B0BEC5\",\"#B0BEC5\",\"#B0BEC5\",\"#B0BEC5\",\"#B0BEC5\",\"#B0BEC5\",\"#B0BEC5\",\"#B0BEC5\",\"#B0BEC5\",\"#B0BEC5\",\"#B0BEC5\",\"#B0BEC5\",\"#B0BEC5\",\"#B0BEC5\",\"#B0BEC5\",\"#B0BEC5\",\"#B0BEC5\",\"#B0BEC5\",\"#B0BEC5\",\"#B0BEC5\",\"#B0BEC5\",\"#B0BEC5\",\"#B0BEC5\",\"#B0BEC5\",\"#B0BEC5\",\"#B0BEC5\",\"#B0BEC5\",\"#B0BEC5\",\"#B0BEC5\",\"#B0BEC5\",\"#B0BEC5\",\"#B0BEC5\",\"#B0BEC5\",\"#B0BEC5\",\"#B0BEC5\",\"#B0BEC5\",\"#B0BEC5\",\"#B0BEC5\",\"#B0BEC5\",\"#B0BEC5\",\"#B0BEC5\",\"#B0BEC5\",\"#B0BEC5\",\"#B0BEC5\",\"#B0BEC5\",\"red\",\"#B0BEC5\",\"#B0BEC5\",\"#B0BEC5\",\"#B0BEC5\",\"#B0BEC5\",\"#B0BEC5\",\"#B0BEC5\",\"#B0BEC5\",\"#B0BEC5\",\"#B0BEC5\",\"#B0BEC5\",\"#B0BEC5\"]]}],\"label\":\"Topic 51\",\"method\":\"update\"},{\"args\":[{\"marker.color\":[[\"#B0BEC5\",\"#B0BEC5\",\"#B0BEC5\",\"#B0BEC5\",\"#B0BEC5\",\"#B0BEC5\",\"#B0BEC5\",\"#B0BEC5\",\"#B0BEC5\",\"#B0BEC5\",\"#B0BEC5\",\"#B0BEC5\",\"#B0BEC5\",\"#B0BEC5\",\"#B0BEC5\",\"#B0BEC5\",\"#B0BEC5\",\"#B0BEC5\",\"#B0BEC5\",\"#B0BEC5\",\"#B0BEC5\",\"#B0BEC5\",\"#B0BEC5\",\"#B0BEC5\",\"#B0BEC5\",\"#B0BEC5\",\"#B0BEC5\",\"#B0BEC5\",\"#B0BEC5\",\"#B0BEC5\",\"#B0BEC5\",\"#B0BEC5\",\"#B0BEC5\",\"#B0BEC5\",\"#B0BEC5\",\"#B0BEC5\",\"#B0BEC5\",\"#B0BEC5\",\"#B0BEC5\",\"#B0BEC5\",\"#B0BEC5\",\"#B0BEC5\",\"#B0BEC5\",\"#B0BEC5\",\"#B0BEC5\",\"#B0BEC5\",\"#B0BEC5\",\"#B0BEC5\",\"#B0BEC5\",\"#B0BEC5\",\"#B0BEC5\",\"#B0BEC5\",\"red\",\"#B0BEC5\",\"#B0BEC5\",\"#B0BEC5\",\"#B0BEC5\",\"#B0BEC5\",\"#B0BEC5\",\"#B0BEC5\",\"#B0BEC5\",\"#B0BEC5\",\"#B0BEC5\",\"#B0BEC5\"]]}],\"label\":\"Topic 52\",\"method\":\"update\"},{\"args\":[{\"marker.color\":[[\"#B0BEC5\",\"#B0BEC5\",\"#B0BEC5\",\"#B0BEC5\",\"#B0BEC5\",\"#B0BEC5\",\"#B0BEC5\",\"#B0BEC5\",\"#B0BEC5\",\"#B0BEC5\",\"#B0BEC5\",\"#B0BEC5\",\"#B0BEC5\",\"#B0BEC5\",\"#B0BEC5\",\"#B0BEC5\",\"#B0BEC5\",\"#B0BEC5\",\"#B0BEC5\",\"#B0BEC5\",\"#B0BEC5\",\"#B0BEC5\",\"#B0BEC5\",\"#B0BEC5\",\"#B0BEC5\",\"#B0BEC5\",\"#B0BEC5\",\"#B0BEC5\",\"#B0BEC5\",\"#B0BEC5\",\"#B0BEC5\",\"#B0BEC5\",\"#B0BEC5\",\"#B0BEC5\",\"#B0BEC5\",\"#B0BEC5\",\"#B0BEC5\",\"#B0BEC5\",\"#B0BEC5\",\"#B0BEC5\",\"#B0BEC5\",\"#B0BEC5\",\"#B0BEC5\",\"#B0BEC5\",\"#B0BEC5\",\"#B0BEC5\",\"#B0BEC5\",\"#B0BEC5\",\"#B0BEC5\",\"#B0BEC5\",\"#B0BEC5\",\"#B0BEC5\",\"#B0BEC5\",\"red\",\"#B0BEC5\",\"#B0BEC5\",\"#B0BEC5\",\"#B0BEC5\",\"#B0BEC5\",\"#B0BEC5\",\"#B0BEC5\",\"#B0BEC5\",\"#B0BEC5\",\"#B0BEC5\"]]}],\"label\":\"Topic 53\",\"method\":\"update\"},{\"args\":[{\"marker.color\":[[\"#B0BEC5\",\"#B0BEC5\",\"#B0BEC5\",\"#B0BEC5\",\"#B0BEC5\",\"#B0BEC5\",\"#B0BEC5\",\"#B0BEC5\",\"#B0BEC5\",\"#B0BEC5\",\"#B0BEC5\",\"#B0BEC5\",\"#B0BEC5\",\"#B0BEC5\",\"#B0BEC5\",\"#B0BEC5\",\"#B0BEC5\",\"#B0BEC5\",\"#B0BEC5\",\"#B0BEC5\",\"#B0BEC5\",\"#B0BEC5\",\"#B0BEC5\",\"#B0BEC5\",\"#B0BEC5\",\"#B0BEC5\",\"#B0BEC5\",\"#B0BEC5\",\"#B0BEC5\",\"#B0BEC5\",\"#B0BEC5\",\"#B0BEC5\",\"#B0BEC5\",\"#B0BEC5\",\"#B0BEC5\",\"#B0BEC5\",\"#B0BEC5\",\"#B0BEC5\",\"#B0BEC5\",\"#B0BEC5\",\"#B0BEC5\",\"#B0BEC5\",\"#B0BEC5\",\"#B0BEC5\",\"#B0BEC5\",\"#B0BEC5\",\"#B0BEC5\",\"#B0BEC5\",\"#B0BEC5\",\"#B0BEC5\",\"#B0BEC5\",\"#B0BEC5\",\"#B0BEC5\",\"#B0BEC5\",\"red\",\"#B0BEC5\",\"#B0BEC5\",\"#B0BEC5\",\"#B0BEC5\",\"#B0BEC5\",\"#B0BEC5\",\"#B0BEC5\",\"#B0BEC5\",\"#B0BEC5\"]]}],\"label\":\"Topic 54\",\"method\":\"update\"},{\"args\":[{\"marker.color\":[[\"#B0BEC5\",\"#B0BEC5\",\"#B0BEC5\",\"#B0BEC5\",\"#B0BEC5\",\"#B0BEC5\",\"#B0BEC5\",\"#B0BEC5\",\"#B0BEC5\",\"#B0BEC5\",\"#B0BEC5\",\"#B0BEC5\",\"#B0BEC5\",\"#B0BEC5\",\"#B0BEC5\",\"#B0BEC5\",\"#B0BEC5\",\"#B0BEC5\",\"#B0BEC5\",\"#B0BEC5\",\"#B0BEC5\",\"#B0BEC5\",\"#B0BEC5\",\"#B0BEC5\",\"#B0BEC5\",\"#B0BEC5\",\"#B0BEC5\",\"#B0BEC5\",\"#B0BEC5\",\"#B0BEC5\",\"#B0BEC5\",\"#B0BEC5\",\"#B0BEC5\",\"#B0BEC5\",\"#B0BEC5\",\"#B0BEC5\",\"#B0BEC5\",\"#B0BEC5\",\"#B0BEC5\",\"#B0BEC5\",\"#B0BEC5\",\"#B0BEC5\",\"#B0BEC5\",\"#B0BEC5\",\"#B0BEC5\",\"#B0BEC5\",\"#B0BEC5\",\"#B0BEC5\",\"#B0BEC5\",\"#B0BEC5\",\"#B0BEC5\",\"#B0BEC5\",\"#B0BEC5\",\"#B0BEC5\",\"#B0BEC5\",\"red\",\"#B0BEC5\",\"#B0BEC5\",\"#B0BEC5\",\"#B0BEC5\",\"#B0BEC5\",\"#B0BEC5\",\"#B0BEC5\",\"#B0BEC5\"]]}],\"label\":\"Topic 55\",\"method\":\"update\"},{\"args\":[{\"marker.color\":[[\"#B0BEC5\",\"#B0BEC5\",\"#B0BEC5\",\"#B0BEC5\",\"#B0BEC5\",\"#B0BEC5\",\"#B0BEC5\",\"#B0BEC5\",\"#B0BEC5\",\"#B0BEC5\",\"#B0BEC5\",\"#B0BEC5\",\"#B0BEC5\",\"#B0BEC5\",\"#B0BEC5\",\"#B0BEC5\",\"#B0BEC5\",\"#B0BEC5\",\"#B0BEC5\",\"#B0BEC5\",\"#B0BEC5\",\"#B0BEC5\",\"#B0BEC5\",\"#B0BEC5\",\"#B0BEC5\",\"#B0BEC5\",\"#B0BEC5\",\"#B0BEC5\",\"#B0BEC5\",\"#B0BEC5\",\"#B0BEC5\",\"#B0BEC5\",\"#B0BEC5\",\"#B0BEC5\",\"#B0BEC5\",\"#B0BEC5\",\"#B0BEC5\",\"#B0BEC5\",\"#B0BEC5\",\"#B0BEC5\",\"#B0BEC5\",\"#B0BEC5\",\"#B0BEC5\",\"#B0BEC5\",\"#B0BEC5\",\"#B0BEC5\",\"#B0BEC5\",\"#B0BEC5\",\"#B0BEC5\",\"#B0BEC5\",\"#B0BEC5\",\"#B0BEC5\",\"#B0BEC5\",\"#B0BEC5\",\"#B0BEC5\",\"#B0BEC5\",\"red\",\"#B0BEC5\",\"#B0BEC5\",\"#B0BEC5\",\"#B0BEC5\",\"#B0BEC5\",\"#B0BEC5\",\"#B0BEC5\"]]}],\"label\":\"Topic 56\",\"method\":\"update\"},{\"args\":[{\"marker.color\":[[\"#B0BEC5\",\"#B0BEC5\",\"#B0BEC5\",\"#B0BEC5\",\"#B0BEC5\",\"#B0BEC5\",\"#B0BEC5\",\"#B0BEC5\",\"#B0BEC5\",\"#B0BEC5\",\"#B0BEC5\",\"#B0BEC5\",\"#B0BEC5\",\"#B0BEC5\",\"#B0BEC5\",\"#B0BEC5\",\"#B0BEC5\",\"#B0BEC5\",\"#B0BEC5\",\"#B0BEC5\",\"#B0BEC5\",\"#B0BEC5\",\"#B0BEC5\",\"#B0BEC5\",\"#B0BEC5\",\"#B0BEC5\",\"#B0BEC5\",\"#B0BEC5\",\"#B0BEC5\",\"#B0BEC5\",\"#B0BEC5\",\"#B0BEC5\",\"#B0BEC5\",\"#B0BEC5\",\"#B0BEC5\",\"#B0BEC5\",\"#B0BEC5\",\"#B0BEC5\",\"#B0BEC5\",\"#B0BEC5\",\"#B0BEC5\",\"#B0BEC5\",\"#B0BEC5\",\"#B0BEC5\",\"#B0BEC5\",\"#B0BEC5\",\"#B0BEC5\",\"#B0BEC5\",\"#B0BEC5\",\"#B0BEC5\",\"#B0BEC5\",\"#B0BEC5\",\"#B0BEC5\",\"#B0BEC5\",\"#B0BEC5\",\"#B0BEC5\",\"#B0BEC5\",\"red\",\"#B0BEC5\",\"#B0BEC5\",\"#B0BEC5\",\"#B0BEC5\",\"#B0BEC5\",\"#B0BEC5\"]]}],\"label\":\"Topic 57\",\"method\":\"update\"},{\"args\":[{\"marker.color\":[[\"#B0BEC5\",\"#B0BEC5\",\"#B0BEC5\",\"#B0BEC5\",\"#B0BEC5\",\"#B0BEC5\",\"#B0BEC5\",\"#B0BEC5\",\"#B0BEC5\",\"#B0BEC5\",\"#B0BEC5\",\"#B0BEC5\",\"#B0BEC5\",\"#B0BEC5\",\"#B0BEC5\",\"#B0BEC5\",\"#B0BEC5\",\"#B0BEC5\",\"#B0BEC5\",\"#B0BEC5\",\"#B0BEC5\",\"#B0BEC5\",\"#B0BEC5\",\"#B0BEC5\",\"#B0BEC5\",\"#B0BEC5\",\"#B0BEC5\",\"#B0BEC5\",\"#B0BEC5\",\"#B0BEC5\",\"#B0BEC5\",\"#B0BEC5\",\"#B0BEC5\",\"#B0BEC5\",\"#B0BEC5\",\"#B0BEC5\",\"#B0BEC5\",\"#B0BEC5\",\"#B0BEC5\",\"#B0BEC5\",\"#B0BEC5\",\"#B0BEC5\",\"#B0BEC5\",\"#B0BEC5\",\"#B0BEC5\",\"#B0BEC5\",\"#B0BEC5\",\"#B0BEC5\",\"#B0BEC5\",\"#B0BEC5\",\"#B0BEC5\",\"#B0BEC5\",\"#B0BEC5\",\"#B0BEC5\",\"#B0BEC5\",\"#B0BEC5\",\"#B0BEC5\",\"#B0BEC5\",\"red\",\"#B0BEC5\",\"#B0BEC5\",\"#B0BEC5\",\"#B0BEC5\",\"#B0BEC5\"]]}],\"label\":\"Topic 58\",\"method\":\"update\"},{\"args\":[{\"marker.color\":[[\"#B0BEC5\",\"#B0BEC5\",\"#B0BEC5\",\"#B0BEC5\",\"#B0BEC5\",\"#B0BEC5\",\"#B0BEC5\",\"#B0BEC5\",\"#B0BEC5\",\"#B0BEC5\",\"#B0BEC5\",\"#B0BEC5\",\"#B0BEC5\",\"#B0BEC5\",\"#B0BEC5\",\"#B0BEC5\",\"#B0BEC5\",\"#B0BEC5\",\"#B0BEC5\",\"#B0BEC5\",\"#B0BEC5\",\"#B0BEC5\",\"#B0BEC5\",\"#B0BEC5\",\"#B0BEC5\",\"#B0BEC5\",\"#B0BEC5\",\"#B0BEC5\",\"#B0BEC5\",\"#B0BEC5\",\"#B0BEC5\",\"#B0BEC5\",\"#B0BEC5\",\"#B0BEC5\",\"#B0BEC5\",\"#B0BEC5\",\"#B0BEC5\",\"#B0BEC5\",\"#B0BEC5\",\"#B0BEC5\",\"#B0BEC5\",\"#B0BEC5\",\"#B0BEC5\",\"#B0BEC5\",\"#B0BEC5\",\"#B0BEC5\",\"#B0BEC5\",\"#B0BEC5\",\"#B0BEC5\",\"#B0BEC5\",\"#B0BEC5\",\"#B0BEC5\",\"#B0BEC5\",\"#B0BEC5\",\"#B0BEC5\",\"#B0BEC5\",\"#B0BEC5\",\"#B0BEC5\",\"#B0BEC5\",\"red\",\"#B0BEC5\",\"#B0BEC5\",\"#B0BEC5\",\"#B0BEC5\"]]}],\"label\":\"Topic 59\",\"method\":\"update\"},{\"args\":[{\"marker.color\":[[\"#B0BEC5\",\"#B0BEC5\",\"#B0BEC5\",\"#B0BEC5\",\"#B0BEC5\",\"#B0BEC5\",\"#B0BEC5\",\"#B0BEC5\",\"#B0BEC5\",\"#B0BEC5\",\"#B0BEC5\",\"#B0BEC5\",\"#B0BEC5\",\"#B0BEC5\",\"#B0BEC5\",\"#B0BEC5\",\"#B0BEC5\",\"#B0BEC5\",\"#B0BEC5\",\"#B0BEC5\",\"#B0BEC5\",\"#B0BEC5\",\"#B0BEC5\",\"#B0BEC5\",\"#B0BEC5\",\"#B0BEC5\",\"#B0BEC5\",\"#B0BEC5\",\"#B0BEC5\",\"#B0BEC5\",\"#B0BEC5\",\"#B0BEC5\",\"#B0BEC5\",\"#B0BEC5\",\"#B0BEC5\",\"#B0BEC5\",\"#B0BEC5\",\"#B0BEC5\",\"#B0BEC5\",\"#B0BEC5\",\"#B0BEC5\",\"#B0BEC5\",\"#B0BEC5\",\"#B0BEC5\",\"#B0BEC5\",\"#B0BEC5\",\"#B0BEC5\",\"#B0BEC5\",\"#B0BEC5\",\"#B0BEC5\",\"#B0BEC5\",\"#B0BEC5\",\"#B0BEC5\",\"#B0BEC5\",\"#B0BEC5\",\"#B0BEC5\",\"#B0BEC5\",\"#B0BEC5\",\"#B0BEC5\",\"#B0BEC5\",\"red\",\"#B0BEC5\",\"#B0BEC5\",\"#B0BEC5\"]]}],\"label\":\"Topic 60\",\"method\":\"update\"},{\"args\":[{\"marker.color\":[[\"#B0BEC5\",\"#B0BEC5\",\"#B0BEC5\",\"#B0BEC5\",\"#B0BEC5\",\"#B0BEC5\",\"#B0BEC5\",\"#B0BEC5\",\"#B0BEC5\",\"#B0BEC5\",\"#B0BEC5\",\"#B0BEC5\",\"#B0BEC5\",\"#B0BEC5\",\"#B0BEC5\",\"#B0BEC5\",\"#B0BEC5\",\"#B0BEC5\",\"#B0BEC5\",\"#B0BEC5\",\"#B0BEC5\",\"#B0BEC5\",\"#B0BEC5\",\"#B0BEC5\",\"#B0BEC5\",\"#B0BEC5\",\"#B0BEC5\",\"#B0BEC5\",\"#B0BEC5\",\"#B0BEC5\",\"#B0BEC5\",\"#B0BEC5\",\"#B0BEC5\",\"#B0BEC5\",\"#B0BEC5\",\"#B0BEC5\",\"#B0BEC5\",\"#B0BEC5\",\"#B0BEC5\",\"#B0BEC5\",\"#B0BEC5\",\"#B0BEC5\",\"#B0BEC5\",\"#B0BEC5\",\"#B0BEC5\",\"#B0BEC5\",\"#B0BEC5\",\"#B0BEC5\",\"#B0BEC5\",\"#B0BEC5\",\"#B0BEC5\",\"#B0BEC5\",\"#B0BEC5\",\"#B0BEC5\",\"#B0BEC5\",\"#B0BEC5\",\"#B0BEC5\",\"#B0BEC5\",\"#B0BEC5\",\"#B0BEC5\",\"#B0BEC5\",\"red\",\"#B0BEC5\",\"#B0BEC5\"]]}],\"label\":\"Topic 61\",\"method\":\"update\"},{\"args\":[{\"marker.color\":[[\"#B0BEC5\",\"#B0BEC5\",\"#B0BEC5\",\"#B0BEC5\",\"#B0BEC5\",\"#B0BEC5\",\"#B0BEC5\",\"#B0BEC5\",\"#B0BEC5\",\"#B0BEC5\",\"#B0BEC5\",\"#B0BEC5\",\"#B0BEC5\",\"#B0BEC5\",\"#B0BEC5\",\"#B0BEC5\",\"#B0BEC5\",\"#B0BEC5\",\"#B0BEC5\",\"#B0BEC5\",\"#B0BEC5\",\"#B0BEC5\",\"#B0BEC5\",\"#B0BEC5\",\"#B0BEC5\",\"#B0BEC5\",\"#B0BEC5\",\"#B0BEC5\",\"#B0BEC5\",\"#B0BEC5\",\"#B0BEC5\",\"#B0BEC5\",\"#B0BEC5\",\"#B0BEC5\",\"#B0BEC5\",\"#B0BEC5\",\"#B0BEC5\",\"#B0BEC5\",\"#B0BEC5\",\"#B0BEC5\",\"#B0BEC5\",\"#B0BEC5\",\"#B0BEC5\",\"#B0BEC5\",\"#B0BEC5\",\"#B0BEC5\",\"#B0BEC5\",\"#B0BEC5\",\"#B0BEC5\",\"#B0BEC5\",\"#B0BEC5\",\"#B0BEC5\",\"#B0BEC5\",\"#B0BEC5\",\"#B0BEC5\",\"#B0BEC5\",\"#B0BEC5\",\"#B0BEC5\",\"#B0BEC5\",\"#B0BEC5\",\"#B0BEC5\",\"#B0BEC5\",\"red\",\"#B0BEC5\"]]}],\"label\":\"Topic 62\",\"method\":\"update\"},{\"args\":[{\"marker.color\":[[\"#B0BEC5\",\"#B0BEC5\",\"#B0BEC5\",\"#B0BEC5\",\"#B0BEC5\",\"#B0BEC5\",\"#B0BEC5\",\"#B0BEC5\",\"#B0BEC5\",\"#B0BEC5\",\"#B0BEC5\",\"#B0BEC5\",\"#B0BEC5\",\"#B0BEC5\",\"#B0BEC5\",\"#B0BEC5\",\"#B0BEC5\",\"#B0BEC5\",\"#B0BEC5\",\"#B0BEC5\",\"#B0BEC5\",\"#B0BEC5\",\"#B0BEC5\",\"#B0BEC5\",\"#B0BEC5\",\"#B0BEC5\",\"#B0BEC5\",\"#B0BEC5\",\"#B0BEC5\",\"#B0BEC5\",\"#B0BEC5\",\"#B0BEC5\",\"#B0BEC5\",\"#B0BEC5\",\"#B0BEC5\",\"#B0BEC5\",\"#B0BEC5\",\"#B0BEC5\",\"#B0BEC5\",\"#B0BEC5\",\"#B0BEC5\",\"#B0BEC5\",\"#B0BEC5\",\"#B0BEC5\",\"#B0BEC5\",\"#B0BEC5\",\"#B0BEC5\",\"#B0BEC5\",\"#B0BEC5\",\"#B0BEC5\",\"#B0BEC5\",\"#B0BEC5\",\"#B0BEC5\",\"#B0BEC5\",\"#B0BEC5\",\"#B0BEC5\",\"#B0BEC5\",\"#B0BEC5\",\"#B0BEC5\",\"#B0BEC5\",\"#B0BEC5\",\"#B0BEC5\",\"#B0BEC5\",\"red\"]]}],\"label\":\"Topic 63\",\"method\":\"update\"}]}],\"shapes\":[{\"line\":{\"color\":\"#CFD8DC\",\"width\":2},\"type\":\"line\",\"x0\":-2.69243140220642,\"x1\":-2.69243140220642,\"y0\":-16.36651635169983,\"y1\":11.16205062866211},{\"line\":{\"color\":\"#9E9E9E\",\"width\":2},\"type\":\"line\",\"x0\":-20.73905439376831,\"x1\":15.35419158935547,\"y0\":-2.6022328615188597,\"y1\":-2.6022328615188597}],\"annotations\":[{\"showarrow\":false,\"text\":\"D1\",\"x\":-20.73905439376831,\"y\":-2.6022328615188597,\"yshift\":10},{\"showarrow\":false,\"text\":\"D2\",\"x\":-2.69243140220642,\"xshift\":10,\"y\":11.16205062866211}]},                        {\"responsive\": true}                    ).then(function(){\n",
       "                            \n",
       "var gd = document.getElementById('e1bc2f14-58a3-44a5-95f4-12e985428da2');\n",
       "var x = new MutationObserver(function (mutations, observer) {{\n",
       "        var display = window.getComputedStyle(gd).display;\n",
       "        if (!display || display === 'none') {{\n",
       "            console.log([gd, 'removed!']);\n",
       "            Plotly.purge(gd);\n",
       "            observer.disconnect();\n",
       "        }}\n",
       "}});\n",
       "\n",
       "// Listen for the removal of the full notebook cells\n",
       "var notebookContainer = gd.closest('#notebook-container');\n",
       "if (notebookContainer) {{\n",
       "    x.observe(notebookContainer, {childList: true});\n",
       "}}\n",
       "\n",
       "// Listen for the clearing of the current output cell\n",
       "var outputEl = gd.closest('.output');\n",
       "if (outputEl) {{\n",
       "    x.observe(outputEl, {childList: true});\n",
       "}}\n",
       "\n",
       "                        })                };                });            </script>        </div>"
      ]
     },
     "metadata": {},
     "output_type": "display_data"
    }
   ],
   "source": [
    "# Fit transform\n",
    "# topics = topic_model.fit_transform(docs)\n",
    "\n",
    "topic_model.visualize_topics()"
   ]
  },
  {
   "cell_type": "code",
   "execution_count": 7,
   "id": "e11ae09d",
   "metadata": {},
   "outputs": [
    {
     "data": {
      "text/html": [
       "<div>\n",
       "<style scoped>\n",
       "    .dataframe tbody tr th:only-of-type {\n",
       "        vertical-align: middle;\n",
       "    }\n",
       "\n",
       "    .dataframe tbody tr th {\n",
       "        vertical-align: top;\n",
       "    }\n",
       "\n",
       "    .dataframe thead th {\n",
       "        text-align: right;\n",
       "    }\n",
       "</style>\n",
       "<table border=\"1\" class=\"dataframe\">\n",
       "  <thead>\n",
       "    <tr style=\"text-align: right;\">\n",
       "      <th></th>\n",
       "      <th>Topic</th>\n",
       "      <th>Count</th>\n",
       "      <th>Name</th>\n",
       "    </tr>\n",
       "  </thead>\n",
       "  <tbody>\n",
       "    <tr>\n",
       "      <th>0</th>\n",
       "      <td>-1</td>\n",
       "      <td>10210</td>\n",
       "      <td>-1_trope_character_just_usually</td>\n",
       "    </tr>\n",
       "    <tr>\n",
       "      <th>1</th>\n",
       "      <td>0</td>\n",
       "      <td>2587</td>\n",
       "      <td>0_evil_villain_good_hero</td>\n",
       "    </tr>\n",
       "    <tr>\n",
       "      <th>2</th>\n",
       "      <td>1</td>\n",
       "      <td>1500</td>\n",
       "      <td>1_time_work_series_story</td>\n",
       "    </tr>\n",
       "    <tr>\n",
       "      <th>3</th>\n",
       "      <td>2</td>\n",
       "      <td>1473</td>\n",
       "      <td>2_language_words_word_character</td>\n",
       "    </tr>\n",
       "    <tr>\n",
       "      <th>4</th>\n",
       "      <td>3</td>\n",
       "      <td>723</td>\n",
       "      <td>3_game_games_player_players</td>\n",
       "    </tr>\n",
       "    <tr>\n",
       "      <th>...</th>\n",
       "      <td>...</td>\n",
       "      <td>...</td>\n",
       "      <td>...</td>\n",
       "    </tr>\n",
       "    <tr>\n",
       "      <th>60</th>\n",
       "      <td>59</td>\n",
       "      <td>104</td>\n",
       "      <td>59_insanity_insane_mental_mad</td>\n",
       "    </tr>\n",
       "    <tr>\n",
       "      <th>61</th>\n",
       "      <td>60</td>\n",
       "      <td>101</td>\n",
       "      <td>60_ship_cool_tanks_space</td>\n",
       "    </tr>\n",
       "    <tr>\n",
       "      <th>62</th>\n",
       "      <td>61</td>\n",
       "      <td>101</td>\n",
       "      <td>61_limbs_bones_body_handed</td>\n",
       "    </tr>\n",
       "    <tr>\n",
       "      <th>63</th>\n",
       "      <td>62</td>\n",
       "      <td>100</td>\n",
       "      <td>62_torture_trap_victim_traps</td>\n",
       "    </tr>\n",
       "    <tr>\n",
       "      <th>64</th>\n",
       "      <td>63</td>\n",
       "      <td>100</td>\n",
       "      <td>63_marriage_wedding_married_bride</td>\n",
       "    </tr>\n",
       "  </tbody>\n",
       "</table>\n",
       "<p>65 rows × 3 columns</p>\n",
       "</div>"
      ],
      "text/plain": [
       "    Topic  Count                               Name\n",
       "0      -1  10210    -1_trope_character_just_usually\n",
       "1       0   2587           0_evil_villain_good_hero\n",
       "2       1   1500           1_time_work_series_story\n",
       "3       2   1473    2_language_words_word_character\n",
       "4       3    723        3_game_games_player_players\n",
       "..    ...    ...                                ...\n",
       "60     59    104      59_insanity_insane_mental_mad\n",
       "61     60    101           60_ship_cool_tanks_space\n",
       "62     61    101         61_limbs_bones_body_handed\n",
       "63     62    100       62_torture_trap_victim_traps\n",
       "64     63    100  63_marriage_wedding_married_bride\n",
       "\n",
       "[65 rows x 3 columns]"
      ]
     },
     "execution_count": 7,
     "metadata": {},
     "output_type": "execute_result"
    }
   ],
   "source": [
    "topic_model.get_topic_info()"
   ]
  },
  {
   "cell_type": "code",
   "execution_count": 8,
   "id": "62e27fe3",
   "metadata": {},
   "outputs": [
    {
     "data": {
      "application/vnd.plotly.v1+json": {
       "config": {
        "plotlyServerURL": "https://plot.ly"
       },
       "data": [
        {
         "marker": {
          "color": "#D55E00"
         },
         "orientation": "h",
         "type": "bar",
         "x": [
          0.00894854523216832,
          0.011293155097794922,
          0.012118021983984949,
          0.01328228055677799,
          0.014830516723868334
         ],
         "xaxis": "x",
         "y": [
          "bad  ",
          "hero  ",
          "good  ",
          "villain  ",
          "evil  "
         ],
         "yaxis": "y"
        },
        {
         "marker": {
          "color": "#0072B2"
         },
         "orientation": "h",
         "type": "bar",
         "x": [
          0.009905605163430805,
          0.010577994542302646,
          0.01326571183353618,
          0.013947924440300668,
          0.014326848501546396
         ],
         "xaxis": "x2",
         "y": [
          "original  ",
          "story  ",
          "series  ",
          "work  ",
          "time  "
         ],
         "yaxis": "y2"
        },
        {
         "marker": {
          "color": "#CC79A7"
         },
         "orientation": "h",
         "type": "bar",
         "x": [
          0.012058039998277013,
          0.012324547702955678,
          0.012407473349160822,
          0.014422032833674088,
          0.02040045116563202
         ],
         "xaxis": "x3",
         "y": [
          "english  ",
          "character  ",
          "word  ",
          "words  ",
          "language  "
         ],
         "yaxis": "y3"
        },
        {
         "marker": {
          "color": "#E69F00"
         },
         "orientation": "h",
         "type": "bar",
         "x": [
          0.016167376200968447,
          0.022271654295804792,
          0.03343438811514191,
          0.03932317474656874,
          0.0628658820486138
         ],
         "xaxis": "x4",
         "y": [
          "gameplay  ",
          "players  ",
          "player  ",
          "games  ",
          "game  "
         ],
         "yaxis": "y4"
        },
        {
         "marker": {
          "color": "#56B4E9"
         },
         "orientation": "h",
         "type": "bar",
         "x": [
          0.02054253166259782,
          0.021727881578881378,
          0.022310093329197974,
          0.022326835842246952,
          0.023231246767379636
         ],
         "xaxis": "x5",
         "y": [
          "clothing  ",
          "wearing  ",
          "clothes  ",
          "dress  ",
          "wear  "
         ],
         "yaxis": "y5"
        },
        {
         "marker": {
          "color": "#009E73"
         },
         "orientation": "h",
         "type": "bar",
         "x": [
          0.017240082985548483,
          0.021467108391002604,
          0.025206873080093124,
          0.02834302707436296,
          0.0501188173178715
         ],
         "xaxis": "x6",
         "y": [
          "character  ",
          "suicide  ",
          "die  ",
          "dead  ",
          "death  "
         ],
         "yaxis": "y6"
        },
        {
         "marker": {
          "color": "#F0E442"
         },
         "orientation": "h",
         "type": "bar",
         "x": [
          0.01364764575209089,
          0.01706749554687491,
          0.02704250194649478,
          0.03045939358364933,
          0.0359683594908888
         ],
         "xaxis": "x7",
         "y": [
          "character  ",
          "super  ",
          "magic  ",
          "power  ",
          "powers  "
         ],
         "yaxis": "y7"
        },
        {
         "marker": {
          "color": "#D55E00"
         },
         "orientation": "h",
         "type": "bar",
         "x": [
          0.026351833687131107,
          0.02929176503820723,
          0.038820506662729966,
          0.0626506752609924,
          0.07707022876752317
         ],
         "xaxis": "x8",
         "y": [
          "theme  ",
          "musical  ",
          "songs  ",
          "music  ",
          "song  "
         ],
         "yaxis": "y8"
        }
       ],
       "layout": {
        "annotations": [
         {
          "font": {
           "size": 16
          },
          "showarrow": false,
          "text": "Topic 0",
          "x": 0.0875,
          "xanchor": "center",
          "xref": "paper",
          "y": 1,
          "yanchor": "bottom",
          "yref": "paper"
         },
         {
          "font": {
           "size": 16
          },
          "showarrow": false,
          "text": "Topic 1",
          "x": 0.36250000000000004,
          "xanchor": "center",
          "xref": "paper",
          "y": 1,
          "yanchor": "bottom",
          "yref": "paper"
         },
         {
          "font": {
           "size": 16
          },
          "showarrow": false,
          "text": "Topic 2",
          "x": 0.6375000000000001,
          "xanchor": "center",
          "xref": "paper",
          "y": 1,
          "yanchor": "bottom",
          "yref": "paper"
         },
         {
          "font": {
           "size": 16
          },
          "showarrow": false,
          "text": "Topic 3",
          "x": 0.9125,
          "xanchor": "center",
          "xref": "paper",
          "y": 1,
          "yanchor": "bottom",
          "yref": "paper"
         },
         {
          "font": {
           "size": 16
          },
          "showarrow": false,
          "text": "Topic 4",
          "x": 0.0875,
          "xanchor": "center",
          "xref": "paper",
          "y": 0.4,
          "yanchor": "bottom",
          "yref": "paper"
         },
         {
          "font": {
           "size": 16
          },
          "showarrow": false,
          "text": "Topic 5",
          "x": 0.36250000000000004,
          "xanchor": "center",
          "xref": "paper",
          "y": 0.4,
          "yanchor": "bottom",
          "yref": "paper"
         },
         {
          "font": {
           "size": 16
          },
          "showarrow": false,
          "text": "Topic 6",
          "x": 0.6375000000000001,
          "xanchor": "center",
          "xref": "paper",
          "y": 0.4,
          "yanchor": "bottom",
          "yref": "paper"
         },
         {
          "font": {
           "size": 16
          },
          "showarrow": false,
          "text": "Topic 7",
          "x": 0.9125,
          "xanchor": "center",
          "xref": "paper",
          "y": 0.4,
          "yanchor": "bottom",
          "yref": "paper"
         }
        ],
        "height": 500,
        "hoverlabel": {
         "bgcolor": "white",
         "font": {
          "family": "Rockwell",
          "size": 16
         }
        },
        "showlegend": false,
        "template": {
         "data": {
          "bar": [
           {
            "error_x": {
             "color": "#2a3f5f"
            },
            "error_y": {
             "color": "#2a3f5f"
            },
            "marker": {
             "line": {
              "color": "white",
              "width": 0.5
             },
             "pattern": {
              "fillmode": "overlay",
              "size": 10,
              "solidity": 0.2
             }
            },
            "type": "bar"
           }
          ],
          "barpolar": [
           {
            "marker": {
             "line": {
              "color": "white",
              "width": 0.5
             },
             "pattern": {
              "fillmode": "overlay",
              "size": 10,
              "solidity": 0.2
             }
            },
            "type": "barpolar"
           }
          ],
          "carpet": [
           {
            "aaxis": {
             "endlinecolor": "#2a3f5f",
             "gridcolor": "#C8D4E3",
             "linecolor": "#C8D4E3",
             "minorgridcolor": "#C8D4E3",
             "startlinecolor": "#2a3f5f"
            },
            "baxis": {
             "endlinecolor": "#2a3f5f",
             "gridcolor": "#C8D4E3",
             "linecolor": "#C8D4E3",
             "minorgridcolor": "#C8D4E3",
             "startlinecolor": "#2a3f5f"
            },
            "type": "carpet"
           }
          ],
          "choropleth": [
           {
            "colorbar": {
             "outlinewidth": 0,
             "ticks": ""
            },
            "type": "choropleth"
           }
          ],
          "contour": [
           {
            "colorbar": {
             "outlinewidth": 0,
             "ticks": ""
            },
            "colorscale": [
             [
              0,
              "#0d0887"
             ],
             [
              0.1111111111111111,
              "#46039f"
             ],
             [
              0.2222222222222222,
              "#7201a8"
             ],
             [
              0.3333333333333333,
              "#9c179e"
             ],
             [
              0.4444444444444444,
              "#bd3786"
             ],
             [
              0.5555555555555556,
              "#d8576b"
             ],
             [
              0.6666666666666666,
              "#ed7953"
             ],
             [
              0.7777777777777778,
              "#fb9f3a"
             ],
             [
              0.8888888888888888,
              "#fdca26"
             ],
             [
              1,
              "#f0f921"
             ]
            ],
            "type": "contour"
           }
          ],
          "contourcarpet": [
           {
            "colorbar": {
             "outlinewidth": 0,
             "ticks": ""
            },
            "type": "contourcarpet"
           }
          ],
          "heatmap": [
           {
            "colorbar": {
             "outlinewidth": 0,
             "ticks": ""
            },
            "colorscale": [
             [
              0,
              "#0d0887"
             ],
             [
              0.1111111111111111,
              "#46039f"
             ],
             [
              0.2222222222222222,
              "#7201a8"
             ],
             [
              0.3333333333333333,
              "#9c179e"
             ],
             [
              0.4444444444444444,
              "#bd3786"
             ],
             [
              0.5555555555555556,
              "#d8576b"
             ],
             [
              0.6666666666666666,
              "#ed7953"
             ],
             [
              0.7777777777777778,
              "#fb9f3a"
             ],
             [
              0.8888888888888888,
              "#fdca26"
             ],
             [
              1,
              "#f0f921"
             ]
            ],
            "type": "heatmap"
           }
          ],
          "heatmapgl": [
           {
            "colorbar": {
             "outlinewidth": 0,
             "ticks": ""
            },
            "colorscale": [
             [
              0,
              "#0d0887"
             ],
             [
              0.1111111111111111,
              "#46039f"
             ],
             [
              0.2222222222222222,
              "#7201a8"
             ],
             [
              0.3333333333333333,
              "#9c179e"
             ],
             [
              0.4444444444444444,
              "#bd3786"
             ],
             [
              0.5555555555555556,
              "#d8576b"
             ],
             [
              0.6666666666666666,
              "#ed7953"
             ],
             [
              0.7777777777777778,
              "#fb9f3a"
             ],
             [
              0.8888888888888888,
              "#fdca26"
             ],
             [
              1,
              "#f0f921"
             ]
            ],
            "type": "heatmapgl"
           }
          ],
          "histogram": [
           {
            "marker": {
             "pattern": {
              "fillmode": "overlay",
              "size": 10,
              "solidity": 0.2
             }
            },
            "type": "histogram"
           }
          ],
          "histogram2d": [
           {
            "colorbar": {
             "outlinewidth": 0,
             "ticks": ""
            },
            "colorscale": [
             [
              0,
              "#0d0887"
             ],
             [
              0.1111111111111111,
              "#46039f"
             ],
             [
              0.2222222222222222,
              "#7201a8"
             ],
             [
              0.3333333333333333,
              "#9c179e"
             ],
             [
              0.4444444444444444,
              "#bd3786"
             ],
             [
              0.5555555555555556,
              "#d8576b"
             ],
             [
              0.6666666666666666,
              "#ed7953"
             ],
             [
              0.7777777777777778,
              "#fb9f3a"
             ],
             [
              0.8888888888888888,
              "#fdca26"
             ],
             [
              1,
              "#f0f921"
             ]
            ],
            "type": "histogram2d"
           }
          ],
          "histogram2dcontour": [
           {
            "colorbar": {
             "outlinewidth": 0,
             "ticks": ""
            },
            "colorscale": [
             [
              0,
              "#0d0887"
             ],
             [
              0.1111111111111111,
              "#46039f"
             ],
             [
              0.2222222222222222,
              "#7201a8"
             ],
             [
              0.3333333333333333,
              "#9c179e"
             ],
             [
              0.4444444444444444,
              "#bd3786"
             ],
             [
              0.5555555555555556,
              "#d8576b"
             ],
             [
              0.6666666666666666,
              "#ed7953"
             ],
             [
              0.7777777777777778,
              "#fb9f3a"
             ],
             [
              0.8888888888888888,
              "#fdca26"
             ],
             [
              1,
              "#f0f921"
             ]
            ],
            "type": "histogram2dcontour"
           }
          ],
          "mesh3d": [
           {
            "colorbar": {
             "outlinewidth": 0,
             "ticks": ""
            },
            "type": "mesh3d"
           }
          ],
          "parcoords": [
           {
            "line": {
             "colorbar": {
              "outlinewidth": 0,
              "ticks": ""
             }
            },
            "type": "parcoords"
           }
          ],
          "pie": [
           {
            "automargin": true,
            "type": "pie"
           }
          ],
          "scatter": [
           {
            "fillpattern": {
             "fillmode": "overlay",
             "size": 10,
             "solidity": 0.2
            },
            "type": "scatter"
           }
          ],
          "scatter3d": [
           {
            "line": {
             "colorbar": {
              "outlinewidth": 0,
              "ticks": ""
             }
            },
            "marker": {
             "colorbar": {
              "outlinewidth": 0,
              "ticks": ""
             }
            },
            "type": "scatter3d"
           }
          ],
          "scattercarpet": [
           {
            "marker": {
             "colorbar": {
              "outlinewidth": 0,
              "ticks": ""
             }
            },
            "type": "scattercarpet"
           }
          ],
          "scattergeo": [
           {
            "marker": {
             "colorbar": {
              "outlinewidth": 0,
              "ticks": ""
             }
            },
            "type": "scattergeo"
           }
          ],
          "scattergl": [
           {
            "marker": {
             "colorbar": {
              "outlinewidth": 0,
              "ticks": ""
             }
            },
            "type": "scattergl"
           }
          ],
          "scattermapbox": [
           {
            "marker": {
             "colorbar": {
              "outlinewidth": 0,
              "ticks": ""
             }
            },
            "type": "scattermapbox"
           }
          ],
          "scatterpolar": [
           {
            "marker": {
             "colorbar": {
              "outlinewidth": 0,
              "ticks": ""
             }
            },
            "type": "scatterpolar"
           }
          ],
          "scatterpolargl": [
           {
            "marker": {
             "colorbar": {
              "outlinewidth": 0,
              "ticks": ""
             }
            },
            "type": "scatterpolargl"
           }
          ],
          "scatterternary": [
           {
            "marker": {
             "colorbar": {
              "outlinewidth": 0,
              "ticks": ""
             }
            },
            "type": "scatterternary"
           }
          ],
          "surface": [
           {
            "colorbar": {
             "outlinewidth": 0,
             "ticks": ""
            },
            "colorscale": [
             [
              0,
              "#0d0887"
             ],
             [
              0.1111111111111111,
              "#46039f"
             ],
             [
              0.2222222222222222,
              "#7201a8"
             ],
             [
              0.3333333333333333,
              "#9c179e"
             ],
             [
              0.4444444444444444,
              "#bd3786"
             ],
             [
              0.5555555555555556,
              "#d8576b"
             ],
             [
              0.6666666666666666,
              "#ed7953"
             ],
             [
              0.7777777777777778,
              "#fb9f3a"
             ],
             [
              0.8888888888888888,
              "#fdca26"
             ],
             [
              1,
              "#f0f921"
             ]
            ],
            "type": "surface"
           }
          ],
          "table": [
           {
            "cells": {
             "fill": {
              "color": "#EBF0F8"
             },
             "line": {
              "color": "white"
             }
            },
            "header": {
             "fill": {
              "color": "#C8D4E3"
             },
             "line": {
              "color": "white"
             }
            },
            "type": "table"
           }
          ]
         },
         "layout": {
          "annotationdefaults": {
           "arrowcolor": "#2a3f5f",
           "arrowhead": 0,
           "arrowwidth": 1
          },
          "autotypenumbers": "strict",
          "coloraxis": {
           "colorbar": {
            "outlinewidth": 0,
            "ticks": ""
           }
          },
          "colorscale": {
           "diverging": [
            [
             0,
             "#8e0152"
            ],
            [
             0.1,
             "#c51b7d"
            ],
            [
             0.2,
             "#de77ae"
            ],
            [
             0.3,
             "#f1b6da"
            ],
            [
             0.4,
             "#fde0ef"
            ],
            [
             0.5,
             "#f7f7f7"
            ],
            [
             0.6,
             "#e6f5d0"
            ],
            [
             0.7,
             "#b8e186"
            ],
            [
             0.8,
             "#7fbc41"
            ],
            [
             0.9,
             "#4d9221"
            ],
            [
             1,
             "#276419"
            ]
           ],
           "sequential": [
            [
             0,
             "#0d0887"
            ],
            [
             0.1111111111111111,
             "#46039f"
            ],
            [
             0.2222222222222222,
             "#7201a8"
            ],
            [
             0.3333333333333333,
             "#9c179e"
            ],
            [
             0.4444444444444444,
             "#bd3786"
            ],
            [
             0.5555555555555556,
             "#d8576b"
            ],
            [
             0.6666666666666666,
             "#ed7953"
            ],
            [
             0.7777777777777778,
             "#fb9f3a"
            ],
            [
             0.8888888888888888,
             "#fdca26"
            ],
            [
             1,
             "#f0f921"
            ]
           ],
           "sequentialminus": [
            [
             0,
             "#0d0887"
            ],
            [
             0.1111111111111111,
             "#46039f"
            ],
            [
             0.2222222222222222,
             "#7201a8"
            ],
            [
             0.3333333333333333,
             "#9c179e"
            ],
            [
             0.4444444444444444,
             "#bd3786"
            ],
            [
             0.5555555555555556,
             "#d8576b"
            ],
            [
             0.6666666666666666,
             "#ed7953"
            ],
            [
             0.7777777777777778,
             "#fb9f3a"
            ],
            [
             0.8888888888888888,
             "#fdca26"
            ],
            [
             1,
             "#f0f921"
            ]
           ]
          },
          "colorway": [
           "#636efa",
           "#EF553B",
           "#00cc96",
           "#ab63fa",
           "#FFA15A",
           "#19d3f3",
           "#FF6692",
           "#B6E880",
           "#FF97FF",
           "#FECB52"
          ],
          "font": {
           "color": "#2a3f5f"
          },
          "geo": {
           "bgcolor": "white",
           "lakecolor": "white",
           "landcolor": "white",
           "showlakes": true,
           "showland": true,
           "subunitcolor": "#C8D4E3"
          },
          "hoverlabel": {
           "align": "left"
          },
          "hovermode": "closest",
          "mapbox": {
           "style": "light"
          },
          "paper_bgcolor": "white",
          "plot_bgcolor": "white",
          "polar": {
           "angularaxis": {
            "gridcolor": "#EBF0F8",
            "linecolor": "#EBF0F8",
            "ticks": ""
           },
           "bgcolor": "white",
           "radialaxis": {
            "gridcolor": "#EBF0F8",
            "linecolor": "#EBF0F8",
            "ticks": ""
           }
          },
          "scene": {
           "xaxis": {
            "backgroundcolor": "white",
            "gridcolor": "#DFE8F3",
            "gridwidth": 2,
            "linecolor": "#EBF0F8",
            "showbackground": true,
            "ticks": "",
            "zerolinecolor": "#EBF0F8"
           },
           "yaxis": {
            "backgroundcolor": "white",
            "gridcolor": "#DFE8F3",
            "gridwidth": 2,
            "linecolor": "#EBF0F8",
            "showbackground": true,
            "ticks": "",
            "zerolinecolor": "#EBF0F8"
           },
           "zaxis": {
            "backgroundcolor": "white",
            "gridcolor": "#DFE8F3",
            "gridwidth": 2,
            "linecolor": "#EBF0F8",
            "showbackground": true,
            "ticks": "",
            "zerolinecolor": "#EBF0F8"
           }
          },
          "shapedefaults": {
           "line": {
            "color": "#2a3f5f"
           }
          },
          "ternary": {
           "aaxis": {
            "gridcolor": "#DFE8F3",
            "linecolor": "#A2B1C6",
            "ticks": ""
           },
           "baxis": {
            "gridcolor": "#DFE8F3",
            "linecolor": "#A2B1C6",
            "ticks": ""
           },
           "bgcolor": "white",
           "caxis": {
            "gridcolor": "#DFE8F3",
            "linecolor": "#A2B1C6",
            "ticks": ""
           }
          },
          "title": {
           "x": 0.05
          },
          "xaxis": {
           "automargin": true,
           "gridcolor": "#EBF0F8",
           "linecolor": "#EBF0F8",
           "ticks": "",
           "title": {
            "standoff": 15
           },
           "zerolinecolor": "#EBF0F8",
           "zerolinewidth": 2
          },
          "yaxis": {
           "automargin": true,
           "gridcolor": "#EBF0F8",
           "linecolor": "#EBF0F8",
           "ticks": "",
           "title": {
            "standoff": 15
           },
           "zerolinecolor": "#EBF0F8",
           "zerolinewidth": 2
          }
         }
        },
        "title": {
         "font": {
          "color": "Black",
          "size": 22
         },
         "text": "<b>Topic Word Scores",
         "x": 0.5,
         "xanchor": "center",
         "yanchor": "top"
        },
        "width": 1000,
        "xaxis": {
         "anchor": "y",
         "domain": [
          0,
          0.175
         ],
         "showgrid": true
        },
        "xaxis2": {
         "anchor": "y2",
         "domain": [
          0.275,
          0.45
         ],
         "showgrid": true
        },
        "xaxis3": {
         "anchor": "y3",
         "domain": [
          0.55,
          0.7250000000000001
         ],
         "showgrid": true
        },
        "xaxis4": {
         "anchor": "y4",
         "domain": [
          0.825,
          1
         ],
         "showgrid": true
        },
        "xaxis5": {
         "anchor": "y5",
         "domain": [
          0,
          0.175
         ],
         "showgrid": true
        },
        "xaxis6": {
         "anchor": "y6",
         "domain": [
          0.275,
          0.45
         ],
         "showgrid": true
        },
        "xaxis7": {
         "anchor": "y7",
         "domain": [
          0.55,
          0.7250000000000001
         ],
         "showgrid": true
        },
        "xaxis8": {
         "anchor": "y8",
         "domain": [
          0.825,
          1
         ],
         "showgrid": true
        },
        "yaxis": {
         "anchor": "x",
         "domain": [
          0.6000000000000001,
          1
         ],
         "showgrid": true
        },
        "yaxis2": {
         "anchor": "x2",
         "domain": [
          0.6000000000000001,
          1
         ],
         "showgrid": true
        },
        "yaxis3": {
         "anchor": "x3",
         "domain": [
          0.6000000000000001,
          1
         ],
         "showgrid": true
        },
        "yaxis4": {
         "anchor": "x4",
         "domain": [
          0.6000000000000001,
          1
         ],
         "showgrid": true
        },
        "yaxis5": {
         "anchor": "x5",
         "domain": [
          0,
          0.4
         ],
         "showgrid": true
        },
        "yaxis6": {
         "anchor": "x6",
         "domain": [
          0,
          0.4
         ],
         "showgrid": true
        },
        "yaxis7": {
         "anchor": "x7",
         "domain": [
          0,
          0.4
         ],
         "showgrid": true
        },
        "yaxis8": {
         "anchor": "x8",
         "domain": [
          0,
          0.4
         ],
         "showgrid": true
        }
       }
      },
      "text/html": [
       "<div>                            <div id=\"6ad44b8e-dc95-4217-938d-dc09c92ac706\" class=\"plotly-graph-div\" style=\"height:500px; width:1000px;\"></div>            <script type=\"text/javascript\">                require([\"plotly\"], function(Plotly) {                    window.PLOTLYENV=window.PLOTLYENV || {};                                    if (document.getElementById(\"6ad44b8e-dc95-4217-938d-dc09c92ac706\")) {                    Plotly.newPlot(                        \"6ad44b8e-dc95-4217-938d-dc09c92ac706\",                        [{\"marker\":{\"color\":\"#D55E00\"},\"orientation\":\"h\",\"x\":[0.00894854523216832,0.011293155097794922,0.012118021983984949,0.01328228055677799,0.014830516723868334],\"y\":[\"bad  \",\"hero  \",\"good  \",\"villain  \",\"evil  \"],\"type\":\"bar\",\"xaxis\":\"x\",\"yaxis\":\"y\"},{\"marker\":{\"color\":\"#0072B2\"},\"orientation\":\"h\",\"x\":[0.009905605163430805,0.010577994542302646,0.01326571183353618,0.013947924440300668,0.014326848501546396],\"y\":[\"original  \",\"story  \",\"series  \",\"work  \",\"time  \"],\"type\":\"bar\",\"xaxis\":\"x2\",\"yaxis\":\"y2\"},{\"marker\":{\"color\":\"#CC79A7\"},\"orientation\":\"h\",\"x\":[0.012058039998277013,0.012324547702955678,0.012407473349160822,0.014422032833674088,0.02040045116563202],\"y\":[\"english  \",\"character  \",\"word  \",\"words  \",\"language  \"],\"type\":\"bar\",\"xaxis\":\"x3\",\"yaxis\":\"y3\"},{\"marker\":{\"color\":\"#E69F00\"},\"orientation\":\"h\",\"x\":[0.016167376200968447,0.022271654295804792,0.03343438811514191,0.03932317474656874,0.0628658820486138],\"y\":[\"gameplay  \",\"players  \",\"player  \",\"games  \",\"game  \"],\"type\":\"bar\",\"xaxis\":\"x4\",\"yaxis\":\"y4\"},{\"marker\":{\"color\":\"#56B4E9\"},\"orientation\":\"h\",\"x\":[0.02054253166259782,0.021727881578881378,0.022310093329197974,0.022326835842246952,0.023231246767379636],\"y\":[\"clothing  \",\"wearing  \",\"clothes  \",\"dress  \",\"wear  \"],\"type\":\"bar\",\"xaxis\":\"x5\",\"yaxis\":\"y5\"},{\"marker\":{\"color\":\"#009E73\"},\"orientation\":\"h\",\"x\":[0.017240082985548483,0.021467108391002604,0.025206873080093124,0.02834302707436296,0.0501188173178715],\"y\":[\"character  \",\"suicide  \",\"die  \",\"dead  \",\"death  \"],\"type\":\"bar\",\"xaxis\":\"x6\",\"yaxis\":\"y6\"},{\"marker\":{\"color\":\"#F0E442\"},\"orientation\":\"h\",\"x\":[0.01364764575209089,0.01706749554687491,0.02704250194649478,0.03045939358364933,0.0359683594908888],\"y\":[\"character  \",\"super  \",\"magic  \",\"power  \",\"powers  \"],\"type\":\"bar\",\"xaxis\":\"x7\",\"yaxis\":\"y7\"},{\"marker\":{\"color\":\"#D55E00\"},\"orientation\":\"h\",\"x\":[0.026351833687131107,0.02929176503820723,0.038820506662729966,0.0626506752609924,0.07707022876752317],\"y\":[\"theme  \",\"musical  \",\"songs  \",\"music  \",\"song  \"],\"type\":\"bar\",\"xaxis\":\"x8\",\"yaxis\":\"y8\"}],                        {\"template\":{\"data\":{\"barpolar\":[{\"marker\":{\"line\":{\"color\":\"white\",\"width\":0.5},\"pattern\":{\"fillmode\":\"overlay\",\"size\":10,\"solidity\":0.2}},\"type\":\"barpolar\"}],\"bar\":[{\"error_x\":{\"color\":\"#2a3f5f\"},\"error_y\":{\"color\":\"#2a3f5f\"},\"marker\":{\"line\":{\"color\":\"white\",\"width\":0.5},\"pattern\":{\"fillmode\":\"overlay\",\"size\":10,\"solidity\":0.2}},\"type\":\"bar\"}],\"carpet\":[{\"aaxis\":{\"endlinecolor\":\"#2a3f5f\",\"gridcolor\":\"#C8D4E3\",\"linecolor\":\"#C8D4E3\",\"minorgridcolor\":\"#C8D4E3\",\"startlinecolor\":\"#2a3f5f\"},\"baxis\":{\"endlinecolor\":\"#2a3f5f\",\"gridcolor\":\"#C8D4E3\",\"linecolor\":\"#C8D4E3\",\"minorgridcolor\":\"#C8D4E3\",\"startlinecolor\":\"#2a3f5f\"},\"type\":\"carpet\"}],\"choropleth\":[{\"colorbar\":{\"outlinewidth\":0,\"ticks\":\"\"},\"type\":\"choropleth\"}],\"contourcarpet\":[{\"colorbar\":{\"outlinewidth\":0,\"ticks\":\"\"},\"type\":\"contourcarpet\"}],\"contour\":[{\"colorbar\":{\"outlinewidth\":0,\"ticks\":\"\"},\"colorscale\":[[0.0,\"#0d0887\"],[0.1111111111111111,\"#46039f\"],[0.2222222222222222,\"#7201a8\"],[0.3333333333333333,\"#9c179e\"],[0.4444444444444444,\"#bd3786\"],[0.5555555555555556,\"#d8576b\"],[0.6666666666666666,\"#ed7953\"],[0.7777777777777778,\"#fb9f3a\"],[0.8888888888888888,\"#fdca26\"],[1.0,\"#f0f921\"]],\"type\":\"contour\"}],\"heatmapgl\":[{\"colorbar\":{\"outlinewidth\":0,\"ticks\":\"\"},\"colorscale\":[[0.0,\"#0d0887\"],[0.1111111111111111,\"#46039f\"],[0.2222222222222222,\"#7201a8\"],[0.3333333333333333,\"#9c179e\"],[0.4444444444444444,\"#bd3786\"],[0.5555555555555556,\"#d8576b\"],[0.6666666666666666,\"#ed7953\"],[0.7777777777777778,\"#fb9f3a\"],[0.8888888888888888,\"#fdca26\"],[1.0,\"#f0f921\"]],\"type\":\"heatmapgl\"}],\"heatmap\":[{\"colorbar\":{\"outlinewidth\":0,\"ticks\":\"\"},\"colorscale\":[[0.0,\"#0d0887\"],[0.1111111111111111,\"#46039f\"],[0.2222222222222222,\"#7201a8\"],[0.3333333333333333,\"#9c179e\"],[0.4444444444444444,\"#bd3786\"],[0.5555555555555556,\"#d8576b\"],[0.6666666666666666,\"#ed7953\"],[0.7777777777777778,\"#fb9f3a\"],[0.8888888888888888,\"#fdca26\"],[1.0,\"#f0f921\"]],\"type\":\"heatmap\"}],\"histogram2dcontour\":[{\"colorbar\":{\"outlinewidth\":0,\"ticks\":\"\"},\"colorscale\":[[0.0,\"#0d0887\"],[0.1111111111111111,\"#46039f\"],[0.2222222222222222,\"#7201a8\"],[0.3333333333333333,\"#9c179e\"],[0.4444444444444444,\"#bd3786\"],[0.5555555555555556,\"#d8576b\"],[0.6666666666666666,\"#ed7953\"],[0.7777777777777778,\"#fb9f3a\"],[0.8888888888888888,\"#fdca26\"],[1.0,\"#f0f921\"]],\"type\":\"histogram2dcontour\"}],\"histogram2d\":[{\"colorbar\":{\"outlinewidth\":0,\"ticks\":\"\"},\"colorscale\":[[0.0,\"#0d0887\"],[0.1111111111111111,\"#46039f\"],[0.2222222222222222,\"#7201a8\"],[0.3333333333333333,\"#9c179e\"],[0.4444444444444444,\"#bd3786\"],[0.5555555555555556,\"#d8576b\"],[0.6666666666666666,\"#ed7953\"],[0.7777777777777778,\"#fb9f3a\"],[0.8888888888888888,\"#fdca26\"],[1.0,\"#f0f921\"]],\"type\":\"histogram2d\"}],\"histogram\":[{\"marker\":{\"pattern\":{\"fillmode\":\"overlay\",\"size\":10,\"solidity\":0.2}},\"type\":\"histogram\"}],\"mesh3d\":[{\"colorbar\":{\"outlinewidth\":0,\"ticks\":\"\"},\"type\":\"mesh3d\"}],\"parcoords\":[{\"line\":{\"colorbar\":{\"outlinewidth\":0,\"ticks\":\"\"}},\"type\":\"parcoords\"}],\"pie\":[{\"automargin\":true,\"type\":\"pie\"}],\"scatter3d\":[{\"line\":{\"colorbar\":{\"outlinewidth\":0,\"ticks\":\"\"}},\"marker\":{\"colorbar\":{\"outlinewidth\":0,\"ticks\":\"\"}},\"type\":\"scatter3d\"}],\"scattercarpet\":[{\"marker\":{\"colorbar\":{\"outlinewidth\":0,\"ticks\":\"\"}},\"type\":\"scattercarpet\"}],\"scattergeo\":[{\"marker\":{\"colorbar\":{\"outlinewidth\":0,\"ticks\":\"\"}},\"type\":\"scattergeo\"}],\"scattergl\":[{\"marker\":{\"colorbar\":{\"outlinewidth\":0,\"ticks\":\"\"}},\"type\":\"scattergl\"}],\"scattermapbox\":[{\"marker\":{\"colorbar\":{\"outlinewidth\":0,\"ticks\":\"\"}},\"type\":\"scattermapbox\"}],\"scatterpolargl\":[{\"marker\":{\"colorbar\":{\"outlinewidth\":0,\"ticks\":\"\"}},\"type\":\"scatterpolargl\"}],\"scatterpolar\":[{\"marker\":{\"colorbar\":{\"outlinewidth\":0,\"ticks\":\"\"}},\"type\":\"scatterpolar\"}],\"scatter\":[{\"fillpattern\":{\"fillmode\":\"overlay\",\"size\":10,\"solidity\":0.2},\"type\":\"scatter\"}],\"scatterternary\":[{\"marker\":{\"colorbar\":{\"outlinewidth\":0,\"ticks\":\"\"}},\"type\":\"scatterternary\"}],\"surface\":[{\"colorbar\":{\"outlinewidth\":0,\"ticks\":\"\"},\"colorscale\":[[0.0,\"#0d0887\"],[0.1111111111111111,\"#46039f\"],[0.2222222222222222,\"#7201a8\"],[0.3333333333333333,\"#9c179e\"],[0.4444444444444444,\"#bd3786\"],[0.5555555555555556,\"#d8576b\"],[0.6666666666666666,\"#ed7953\"],[0.7777777777777778,\"#fb9f3a\"],[0.8888888888888888,\"#fdca26\"],[1.0,\"#f0f921\"]],\"type\":\"surface\"}],\"table\":[{\"cells\":{\"fill\":{\"color\":\"#EBF0F8\"},\"line\":{\"color\":\"white\"}},\"header\":{\"fill\":{\"color\":\"#C8D4E3\"},\"line\":{\"color\":\"white\"}},\"type\":\"table\"}]},\"layout\":{\"annotationdefaults\":{\"arrowcolor\":\"#2a3f5f\",\"arrowhead\":0,\"arrowwidth\":1},\"autotypenumbers\":\"strict\",\"coloraxis\":{\"colorbar\":{\"outlinewidth\":0,\"ticks\":\"\"}},\"colorscale\":{\"diverging\":[[0,\"#8e0152\"],[0.1,\"#c51b7d\"],[0.2,\"#de77ae\"],[0.3,\"#f1b6da\"],[0.4,\"#fde0ef\"],[0.5,\"#f7f7f7\"],[0.6,\"#e6f5d0\"],[0.7,\"#b8e186\"],[0.8,\"#7fbc41\"],[0.9,\"#4d9221\"],[1,\"#276419\"]],\"sequential\":[[0.0,\"#0d0887\"],[0.1111111111111111,\"#46039f\"],[0.2222222222222222,\"#7201a8\"],[0.3333333333333333,\"#9c179e\"],[0.4444444444444444,\"#bd3786\"],[0.5555555555555556,\"#d8576b\"],[0.6666666666666666,\"#ed7953\"],[0.7777777777777778,\"#fb9f3a\"],[0.8888888888888888,\"#fdca26\"],[1.0,\"#f0f921\"]],\"sequentialminus\":[[0.0,\"#0d0887\"],[0.1111111111111111,\"#46039f\"],[0.2222222222222222,\"#7201a8\"],[0.3333333333333333,\"#9c179e\"],[0.4444444444444444,\"#bd3786\"],[0.5555555555555556,\"#d8576b\"],[0.6666666666666666,\"#ed7953\"],[0.7777777777777778,\"#fb9f3a\"],[0.8888888888888888,\"#fdca26\"],[1.0,\"#f0f921\"]]},\"colorway\":[\"#636efa\",\"#EF553B\",\"#00cc96\",\"#ab63fa\",\"#FFA15A\",\"#19d3f3\",\"#FF6692\",\"#B6E880\",\"#FF97FF\",\"#FECB52\"],\"font\":{\"color\":\"#2a3f5f\"},\"geo\":{\"bgcolor\":\"white\",\"lakecolor\":\"white\",\"landcolor\":\"white\",\"showlakes\":true,\"showland\":true,\"subunitcolor\":\"#C8D4E3\"},\"hoverlabel\":{\"align\":\"left\"},\"hovermode\":\"closest\",\"mapbox\":{\"style\":\"light\"},\"paper_bgcolor\":\"white\",\"plot_bgcolor\":\"white\",\"polar\":{\"angularaxis\":{\"gridcolor\":\"#EBF0F8\",\"linecolor\":\"#EBF0F8\",\"ticks\":\"\"},\"bgcolor\":\"white\",\"radialaxis\":{\"gridcolor\":\"#EBF0F8\",\"linecolor\":\"#EBF0F8\",\"ticks\":\"\"}},\"scene\":{\"xaxis\":{\"backgroundcolor\":\"white\",\"gridcolor\":\"#DFE8F3\",\"gridwidth\":2,\"linecolor\":\"#EBF0F8\",\"showbackground\":true,\"ticks\":\"\",\"zerolinecolor\":\"#EBF0F8\"},\"yaxis\":{\"backgroundcolor\":\"white\",\"gridcolor\":\"#DFE8F3\",\"gridwidth\":2,\"linecolor\":\"#EBF0F8\",\"showbackground\":true,\"ticks\":\"\",\"zerolinecolor\":\"#EBF0F8\"},\"zaxis\":{\"backgroundcolor\":\"white\",\"gridcolor\":\"#DFE8F3\",\"gridwidth\":2,\"linecolor\":\"#EBF0F8\",\"showbackground\":true,\"ticks\":\"\",\"zerolinecolor\":\"#EBF0F8\"}},\"shapedefaults\":{\"line\":{\"color\":\"#2a3f5f\"}},\"ternary\":{\"aaxis\":{\"gridcolor\":\"#DFE8F3\",\"linecolor\":\"#A2B1C6\",\"ticks\":\"\"},\"baxis\":{\"gridcolor\":\"#DFE8F3\",\"linecolor\":\"#A2B1C6\",\"ticks\":\"\"},\"bgcolor\":\"white\",\"caxis\":{\"gridcolor\":\"#DFE8F3\",\"linecolor\":\"#A2B1C6\",\"ticks\":\"\"}},\"title\":{\"x\":0.05},\"xaxis\":{\"automargin\":true,\"gridcolor\":\"#EBF0F8\",\"linecolor\":\"#EBF0F8\",\"ticks\":\"\",\"title\":{\"standoff\":15},\"zerolinecolor\":\"#EBF0F8\",\"zerolinewidth\":2},\"yaxis\":{\"automargin\":true,\"gridcolor\":\"#EBF0F8\",\"linecolor\":\"#EBF0F8\",\"ticks\":\"\",\"title\":{\"standoff\":15},\"zerolinecolor\":\"#EBF0F8\",\"zerolinewidth\":2}}},\"xaxis\":{\"anchor\":\"y\",\"domain\":[0.0,0.175],\"showgrid\":true},\"yaxis\":{\"anchor\":\"x\",\"domain\":[0.6000000000000001,1.0],\"showgrid\":true},\"xaxis2\":{\"anchor\":\"y2\",\"domain\":[0.275,0.45],\"showgrid\":true},\"yaxis2\":{\"anchor\":\"x2\",\"domain\":[0.6000000000000001,1.0],\"showgrid\":true},\"xaxis3\":{\"anchor\":\"y3\",\"domain\":[0.55,0.7250000000000001],\"showgrid\":true},\"yaxis3\":{\"anchor\":\"x3\",\"domain\":[0.6000000000000001,1.0],\"showgrid\":true},\"xaxis4\":{\"anchor\":\"y4\",\"domain\":[0.825,1.0],\"showgrid\":true},\"yaxis4\":{\"anchor\":\"x4\",\"domain\":[0.6000000000000001,1.0],\"showgrid\":true},\"xaxis5\":{\"anchor\":\"y5\",\"domain\":[0.0,0.175],\"showgrid\":true},\"yaxis5\":{\"anchor\":\"x5\",\"domain\":[0.0,0.4],\"showgrid\":true},\"xaxis6\":{\"anchor\":\"y6\",\"domain\":[0.275,0.45],\"showgrid\":true},\"yaxis6\":{\"anchor\":\"x6\",\"domain\":[0.0,0.4],\"showgrid\":true},\"xaxis7\":{\"anchor\":\"y7\",\"domain\":[0.55,0.7250000000000001],\"showgrid\":true},\"yaxis7\":{\"anchor\":\"x7\",\"domain\":[0.0,0.4],\"showgrid\":true},\"xaxis8\":{\"anchor\":\"y8\",\"domain\":[0.825,1.0],\"showgrid\":true},\"yaxis8\":{\"anchor\":\"x8\",\"domain\":[0.0,0.4],\"showgrid\":true},\"annotations\":[{\"font\":{\"size\":16},\"showarrow\":false,\"text\":\"Topic 0\",\"x\":0.0875,\"xanchor\":\"center\",\"xref\":\"paper\",\"y\":1.0,\"yanchor\":\"bottom\",\"yref\":\"paper\"},{\"font\":{\"size\":16},\"showarrow\":false,\"text\":\"Topic 1\",\"x\":0.36250000000000004,\"xanchor\":\"center\",\"xref\":\"paper\",\"y\":1.0,\"yanchor\":\"bottom\",\"yref\":\"paper\"},{\"font\":{\"size\":16},\"showarrow\":false,\"text\":\"Topic 2\",\"x\":0.6375000000000001,\"xanchor\":\"center\",\"xref\":\"paper\",\"y\":1.0,\"yanchor\":\"bottom\",\"yref\":\"paper\"},{\"font\":{\"size\":16},\"showarrow\":false,\"text\":\"Topic 3\",\"x\":0.9125,\"xanchor\":\"center\",\"xref\":\"paper\",\"y\":1.0,\"yanchor\":\"bottom\",\"yref\":\"paper\"},{\"font\":{\"size\":16},\"showarrow\":false,\"text\":\"Topic 4\",\"x\":0.0875,\"xanchor\":\"center\",\"xref\":\"paper\",\"y\":0.4,\"yanchor\":\"bottom\",\"yref\":\"paper\"},{\"font\":{\"size\":16},\"showarrow\":false,\"text\":\"Topic 5\",\"x\":0.36250000000000004,\"xanchor\":\"center\",\"xref\":\"paper\",\"y\":0.4,\"yanchor\":\"bottom\",\"yref\":\"paper\"},{\"font\":{\"size\":16},\"showarrow\":false,\"text\":\"Topic 6\",\"x\":0.6375000000000001,\"xanchor\":\"center\",\"xref\":\"paper\",\"y\":0.4,\"yanchor\":\"bottom\",\"yref\":\"paper\"},{\"font\":{\"size\":16},\"showarrow\":false,\"text\":\"Topic 7\",\"x\":0.9125,\"xanchor\":\"center\",\"xref\":\"paper\",\"y\":0.4,\"yanchor\":\"bottom\",\"yref\":\"paper\"}],\"title\":{\"font\":{\"size\":22,\"color\":\"Black\"},\"text\":\"<b>Topic Word Scores\",\"x\":0.5,\"xanchor\":\"center\",\"yanchor\":\"top\"},\"hoverlabel\":{\"font\":{\"size\":16,\"family\":\"Rockwell\"},\"bgcolor\":\"white\"},\"showlegend\":false,\"width\":1000,\"height\":500},                        {\"responsive\": true}                    ).then(function(){\n",
       "                            \n",
       "var gd = document.getElementById('6ad44b8e-dc95-4217-938d-dc09c92ac706');\n",
       "var x = new MutationObserver(function (mutations, observer) {{\n",
       "        var display = window.getComputedStyle(gd).display;\n",
       "        if (!display || display === 'none') {{\n",
       "            console.log([gd, 'removed!']);\n",
       "            Plotly.purge(gd);\n",
       "            observer.disconnect();\n",
       "        }}\n",
       "}});\n",
       "\n",
       "// Listen for the removal of the full notebook cells\n",
       "var notebookContainer = gd.closest('#notebook-container');\n",
       "if (notebookContainer) {{\n",
       "    x.observe(notebookContainer, {childList: true});\n",
       "}}\n",
       "\n",
       "// Listen for the clearing of the current output cell\n",
       "var outputEl = gd.closest('.output');\n",
       "if (outputEl) {{\n",
       "    x.observe(outputEl, {childList: true});\n",
       "}}\n",
       "\n",
       "                        })                };                });            </script>        </div>"
      ]
     },
     "metadata": {},
     "output_type": "display_data"
    }
   ],
   "source": [
    "topic_model.visualize_barchart()"
   ]
  },
  {
   "cell_type": "code",
   "execution_count": 9,
   "id": "97e5436f",
   "metadata": {},
   "outputs": [
    {
     "data": {
      "application/vnd.plotly.v1+json": {
       "config": {
        "plotlyServerURL": "https://plot.ly"
       },
       "data": [
        {
         "hoverinfo": "text",
         "marker": {
          "color": "rgb(61,153,112)"
         },
         "mode": "lines",
         "type": "scatter",
         "x": [
          0,
          0.6511413019685006,
          0.6511413019685006,
          0
         ],
         "xaxis": "x",
         "y": [
          -5,
          -5,
          -15,
          -15
         ],
         "yaxis": "y"
        },
        {
         "hoverinfo": "text",
         "marker": {
          "color": "rgb(255,65,54)"
         },
         "mode": "lines",
         "type": "scatter",
         "x": [
          0,
          0.6656860495946852,
          0.6656860495946852,
          0
         ],
         "xaxis": "x",
         "y": [
          -25,
          -25,
          -35,
          -35
         ],
         "yaxis": "y"
        },
        {
         "hoverinfo": "text",
         "marker": {
          "color": "rgb(0,116,217)"
         },
         "mode": "lines",
         "type": "scatter",
         "x": [
          0.6511413019685006,
          1.1188282716377256,
          1.1188282716377256,
          0.6656860495946852
         ],
         "xaxis": "x",
         "y": [
          -10,
          -10,
          -30,
          -30
         ],
         "yaxis": "y"
        },
        {
         "hoverinfo": "text",
         "marker": {
          "color": "rgb(35,205,205)"
         },
         "mode": "lines",
         "type": "scatter",
         "x": [
          0,
          0.7780149072267103,
          0.7780149072267103,
          0
         ],
         "xaxis": "x",
         "y": [
          -45,
          -45,
          -55,
          -55
         ],
         "yaxis": "y"
        },
        {
         "hoverinfo": "text",
         "marker": {
          "color": "rgb(0,116,217)"
         },
         "mode": "lines",
         "type": "scatter",
         "x": [
          0,
          1.0211166277931383,
          1.0211166277931383,
          0
         ],
         "xaxis": "x",
         "y": [
          -85,
          -85,
          -95,
          -95
         ],
         "yaxis": "y"
        },
        {
         "hoverinfo": "text",
         "marker": {
          "color": "rgb(0,116,217)"
         },
         "mode": "lines",
         "type": "scatter",
         "x": [
          0,
          1.1175788877157369,
          1.1175788877157369,
          1.0211166277931383
         ],
         "xaxis": "x",
         "y": [
          -75,
          -75,
          -90,
          -90
         ],
         "yaxis": "y"
        },
        {
         "hoverinfo": "text",
         "marker": {
          "color": "rgb(0,116,217)"
         },
         "mode": "lines",
         "type": "scatter",
         "x": [
          0,
          1.1987584014122998,
          1.1987584014122998,
          1.1175788877157369
         ],
         "xaxis": "x",
         "y": [
          -65,
          -65,
          -82.5,
          -82.5
         ],
         "yaxis": "y"
        },
        {
         "hoverinfo": "text",
         "marker": {
          "color": "rgb(0,116,217)"
         },
         "mode": "lines",
         "type": "scatter",
         "x": [
          0.7780149072267103,
          1.4389976921752035,
          1.4389976921752035,
          1.1987584014122998
         ],
         "xaxis": "x",
         "y": [
          -50,
          -50,
          -73.75,
          -73.75
         ],
         "yaxis": "y"
        },
        {
         "hoverinfo": "text",
         "marker": {
          "color": "rgb(133,20,75)"
         },
         "mode": "lines",
         "type": "scatter",
         "x": [
          0,
          0.9780208441546288,
          0.9780208441546288,
          0
         ],
         "xaxis": "x",
         "y": [
          -115,
          -115,
          -125,
          -125
         ],
         "yaxis": "y"
        },
        {
         "hoverinfo": "text",
         "marker": {
          "color": "rgb(0,116,217)"
         },
         "mode": "lines",
         "type": "scatter",
         "x": [
          0,
          1.2168378802616464,
          1.2168378802616464,
          0.9780208441546288
         ],
         "xaxis": "x",
         "y": [
          -105,
          -105,
          -120,
          -120
         ],
         "yaxis": "y"
        },
        {
         "hoverinfo": "text",
         "marker": {
          "color": "rgb(0,116,217)"
         },
         "mode": "lines",
         "type": "scatter",
         "x": [
          0,
          1.0626249946662445,
          1.0626249946662445,
          0
         ],
         "xaxis": "x",
         "y": [
          -135,
          -135,
          -145,
          -145
         ],
         "yaxis": "y"
        },
        {
         "hoverinfo": "text",
         "marker": {
          "color": "rgb(0,116,217)"
         },
         "mode": "lines",
         "type": "scatter",
         "x": [
          0,
          1.2710244246062181,
          1.2710244246062181,
          0
         ],
         "xaxis": "x",
         "y": [
          -155,
          -155,
          -165,
          -165
         ],
         "yaxis": "y"
        },
        {
         "hoverinfo": "text",
         "marker": {
          "color": "rgb(0,116,217)"
         },
         "mode": "lines",
         "type": "scatter",
         "x": [
          0,
          1.3831979538497057,
          1.3831979538497057,
          0
         ],
         "xaxis": "x",
         "y": [
          -175,
          -175,
          -185,
          -185
         ],
         "yaxis": "y"
        },
        {
         "hoverinfo": "text",
         "marker": {
          "color": "rgb(0,116,217)"
         },
         "mode": "lines",
         "type": "scatter",
         "x": [
          1.2710244246062181,
          1.4269562008735395,
          1.4269562008735395,
          1.3831979538497057
         ],
         "xaxis": "x",
         "y": [
          -160,
          -160,
          -180,
          -180
         ],
         "yaxis": "y"
        },
        {
         "hoverinfo": "text",
         "marker": {
          "color": "rgb(0,116,217)"
         },
         "mode": "lines",
         "type": "scatter",
         "x": [
          1.0626249946662445,
          1.590317992787192,
          1.590317992787192,
          1.4269562008735395
         ],
         "xaxis": "x",
         "y": [
          -140,
          -140,
          -170,
          -170
         ],
         "yaxis": "y"
        },
        {
         "hoverinfo": "text",
         "marker": {
          "color": "rgb(0,116,217)"
         },
         "mode": "lines",
         "type": "scatter",
         "x": [
          1.2168378802616464,
          1.7127391902623221,
          1.7127391902623221,
          1.590317992787192
         ],
         "xaxis": "x",
         "y": [
          -112.5,
          -112.5,
          -155,
          -155
         ],
         "yaxis": "y"
        },
        {
         "hoverinfo": "text",
         "marker": {
          "color": "rgb(0,116,217)"
         },
         "mode": "lines",
         "type": "scatter",
         "x": [
          1.4389976921752035,
          2.08314774860981,
          2.08314774860981,
          1.7127391902623221
         ],
         "xaxis": "x",
         "y": [
          -61.875,
          -61.875,
          -133.75,
          -133.75
         ],
         "yaxis": "y"
        },
        {
         "hoverinfo": "text",
         "marker": {
          "color": "rgb(255,220,0)"
         },
         "mode": "lines",
         "type": "scatter",
         "x": [
          0,
          0.9189049405660225,
          0.9189049405660225,
          0
         ],
         "xaxis": "x",
         "y": [
          -205,
          -205,
          -215,
          -215
         ],
         "yaxis": "y"
        },
        {
         "hoverinfo": "text",
         "marker": {
          "color": "rgb(255,220,0)"
         },
         "mode": "lines",
         "type": "scatter",
         "x": [
          0,
          0.9613460939751182,
          0.9613460939751182,
          0.9189049405660225
         ],
         "xaxis": "x",
         "y": [
          -195,
          -195,
          -210,
          -210
         ],
         "yaxis": "y"
        },
        {
         "hoverinfo": "text",
         "marker": {
          "color": "rgb(40,35,35)"
         },
         "mode": "lines",
         "type": "scatter",
         "x": [
          0,
          0.857730568725061,
          0.857730568725061,
          0
         ],
         "xaxis": "x",
         "y": [
          -245,
          -245,
          -255,
          -255
         ],
         "yaxis": "y"
        },
        {
         "hoverinfo": "text",
         "marker": {
          "color": "rgb(40,35,35)"
         },
         "mode": "lines",
         "type": "scatter",
         "x": [
          0,
          0.9263504961127343,
          0.9263504961127343,
          0.857730568725061
         ],
         "xaxis": "x",
         "y": [
          -235,
          -235,
          -250,
          -250
         ],
         "yaxis": "y"
        },
        {
         "hoverinfo": "text",
         "marker": {
          "color": "rgb(0,116,217)"
         },
         "mode": "lines",
         "type": "scatter",
         "x": [
          0,
          1.0537098311950541,
          1.0537098311950541,
          0.9263504961127343
         ],
         "xaxis": "x",
         "y": [
          -225,
          -225,
          -242.5,
          -242.5
         ],
         "yaxis": "y"
        },
        {
         "hoverinfo": "text",
         "marker": {
          "color": "rgb(0,116,217)"
         },
         "mode": "lines",
         "type": "scatter",
         "x": [
          0.9613460939751182,
          1.1184450799069474,
          1.1184450799069474,
          1.0537098311950541
         ],
         "xaxis": "x",
         "y": [
          -202.5,
          -202.5,
          -233.75,
          -233.75
         ],
         "yaxis": "y"
        },
        {
         "hoverinfo": "text",
         "marker": {
          "color": "rgb(61,153,112)"
         },
         "mode": "lines",
         "type": "scatter",
         "x": [
          0,
          0.8278713464831476,
          0.8278713464831476,
          0
         ],
         "xaxis": "x",
         "y": [
          -265,
          -265,
          -275,
          -275
         ],
         "yaxis": "y"
        },
        {
         "hoverinfo": "text",
         "marker": {
          "color": "rgb(255,65,54)"
         },
         "mode": "lines",
         "type": "scatter",
         "x": [
          0,
          0.8803349636553254,
          0.8803349636553254,
          0
         ],
         "xaxis": "x",
         "y": [
          -285,
          -285,
          -295,
          -295
         ],
         "yaxis": "y"
        },
        {
         "hoverinfo": "text",
         "marker": {
          "color": "rgb(0,116,217)"
         },
         "mode": "lines",
         "type": "scatter",
         "x": [
          0.8278713464831476,
          1.0339855355932641,
          1.0339855355932641,
          0.8803349636553254
         ],
         "xaxis": "x",
         "y": [
          -270,
          -270,
          -290,
          -290
         ],
         "yaxis": "y"
        },
        {
         "hoverinfo": "text",
         "marker": {
          "color": "rgb(35,205,205)"
         },
         "mode": "lines",
         "type": "scatter",
         "x": [
          0,
          0.9862066234593194,
          0.9862066234593194,
          0
         ],
         "xaxis": "x",
         "y": [
          -305,
          -305,
          -315,
          -315
         ],
         "yaxis": "y"
        },
        {
         "hoverinfo": "text",
         "marker": {
          "color": "rgb(61,153,112)"
         },
         "mode": "lines",
         "type": "scatter",
         "x": [
          0,
          0.8696986071266991,
          0.8696986071266991,
          0
         ],
         "xaxis": "x",
         "y": [
          -335,
          -335,
          -345,
          -345
         ],
         "yaxis": "y"
        },
        {
         "hoverinfo": "text",
         "marker": {
          "color": "rgb(0,116,217)"
         },
         "mode": "lines",
         "type": "scatter",
         "x": [
          0,
          1.0693639423501244,
          1.0693639423501244,
          0.8696986071266991
         ],
         "xaxis": "x",
         "y": [
          -325,
          -325,
          -340,
          -340
         ],
         "yaxis": "y"
        },
        {
         "hoverinfo": "text",
         "marker": {
          "color": "rgb(0,116,217)"
         },
         "mode": "lines",
         "type": "scatter",
         "x": [
          0.9862066234593194,
          1.1415312141490188,
          1.1415312141490188,
          1.0693639423501244
         ],
         "xaxis": "x",
         "y": [
          -310,
          -310,
          -332.5,
          -332.5
         ],
         "yaxis": "y"
        },
        {
         "hoverinfo": "text",
         "marker": {
          "color": "rgb(0,116,217)"
         },
         "mode": "lines",
         "type": "scatter",
         "x": [
          1.0339855355932641,
          1.3058719690031348,
          1.3058719690031348,
          1.1415312141490188
         ],
         "xaxis": "x",
         "y": [
          -280,
          -280,
          -321.25,
          -321.25
         ],
         "yaxis": "y"
        },
        {
         "hoverinfo": "text",
         "marker": {
          "color": "rgb(0,116,217)"
         },
         "mode": "lines",
         "type": "scatter",
         "x": [
          1.1184450799069474,
          1.5785877020750536,
          1.5785877020750536,
          1.3058719690031348
         ],
         "xaxis": "x",
         "y": [
          -218.125,
          -218.125,
          -300.625,
          -300.625
         ],
         "yaxis": "y"
        },
        {
         "hoverinfo": "text",
         "marker": {
          "color": "rgb(255,65,54)"
         },
         "mode": "lines",
         "type": "scatter",
         "x": [
          0,
          0.7490011506496326,
          0.7490011506496326,
          0
         ],
         "xaxis": "x",
         "y": [
          -365,
          -365,
          -375,
          -375
         ],
         "yaxis": "y"
        },
        {
         "hoverinfo": "text",
         "marker": {
          "color": "rgb(255,65,54)"
         },
         "mode": "lines",
         "type": "scatter",
         "x": [
          0,
          0.9493678155644635,
          0.9493678155644635,
          0.7490011506496326
         ],
         "xaxis": "x",
         "y": [
          -355,
          -355,
          -370,
          -370
         ],
         "yaxis": "y"
        },
        {
         "hoverinfo": "text",
         "marker": {
          "color": "rgb(35,205,205)"
         },
         "mode": "lines",
         "type": "scatter",
         "x": [
          0,
          0.815152517712312,
          0.815152517712312,
          0
         ],
         "xaxis": "x",
         "y": [
          -395,
          -395,
          -405,
          -405
         ],
         "yaxis": "y"
        },
        {
         "hoverinfo": "text",
         "marker": {
          "color": "rgb(0,116,217)"
         },
         "mode": "lines",
         "type": "scatter",
         "x": [
          0,
          1.1023138973284883,
          1.1023138973284883,
          0.815152517712312
         ],
         "xaxis": "x",
         "y": [
          -385,
          -385,
          -400,
          -400
         ],
         "yaxis": "y"
        },
        {
         "hoverinfo": "text",
         "marker": {
          "color": "rgb(0,116,217)"
         },
         "mode": "lines",
         "type": "scatter",
         "x": [
          0.9493678155644635,
          1.600681560683649,
          1.600681560683649,
          1.1023138973284883
         ],
         "xaxis": "x",
         "y": [
          -362.5,
          -362.5,
          -392.5,
          -392.5
         ],
         "yaxis": "y"
        },
        {
         "hoverinfo": "text",
         "marker": {
          "color": "rgb(133,20,75)"
         },
         "mode": "lines",
         "type": "scatter",
         "x": [
          0,
          0.8629883839137776,
          0.8629883839137776,
          0
         ],
         "xaxis": "x",
         "y": [
          -415,
          -415,
          -425,
          -425
         ],
         "yaxis": "y"
        },
        {
         "hoverinfo": "text",
         "marker": {
          "color": "rgb(255,220,0)"
         },
         "mode": "lines",
         "type": "scatter",
         "x": [
          0,
          0.9725189122214543,
          0.9725189122214543,
          0
         ],
         "xaxis": "x",
         "y": [
          -445,
          -445,
          -455,
          -455
         ],
         "yaxis": "y"
        },
        {
         "hoverinfo": "text",
         "marker": {
          "color": "rgb(0,116,217)"
         },
         "mode": "lines",
         "type": "scatter",
         "x": [
          0,
          1.126838783497646,
          1.126838783497646,
          0.9725189122214543
         ],
         "xaxis": "x",
         "y": [
          -435,
          -435,
          -450,
          -450
         ],
         "yaxis": "y"
        },
        {
         "hoverinfo": "text",
         "marker": {
          "color": "rgb(0,116,217)"
         },
         "mode": "lines",
         "type": "scatter",
         "x": [
          0.8629883839137776,
          1.21234954179357,
          1.21234954179357,
          1.126838783497646
         ],
         "xaxis": "x",
         "y": [
          -420,
          -420,
          -442.5,
          -442.5
         ],
         "yaxis": "y"
        },
        {
         "hoverinfo": "text",
         "marker": {
          "color": "rgb(40,35,35)"
         },
         "mode": "lines",
         "type": "scatter",
         "x": [
          0,
          0.8009052750700093,
          0.8009052750700093,
          0
         ],
         "xaxis": "x",
         "y": [
          -465,
          -465,
          -475,
          -475
         ],
         "yaxis": "y"
        },
        {
         "hoverinfo": "text",
         "marker": {
          "color": "rgb(0,116,217)"
         },
         "mode": "lines",
         "type": "scatter",
         "x": [
          0,
          1.0976207656211325,
          1.0976207656211325,
          0
         ],
         "xaxis": "x",
         "y": [
          -495,
          -495,
          -505,
          -505
         ],
         "yaxis": "y"
        },
        {
         "hoverinfo": "text",
         "marker": {
          "color": "rgb(0,116,217)"
         },
         "mode": "lines",
         "type": "scatter",
         "x": [
          0,
          1.1108111286941664,
          1.1108111286941664,
          1.0976207656211325
         ],
         "xaxis": "x",
         "y": [
          -485,
          -485,
          -500,
          -500
         ],
         "yaxis": "y"
        },
        {
         "hoverinfo": "text",
         "marker": {
          "color": "rgb(0,116,217)"
         },
         "mode": "lines",
         "type": "scatter",
         "x": [
          0.8009052750700093,
          1.4009741151493844,
          1.4009741151493844,
          1.1108111286941664
         ],
         "xaxis": "x",
         "y": [
          -470,
          -470,
          -492.5,
          -492.5
         ],
         "yaxis": "y"
        },
        {
         "hoverinfo": "text",
         "marker": {
          "color": "rgb(0,116,217)"
         },
         "mode": "lines",
         "type": "scatter",
         "x": [
          0,
          1.002842435122648,
          1.002842435122648,
          0
         ],
         "xaxis": "x",
         "y": [
          -515,
          -515,
          -525,
          -525
         ],
         "yaxis": "y"
        },
        {
         "hoverinfo": "text",
         "marker": {
          "color": "rgb(61,153,112)"
         },
         "mode": "lines",
         "type": "scatter",
         "x": [
          0,
          0.9441091736523333,
          0.9441091736523333,
          0
         ],
         "xaxis": "x",
         "y": [
          -535,
          -535,
          -545,
          -545
         ],
         "yaxis": "y"
        },
        {
         "hoverinfo": "text",
         "marker": {
          "color": "rgb(255,65,54)"
         },
         "mode": "lines",
         "type": "scatter",
         "x": [
          0,
          0.9915517159346843,
          0.9915517159346843,
          0
         ],
         "xaxis": "x",
         "y": [
          -555,
          -555,
          -565,
          -565
         ],
         "yaxis": "y"
        },
        {
         "hoverinfo": "text",
         "marker": {
          "color": "rgb(0,116,217)"
         },
         "mode": "lines",
         "type": "scatter",
         "x": [
          0.9441091736523333,
          1.1886447824608413,
          1.1886447824608413,
          0.9915517159346843
         ],
         "xaxis": "x",
         "y": [
          -540,
          -540,
          -560,
          -560
         ],
         "yaxis": "y"
        },
        {
         "hoverinfo": "text",
         "marker": {
          "color": "rgb(0,116,217)"
         },
         "mode": "lines",
         "type": "scatter",
         "x": [
          1.002842435122648,
          1.2898990785405313,
          1.2898990785405313,
          1.1886447824608413
         ],
         "xaxis": "x",
         "y": [
          -520,
          -520,
          -550,
          -550
         ],
         "yaxis": "y"
        },
        {
         "hoverinfo": "text",
         "marker": {
          "color": "rgb(35,205,205)"
         },
         "mode": "lines",
         "type": "scatter",
         "x": [
          0,
          0.9145406674195595,
          0.9145406674195595,
          0
         ],
         "xaxis": "x",
         "y": [
          -575,
          -575,
          -585,
          -585
         ],
         "yaxis": "y"
        },
        {
         "hoverinfo": "text",
         "marker": {
          "color": "rgb(61,153,112)"
         },
         "mode": "lines",
         "type": "scatter",
         "x": [
          0,
          0.9292523764407906,
          0.9292523764407906,
          0
         ],
         "xaxis": "x",
         "y": [
          -595,
          -595,
          -605,
          -605
         ],
         "yaxis": "y"
        },
        {
         "hoverinfo": "text",
         "marker": {
          "color": "rgb(255,65,54)"
         },
         "mode": "lines",
         "type": "scatter",
         "x": [
          0,
          0.990450719123312,
          0.990450719123312,
          0
         ],
         "xaxis": "x",
         "y": [
          -635,
          -635,
          -645,
          -645
         ],
         "yaxis": "y"
        },
        {
         "hoverinfo": "text",
         "marker": {
          "color": "rgb(0,116,217)"
         },
         "mode": "lines",
         "type": "scatter",
         "x": [
          0,
          1.1035438537134545,
          1.1035438537134545,
          0.990450719123312
         ],
         "xaxis": "x",
         "y": [
          -625,
          -625,
          -640,
          -640
         ],
         "yaxis": "y"
        },
        {
         "hoverinfo": "text",
         "marker": {
          "color": "rgb(0,116,217)"
         },
         "mode": "lines",
         "type": "scatter",
         "x": [
          0,
          1.1353805151622922,
          1.1353805151622922,
          1.1035438537134545
         ],
         "xaxis": "x",
         "y": [
          -615,
          -615,
          -632.5,
          -632.5
         ],
         "yaxis": "y"
        },
        {
         "hoverinfo": "text",
         "marker": {
          "color": "rgb(0,116,217)"
         },
         "mode": "lines",
         "type": "scatter",
         "x": [
          0.9292523764407906,
          1.1781386855634295,
          1.1781386855634295,
          1.1353805151622922
         ],
         "xaxis": "x",
         "y": [
          -600,
          -600,
          -623.75,
          -623.75
         ],
         "yaxis": "y"
        },
        {
         "hoverinfo": "text",
         "marker": {
          "color": "rgb(0,116,217)"
         },
         "mode": "lines",
         "type": "scatter",
         "x": [
          0.9145406674195595,
          1.3069468086498177,
          1.3069468086498177,
          1.1781386855634295
         ],
         "xaxis": "x",
         "y": [
          -580,
          -580,
          -611.875,
          -611.875
         ],
         "yaxis": "y"
        },
        {
         "hoverinfo": "text",
         "marker": {
          "color": "rgb(0,116,217)"
         },
         "mode": "lines",
         "type": "scatter",
         "x": [
          1.2898990785405313,
          1.442755394991232,
          1.442755394991232,
          1.3069468086498177
         ],
         "xaxis": "x",
         "y": [
          -535,
          -535,
          -595.9375,
          -595.9375
         ],
         "yaxis": "y"
        },
        {
         "hoverinfo": "text",
         "marker": {
          "color": "rgb(0,116,217)"
         },
         "mode": "lines",
         "type": "scatter",
         "x": [
          1.4009741151493844,
          1.560693290373421,
          1.560693290373421,
          1.442755394991232
         ],
         "xaxis": "x",
         "y": [
          -481.25,
          -481.25,
          -565.46875,
          -565.46875
         ],
         "yaxis": "y"
        },
        {
         "hoverinfo": "text",
         "marker": {
          "color": "rgb(0,116,217)"
         },
         "mode": "lines",
         "type": "scatter",
         "x": [
          1.21234954179357,
          1.7935392012276423,
          1.7935392012276423,
          1.560693290373421
         ],
         "xaxis": "x",
         "y": [
          -431.25,
          -431.25,
          -523.359375,
          -523.359375
         ],
         "yaxis": "y"
        },
        {
         "hoverinfo": "text",
         "marker": {
          "color": "rgb(0,116,217)"
         },
         "mode": "lines",
         "type": "scatter",
         "x": [
          1.600681560683649,
          1.8856296219208861,
          1.8856296219208861,
          1.7935392012276423
         ],
         "xaxis": "x",
         "y": [
          -377.5,
          -377.5,
          -477.3046875,
          -477.3046875
         ],
         "yaxis": "y"
        },
        {
         "hoverinfo": "text",
         "marker": {
          "color": "rgb(0,116,217)"
         },
         "mode": "lines",
         "type": "scatter",
         "x": [
          1.5785877020750536,
          2.418128888174813,
          2.418128888174813,
          1.8856296219208861
         ],
         "xaxis": "x",
         "y": [
          -259.375,
          -259.375,
          -427.40234375,
          -427.40234375
         ],
         "yaxis": "y"
        },
        {
         "hoverinfo": "text",
         "marker": {
          "color": "rgb(0,116,217)"
         },
         "mode": "lines",
         "type": "scatter",
         "x": [
          2.08314774860981,
          3.442526424464571,
          3.442526424464571,
          2.418128888174813
         ],
         "xaxis": "x",
         "y": [
          -97.8125,
          -97.8125,
          -343.388671875,
          -343.388671875
         ],
         "yaxis": "y"
        },
        {
         "hoverinfo": "text",
         "marker": {
          "color": "rgb(0,116,217)"
         },
         "mode": "lines",
         "type": "scatter",
         "x": [
          1.1188282716377256,
          4.038566470416424,
          4.038566470416424,
          3.442526424464571
         ],
         "xaxis": "x",
         "y": [
          -20,
          -20,
          -220.6005859375,
          -220.6005859375
         ],
         "yaxis": "y"
        }
       ],
       "layout": {
        "autosize": false,
        "height": 1175,
        "hoverlabel": {
         "bgcolor": "white",
         "font": {
          "family": "Rockwell",
          "size": 16
         }
        },
        "hovermode": "closest",
        "plot_bgcolor": "#ECEFF1",
        "showlegend": false,
        "template": {
         "data": {
          "bar": [
           {
            "error_x": {
             "color": "#2a3f5f"
            },
            "error_y": {
             "color": "#2a3f5f"
            },
            "marker": {
             "line": {
              "color": "white",
              "width": 0.5
             },
             "pattern": {
              "fillmode": "overlay",
              "size": 10,
              "solidity": 0.2
             }
            },
            "type": "bar"
           }
          ],
          "barpolar": [
           {
            "marker": {
             "line": {
              "color": "white",
              "width": 0.5
             },
             "pattern": {
              "fillmode": "overlay",
              "size": 10,
              "solidity": 0.2
             }
            },
            "type": "barpolar"
           }
          ],
          "carpet": [
           {
            "aaxis": {
             "endlinecolor": "#2a3f5f",
             "gridcolor": "#C8D4E3",
             "linecolor": "#C8D4E3",
             "minorgridcolor": "#C8D4E3",
             "startlinecolor": "#2a3f5f"
            },
            "baxis": {
             "endlinecolor": "#2a3f5f",
             "gridcolor": "#C8D4E3",
             "linecolor": "#C8D4E3",
             "minorgridcolor": "#C8D4E3",
             "startlinecolor": "#2a3f5f"
            },
            "type": "carpet"
           }
          ],
          "choropleth": [
           {
            "colorbar": {
             "outlinewidth": 0,
             "ticks": ""
            },
            "type": "choropleth"
           }
          ],
          "contour": [
           {
            "colorbar": {
             "outlinewidth": 0,
             "ticks": ""
            },
            "colorscale": [
             [
              0,
              "#0d0887"
             ],
             [
              0.1111111111111111,
              "#46039f"
             ],
             [
              0.2222222222222222,
              "#7201a8"
             ],
             [
              0.3333333333333333,
              "#9c179e"
             ],
             [
              0.4444444444444444,
              "#bd3786"
             ],
             [
              0.5555555555555556,
              "#d8576b"
             ],
             [
              0.6666666666666666,
              "#ed7953"
             ],
             [
              0.7777777777777778,
              "#fb9f3a"
             ],
             [
              0.8888888888888888,
              "#fdca26"
             ],
             [
              1,
              "#f0f921"
             ]
            ],
            "type": "contour"
           }
          ],
          "contourcarpet": [
           {
            "colorbar": {
             "outlinewidth": 0,
             "ticks": ""
            },
            "type": "contourcarpet"
           }
          ],
          "heatmap": [
           {
            "colorbar": {
             "outlinewidth": 0,
             "ticks": ""
            },
            "colorscale": [
             [
              0,
              "#0d0887"
             ],
             [
              0.1111111111111111,
              "#46039f"
             ],
             [
              0.2222222222222222,
              "#7201a8"
             ],
             [
              0.3333333333333333,
              "#9c179e"
             ],
             [
              0.4444444444444444,
              "#bd3786"
             ],
             [
              0.5555555555555556,
              "#d8576b"
             ],
             [
              0.6666666666666666,
              "#ed7953"
             ],
             [
              0.7777777777777778,
              "#fb9f3a"
             ],
             [
              0.8888888888888888,
              "#fdca26"
             ],
             [
              1,
              "#f0f921"
             ]
            ],
            "type": "heatmap"
           }
          ],
          "heatmapgl": [
           {
            "colorbar": {
             "outlinewidth": 0,
             "ticks": ""
            },
            "colorscale": [
             [
              0,
              "#0d0887"
             ],
             [
              0.1111111111111111,
              "#46039f"
             ],
             [
              0.2222222222222222,
              "#7201a8"
             ],
             [
              0.3333333333333333,
              "#9c179e"
             ],
             [
              0.4444444444444444,
              "#bd3786"
             ],
             [
              0.5555555555555556,
              "#d8576b"
             ],
             [
              0.6666666666666666,
              "#ed7953"
             ],
             [
              0.7777777777777778,
              "#fb9f3a"
             ],
             [
              0.8888888888888888,
              "#fdca26"
             ],
             [
              1,
              "#f0f921"
             ]
            ],
            "type": "heatmapgl"
           }
          ],
          "histogram": [
           {
            "marker": {
             "pattern": {
              "fillmode": "overlay",
              "size": 10,
              "solidity": 0.2
             }
            },
            "type": "histogram"
           }
          ],
          "histogram2d": [
           {
            "colorbar": {
             "outlinewidth": 0,
             "ticks": ""
            },
            "colorscale": [
             [
              0,
              "#0d0887"
             ],
             [
              0.1111111111111111,
              "#46039f"
             ],
             [
              0.2222222222222222,
              "#7201a8"
             ],
             [
              0.3333333333333333,
              "#9c179e"
             ],
             [
              0.4444444444444444,
              "#bd3786"
             ],
             [
              0.5555555555555556,
              "#d8576b"
             ],
             [
              0.6666666666666666,
              "#ed7953"
             ],
             [
              0.7777777777777778,
              "#fb9f3a"
             ],
             [
              0.8888888888888888,
              "#fdca26"
             ],
             [
              1,
              "#f0f921"
             ]
            ],
            "type": "histogram2d"
           }
          ],
          "histogram2dcontour": [
           {
            "colorbar": {
             "outlinewidth": 0,
             "ticks": ""
            },
            "colorscale": [
             [
              0,
              "#0d0887"
             ],
             [
              0.1111111111111111,
              "#46039f"
             ],
             [
              0.2222222222222222,
              "#7201a8"
             ],
             [
              0.3333333333333333,
              "#9c179e"
             ],
             [
              0.4444444444444444,
              "#bd3786"
             ],
             [
              0.5555555555555556,
              "#d8576b"
             ],
             [
              0.6666666666666666,
              "#ed7953"
             ],
             [
              0.7777777777777778,
              "#fb9f3a"
             ],
             [
              0.8888888888888888,
              "#fdca26"
             ],
             [
              1,
              "#f0f921"
             ]
            ],
            "type": "histogram2dcontour"
           }
          ],
          "mesh3d": [
           {
            "colorbar": {
             "outlinewidth": 0,
             "ticks": ""
            },
            "type": "mesh3d"
           }
          ],
          "parcoords": [
           {
            "line": {
             "colorbar": {
              "outlinewidth": 0,
              "ticks": ""
             }
            },
            "type": "parcoords"
           }
          ],
          "pie": [
           {
            "automargin": true,
            "type": "pie"
           }
          ],
          "scatter": [
           {
            "fillpattern": {
             "fillmode": "overlay",
             "size": 10,
             "solidity": 0.2
            },
            "type": "scatter"
           }
          ],
          "scatter3d": [
           {
            "line": {
             "colorbar": {
              "outlinewidth": 0,
              "ticks": ""
             }
            },
            "marker": {
             "colorbar": {
              "outlinewidth": 0,
              "ticks": ""
             }
            },
            "type": "scatter3d"
           }
          ],
          "scattercarpet": [
           {
            "marker": {
             "colorbar": {
              "outlinewidth": 0,
              "ticks": ""
             }
            },
            "type": "scattercarpet"
           }
          ],
          "scattergeo": [
           {
            "marker": {
             "colorbar": {
              "outlinewidth": 0,
              "ticks": ""
             }
            },
            "type": "scattergeo"
           }
          ],
          "scattergl": [
           {
            "marker": {
             "colorbar": {
              "outlinewidth": 0,
              "ticks": ""
             }
            },
            "type": "scattergl"
           }
          ],
          "scattermapbox": [
           {
            "marker": {
             "colorbar": {
              "outlinewidth": 0,
              "ticks": ""
             }
            },
            "type": "scattermapbox"
           }
          ],
          "scatterpolar": [
           {
            "marker": {
             "colorbar": {
              "outlinewidth": 0,
              "ticks": ""
             }
            },
            "type": "scatterpolar"
           }
          ],
          "scatterpolargl": [
           {
            "marker": {
             "colorbar": {
              "outlinewidth": 0,
              "ticks": ""
             }
            },
            "type": "scatterpolargl"
           }
          ],
          "scatterternary": [
           {
            "marker": {
             "colorbar": {
              "outlinewidth": 0,
              "ticks": ""
             }
            },
            "type": "scatterternary"
           }
          ],
          "surface": [
           {
            "colorbar": {
             "outlinewidth": 0,
             "ticks": ""
            },
            "colorscale": [
             [
              0,
              "#0d0887"
             ],
             [
              0.1111111111111111,
              "#46039f"
             ],
             [
              0.2222222222222222,
              "#7201a8"
             ],
             [
              0.3333333333333333,
              "#9c179e"
             ],
             [
              0.4444444444444444,
              "#bd3786"
             ],
             [
              0.5555555555555556,
              "#d8576b"
             ],
             [
              0.6666666666666666,
              "#ed7953"
             ],
             [
              0.7777777777777778,
              "#fb9f3a"
             ],
             [
              0.8888888888888888,
              "#fdca26"
             ],
             [
              1,
              "#f0f921"
             ]
            ],
            "type": "surface"
           }
          ],
          "table": [
           {
            "cells": {
             "fill": {
              "color": "#EBF0F8"
             },
             "line": {
              "color": "white"
             }
            },
            "header": {
             "fill": {
              "color": "#C8D4E3"
             },
             "line": {
              "color": "white"
             }
            },
            "type": "table"
           }
          ]
         },
         "layout": {
          "annotationdefaults": {
           "arrowcolor": "#2a3f5f",
           "arrowhead": 0,
           "arrowwidth": 1
          },
          "autotypenumbers": "strict",
          "coloraxis": {
           "colorbar": {
            "outlinewidth": 0,
            "ticks": ""
           }
          },
          "colorscale": {
           "diverging": [
            [
             0,
             "#8e0152"
            ],
            [
             0.1,
             "#c51b7d"
            ],
            [
             0.2,
             "#de77ae"
            ],
            [
             0.3,
             "#f1b6da"
            ],
            [
             0.4,
             "#fde0ef"
            ],
            [
             0.5,
             "#f7f7f7"
            ],
            [
             0.6,
             "#e6f5d0"
            ],
            [
             0.7,
             "#b8e186"
            ],
            [
             0.8,
             "#7fbc41"
            ],
            [
             0.9,
             "#4d9221"
            ],
            [
             1,
             "#276419"
            ]
           ],
           "sequential": [
            [
             0,
             "#0d0887"
            ],
            [
             0.1111111111111111,
             "#46039f"
            ],
            [
             0.2222222222222222,
             "#7201a8"
            ],
            [
             0.3333333333333333,
             "#9c179e"
            ],
            [
             0.4444444444444444,
             "#bd3786"
            ],
            [
             0.5555555555555556,
             "#d8576b"
            ],
            [
             0.6666666666666666,
             "#ed7953"
            ],
            [
             0.7777777777777778,
             "#fb9f3a"
            ],
            [
             0.8888888888888888,
             "#fdca26"
            ],
            [
             1,
             "#f0f921"
            ]
           ],
           "sequentialminus": [
            [
             0,
             "#0d0887"
            ],
            [
             0.1111111111111111,
             "#46039f"
            ],
            [
             0.2222222222222222,
             "#7201a8"
            ],
            [
             0.3333333333333333,
             "#9c179e"
            ],
            [
             0.4444444444444444,
             "#bd3786"
            ],
            [
             0.5555555555555556,
             "#d8576b"
            ],
            [
             0.6666666666666666,
             "#ed7953"
            ],
            [
             0.7777777777777778,
             "#fb9f3a"
            ],
            [
             0.8888888888888888,
             "#fdca26"
            ],
            [
             1,
             "#f0f921"
            ]
           ]
          },
          "colorway": [
           "#636efa",
           "#EF553B",
           "#00cc96",
           "#ab63fa",
           "#FFA15A",
           "#19d3f3",
           "#FF6692",
           "#B6E880",
           "#FF97FF",
           "#FECB52"
          ],
          "font": {
           "color": "#2a3f5f"
          },
          "geo": {
           "bgcolor": "white",
           "lakecolor": "white",
           "landcolor": "white",
           "showlakes": true,
           "showland": true,
           "subunitcolor": "#C8D4E3"
          },
          "hoverlabel": {
           "align": "left"
          },
          "hovermode": "closest",
          "mapbox": {
           "style": "light"
          },
          "paper_bgcolor": "white",
          "plot_bgcolor": "white",
          "polar": {
           "angularaxis": {
            "gridcolor": "#EBF0F8",
            "linecolor": "#EBF0F8",
            "ticks": ""
           },
           "bgcolor": "white",
           "radialaxis": {
            "gridcolor": "#EBF0F8",
            "linecolor": "#EBF0F8",
            "ticks": ""
           }
          },
          "scene": {
           "xaxis": {
            "backgroundcolor": "white",
            "gridcolor": "#DFE8F3",
            "gridwidth": 2,
            "linecolor": "#EBF0F8",
            "showbackground": true,
            "ticks": "",
            "zerolinecolor": "#EBF0F8"
           },
           "yaxis": {
            "backgroundcolor": "white",
            "gridcolor": "#DFE8F3",
            "gridwidth": 2,
            "linecolor": "#EBF0F8",
            "showbackground": true,
            "ticks": "",
            "zerolinecolor": "#EBF0F8"
           },
           "zaxis": {
            "backgroundcolor": "white",
            "gridcolor": "#DFE8F3",
            "gridwidth": 2,
            "linecolor": "#EBF0F8",
            "showbackground": true,
            "ticks": "",
            "zerolinecolor": "#EBF0F8"
           }
          },
          "shapedefaults": {
           "line": {
            "color": "#2a3f5f"
           }
          },
          "ternary": {
           "aaxis": {
            "gridcolor": "#DFE8F3",
            "linecolor": "#A2B1C6",
            "ticks": ""
           },
           "baxis": {
            "gridcolor": "#DFE8F3",
            "linecolor": "#A2B1C6",
            "ticks": ""
           },
           "bgcolor": "white",
           "caxis": {
            "gridcolor": "#DFE8F3",
            "linecolor": "#A2B1C6",
            "ticks": ""
           }
          },
          "title": {
           "x": 0.05
          },
          "xaxis": {
           "automargin": true,
           "gridcolor": "#EBF0F8",
           "linecolor": "#EBF0F8",
           "ticks": "",
           "title": {
            "standoff": 15
           },
           "zerolinecolor": "#EBF0F8",
           "zerolinewidth": 2
          },
          "yaxis": {
           "automargin": true,
           "gridcolor": "#EBF0F8",
           "linecolor": "#EBF0F8",
           "ticks": "",
           "title": {
            "standoff": 15
           },
           "zerolinecolor": "#EBF0F8",
           "zerolinewidth": 2
          }
         }
        },
        "title": {
         "font": {
          "color": "Black",
          "size": 22
         },
         "text": "<b>Hierarchical Clustering",
         "x": 0.5,
         "xanchor": "center",
         "yanchor": "top"
        },
        "width": 1000,
        "xaxis": {
         "mirror": "allticks",
         "rangemode": "tozero",
         "showgrid": false,
         "showline": true,
         "showticklabels": true,
         "ticks": "outside",
         "type": "linear",
         "zeroline": false
        },
        "yaxis": {
         "mirror": "allticks",
         "range": [
          -650,
          0
         ],
         "rangemode": "tozero",
         "showgrid": false,
         "showline": true,
         "showticklabels": true,
         "tickmode": "array",
         "ticks": "outside",
         "ticktext": [
          "1_time_work_series",
          "2_language_words_word",
          "-1_trope_character_just",
          "0_evil_villain_good",
          "22_gun_guns_weapon",
          "24_weapon_sword_weapons",
          "43_car_vehicle_cars",
          "47_water_fish_underwater",
          "55_bomb_lava_explosion",
          "60_ship_cool_tanks",
          "39_eyes_eye_smile",
          "29_color_blue_red",
          "48_hair_beard_hairstyle",
          "7_song_music_songs",
          "42_metal_rock_bands",
          "40_school_teacher_schools",
          "63_marriage_wedding_married",
          "38_title_titles_pun",
          "49_boss_game_difficulty",
          "28_horror_puppet_fear",
          "5_death_dead_die",
          "19_twins_twin_identity",
          "13_names_nickname_named",
          "18_accent_black_white",
          "25_character_characters_cast",
          "33_aesop_smart_genius",
          "6_powers_power_magic",
          "20_item_macguffin_items",
          "3_game_games_player",
          "23_attack_damage_martial",
          "16_camera_animation_shot",
          "30_elevator_falling_glass",
          "4_wear_dress_clothes",
          "12_light_darkness_sun",
          "41_elemental_smoking_element",
          "52_baby_pregnancy_pregnant",
          "9_parents_parent_child",
          "17_age_child_children",
          "50_gay_yuri_straight",
          "21_gender_female_male",
          "35_sex_sexual_virgin",
          "8_animal_animals_dog",
          "53_monster_bees_monsters",
          "56_transformation_shapeshif...",
          "32_robot_robots_mecha",
          "46_humans_aliens_alien",
          "36_money_rich_wealth",
          "51_money_currency_coins",
          "44_ending_endings_twist",
          "31_product_commercial_produ...",
          "45_actor_actors_celebrity",
          "14_food_eat_eating",
          "37_drugs_alcohol_poison",
          "34_gesture_finger_hand",
          "61_limbs_bones_body",
          "27_blood_zombie_zombies",
          "58_doctor_medical_heart",
          "54_prison_escape_prisoners",
          "62_torture_trap_victim",
          "11_love_relationship_couple",
          "57_friends_friend_friendship",
          "26_dream_dreams_sleep",
          "15_god_religion_gods",
          "10_cop_police_crime",
          "59_insanity_insane_mental"
         ],
         "tickvals": [
          -5,
          -15,
          -25,
          -35,
          -45,
          -55,
          -65,
          -75,
          -85,
          -95,
          -105,
          -115,
          -125,
          -135,
          -145,
          -155,
          -165,
          -175,
          -185,
          -195,
          -205,
          -215,
          -225,
          -235,
          -245,
          -255,
          -265,
          -275,
          -285,
          -295,
          -305,
          -315,
          -325,
          -335,
          -345,
          -355,
          -365,
          -375,
          -385,
          -395,
          -405,
          -415,
          -425,
          -435,
          -445,
          -455,
          -465,
          -475,
          -485,
          -495,
          -505,
          -515,
          -525,
          -535,
          -545,
          -555,
          -565,
          -575,
          -585,
          -595,
          -605,
          -615,
          -625,
          -635,
          -645
         ],
         "type": "linear",
         "zeroline": false
        }
       }
      },
      "text/html": [
       "<div>                            <div id=\"446a7561-2421-4003-85b6-af3c5db8f5ac\" class=\"plotly-graph-div\" style=\"height:1175px; width:1000px;\"></div>            <script type=\"text/javascript\">                require([\"plotly\"], function(Plotly) {                    window.PLOTLYENV=window.PLOTLYENV || {};                                    if (document.getElementById(\"446a7561-2421-4003-85b6-af3c5db8f5ac\")) {                    Plotly.newPlot(                        \"446a7561-2421-4003-85b6-af3c5db8f5ac\",                        [{\"hoverinfo\":\"text\",\"marker\":{\"color\":\"rgb(61,153,112)\"},\"mode\":\"lines\",\"x\":[0.0,0.6511413019685006,0.6511413019685006,0.0],\"xaxis\":\"x\",\"y\":[-5.0,-5.0,-15.0,-15.0],\"yaxis\":\"y\",\"type\":\"scatter\"},{\"hoverinfo\":\"text\",\"marker\":{\"color\":\"rgb(255,65,54)\"},\"mode\":\"lines\",\"x\":[0.0,0.6656860495946852,0.6656860495946852,0.0],\"xaxis\":\"x\",\"y\":[-25.0,-25.0,-35.0,-35.0],\"yaxis\":\"y\",\"type\":\"scatter\"},{\"hoverinfo\":\"text\",\"marker\":{\"color\":\"rgb(0,116,217)\"},\"mode\":\"lines\",\"x\":[0.6511413019685006,1.1188282716377256,1.1188282716377256,0.6656860495946852],\"xaxis\":\"x\",\"y\":[-10.0,-10.0,-30.0,-30.0],\"yaxis\":\"y\",\"type\":\"scatter\"},{\"hoverinfo\":\"text\",\"marker\":{\"color\":\"rgb(35,205,205)\"},\"mode\":\"lines\",\"x\":[0.0,0.7780149072267103,0.7780149072267103,0.0],\"xaxis\":\"x\",\"y\":[-45.0,-45.0,-55.0,-55.0],\"yaxis\":\"y\",\"type\":\"scatter\"},{\"hoverinfo\":\"text\",\"marker\":{\"color\":\"rgb(0,116,217)\"},\"mode\":\"lines\",\"x\":[0.0,1.0211166277931383,1.0211166277931383,0.0],\"xaxis\":\"x\",\"y\":[-85.0,-85.0,-95.0,-95.0],\"yaxis\":\"y\",\"type\":\"scatter\"},{\"hoverinfo\":\"text\",\"marker\":{\"color\":\"rgb(0,116,217)\"},\"mode\":\"lines\",\"x\":[0.0,1.1175788877157369,1.1175788877157369,1.0211166277931383],\"xaxis\":\"x\",\"y\":[-75.0,-75.0,-90.0,-90.0],\"yaxis\":\"y\",\"type\":\"scatter\"},{\"hoverinfo\":\"text\",\"marker\":{\"color\":\"rgb(0,116,217)\"},\"mode\":\"lines\",\"x\":[0.0,1.1987584014122998,1.1987584014122998,1.1175788877157369],\"xaxis\":\"x\",\"y\":[-65.0,-65.0,-82.5,-82.5],\"yaxis\":\"y\",\"type\":\"scatter\"},{\"hoverinfo\":\"text\",\"marker\":{\"color\":\"rgb(0,116,217)\"},\"mode\":\"lines\",\"x\":[0.7780149072267103,1.4389976921752035,1.4389976921752035,1.1987584014122998],\"xaxis\":\"x\",\"y\":[-50.0,-50.0,-73.75,-73.75],\"yaxis\":\"y\",\"type\":\"scatter\"},{\"hoverinfo\":\"text\",\"marker\":{\"color\":\"rgb(133,20,75)\"},\"mode\":\"lines\",\"x\":[0.0,0.9780208441546288,0.9780208441546288,0.0],\"xaxis\":\"x\",\"y\":[-115.0,-115.0,-125.0,-125.0],\"yaxis\":\"y\",\"type\":\"scatter\"},{\"hoverinfo\":\"text\",\"marker\":{\"color\":\"rgb(0,116,217)\"},\"mode\":\"lines\",\"x\":[0.0,1.2168378802616464,1.2168378802616464,0.9780208441546288],\"xaxis\":\"x\",\"y\":[-105.0,-105.0,-120.0,-120.0],\"yaxis\":\"y\",\"type\":\"scatter\"},{\"hoverinfo\":\"text\",\"marker\":{\"color\":\"rgb(0,116,217)\"},\"mode\":\"lines\",\"x\":[0.0,1.0626249946662445,1.0626249946662445,0.0],\"xaxis\":\"x\",\"y\":[-135.0,-135.0,-145.0,-145.0],\"yaxis\":\"y\",\"type\":\"scatter\"},{\"hoverinfo\":\"text\",\"marker\":{\"color\":\"rgb(0,116,217)\"},\"mode\":\"lines\",\"x\":[0.0,1.2710244246062181,1.2710244246062181,0.0],\"xaxis\":\"x\",\"y\":[-155.0,-155.0,-165.0,-165.0],\"yaxis\":\"y\",\"type\":\"scatter\"},{\"hoverinfo\":\"text\",\"marker\":{\"color\":\"rgb(0,116,217)\"},\"mode\":\"lines\",\"x\":[0.0,1.3831979538497057,1.3831979538497057,0.0],\"xaxis\":\"x\",\"y\":[-175.0,-175.0,-185.0,-185.0],\"yaxis\":\"y\",\"type\":\"scatter\"},{\"hoverinfo\":\"text\",\"marker\":{\"color\":\"rgb(0,116,217)\"},\"mode\":\"lines\",\"x\":[1.2710244246062181,1.4269562008735395,1.4269562008735395,1.3831979538497057],\"xaxis\":\"x\",\"y\":[-160.0,-160.0,-180.0,-180.0],\"yaxis\":\"y\",\"type\":\"scatter\"},{\"hoverinfo\":\"text\",\"marker\":{\"color\":\"rgb(0,116,217)\"},\"mode\":\"lines\",\"x\":[1.0626249946662445,1.590317992787192,1.590317992787192,1.4269562008735395],\"xaxis\":\"x\",\"y\":[-140.0,-140.0,-170.0,-170.0],\"yaxis\":\"y\",\"type\":\"scatter\"},{\"hoverinfo\":\"text\",\"marker\":{\"color\":\"rgb(0,116,217)\"},\"mode\":\"lines\",\"x\":[1.2168378802616464,1.7127391902623221,1.7127391902623221,1.590317992787192],\"xaxis\":\"x\",\"y\":[-112.5,-112.5,-155.0,-155.0],\"yaxis\":\"y\",\"type\":\"scatter\"},{\"hoverinfo\":\"text\",\"marker\":{\"color\":\"rgb(0,116,217)\"},\"mode\":\"lines\",\"x\":[1.4389976921752035,2.08314774860981,2.08314774860981,1.7127391902623221],\"xaxis\":\"x\",\"y\":[-61.875,-61.875,-133.75,-133.75],\"yaxis\":\"y\",\"type\":\"scatter\"},{\"hoverinfo\":\"text\",\"marker\":{\"color\":\"rgb(255,220,0)\"},\"mode\":\"lines\",\"x\":[0.0,0.9189049405660225,0.9189049405660225,0.0],\"xaxis\":\"x\",\"y\":[-205.0,-205.0,-215.0,-215.0],\"yaxis\":\"y\",\"type\":\"scatter\"},{\"hoverinfo\":\"text\",\"marker\":{\"color\":\"rgb(255,220,0)\"},\"mode\":\"lines\",\"x\":[0.0,0.9613460939751182,0.9613460939751182,0.9189049405660225],\"xaxis\":\"x\",\"y\":[-195.0,-195.0,-210.0,-210.0],\"yaxis\":\"y\",\"type\":\"scatter\"},{\"hoverinfo\":\"text\",\"marker\":{\"color\":\"rgb(40,35,35)\"},\"mode\":\"lines\",\"x\":[0.0,0.857730568725061,0.857730568725061,0.0],\"xaxis\":\"x\",\"y\":[-245.0,-245.0,-255.0,-255.0],\"yaxis\":\"y\",\"type\":\"scatter\"},{\"hoverinfo\":\"text\",\"marker\":{\"color\":\"rgb(40,35,35)\"},\"mode\":\"lines\",\"x\":[0.0,0.9263504961127343,0.9263504961127343,0.857730568725061],\"xaxis\":\"x\",\"y\":[-235.0,-235.0,-250.0,-250.0],\"yaxis\":\"y\",\"type\":\"scatter\"},{\"hoverinfo\":\"text\",\"marker\":{\"color\":\"rgb(0,116,217)\"},\"mode\":\"lines\",\"x\":[0.0,1.0537098311950541,1.0537098311950541,0.9263504961127343],\"xaxis\":\"x\",\"y\":[-225.0,-225.0,-242.5,-242.5],\"yaxis\":\"y\",\"type\":\"scatter\"},{\"hoverinfo\":\"text\",\"marker\":{\"color\":\"rgb(0,116,217)\"},\"mode\":\"lines\",\"x\":[0.9613460939751182,1.1184450799069474,1.1184450799069474,1.0537098311950541],\"xaxis\":\"x\",\"y\":[-202.5,-202.5,-233.75,-233.75],\"yaxis\":\"y\",\"type\":\"scatter\"},{\"hoverinfo\":\"text\",\"marker\":{\"color\":\"rgb(61,153,112)\"},\"mode\":\"lines\",\"x\":[0.0,0.8278713464831476,0.8278713464831476,0.0],\"xaxis\":\"x\",\"y\":[-265.0,-265.0,-275.0,-275.0],\"yaxis\":\"y\",\"type\":\"scatter\"},{\"hoverinfo\":\"text\",\"marker\":{\"color\":\"rgb(255,65,54)\"},\"mode\":\"lines\",\"x\":[0.0,0.8803349636553254,0.8803349636553254,0.0],\"xaxis\":\"x\",\"y\":[-285.0,-285.0,-295.0,-295.0],\"yaxis\":\"y\",\"type\":\"scatter\"},{\"hoverinfo\":\"text\",\"marker\":{\"color\":\"rgb(0,116,217)\"},\"mode\":\"lines\",\"x\":[0.8278713464831476,1.0339855355932641,1.0339855355932641,0.8803349636553254],\"xaxis\":\"x\",\"y\":[-270.0,-270.0,-290.0,-290.0],\"yaxis\":\"y\",\"type\":\"scatter\"},{\"hoverinfo\":\"text\",\"marker\":{\"color\":\"rgb(35,205,205)\"},\"mode\":\"lines\",\"x\":[0.0,0.9862066234593194,0.9862066234593194,0.0],\"xaxis\":\"x\",\"y\":[-305.0,-305.0,-315.0,-315.0],\"yaxis\":\"y\",\"type\":\"scatter\"},{\"hoverinfo\":\"text\",\"marker\":{\"color\":\"rgb(61,153,112)\"},\"mode\":\"lines\",\"x\":[0.0,0.8696986071266991,0.8696986071266991,0.0],\"xaxis\":\"x\",\"y\":[-335.0,-335.0,-345.0,-345.0],\"yaxis\":\"y\",\"type\":\"scatter\"},{\"hoverinfo\":\"text\",\"marker\":{\"color\":\"rgb(0,116,217)\"},\"mode\":\"lines\",\"x\":[0.0,1.0693639423501244,1.0693639423501244,0.8696986071266991],\"xaxis\":\"x\",\"y\":[-325.0,-325.0,-340.0,-340.0],\"yaxis\":\"y\",\"type\":\"scatter\"},{\"hoverinfo\":\"text\",\"marker\":{\"color\":\"rgb(0,116,217)\"},\"mode\":\"lines\",\"x\":[0.9862066234593194,1.1415312141490188,1.1415312141490188,1.0693639423501244],\"xaxis\":\"x\",\"y\":[-310.0,-310.0,-332.5,-332.5],\"yaxis\":\"y\",\"type\":\"scatter\"},{\"hoverinfo\":\"text\",\"marker\":{\"color\":\"rgb(0,116,217)\"},\"mode\":\"lines\",\"x\":[1.0339855355932641,1.3058719690031348,1.3058719690031348,1.1415312141490188],\"xaxis\":\"x\",\"y\":[-280.0,-280.0,-321.25,-321.25],\"yaxis\":\"y\",\"type\":\"scatter\"},{\"hoverinfo\":\"text\",\"marker\":{\"color\":\"rgb(0,116,217)\"},\"mode\":\"lines\",\"x\":[1.1184450799069474,1.5785877020750536,1.5785877020750536,1.3058719690031348],\"xaxis\":\"x\",\"y\":[-218.125,-218.125,-300.625,-300.625],\"yaxis\":\"y\",\"type\":\"scatter\"},{\"hoverinfo\":\"text\",\"marker\":{\"color\":\"rgb(255,65,54)\"},\"mode\":\"lines\",\"x\":[0.0,0.7490011506496326,0.7490011506496326,0.0],\"xaxis\":\"x\",\"y\":[-365.0,-365.0,-375.0,-375.0],\"yaxis\":\"y\",\"type\":\"scatter\"},{\"hoverinfo\":\"text\",\"marker\":{\"color\":\"rgb(255,65,54)\"},\"mode\":\"lines\",\"x\":[0.0,0.9493678155644635,0.9493678155644635,0.7490011506496326],\"xaxis\":\"x\",\"y\":[-355.0,-355.0,-370.0,-370.0],\"yaxis\":\"y\",\"type\":\"scatter\"},{\"hoverinfo\":\"text\",\"marker\":{\"color\":\"rgb(35,205,205)\"},\"mode\":\"lines\",\"x\":[0.0,0.815152517712312,0.815152517712312,0.0],\"xaxis\":\"x\",\"y\":[-395.0,-395.0,-405.0,-405.0],\"yaxis\":\"y\",\"type\":\"scatter\"},{\"hoverinfo\":\"text\",\"marker\":{\"color\":\"rgb(0,116,217)\"},\"mode\":\"lines\",\"x\":[0.0,1.1023138973284883,1.1023138973284883,0.815152517712312],\"xaxis\":\"x\",\"y\":[-385.0,-385.0,-400.0,-400.0],\"yaxis\":\"y\",\"type\":\"scatter\"},{\"hoverinfo\":\"text\",\"marker\":{\"color\":\"rgb(0,116,217)\"},\"mode\":\"lines\",\"x\":[0.9493678155644635,1.600681560683649,1.600681560683649,1.1023138973284883],\"xaxis\":\"x\",\"y\":[-362.5,-362.5,-392.5,-392.5],\"yaxis\":\"y\",\"type\":\"scatter\"},{\"hoverinfo\":\"text\",\"marker\":{\"color\":\"rgb(133,20,75)\"},\"mode\":\"lines\",\"x\":[0.0,0.8629883839137776,0.8629883839137776,0.0],\"xaxis\":\"x\",\"y\":[-415.0,-415.0,-425.0,-425.0],\"yaxis\":\"y\",\"type\":\"scatter\"},{\"hoverinfo\":\"text\",\"marker\":{\"color\":\"rgb(255,220,0)\"},\"mode\":\"lines\",\"x\":[0.0,0.9725189122214543,0.9725189122214543,0.0],\"xaxis\":\"x\",\"y\":[-445.0,-445.0,-455.0,-455.0],\"yaxis\":\"y\",\"type\":\"scatter\"},{\"hoverinfo\":\"text\",\"marker\":{\"color\":\"rgb(0,116,217)\"},\"mode\":\"lines\",\"x\":[0.0,1.126838783497646,1.126838783497646,0.9725189122214543],\"xaxis\":\"x\",\"y\":[-435.0,-435.0,-450.0,-450.0],\"yaxis\":\"y\",\"type\":\"scatter\"},{\"hoverinfo\":\"text\",\"marker\":{\"color\":\"rgb(0,116,217)\"},\"mode\":\"lines\",\"x\":[0.8629883839137776,1.21234954179357,1.21234954179357,1.126838783497646],\"xaxis\":\"x\",\"y\":[-420.0,-420.0,-442.5,-442.5],\"yaxis\":\"y\",\"type\":\"scatter\"},{\"hoverinfo\":\"text\",\"marker\":{\"color\":\"rgb(40,35,35)\"},\"mode\":\"lines\",\"x\":[0.0,0.8009052750700093,0.8009052750700093,0.0],\"xaxis\":\"x\",\"y\":[-465.0,-465.0,-475.0,-475.0],\"yaxis\":\"y\",\"type\":\"scatter\"},{\"hoverinfo\":\"text\",\"marker\":{\"color\":\"rgb(0,116,217)\"},\"mode\":\"lines\",\"x\":[0.0,1.0976207656211325,1.0976207656211325,0.0],\"xaxis\":\"x\",\"y\":[-495.0,-495.0,-505.0,-505.0],\"yaxis\":\"y\",\"type\":\"scatter\"},{\"hoverinfo\":\"text\",\"marker\":{\"color\":\"rgb(0,116,217)\"},\"mode\":\"lines\",\"x\":[0.0,1.1108111286941664,1.1108111286941664,1.0976207656211325],\"xaxis\":\"x\",\"y\":[-485.0,-485.0,-500.0,-500.0],\"yaxis\":\"y\",\"type\":\"scatter\"},{\"hoverinfo\":\"text\",\"marker\":{\"color\":\"rgb(0,116,217)\"},\"mode\":\"lines\",\"x\":[0.8009052750700093,1.4009741151493844,1.4009741151493844,1.1108111286941664],\"xaxis\":\"x\",\"y\":[-470.0,-470.0,-492.5,-492.5],\"yaxis\":\"y\",\"type\":\"scatter\"},{\"hoverinfo\":\"text\",\"marker\":{\"color\":\"rgb(0,116,217)\"},\"mode\":\"lines\",\"x\":[0.0,1.002842435122648,1.002842435122648,0.0],\"xaxis\":\"x\",\"y\":[-515.0,-515.0,-525.0,-525.0],\"yaxis\":\"y\",\"type\":\"scatter\"},{\"hoverinfo\":\"text\",\"marker\":{\"color\":\"rgb(61,153,112)\"},\"mode\":\"lines\",\"x\":[0.0,0.9441091736523333,0.9441091736523333,0.0],\"xaxis\":\"x\",\"y\":[-535.0,-535.0,-545.0,-545.0],\"yaxis\":\"y\",\"type\":\"scatter\"},{\"hoverinfo\":\"text\",\"marker\":{\"color\":\"rgb(255,65,54)\"},\"mode\":\"lines\",\"x\":[0.0,0.9915517159346843,0.9915517159346843,0.0],\"xaxis\":\"x\",\"y\":[-555.0,-555.0,-565.0,-565.0],\"yaxis\":\"y\",\"type\":\"scatter\"},{\"hoverinfo\":\"text\",\"marker\":{\"color\":\"rgb(0,116,217)\"},\"mode\":\"lines\",\"x\":[0.9441091736523333,1.1886447824608413,1.1886447824608413,0.9915517159346843],\"xaxis\":\"x\",\"y\":[-540.0,-540.0,-560.0,-560.0],\"yaxis\":\"y\",\"type\":\"scatter\"},{\"hoverinfo\":\"text\",\"marker\":{\"color\":\"rgb(0,116,217)\"},\"mode\":\"lines\",\"x\":[1.002842435122648,1.2898990785405313,1.2898990785405313,1.1886447824608413],\"xaxis\":\"x\",\"y\":[-520.0,-520.0,-550.0,-550.0],\"yaxis\":\"y\",\"type\":\"scatter\"},{\"hoverinfo\":\"text\",\"marker\":{\"color\":\"rgb(35,205,205)\"},\"mode\":\"lines\",\"x\":[0.0,0.9145406674195595,0.9145406674195595,0.0],\"xaxis\":\"x\",\"y\":[-575.0,-575.0,-585.0,-585.0],\"yaxis\":\"y\",\"type\":\"scatter\"},{\"hoverinfo\":\"text\",\"marker\":{\"color\":\"rgb(61,153,112)\"},\"mode\":\"lines\",\"x\":[0.0,0.9292523764407906,0.9292523764407906,0.0],\"xaxis\":\"x\",\"y\":[-595.0,-595.0,-605.0,-605.0],\"yaxis\":\"y\",\"type\":\"scatter\"},{\"hoverinfo\":\"text\",\"marker\":{\"color\":\"rgb(255,65,54)\"},\"mode\":\"lines\",\"x\":[0.0,0.990450719123312,0.990450719123312,0.0],\"xaxis\":\"x\",\"y\":[-635.0,-635.0,-645.0,-645.0],\"yaxis\":\"y\",\"type\":\"scatter\"},{\"hoverinfo\":\"text\",\"marker\":{\"color\":\"rgb(0,116,217)\"},\"mode\":\"lines\",\"x\":[0.0,1.1035438537134545,1.1035438537134545,0.990450719123312],\"xaxis\":\"x\",\"y\":[-625.0,-625.0,-640.0,-640.0],\"yaxis\":\"y\",\"type\":\"scatter\"},{\"hoverinfo\":\"text\",\"marker\":{\"color\":\"rgb(0,116,217)\"},\"mode\":\"lines\",\"x\":[0.0,1.1353805151622922,1.1353805151622922,1.1035438537134545],\"xaxis\":\"x\",\"y\":[-615.0,-615.0,-632.5,-632.5],\"yaxis\":\"y\",\"type\":\"scatter\"},{\"hoverinfo\":\"text\",\"marker\":{\"color\":\"rgb(0,116,217)\"},\"mode\":\"lines\",\"x\":[0.9292523764407906,1.1781386855634295,1.1781386855634295,1.1353805151622922],\"xaxis\":\"x\",\"y\":[-600.0,-600.0,-623.75,-623.75],\"yaxis\":\"y\",\"type\":\"scatter\"},{\"hoverinfo\":\"text\",\"marker\":{\"color\":\"rgb(0,116,217)\"},\"mode\":\"lines\",\"x\":[0.9145406674195595,1.3069468086498177,1.3069468086498177,1.1781386855634295],\"xaxis\":\"x\",\"y\":[-580.0,-580.0,-611.875,-611.875],\"yaxis\":\"y\",\"type\":\"scatter\"},{\"hoverinfo\":\"text\",\"marker\":{\"color\":\"rgb(0,116,217)\"},\"mode\":\"lines\",\"x\":[1.2898990785405313,1.442755394991232,1.442755394991232,1.3069468086498177],\"xaxis\":\"x\",\"y\":[-535.0,-535.0,-595.9375,-595.9375],\"yaxis\":\"y\",\"type\":\"scatter\"},{\"hoverinfo\":\"text\",\"marker\":{\"color\":\"rgb(0,116,217)\"},\"mode\":\"lines\",\"x\":[1.4009741151493844,1.560693290373421,1.560693290373421,1.442755394991232],\"xaxis\":\"x\",\"y\":[-481.25,-481.25,-565.46875,-565.46875],\"yaxis\":\"y\",\"type\":\"scatter\"},{\"hoverinfo\":\"text\",\"marker\":{\"color\":\"rgb(0,116,217)\"},\"mode\":\"lines\",\"x\":[1.21234954179357,1.7935392012276423,1.7935392012276423,1.560693290373421],\"xaxis\":\"x\",\"y\":[-431.25,-431.25,-523.359375,-523.359375],\"yaxis\":\"y\",\"type\":\"scatter\"},{\"hoverinfo\":\"text\",\"marker\":{\"color\":\"rgb(0,116,217)\"},\"mode\":\"lines\",\"x\":[1.600681560683649,1.8856296219208861,1.8856296219208861,1.7935392012276423],\"xaxis\":\"x\",\"y\":[-377.5,-377.5,-477.3046875,-477.3046875],\"yaxis\":\"y\",\"type\":\"scatter\"},{\"hoverinfo\":\"text\",\"marker\":{\"color\":\"rgb(0,116,217)\"},\"mode\":\"lines\",\"x\":[1.5785877020750536,2.418128888174813,2.418128888174813,1.8856296219208861],\"xaxis\":\"x\",\"y\":[-259.375,-259.375,-427.40234375,-427.40234375],\"yaxis\":\"y\",\"type\":\"scatter\"},{\"hoverinfo\":\"text\",\"marker\":{\"color\":\"rgb(0,116,217)\"},\"mode\":\"lines\",\"x\":[2.08314774860981,3.442526424464571,3.442526424464571,2.418128888174813],\"xaxis\":\"x\",\"y\":[-97.8125,-97.8125,-343.388671875,-343.388671875],\"yaxis\":\"y\",\"type\":\"scatter\"},{\"hoverinfo\":\"text\",\"marker\":{\"color\":\"rgb(0,116,217)\"},\"mode\":\"lines\",\"x\":[1.1188282716377256,4.038566470416424,4.038566470416424,3.442526424464571],\"xaxis\":\"x\",\"y\":[-20.0,-20.0,-220.6005859375,-220.6005859375],\"yaxis\":\"y\",\"type\":\"scatter\"}],                        {\"autosize\":false,\"height\":1175,\"hovermode\":\"closest\",\"showlegend\":false,\"width\":1000,\"xaxis\":{\"mirror\":\"allticks\",\"rangemode\":\"tozero\",\"showgrid\":false,\"showline\":true,\"showticklabels\":true,\"ticks\":\"outside\",\"type\":\"linear\",\"zeroline\":false},\"yaxis\":{\"mirror\":\"allticks\",\"rangemode\":\"tozero\",\"showgrid\":false,\"showline\":true,\"showticklabels\":true,\"tickmode\":\"array\",\"ticks\":\"outside\",\"ticktext\":[\"1_time_work_series\",\"2_language_words_word\",\"-1_trope_character_just\",\"0_evil_villain_good\",\"22_gun_guns_weapon\",\"24_weapon_sword_weapons\",\"43_car_vehicle_cars\",\"47_water_fish_underwater\",\"55_bomb_lava_explosion\",\"60_ship_cool_tanks\",\"39_eyes_eye_smile\",\"29_color_blue_red\",\"48_hair_beard_hairstyle\",\"7_song_music_songs\",\"42_metal_rock_bands\",\"40_school_teacher_schools\",\"63_marriage_wedding_married\",\"38_title_titles_pun\",\"49_boss_game_difficulty\",\"28_horror_puppet_fear\",\"5_death_dead_die\",\"19_twins_twin_identity\",\"13_names_nickname_named\",\"18_accent_black_white\",\"25_character_characters_cast\",\"33_aesop_smart_genius\",\"6_powers_power_magic\",\"20_item_macguffin_items\",\"3_game_games_player\",\"23_attack_damage_martial\",\"16_camera_animation_shot\",\"30_elevator_falling_glass\",\"4_wear_dress_clothes\",\"12_light_darkness_sun\",\"41_elemental_smoking_element\",\"52_baby_pregnancy_pregnant\",\"9_parents_parent_child\",\"17_age_child_children\",\"50_gay_yuri_straight\",\"21_gender_female_male\",\"35_sex_sexual_virgin\",\"8_animal_animals_dog\",\"53_monster_bees_monsters\",\"56_transformation_shapeshif...\",\"32_robot_robots_mecha\",\"46_humans_aliens_alien\",\"36_money_rich_wealth\",\"51_money_currency_coins\",\"44_ending_endings_twist\",\"31_product_commercial_produ...\",\"45_actor_actors_celebrity\",\"14_food_eat_eating\",\"37_drugs_alcohol_poison\",\"34_gesture_finger_hand\",\"61_limbs_bones_body\",\"27_blood_zombie_zombies\",\"58_doctor_medical_heart\",\"54_prison_escape_prisoners\",\"62_torture_trap_victim\",\"11_love_relationship_couple\",\"57_friends_friend_friendship\",\"26_dream_dreams_sleep\",\"15_god_religion_gods\",\"10_cop_police_crime\",\"59_insanity_insane_mental\"],\"tickvals\":[-5.0,-15.0,-25.0,-35.0,-45.0,-55.0,-65.0,-75.0,-85.0,-95.0,-105.0,-115.0,-125.0,-135.0,-145.0,-155.0,-165.0,-175.0,-185.0,-195.0,-205.0,-215.0,-225.0,-235.0,-245.0,-255.0,-265.0,-275.0,-285.0,-295.0,-305.0,-315.0,-325.0,-335.0,-345.0,-355.0,-365.0,-375.0,-385.0,-395.0,-405.0,-415.0,-425.0,-435.0,-445.0,-455.0,-465.0,-475.0,-485.0,-495.0,-505.0,-515.0,-525.0,-535.0,-545.0,-555.0,-565.0,-575.0,-585.0,-595.0,-605.0,-615.0,-625.0,-635.0,-645.0],\"type\":\"linear\",\"zeroline\":false,\"range\":[-650.0,0.0]},\"template\":{\"data\":{\"barpolar\":[{\"marker\":{\"line\":{\"color\":\"white\",\"width\":0.5},\"pattern\":{\"fillmode\":\"overlay\",\"size\":10,\"solidity\":0.2}},\"type\":\"barpolar\"}],\"bar\":[{\"error_x\":{\"color\":\"#2a3f5f\"},\"error_y\":{\"color\":\"#2a3f5f\"},\"marker\":{\"line\":{\"color\":\"white\",\"width\":0.5},\"pattern\":{\"fillmode\":\"overlay\",\"size\":10,\"solidity\":0.2}},\"type\":\"bar\"}],\"carpet\":[{\"aaxis\":{\"endlinecolor\":\"#2a3f5f\",\"gridcolor\":\"#C8D4E3\",\"linecolor\":\"#C8D4E3\",\"minorgridcolor\":\"#C8D4E3\",\"startlinecolor\":\"#2a3f5f\"},\"baxis\":{\"endlinecolor\":\"#2a3f5f\",\"gridcolor\":\"#C8D4E3\",\"linecolor\":\"#C8D4E3\",\"minorgridcolor\":\"#C8D4E3\",\"startlinecolor\":\"#2a3f5f\"},\"type\":\"carpet\"}],\"choropleth\":[{\"colorbar\":{\"outlinewidth\":0,\"ticks\":\"\"},\"type\":\"choropleth\"}],\"contourcarpet\":[{\"colorbar\":{\"outlinewidth\":0,\"ticks\":\"\"},\"type\":\"contourcarpet\"}],\"contour\":[{\"colorbar\":{\"outlinewidth\":0,\"ticks\":\"\"},\"colorscale\":[[0.0,\"#0d0887\"],[0.1111111111111111,\"#46039f\"],[0.2222222222222222,\"#7201a8\"],[0.3333333333333333,\"#9c179e\"],[0.4444444444444444,\"#bd3786\"],[0.5555555555555556,\"#d8576b\"],[0.6666666666666666,\"#ed7953\"],[0.7777777777777778,\"#fb9f3a\"],[0.8888888888888888,\"#fdca26\"],[1.0,\"#f0f921\"]],\"type\":\"contour\"}],\"heatmapgl\":[{\"colorbar\":{\"outlinewidth\":0,\"ticks\":\"\"},\"colorscale\":[[0.0,\"#0d0887\"],[0.1111111111111111,\"#46039f\"],[0.2222222222222222,\"#7201a8\"],[0.3333333333333333,\"#9c179e\"],[0.4444444444444444,\"#bd3786\"],[0.5555555555555556,\"#d8576b\"],[0.6666666666666666,\"#ed7953\"],[0.7777777777777778,\"#fb9f3a\"],[0.8888888888888888,\"#fdca26\"],[1.0,\"#f0f921\"]],\"type\":\"heatmapgl\"}],\"heatmap\":[{\"colorbar\":{\"outlinewidth\":0,\"ticks\":\"\"},\"colorscale\":[[0.0,\"#0d0887\"],[0.1111111111111111,\"#46039f\"],[0.2222222222222222,\"#7201a8\"],[0.3333333333333333,\"#9c179e\"],[0.4444444444444444,\"#bd3786\"],[0.5555555555555556,\"#d8576b\"],[0.6666666666666666,\"#ed7953\"],[0.7777777777777778,\"#fb9f3a\"],[0.8888888888888888,\"#fdca26\"],[1.0,\"#f0f921\"]],\"type\":\"heatmap\"}],\"histogram2dcontour\":[{\"colorbar\":{\"outlinewidth\":0,\"ticks\":\"\"},\"colorscale\":[[0.0,\"#0d0887\"],[0.1111111111111111,\"#46039f\"],[0.2222222222222222,\"#7201a8\"],[0.3333333333333333,\"#9c179e\"],[0.4444444444444444,\"#bd3786\"],[0.5555555555555556,\"#d8576b\"],[0.6666666666666666,\"#ed7953\"],[0.7777777777777778,\"#fb9f3a\"],[0.8888888888888888,\"#fdca26\"],[1.0,\"#f0f921\"]],\"type\":\"histogram2dcontour\"}],\"histogram2d\":[{\"colorbar\":{\"outlinewidth\":0,\"ticks\":\"\"},\"colorscale\":[[0.0,\"#0d0887\"],[0.1111111111111111,\"#46039f\"],[0.2222222222222222,\"#7201a8\"],[0.3333333333333333,\"#9c179e\"],[0.4444444444444444,\"#bd3786\"],[0.5555555555555556,\"#d8576b\"],[0.6666666666666666,\"#ed7953\"],[0.7777777777777778,\"#fb9f3a\"],[0.8888888888888888,\"#fdca26\"],[1.0,\"#f0f921\"]],\"type\":\"histogram2d\"}],\"histogram\":[{\"marker\":{\"pattern\":{\"fillmode\":\"overlay\",\"size\":10,\"solidity\":0.2}},\"type\":\"histogram\"}],\"mesh3d\":[{\"colorbar\":{\"outlinewidth\":0,\"ticks\":\"\"},\"type\":\"mesh3d\"}],\"parcoords\":[{\"line\":{\"colorbar\":{\"outlinewidth\":0,\"ticks\":\"\"}},\"type\":\"parcoords\"}],\"pie\":[{\"automargin\":true,\"type\":\"pie\"}],\"scatter3d\":[{\"line\":{\"colorbar\":{\"outlinewidth\":0,\"ticks\":\"\"}},\"marker\":{\"colorbar\":{\"outlinewidth\":0,\"ticks\":\"\"}},\"type\":\"scatter3d\"}],\"scattercarpet\":[{\"marker\":{\"colorbar\":{\"outlinewidth\":0,\"ticks\":\"\"}},\"type\":\"scattercarpet\"}],\"scattergeo\":[{\"marker\":{\"colorbar\":{\"outlinewidth\":0,\"ticks\":\"\"}},\"type\":\"scattergeo\"}],\"scattergl\":[{\"marker\":{\"colorbar\":{\"outlinewidth\":0,\"ticks\":\"\"}},\"type\":\"scattergl\"}],\"scattermapbox\":[{\"marker\":{\"colorbar\":{\"outlinewidth\":0,\"ticks\":\"\"}},\"type\":\"scattermapbox\"}],\"scatterpolargl\":[{\"marker\":{\"colorbar\":{\"outlinewidth\":0,\"ticks\":\"\"}},\"type\":\"scatterpolargl\"}],\"scatterpolar\":[{\"marker\":{\"colorbar\":{\"outlinewidth\":0,\"ticks\":\"\"}},\"type\":\"scatterpolar\"}],\"scatter\":[{\"fillpattern\":{\"fillmode\":\"overlay\",\"size\":10,\"solidity\":0.2},\"type\":\"scatter\"}],\"scatterternary\":[{\"marker\":{\"colorbar\":{\"outlinewidth\":0,\"ticks\":\"\"}},\"type\":\"scatterternary\"}],\"surface\":[{\"colorbar\":{\"outlinewidth\":0,\"ticks\":\"\"},\"colorscale\":[[0.0,\"#0d0887\"],[0.1111111111111111,\"#46039f\"],[0.2222222222222222,\"#7201a8\"],[0.3333333333333333,\"#9c179e\"],[0.4444444444444444,\"#bd3786\"],[0.5555555555555556,\"#d8576b\"],[0.6666666666666666,\"#ed7953\"],[0.7777777777777778,\"#fb9f3a\"],[0.8888888888888888,\"#fdca26\"],[1.0,\"#f0f921\"]],\"type\":\"surface\"}],\"table\":[{\"cells\":{\"fill\":{\"color\":\"#EBF0F8\"},\"line\":{\"color\":\"white\"}},\"header\":{\"fill\":{\"color\":\"#C8D4E3\"},\"line\":{\"color\":\"white\"}},\"type\":\"table\"}]},\"layout\":{\"annotationdefaults\":{\"arrowcolor\":\"#2a3f5f\",\"arrowhead\":0,\"arrowwidth\":1},\"autotypenumbers\":\"strict\",\"coloraxis\":{\"colorbar\":{\"outlinewidth\":0,\"ticks\":\"\"}},\"colorscale\":{\"diverging\":[[0,\"#8e0152\"],[0.1,\"#c51b7d\"],[0.2,\"#de77ae\"],[0.3,\"#f1b6da\"],[0.4,\"#fde0ef\"],[0.5,\"#f7f7f7\"],[0.6,\"#e6f5d0\"],[0.7,\"#b8e186\"],[0.8,\"#7fbc41\"],[0.9,\"#4d9221\"],[1,\"#276419\"]],\"sequential\":[[0.0,\"#0d0887\"],[0.1111111111111111,\"#46039f\"],[0.2222222222222222,\"#7201a8\"],[0.3333333333333333,\"#9c179e\"],[0.4444444444444444,\"#bd3786\"],[0.5555555555555556,\"#d8576b\"],[0.6666666666666666,\"#ed7953\"],[0.7777777777777778,\"#fb9f3a\"],[0.8888888888888888,\"#fdca26\"],[1.0,\"#f0f921\"]],\"sequentialminus\":[[0.0,\"#0d0887\"],[0.1111111111111111,\"#46039f\"],[0.2222222222222222,\"#7201a8\"],[0.3333333333333333,\"#9c179e\"],[0.4444444444444444,\"#bd3786\"],[0.5555555555555556,\"#d8576b\"],[0.6666666666666666,\"#ed7953\"],[0.7777777777777778,\"#fb9f3a\"],[0.8888888888888888,\"#fdca26\"],[1.0,\"#f0f921\"]]},\"colorway\":[\"#636efa\",\"#EF553B\",\"#00cc96\",\"#ab63fa\",\"#FFA15A\",\"#19d3f3\",\"#FF6692\",\"#B6E880\",\"#FF97FF\",\"#FECB52\"],\"font\":{\"color\":\"#2a3f5f\"},\"geo\":{\"bgcolor\":\"white\",\"lakecolor\":\"white\",\"landcolor\":\"white\",\"showlakes\":true,\"showland\":true,\"subunitcolor\":\"#C8D4E3\"},\"hoverlabel\":{\"align\":\"left\"},\"hovermode\":\"closest\",\"mapbox\":{\"style\":\"light\"},\"paper_bgcolor\":\"white\",\"plot_bgcolor\":\"white\",\"polar\":{\"angularaxis\":{\"gridcolor\":\"#EBF0F8\",\"linecolor\":\"#EBF0F8\",\"ticks\":\"\"},\"bgcolor\":\"white\",\"radialaxis\":{\"gridcolor\":\"#EBF0F8\",\"linecolor\":\"#EBF0F8\",\"ticks\":\"\"}},\"scene\":{\"xaxis\":{\"backgroundcolor\":\"white\",\"gridcolor\":\"#DFE8F3\",\"gridwidth\":2,\"linecolor\":\"#EBF0F8\",\"showbackground\":true,\"ticks\":\"\",\"zerolinecolor\":\"#EBF0F8\"},\"yaxis\":{\"backgroundcolor\":\"white\",\"gridcolor\":\"#DFE8F3\",\"gridwidth\":2,\"linecolor\":\"#EBF0F8\",\"showbackground\":true,\"ticks\":\"\",\"zerolinecolor\":\"#EBF0F8\"},\"zaxis\":{\"backgroundcolor\":\"white\",\"gridcolor\":\"#DFE8F3\",\"gridwidth\":2,\"linecolor\":\"#EBF0F8\",\"showbackground\":true,\"ticks\":\"\",\"zerolinecolor\":\"#EBF0F8\"}},\"shapedefaults\":{\"line\":{\"color\":\"#2a3f5f\"}},\"ternary\":{\"aaxis\":{\"gridcolor\":\"#DFE8F3\",\"linecolor\":\"#A2B1C6\",\"ticks\":\"\"},\"baxis\":{\"gridcolor\":\"#DFE8F3\",\"linecolor\":\"#A2B1C6\",\"ticks\":\"\"},\"bgcolor\":\"white\",\"caxis\":{\"gridcolor\":\"#DFE8F3\",\"linecolor\":\"#A2B1C6\",\"ticks\":\"\"}},\"title\":{\"x\":0.05},\"xaxis\":{\"automargin\":true,\"gridcolor\":\"#EBF0F8\",\"linecolor\":\"#EBF0F8\",\"ticks\":\"\",\"title\":{\"standoff\":15},\"zerolinecolor\":\"#EBF0F8\",\"zerolinewidth\":2},\"yaxis\":{\"automargin\":true,\"gridcolor\":\"#EBF0F8\",\"linecolor\":\"#EBF0F8\",\"ticks\":\"\",\"title\":{\"standoff\":15},\"zerolinecolor\":\"#EBF0F8\",\"zerolinewidth\":2}}},\"title\":{\"font\":{\"size\":22,\"color\":\"Black\"},\"text\":\"<b>Hierarchical Clustering\",\"x\":0.5,\"xanchor\":\"center\",\"yanchor\":\"top\"},\"hoverlabel\":{\"font\":{\"size\":16,\"family\":\"Rockwell\"},\"bgcolor\":\"white\"},\"plot_bgcolor\":\"#ECEFF1\"},                        {\"responsive\": true}                    ).then(function(){\n",
       "                            \n",
       "var gd = document.getElementById('446a7561-2421-4003-85b6-af3c5db8f5ac');\n",
       "var x = new MutationObserver(function (mutations, observer) {{\n",
       "        var display = window.getComputedStyle(gd).display;\n",
       "        if (!display || display === 'none') {{\n",
       "            console.log([gd, 'removed!']);\n",
       "            Plotly.purge(gd);\n",
       "            observer.disconnect();\n",
       "        }}\n",
       "}});\n",
       "\n",
       "// Listen for the removal of the full notebook cells\n",
       "var notebookContainer = gd.closest('#notebook-container');\n",
       "if (notebookContainer) {{\n",
       "    x.observe(notebookContainer, {childList: true});\n",
       "}}\n",
       "\n",
       "// Listen for the clearing of the current output cell\n",
       "var outputEl = gd.closest('.output');\n",
       "if (outputEl) {{\n",
       "    x.observe(outputEl, {childList: true});\n",
       "}}\n",
       "\n",
       "                        })                };                });            </script>        </div>"
      ]
     },
     "metadata": {},
     "output_type": "display_data"
    }
   ],
   "source": [
    "topic_model.visualize_hierarchy()"
   ]
  },
  {
   "cell_type": "code",
   "execution_count": 11,
   "id": "0aa081eb",
   "metadata": {},
   "outputs": [
    {
     "data": {
      "application/vnd.plotly.v1+json": {
       "config": {
        "plotlyServerURL": "https://plot.ly"
       },
       "data": [
        {
         "coloraxis": "coloraxis",
         "hovertemplate": "x: %{x}<br>y: %{y}<br>Similarity Score: %{z}<extra></extra>",
         "name": "0",
         "type": "heatmap",
         "x": [
          "-1_trope_character_just",
          "0_evil_villain_good",
          "1_time_work_series",
          "2_language_words_word",
          "3_game_games_player",
          "4_wear_dress_clothes",
          "5_death_dead_die",
          "6_powers_power_magic",
          "7_song_music_songs",
          "8_animal_animals_dog",
          "9_parents_parent_child",
          "10_cop_police_crime",
          "11_love_relationship_couple",
          "12_light_darkness_sun",
          "13_names_nickname_named",
          "14_food_eat_eating",
          "15_god_religion_gods",
          "16_camera_animation_shot",
          "17_age_child_children",
          "18_accent_black_white",
          "19_twins_twin_identity",
          "20_item_macguffin_items",
          "21_gender_female_male",
          "22_gun_guns_weapon",
          "23_attack_damage_martial",
          "24_weapon_sword_weapons",
          "25_character_characters_cast",
          "26_dream_dreams_sleep",
          "27_blood_zombie_zombies",
          "28_horror_puppet_fear",
          "29_color_blue_red",
          "30_elevator_falling_glass",
          "31_product_commercial_produ...",
          "32_robot_robots_mecha",
          "33_aesop_smart_genius",
          "34_gesture_finger_hand",
          "35_sex_sexual_virgin",
          "36_money_rich_wealth",
          "37_drugs_alcohol_poison",
          "38_title_titles_pun",
          "39_eyes_eye_smile",
          "40_school_teacher_schools",
          "41_elemental_smoking_element",
          "42_metal_rock_bands",
          "43_car_vehicle_cars",
          "44_ending_endings_twist",
          "45_actor_actors_celebrity",
          "46_humans_aliens_alien",
          "47_water_fish_underwater",
          "48_hair_beard_hairstyle",
          "49_boss_game_difficulty",
          "50_gay_yuri_straight",
          "51_money_currency_coins",
          "52_baby_pregnancy_pregnant",
          "53_monster_bees_monsters",
          "54_prison_escape_prisoners",
          "55_bomb_lava_explosion",
          "56_transformation_shapeshif...",
          "57_friends_friend_friendship",
          "58_doctor_medical_heart",
          "59_insanity_insane_mental",
          "60_ship_cool_tanks",
          "61_limbs_bones_body",
          "62_torture_trap_victim",
          "63_marriage_wedding_married"
         ],
         "xaxis": "x",
         "y": [
          "-1_trope_character_just",
          "0_evil_villain_good",
          "1_time_work_series",
          "2_language_words_word",
          "3_game_games_player",
          "4_wear_dress_clothes",
          "5_death_dead_die",
          "6_powers_power_magic",
          "7_song_music_songs",
          "8_animal_animals_dog",
          "9_parents_parent_child",
          "10_cop_police_crime",
          "11_love_relationship_couple",
          "12_light_darkness_sun",
          "13_names_nickname_named",
          "14_food_eat_eating",
          "15_god_religion_gods",
          "16_camera_animation_shot",
          "17_age_child_children",
          "18_accent_black_white",
          "19_twins_twin_identity",
          "20_item_macguffin_items",
          "21_gender_female_male",
          "22_gun_guns_weapon",
          "23_attack_damage_martial",
          "24_weapon_sword_weapons",
          "25_character_characters_cast",
          "26_dream_dreams_sleep",
          "27_blood_zombie_zombies",
          "28_horror_puppet_fear",
          "29_color_blue_red",
          "30_elevator_falling_glass",
          "31_product_commercial_produ...",
          "32_robot_robots_mecha",
          "33_aesop_smart_genius",
          "34_gesture_finger_hand",
          "35_sex_sexual_virgin",
          "36_money_rich_wealth",
          "37_drugs_alcohol_poison",
          "38_title_titles_pun",
          "39_eyes_eye_smile",
          "40_school_teacher_schools",
          "41_elemental_smoking_element",
          "42_metal_rock_bands",
          "43_car_vehicle_cars",
          "44_ending_endings_twist",
          "45_actor_actors_celebrity",
          "46_humans_aliens_alien",
          "47_water_fish_underwater",
          "48_hair_beard_hairstyle",
          "49_boss_game_difficulty",
          "50_gay_yuri_straight",
          "51_money_currency_coins",
          "52_baby_pregnancy_pregnant",
          "53_monster_bees_monsters",
          "54_prison_escape_prisoners",
          "55_bomb_lava_explosion",
          "56_transformation_shapeshif...",
          "57_friends_friend_friendship",
          "58_doctor_medical_heart",
          "59_insanity_insane_mental",
          "60_ship_cool_tanks",
          "61_limbs_bones_body",
          "62_torture_trap_victim",
          "63_marriage_wedding_married"
         ],
         "yaxis": "y",
         "z": [
          [
           0.9999999999998873,
           0.8514917658200548,
           0.7799233272565098,
           0.7308435597648785,
           0.5495182456183565,
           0.5512001429068514,
           0.6370999751938458,
           0.6573812078476109,
           0.40215555237768374,
           0.523545938476664,
           0.47874799917841504,
           0.5240847695131855,
           0.5575719680112117,
           0.593354937380359,
           0.5216355932642264,
           0.43356704799618784,
           0.4831391436350233,
           0.5136798304010538,
           0.5398879830763196,
           0.5833143592183977,
           0.5705498262948573,
           0.5936569955866042,
           0.5069453416364486,
           0.4635395209225498,
           0.5583984650360283,
           0.3980159517841856,
           0.6002679308560407,
           0.45700299407754313,
           0.46789172262232137,
           0.5829692147525851,
           0.3567512046657735,
           0.5423819167590302,
           0.4351687989112487,
           0.4227829933691017,
           0.6258526673023056,
           0.5388131267536322,
           0.5020779225295009,
           0.5250327606991432,
           0.4415705015504411,
           0.29046649131122665,
           0.33432116968355047,
           0.3577076793901031,
           0.49634494859788314,
           0.23714990895882093,
           0.3314782398340026,
           0.4705823184754131,
           0.4424139162095275,
           0.38197774965200654,
           0.4084816084662891,
           0.2860544484917946,
           0.31812555320418684,
           0.3691674637476018,
           0.4421986883151122,
           0.42857403890613954,
           0.477769961284925,
           0.45879499288379083,
           0.4186644468721696,
           0.42085478642875257,
           0.5536734611340377,
           0.43478471826078824,
           0.5022421606348179,
           0.40867142248631994,
           0.4419787471406652,
           0.4527769420247227,
           0.31666873377209676
          ],
          [
           0.8514917658200548,
           1.0000000000000544,
           0.6629638492897978,
           0.5957113936785426,
           0.4534154706640736,
           0.43745949035064624,
           0.5798097756529952,
           0.5744858582161192,
           0.3186654496034273,
           0.4499887972533371,
           0.415781525253404,
           0.5046797112987711,
           0.4410327736444935,
           0.513916691161414,
           0.4260211876584835,
           0.36779312013627524,
           0.4702874499988908,
           0.38625171268886727,
           0.45401317156839827,
           0.5241144978536446,
           0.5081876968570698,
           0.513168053197189,
           0.37296839397020837,
           0.371283228402108,
           0.44466911900603084,
           0.30618589627897136,
           0.5030159708352944,
           0.37326800841717866,
           0.38393379594322935,
           0.4777051614540157,
           0.29366361241340266,
           0.44952376684468787,
           0.35792670612009425,
           0.3438206131505741,
           0.5487748921475838,
           0.42913741168003283,
           0.3925442933455796,
           0.5042043140041058,
           0.3737163397619178,
           0.22783888679734315,
           0.2658121406233074,
           0.32073057515724956,
           0.41688367861362463,
           0.18979674975578065,
           0.2749561130453362,
           0.3963104116353056,
           0.3545603093833072,
           0.32223679033995045,
           0.34210823932213114,
           0.22232617141585953,
           0.29811136649802167,
           0.2811643473652193,
           0.38922665773045584,
           0.34402577627548686,
           0.42628938659312626,
           0.4524514547858527,
           0.34503213560012785,
           0.33988932515759795,
           0.5706340477638263,
           0.37019000452264206,
           0.4428499200821883,
           0.34570276063460925,
           0.3496691797211884,
           0.4101474548222171,
           0.2644170270953824
          ],
          [
           0.7799233272565098,
           0.6629638492897978,
           0.9999999999999434,
           0.6039725550249871,
           0.48063637610956295,
           0.4055878275507561,
           0.4654425564084574,
           0.48541329730759036,
           0.3789802467655567,
           0.3680092060993607,
           0.34167505630244327,
           0.41438767766253315,
           0.41777602514453555,
           0.4499329750156949,
           0.428683691707412,
           0.31505237546744713,
           0.38578433944952467,
           0.4636530576586442,
           0.4181126426738767,
           0.4691778982433278,
           0.4331768889057265,
           0.44812227797236653,
           0.34050813169699784,
           0.3342397771117193,
           0.393509288000467,
           0.2704537491219815,
           0.5909108431213513,
           0.34574367357103947,
           0.34395707701371747,
           0.4825927920002032,
           0.25135554915122654,
           0.39167693308926166,
           0.41824672644875915,
           0.33390112800245936,
           0.47906030888544116,
           0.36425059963745626,
           0.35647939933716966,
           0.4021893009160869,
           0.3389966862547409,
           0.30647867660695194,
           0.2200271012204453,
           0.27440057313000304,
           0.37437554809326756,
           0.2705594483844563,
           0.25344724987416495,
           0.5093599609708375,
           0.41762634384133396,
           0.297264196646787,
           0.3020136309001627,
           0.2107412306119488,
           0.24553757069550025,
           0.3057454906039575,
           0.35309083956093484,
           0.312249579738108,
           0.3500000625190721,
           0.33014208042647786,
           0.3151560056166706,
           0.29232119195212997,
           0.38563614569479115,
           0.30240963029044704,
           0.38312748221074616,
           0.3239295599959922,
           0.3054697943301173,
           0.3194360375625236,
           0.2366496258452024
          ],
          [
           0.7308435597648785,
           0.5957113936785426,
           0.6039725550249871,
           1.0000000000000318,
           0.383239193599001,
           0.38328701922099406,
           0.4690293489870133,
           0.44041226409829115,
           0.3416983328786483,
           0.3699963678765108,
           0.3381674589564978,
           0.4043294686254729,
           0.418480148803171,
           0.41519017311024653,
           0.49773223512886045,
           0.33070530330521986,
           0.34779356555854973,
           0.4066240402313625,
           0.38732546173424637,
           0.5130692590889977,
           0.4383975520063789,
           0.4150557841364375,
           0.33701446170452765,
           0.3118746685313237,
           0.37280857962865444,
           0.25632629052725686,
           0.4767241722873459,
           0.35205722326301175,
           0.34402967567434045,
           0.44309752460844387,
           0.2372039032193225,
           0.3736946673207776,
           0.37331592550433806,
           0.286013449518072,
           0.4947735322506528,
           0.4302523168755707,
           0.37511735821354864,
           0.37969122123635995,
           0.34598071514595674,
           0.2969519900262176,
           0.24990986859915407,
           0.24537490896438524,
           0.3350468327838955,
           0.1705999499725461,
           0.23218265738053737,
           0.37019662540732623,
           0.3774888536489801,
           0.2621889953439467,
           0.2705381374381429,
           0.19681837475291988,
           0.19899302616009698,
           0.2782155061733949,
           0.32598544382551864,
           0.3102894769496929,
           0.31317830508516176,
           0.32000105177143207,
           0.2878835814691853,
           0.29709911373672576,
           0.38159873435297764,
           0.31498135718291154,
           0.3972837627011172,
           0.2516720267658129,
           0.31301984354290313,
           0.3273476765786797,
           0.23436468329777663
          ],
          [
           0.5495182456183565,
           0.4534154706640736,
           0.48063637610956295,
           0.383239193599001,
           1.0000000000000013,
           0.26318656094727977,
           0.34353980795265227,
           0.4149242808534693,
           0.2374403236929824,
           0.24937751002565733,
           0.21637999057574497,
           0.2678285112201436,
           0.25255604733852005,
           0.3088672669073699,
           0.2644984766079939,
           0.21387992881492374,
           0.23177011465146308,
           0.3686483251361491,
           0.24634130919973,
           0.2703521392922719,
           0.2796188082658324,
           0.4397032244867501,
           0.22774155784764033,
           0.2919769679960944,
           0.4331254333177853,
           0.22039664531090813,
           0.321655651030255,
           0.22245193517101772,
           0.2226476936231577,
           0.3077831388405986,
           0.1769074528718186,
           0.3332773683640752,
           0.2640894479949566,
           0.2306228728908366,
           0.32162067244817044,
           0.2630010247702098,
           0.22542411589625858,
           0.27935097082121285,
           0.21914846659739048,
           0.17224861522112217,
           0.14832188388098047,
           0.1807236757820399,
           0.2623439984438525,
           0.14099857865778126,
           0.1783407689899131,
           0.3337688734152486,
           0.24570683356078157,
           0.174227918236495,
           0.22353087928219847,
           0.1259669492241135,
           0.44842481644219534,
           0.16790511951346593,
           0.33095496268873137,
           0.19535699258120623,
           0.23984841475689062,
           0.2341092037997366,
           0.25420499781773365,
           0.20651917795437286,
           0.26708672399419886,
           0.22564009738612187,
           0.24483537811547235,
           0.2135455204464561,
           0.2232112774714473,
           0.24203973462298778,
           0.1428272054698175
          ],
          [
           0.5512001429068514,
           0.43745949035064624,
           0.4055878275507561,
           0.38328701922099406,
           0.26318656094727977,
           0.9999999999999911,
           0.3166898401561918,
           0.36571850245492366,
           0.21267304905094953,
           0.30808068432595487,
           0.23646047554936656,
           0.27440409565003315,
           0.272033526162111,
           0.3562739800231,
           0.2885011544320524,
           0.24793112940173262,
           0.26438189983996446,
           0.31858161233842575,
           0.2928152219679389,
           0.34735561741994564,
           0.35041690729916836,
           0.3241913915069103,
           0.3750569815498008,
           0.2781990530834757,
           0.31597618926076676,
           0.2498083090062304,
           0.3185061069394743,
           0.2557113480663425,
           0.26361536512690215,
           0.33099144659541346,
           0.29253517951072133,
           0.300541983709764,
           0.2546774008182893,
           0.24445200381355067,
           0.3287044540532226,
           0.34580408216930825,
           0.3259064972648914,
           0.3063257419009464,
           0.24631490747923326,
           0.148714027699117,
           0.22529602275439076,
           0.22866923842080733,
           0.29552511610268334,
           0.13748651854912816,
           0.19910697840107,
           0.2247894758164141,
           0.2424142808059673,
           0.19808228593947977,
           0.23582038026631577,
           0.2430685363324479,
           0.14852302366735345,
           0.23591050565386115,
           0.24875615319355657,
           0.23957312083598326,
           0.2508697523382829,
           0.23214974074639022,
           0.24507868948772285,
           0.2640680244460828,
           0.25952520986786304,
           0.25898946069784845,
           0.2609385677525969,
           0.2498050406980446,
           0.28423816567536386,
           0.2571262737264992,
           0.18769003761658523
          ],
          [
           0.6370999751938458,
           0.5798097756529952,
           0.4654425564084574,
           0.4690293489870133,
           0.34353980795265227,
           0.3166898401561918,
           0.9999999999999986,
           0.4109364927886741,
           0.2345393409010872,
           0.3056847073017579,
           0.3176678477918912,
           0.3901482046055955,
           0.3742325627326166,
           0.3754716253842126,
           0.30992512773740577,
           0.27577575953960565,
           0.320594944900768,
           0.2788586325313813,
           0.3620543279618183,
           0.32910030318139827,
           0.40012230327702236,
           0.3977301936675091,
           0.2634775445811278,
           0.2928455596324068,
           0.3889853962541857,
           0.2274797564341624,
           0.4476244827658958,
           0.32815685416882456,
           0.4021407178361481,
           0.389964124954055,
           0.19451963279377746,
           0.3679979417055274,
           0.23880890069735952,
           0.24303696121066928,
           0.377805514683292,
           0.36883413709234103,
           0.28784270075154755,
           0.3157967323113425,
           0.288764407137687,
           0.16468142684459156,
           0.21402375326655626,
           0.1984562496095676,
           0.3097716354878418,
           0.13759840959714587,
           0.2045974817488927,
           0.35818440297874493,
           0.26149886246418647,
           0.2068813493274152,
           0.2513859653396534,
           0.15648346845436348,
           0.22275875322124927,
           0.20807341675616361,
           0.2649913064594843,
           0.271372163504999,
           0.28745240852058523,
           0.3612570749506241,
           0.28297518474110345,
           0.3016983595633373,
           0.41092226013148125,
           0.3112980169622917,
           0.33211932171986913,
           0.21371076456555105,
           0.3164800008187136,
           0.36773822405862666,
           0.20522710257228313
          ],
          [
           0.6573812078476109,
           0.5744858582161192,
           0.48541329730759036,
           0.44041226409829115,
           0.4149242808534693,
           0.36571850245492366,
           0.4109364927886741,
           1.0000000000000273,
           0.2380791059017069,
           0.32704404749076793,
           0.28351337087873524,
           0.322768873250656,
           0.3145428667397993,
           0.4443912679245278,
           0.33626174397870257,
           0.27672605505379366,
           0.3609968076098862,
           0.31706936529178725,
           0.34020325290314757,
           0.35369283137996965,
           0.4170639347348551,
           0.48315788561073764,
           0.300339350404147,
           0.3289174482376929,
           0.49381602442247174,
           0.32261450966862953,
           0.4064083613488169,
           0.2900537218123885,
           0.32443789225086495,
           0.3710001451312325,
           0.2382119807703037,
           0.36442025904715075,
           0.26585631585831637,
           0.3027527723919722,
           0.45358181411608167,
           0.34296794417611776,
           0.30306852252988403,
           0.33878050664022163,
           0.2997706524458271,
           0.17098178184512913,
           0.2299286182517217,
           0.23234281207582164,
           0.4339364061357375,
           0.1363622445466695,
           0.20521562291502757,
           0.27520931004646454,
           0.26790811053247726,
           0.2632750680015969,
           0.270522356772936,
           0.18012526851246186,
           0.24362555057799287,
           0.20363102604290817,
           0.29483161761923393,
           0.25883560426866853,
           0.3185639816950352,
           0.30213334059948427,
           0.2820813714623023,
           0.3812793849967402,
           0.3796419717712236,
           0.3192350886911957,
           0.37541910696148983,
           0.26679627094482505,
           0.31680485446930895,
           0.29511539538900367,
           0.16861040586455492
          ],
          [
           0.40215555237768374,
           0.3186654496034273,
           0.3789802467655567,
           0.3416983328786483,
           0.2374403236929824,
           0.21267304905094953,
           0.2345393409010872,
           0.2380791059017069,
           0.9999999999999863,
           0.1869251153790614,
           0.17352547573870247,
           0.19475063162472814,
           0.22099543920545853,
           0.23803553777667286,
           0.24703361335460322,
           0.16410537819122706,
           0.19688356780017088,
           0.26740737390218927,
           0.21546511396264179,
           0.2519067242051873,
           0.21582529005723136,
           0.22057100963167917,
           0.18164812930733118,
           0.17444174032108797,
           0.21145504598639941,
           0.14969623704913085,
           0.273270373693185,
           0.17703491216849188,
           0.17169195297391937,
           0.25352885739747777,
           0.14214913268416912,
           0.21324040457405172,
           0.23438529763620491,
           0.14752930056809788,
           0.230277535419634,
           0.20752041207713715,
           0.1961816836536862,
           0.2007688268168705,
           0.17910928463241232,
           0.1919738503420326,
           0.12496817844015355,
           0.13253618118183955,
           0.20873752925882574,
           0.4356050031650338,
           0.1379087720447593,
           0.23796407681418896,
           0.24365729950254822,
           0.12721283366434652,
           0.14626054696665208,
           0.11716930842225888,
           0.13048486677940468,
           0.15084953229903397,
           0.17849028988911125,
           0.15391128557320186,
           0.1732259797735217,
           0.1597794919688793,
           0.16076021325681833,
           0.17098173241525724,
           0.19968466258475556,
           0.16414590187363035,
           0.18987608656941524,
           0.15067826779959564,
           0.178165824468702,
           0.1622655290148706,
           0.12631843769997675
          ],
          [
           0.523545938476664,
           0.4499887972533371,
           0.3680092060993607,
           0.3699963678765108,
           0.24937751002565733,
           0.30808068432595487,
           0.3056847073017579,
           0.32704404749076793,
           0.1869251153790614,
           1,
           0.2583705476253528,
           0.25284192033670333,
           0.2528300643866638,
           0.31128222648489356,
           0.3184418414155335,
           0.3213431217079495,
           0.27433286161909387,
           0.24679493101409603,
           0.30066948321318004,
           0.32939378261258223,
           0.28864582989448206,
           0.2847745203809883,
           0.2797453527960354,
           0.21621754979865734,
           0.25390770185663186,
           0.19322887312124845,
           0.2812860608900341,
           0.2331040614996736,
           0.26259884554431195,
           0.336229750656359,
           0.2165053190571955,
           0.2652157685359156,
           0.22064551978286281,
           0.27848372075539046,
           0.3226821467012822,
           0.2850162310263227,
           0.24465138262755598,
           0.27726754344144694,
           0.23628712121698248,
           0.14567581769267493,
           0.2206108071331352,
           0.17894186584029617,
           0.2677185023817646,
           0.11146723324571026,
           0.1643867362004276,
           0.20510993616110546,
           0.21287657091939227,
           0.3389294632273274,
           0.3001780066264949,
           0.1593945294809544,
           0.14074289990216682,
           0.18769330686922825,
           0.228130445256537,
           0.24522704105208376,
           0.4120304179693681,
           0.23639653732337196,
           0.20207036231901607,
           0.2813758965237594,
           0.27803319371014007,
           0.22955777294361535,
           0.2580320199306817,
           0.19468922937094374,
           0.3253762839785881,
           0.2314086726585872,
           0.147400005826813
          ],
          [
           0.47874799917841504,
           0.415781525253404,
           0.34167505630244327,
           0.3381674589564978,
           0.21637999057574497,
           0.23646047554936656,
           0.3176678477918912,
           0.28351337087873524,
           0.17352547573870247,
           0.2583705476253528,
           1.0000000000000113,
           0.2603194464377635,
           0.33304671529652496,
           0.26200705516560197,
           0.29318471056883316,
           0.22152248346487952,
           0.237429120262006,
           0.19679235315018054,
           0.5239676887954807,
           0.28616780972939815,
           0.31627682953850295,
           0.2660345276267145,
           0.26059623353872885,
           0.17942718959455173,
           0.21670044261572455,
           0.15369090320751838,
           0.29431110828144097,
           0.2223704646626755,
           0.23753984102696138,
           0.2968460192596259,
           0.15260479750775224,
           0.2253798117448139,
           0.19324250778324176,
           0.1807764879474676,
           0.323712080136295,
           0.2366459972767798,
           0.2531156138588681,
           0.282477458269967,
           0.2133478856638162,
           0.12189404637387449,
           0.14224573937341345,
           0.24135106608929854,
           0.20756945758196282,
           0.09132501526001029,
           0.14638779769906557,
           0.2147776910579263,
           0.20593319215601158,
           0.17259390927296486,
           0.17108219605599595,
           0.13262057430141627,
           0.11415403924911306,
           0.18189725034013818,
           0.20001110817379475,
           0.45742600331268773,
           0.21808537997688585,
           0.21784442219509212,
           0.16498350492157088,
           0.18491082815440013,
           0.30005178060525384,
           0.19960400719740037,
           0.2578021466238812,
           0.1500652263614061,
           0.19021099856750961,
           0.20055268729223638,
           0.27344350837531295
          ],
          [
           0.5240847695131855,
           0.5046797112987711,
           0.41438767766253315,
           0.4043294686254729,
           0.2678285112201436,
           0.27440409565003315,
           0.3901482046055955,
           0.322768873250656,
           0.19475063162472814,
           0.25284192033670333,
           0.2603194464377635,
           0.9999999999999921,
           0.28265544049984337,
           0.2943653579651269,
           0.26531098287003463,
           0.22454043362650292,
           0.25508757259986703,
           0.24862072174786953,
           0.2886025759544053,
           0.30813304763809723,
           0.33001396209970035,
           0.3071503141442253,
           0.23143778054618783,
           0.25766523251692625,
           0.26637824223498374,
           0.1885522181668389,
           0.31304999698934594,
           0.24114663484150992,
           0.247005141331788,
           0.31113095257316487,
           0.17032876354603607,
           0.2789707886331309,
           0.2421315700184147,
           0.2021966982230592,
           0.327609048856739,
           0.2673893286502872,
           0.24737386828628163,
           0.33748474609214535,
           0.26525036213194914,
           0.154047630819887,
           0.15007404448397985,
           0.19965516800442684,
           0.2407647349731372,
           0.10890160715991407,
           0.19571971100849267,
           0.2704645027023281,
           0.23088127098378677,
           0.1828788731238749,
           0.2019689792598343,
           0.13461267588179743,
           0.14637978453817094,
           0.1794964500990534,
           0.26454914949038194,
           0.23035992662123264,
           0.2305571709499515,
           0.33261555658284536,
           0.21497696525559468,
           0.20158707585698768,
           0.3084475050978442,
           0.2526574553323326,
           0.31628994933469373,
           0.1905557048440008,
           0.2263671922618468,
           0.2864666841734002,
           0.1802081410628223
          ],
          [
           0.5575719680112117,
           0.4410327736444935,
           0.41777602514453555,
           0.418480148803171,
           0.25255604733852005,
           0.272033526162111,
           0.3742325627326166,
           0.3145428667397993,
           0.22099543920545853,
           0.2528300643866638,
           0.33304671529652496,
           0.28265544049984337,
           0.9999999999999991,
           0.2975542998287991,
           0.2852184446132383,
           0.22918869400750458,
           0.2519705993029816,
           0.2342537401806831,
           0.30748316751669835,
           0.3204626767538123,
           0.3328843954649091,
           0.3217686989614437,
           0.31761200016855834,
           0.19931226526252324,
           0.25493688239879897,
           0.16460062072164883,
           0.3581910072584076,
           0.3011597946066679,
           0.24664347775563356,
           0.29865287454918715,
           0.18448268572384657,
           0.2937877243410127,
           0.21158717623856987,
           0.2082812432156533,
           0.3540972519407178,
           0.27336053253492887,
           0.36643557049146336,
           0.2900136242326571,
           0.2411109209701268,
           0.1470763437628443,
           0.16096996221800464,
           0.20311263890453243,
           0.23485468144309835,
           0.10796246850898107,
           0.1537621124002985,
           0.30605709402673364,
           0.23769228284687913,
           0.16559597614046914,
           0.1862721622939169,
           0.14645422818534898,
           0.13467707031553214,
           0.30909785873067097,
           0.2146094368876216,
           0.2757739762362939,
           0.2155160193270072,
           0.23713847540448604,
           0.19187941175904646,
           0.2106681402796783,
           0.3907597022346306,
           0.24019566188461394,
           0.27936151366835393,
           0.2006763863971381,
           0.2007986036619101,
           0.22838044870740115,
           0.37077336011215456
          ],
          [
           0.593354937380359,
           0.513916691161414,
           0.4499329750156949,
           0.41519017311024653,
           0.3088672669073699,
           0.3562739800231,
           0.3754716253842126,
           0.4443912679245278,
           0.23803553777667286,
           0.31128222648489356,
           0.26200705516560197,
           0.2943653579651269,
           0.2975542998287991,
           1.0000000000000044,
           0.30865302981985054,
           0.2578217158158891,
           0.3299704771863698,
           0.36282633783489493,
           0.3031293805849437,
           0.3381775115281805,
           0.3489675080264633,
           0.3691750922288324,
           0.25591721075355167,
           0.28121065368375053,
           0.3376846461589358,
           0.2504100391299729,
           0.34435971305232116,
           0.29032002386316696,
           0.3093310982139075,
           0.38615013655084024,
           0.31945361153390456,
           0.35241330398732323,
           0.25668768943481757,
           0.2516167859236546,
           0.33752492303060583,
           0.33630266574976314,
           0.2715050388560818,
           0.2967805014588368,
           0.27489954547441897,
           0.1597644091964302,
           0.3030418962169296,
           0.1983650416155574,
           0.46274421023589984,
           0.14244544278680252,
           0.22137318313760174,
           0.26949282719187106,
           0.26328885317315925,
           0.2352631508107271,
           0.27937320193981213,
           0.17690290341666928,
           0.1772417408595271,
           0.19602662103349414,
           0.26362010449156414,
           0.24436687183317277,
           0.30713140783584697,
           0.25792428113947036,
           0.3021297744490785,
           0.287276024642476,
           0.3044632168536273,
           0.26610610210806396,
           0.30631931722861727,
           0.28159319784413345,
           0.2872796865084698,
           0.2731768240838128,
           0.1747025324174072
          ],
          [
           0.5216355932642264,
           0.4260211876584835,
           0.428683691707412,
           0.49773223512886045,
           0.2644984766079939,
           0.2885011544320524,
           0.30992512773740577,
           0.33626174397870257,
           0.24703361335460322,
           0.3184418414155335,
           0.29318471056883316,
           0.26531098287003463,
           0.2852184446132383,
           0.30865302981985054,
           1.0000000000000244,
           0.2385032301695809,
           0.27093673733438134,
           0.26177730140029926,
           0.29361112113161647,
           0.3802366257051998,
           0.32351474450995993,
           0.2898689344230015,
           0.28418442754678597,
           0.21931393474777436,
           0.25740852428268146,
           0.1944710140255594,
           0.3688476564126417,
           0.23424011058507185,
           0.2410090666835393,
           0.2969790775424236,
           0.20651941925322662,
           0.25785780006847686,
           0.26262909086310493,
           0.21645874605950577,
           0.3302169544610526,
           0.2896935369948107,
           0.26483021878752344,
           0.2870294961929543,
           0.23814735688347924,
           0.34654790490074444,
           0.17354685429251068,
           0.18986142075774104,
           0.2533012487637607,
           0.13374908747355804,
           0.16500319736578759,
           0.2373949727370138,
           0.27707668315297557,
           0.21259518195643984,
           0.2020370570160033,
           0.14917641346209123,
           0.13535827809664544,
           0.20432280941854689,
           0.23693284914453358,
           0.24357551445909242,
           0.2648802910089979,
           0.21023963977476554,
           0.19801279600738417,
           0.2182614552795176,
           0.2687460818190055,
           0.2209688136549014,
           0.255153911604916,
           0.20360236968227327,
           0.2271189611114655,
           0.20555449251770547,
           0.18536050153411876
          ],
          [
           0.43356704799618784,
           0.36779312013627524,
           0.31505237546744713,
           0.33070530330521986,
           0.21387992881492374,
           0.24793112940173262,
           0.27577575953960565,
           0.27672605505379366,
           0.16410537819122706,
           0.3213431217079495,
           0.22152248346487952,
           0.22454043362650292,
           0.22918869400750458,
           0.2578217158158891,
           0.2385032301695809,
           1.000000000000001,
           0.21751666753195698,
           0.20993862420262357,
           0.2565795230478236,
           0.2725409834835858,
           0.2438605115257774,
           0.2697787487611913,
           0.21645485769939624,
           0.18596608281863536,
           0.23151709117527305,
           0.17040743150309728,
           0.2439269181422661,
           0.22311670009494838,
           0.25338096276616034,
           0.27889308685167685,
           0.1617652434200908,
           0.23910754026869008,
           0.2431959885585004,
           0.2039684482354741,
           0.271491244333546,
           0.24408521909713785,
           0.2231696227790272,
           0.2636631801710936,
           0.3034820410736253,
           0.12749079283584344,
           0.14771464068486762,
           0.16888884419791442,
           0.2331381134310168,
           0.09731580292976234,
           0.15590183786552778,
           0.17901456299942442,
           0.1860294413844298,
           0.22322362861785933,
           0.23838295684864455,
           0.12713294625848962,
           0.116637986194493,
           0.16242255501893674,
           0.27105569752728265,
           0.21418995503722804,
           0.2709902784951696,
           0.2074476885173282,
           0.19768695740241368,
           0.21495129325120935,
           0.2298008636342614,
           0.20377907331497877,
           0.2266963585560031,
           0.16120258355739178,
           0.22296418729197243,
           0.20468037050051047,
           0.13847605935394755
          ],
          [
           0.4831391436350233,
           0.4702874499988908,
           0.38578433944952467,
           0.34779356555854973,
           0.23177011465146308,
           0.26438189983996446,
           0.320594944900768,
           0.3609968076098862,
           0.19688356780017088,
           0.27433286161909387,
           0.237429120262006,
           0.25508757259986703,
           0.2519705993029816,
           0.3299704771863698,
           0.27093673733438134,
           0.21751666753195698,
           0.9999999999999962,
           0.2070322351851268,
           0.2745915046411547,
           0.3119924676609022,
           0.2923575056426983,
           0.27534263439021595,
           0.23012688204664375,
           0.20400724441449863,
           0.2510413577767587,
           0.17635414835942903,
           0.2690470556378128,
           0.21032695707569382,
           0.23454094609533,
           0.28457395910846506,
           0.18192356921790753,
           0.22686542287587214,
           0.2015425215419736,
           0.23576346153478336,
           0.30506223543153466,
           0.24753034071213278,
           0.25276070568767633,
           0.2723743644594279,
           0.21274506632931073,
           0.13617688228236266,
           0.15702535025266784,
           0.18912669114163821,
           0.26146313383944164,
           0.11130579121431647,
           0.14333319985340726,
           0.20454801876397066,
           0.20271788197578255,
           0.2544961945920036,
           0.19295087669200928,
           0.14071065449369413,
           0.13163403914028357,
           0.17338070532461639,
           0.20349938766101064,
           0.2063227014087756,
           0.2718581631435408,
           0.22322240186796494,
           0.17928271271688997,
           0.2219382132688033,
           0.265153417945303,
           0.20883583961831892,
           0.27089414040265924,
           0.17874244435858097,
           0.21318422350243604,
           0.21536254535832702,
           0.16322049267962627
          ],
          [
           0.5136798304010538,
           0.38625171268886727,
           0.4636530576586442,
           0.4066240402313625,
           0.3686483251361491,
           0.31858161233842575,
           0.2788586325313813,
           0.31706936529178725,
           0.26740737390218927,
           0.24679493101409603,
           0.19679235315018054,
           0.24862072174786953,
           0.2342537401806831,
           0.36282633783489493,
           0.26177730140029926,
           0.20993862420262357,
           0.2070322351851268,
           0.9999999999999928,
           0.2564092189276831,
           0.28534732927579753,
           0.2690154458216995,
           0.3040697131705294,
           0.21091794804134642,
           0.29523234501645207,
           0.32487256326384467,
           0.21322017031835072,
           0.33004166266106244,
           0.23130744316560695,
           0.22997245477466816,
           0.3505906610577578,
           0.21757821891891682,
           0.35035495600746547,
           0.2897312898669983,
           0.21639466443039893,
           0.27836487693221124,
           0.32786932780113626,
           0.2265179137680513,
           0.24271007685092544,
           0.22984616072497052,
           0.1664394867040839,
           0.24212911649463503,
           0.16194727433538178,
           0.26642574953106807,
           0.15433937176064294,
           0.19935922120122357,
           0.3027280850924616,
           0.3202309240595906,
           0.17669159398588669,
           0.2187220114802518,
           0.16575567202505645,
           0.17745475878111525,
           0.17035269467670544,
           0.2447065154414588,
           0.1893746884768951,
           0.22240262387755166,
           0.20302182371874158,
           0.2624337907334762,
           0.20369938349754227,
           0.22626435711299653,
           0.2159257286510157,
           0.23287291398386534,
           0.2351921907442891,
           0.23634303506153811,
           0.2268013852230221,
           0.1436475507244018
          ],
          [
           0.5398879830763196,
           0.45401317156839827,
           0.4181126426738767,
           0.38732546173424637,
           0.24634130919973,
           0.2928152219679389,
           0.3620543279618183,
           0.34020325290314757,
           0.21546511396264179,
           0.30066948321318004,
           0.5239676887954807,
           0.2886025759544053,
           0.30748316751669835,
           0.3031293805849437,
           0.29361112113161647,
           0.2565795230478236,
           0.2745915046411547,
           0.2564092189276831,
           1.0000000000000027,
           0.3270184538746916,
           0.3217049361415019,
           0.2991510193899284,
           0.29551071455108974,
           0.21413346717548845,
           0.2640238918472661,
           0.18656054190102456,
           0.3544203802289455,
           0.24958675907138966,
           0.2672590937956066,
           0.3631383895179586,
           0.19005624836781262,
           0.2562642016985775,
           0.23812913991577336,
           0.21754149566357958,
           0.37387281470521383,
           0.2731763486063137,
           0.307491161399964,
           0.2920405077799863,
           0.25223992031055276,
           0.1374766215291869,
           0.16922859004567428,
           0.301034176312541,
           0.25732935361244014,
           0.11622036813325187,
           0.1759584241124301,
           0.23476978958142103,
           0.2923719312497717,
           0.20335780970798983,
           0.19950183351625927,
           0.18328914134957672,
           0.12873762415210535,
           0.23269889758363752,
           0.2177862387084883,
           0.394203784929774,
           0.2544765302718657,
           0.24344605277150347,
           0.20219206919138413,
           0.2343867582709287,
           0.29516838147416363,
           0.22855052560319267,
           0.2797557413983886,
           0.1794377439909258,
           0.22070847786767922,
           0.22707126780978212,
           0.22387492159250869
          ],
          [
           0.5833143592183977,
           0.5241144978536446,
           0.4691778982433278,
           0.5130692590889977,
           0.2703521392922719,
           0.34735561741994564,
           0.32910030318139827,
           0.35369283137996965,
           0.2519067242051873,
           0.32939378261258223,
           0.28616780972939815,
           0.30813304763809723,
           0.3204626767538123,
           0.3381775115281805,
           0.3802366257051998,
           0.2725409834835858,
           0.3119924676609022,
           0.28534732927579753,
           0.3270184538746916,
           1.000000000000006,
           0.33816555511429797,
           0.2914265708396659,
           0.37020877742663183,
           0.22605287350950973,
           0.2673096329872319,
           0.1925573804111457,
           0.38805271594151114,
           0.25568579671969327,
           0.25807655440443567,
           0.3345420450003159,
           0.2881064846142722,
           0.2651101584131438,
           0.2714035776094166,
           0.22663532386078306,
           0.41391419080219494,
           0.306414024337103,
           0.32310369721939647,
           0.3466790504577001,
           0.26872462629559707,
           0.17728646436166462,
           0.20035091389177326,
           0.24618086372381986,
           0.2749913892642033,
           0.18547799796110281,
           0.1854981279932156,
           0.24407149920212182,
           0.35615304583628,
           0.2639547752203265,
           0.20993001336850659,
           0.19041900871619521,
           0.13611238549555257,
           0.30464638058599214,
           0.25449655005270544,
           0.24192236563784164,
           0.293775385922923,
           0.23943828215022514,
           0.2069863976536138,
           0.22627209478430493,
           0.32410785639781586,
           0.24205724460868616,
           0.3020890207494498,
           0.19565663046642276,
           0.2385938342206527,
           0.22956873477032777,
           0.1927709867492837
          ],
          [
           0.5705498262948573,
           0.5081876968570698,
           0.4331768889057265,
           0.4383975520063789,
           0.2796188082658324,
           0.35041690729916836,
           0.40012230327702236,
           0.4170639347348551,
           0.21582529005723136,
           0.28864582989448206,
           0.31627682953850295,
           0.33001396209970035,
           0.3328843954649091,
           0.3489675080264633,
           0.32351474450995993,
           0.2438605115257774,
           0.2923575056426983,
           0.2690154458216995,
           0.3217049361415019,
           0.33816555511429797,
           0.9999999999999964,
           0.3599340686172262,
           0.29416339221167837,
           0.2381608729622053,
           0.29964746480431986,
           0.2015024066730086,
           0.41145380094980066,
           0.27767295258033414,
           0.28417847006829217,
           0.3421873937838776,
           0.2139086188518398,
           0.288341736121497,
           0.24116335620525495,
           0.2582472499460645,
           0.3712069841250415,
           0.3048356878920482,
           0.2814206210585414,
           0.31407422467485413,
           0.26142913432862697,
           0.15684222337170836,
           0.19892019652103304,
           0.20512979184494706,
           0.2735636044254887,
           0.11158854826419932,
           0.1748795769323571,
           0.2593556796413016,
           0.2927413600882287,
           0.22144269596879526,
           0.21855427911016573,
           0.17254931543882854,
           0.15920571807650505,
           0.21136038767120552,
           0.2510759258065636,
           0.26100084948946894,
           0.28010235384982196,
           0.276282851096374,
           0.21907881781616378,
           0.3021054091428368,
           0.35679670507095274,
           0.2604800067453948,
           0.33231563489408605,
           0.1941867377860812,
           0.2810084990329287,
           0.2559042770446903,
           0.18115775455182798
          ],
          [
           0.5936569955866042,
           0.513168053197189,
           0.44812227797236653,
           0.4150557841364375,
           0.4397032244867501,
           0.3241913915069103,
           0.3977301936675091,
           0.48315788561073764,
           0.22057100963167917,
           0.2847745203809883,
           0.2660345276267145,
           0.3071503141442253,
           0.3217686989614437,
           0.3691750922288324,
           0.2898689344230015,
           0.2697787487611913,
           0.27534263439021595,
           0.3040697131705294,
           0.2991510193899284,
           0.2914265708396659,
           0.3599340686172262,
           0.9999999999999948,
           0.23699088659823977,
           0.31117603720331766,
           0.3783335291034219,
           0.31985983255345163,
           0.3533524935470019,
           0.26410331509008605,
           0.27047714077069707,
           0.3554230020455827,
           0.2008598014045492,
           0.35566464650388907,
           0.27191757956690893,
           0.24679769935582752,
           0.35761600338026844,
           0.30830020280590936,
           0.25972757898140786,
           0.33564216732499846,
           0.2708650317978721,
           0.16478644554252592,
           0.18409430247105146,
           0.1896192043421707,
           0.32253186792974997,
           0.11977461985459661,
           0.199125323081138,
           0.2982493110328516,
           0.23373294810317607,
           0.2004514442389383,
           0.24200987916222277,
           0.14794098751136064,
           0.2585822233507015,
           0.1726061642109414,
           0.41461358100289347,
           0.24984119272678826,
           0.2707175954024218,
           0.3017278372518032,
           0.28027362668876504,
           0.2680725844036157,
           0.3341397921886435,
           0.2633048149418988,
           0.29061446011183334,
           0.24280509478839854,
           0.2780043808834162,
           0.29094518738187625,
           0.18821144321172706
          ],
          [
           0.5069453416364486,
           0.37296839397020837,
           0.34050813169699784,
           0.33701446170452765,
           0.22774155784764033,
           0.3750569815498008,
           0.2634775445811278,
           0.300339350404147,
           0.18164812930733118,
           0.2797453527960354,
           0.26059623353872885,
           0.23143778054618783,
           0.31761200016855834,
           0.25591721075355167,
           0.28418442754678597,
           0.21645485769939624,
           0.23012688204664375,
           0.21091794804134642,
           0.29551071455108974,
           0.37020877742663183,
           0.29416339221167837,
           0.23699088659823977,
           1.000000000000001,
           0.19296938358030796,
           0.24030951653810126,
           0.17398398571338397,
           0.30418281163535904,
           0.21882727391395457,
           0.20285942737846066,
           0.2696917766186692,
           0.22087766403905185,
           0.2154548429007368,
           0.19841214087106904,
           0.19466049917773195,
           0.3299773606890066,
           0.277125140382839,
           0.440179979160623,
           0.2535251041499183,
           0.20306048364476006,
           0.13331888695807304,
           0.14750755891675324,
           0.19000597478188003,
           0.22040441367543323,
           0.1052160464841665,
           0.1474316091948695,
           0.19317361808000308,
           0.2231640227164826,
           0.18330846005082457,
           0.1728009278582274,
           0.2090109458534385,
           0.11697931283336581,
           0.3971693925061451,
           0.18541436470361705,
           0.2867089429996663,
           0.2375332504478961,
           0.19986955878158505,
           0.15976772754564214,
           0.21747068392212326,
           0.24460039622928323,
           0.19478660103527284,
           0.2289840488614651,
           0.15640239598917208,
           0.19600789783708383,
           0.19222394117286812,
           0.16304871523256917
          ],
          [
           0.4635395209225498,
           0.371283228402108,
           0.3342397771117193,
           0.3118746685313237,
           0.2919769679960944,
           0.2781990530834757,
           0.2928455596324068,
           0.3289174482376929,
           0.17444174032108797,
           0.21621754979865734,
           0.17942718959455173,
           0.25766523251692625,
           0.19931226526252324,
           0.28121065368375053,
           0.21931393474777436,
           0.18596608281863536,
           0.20400724441449863,
           0.29523234501645207,
           0.21413346717548845,
           0.22605287350950973,
           0.2381608729622053,
           0.31117603720331766,
           0.19296938358030796,
           1.0000000000000042,
           0.3696686022238272,
           0.4952225431698379,
           0.2269767532146996,
           0.1917730498112124,
           0.21815342303589683,
           0.25572748479576785,
           0.15110739935557624,
           0.3161228626089341,
           0.19979964479735338,
           0.20595077800557315,
           0.2545993372486207,
           0.3198024702994206,
           0.19510663398087758,
           0.22819392752179704,
           0.21163378009586492,
           0.11878598121789406,
           0.14545766083035022,
           0.1503464295705475,
           0.2759557744689827,
           0.10065842983610726,
           0.19207206386957323,
           0.190134562859413,
           0.18711733385177937,
           0.15383036541039907,
           0.22374684784047602,
           0.12248147908448472,
           0.17421036509100596,
           0.13785544136153394,
           0.23370891272792996,
           0.17469043752217486,
           0.20844997499898915,
           0.21512858937803409,
           0.31710312745758923,
           0.1967722440778683,
           0.22595970161917414,
           0.2244608146730889,
           0.21502528092425602,
           0.2897870491978371,
           0.25239408957105797,
           0.22998786472382393,
           0.12905658660415611
          ],
          [
           0.5583984650360283,
           0.44466911900603084,
           0.393509288000467,
           0.37280857962865444,
           0.4331254333177853,
           0.31597618926076676,
           0.3889853962541857,
           0.49381602442247174,
           0.21145504598639941,
           0.25390770185663186,
           0.21670044261572455,
           0.26637824223498374,
           0.25493688239879897,
           0.3376846461589358,
           0.25740852428268146,
           0.23151709117527305,
           0.2510413577767587,
           0.32487256326384467,
           0.2640238918472661,
           0.2673096329872319,
           0.29964746480431986,
           0.3783335291034219,
           0.24030951653810126,
           0.3696686022238272,
           0.9999999999999972,
           0.34871547344540355,
           0.2994913166745272,
           0.2428213102306871,
           0.28246777450721355,
           0.3007002333851241,
           0.18749666517181898,
           0.3782277621818413,
           0.22114478004057783,
           0.2265015010737972,
           0.31736248081059504,
           0.36749997339411683,
           0.2317844685078531,
           0.25572602926214955,
           0.2572326118970428,
           0.13990897204944955,
           0.177625442968491,
           0.18704375139143287,
           0.3295221883173436,
           0.1191330006967868,
           0.19339160963809607,
           0.2439569944799087,
           0.2165251570041399,
           0.17641757497353042,
           0.2572244111724069,
           0.15017545400857532,
           0.3373276617120258,
           0.16459291800412176,
           0.2629453805615575,
           0.20793654343766163,
           0.256894803521232,
           0.24678830560024725,
           0.31183663625738883,
           0.2558450140526233,
           0.3093767812004984,
           0.3183217932580287,
           0.26667108364051717,
           0.27847315955510693,
           0.28190730240212236,
           0.2711572747863644,
           0.14073409945709542
          ],
          [
           0.3980159517841856,
           0.30618589627897136,
           0.2704537491219815,
           0.25632629052725686,
           0.22039664531090813,
           0.2498083090062304,
           0.2274797564341624,
           0.32261450966862953,
           0.14969623704913085,
           0.19322887312124845,
           0.15369090320751838,
           0.1885522181668389,
           0.16460062072164883,
           0.2504100391299729,
           0.1944710140255594,
           0.17040743150309728,
           0.17635414835942903,
           0.21322017031835072,
           0.18656054190102456,
           0.1925573804111457,
           0.2015024066730086,
           0.31985983255345163,
           0.17398398571338397,
           0.4952225431698379,
           0.34871547344540355,
           1.0000000000000246,
           0.19029767683998924,
           0.15873852783050843,
           0.1930517652245709,
           0.21633129138594281,
           0.13736049982905893,
           0.2542541377483734,
           0.15933744364369354,
           0.18463869482087633,
           0.21660477892883567,
           0.28047201767391855,
           0.1650074051341593,
           0.18821616972728028,
           0.18212833225983618,
           0.10140311562664592,
           0.13045045534069383,
           0.129529746691943,
           0.2628095292604254,
           0.10679008194283231,
           0.14164144859516906,
           0.14861918321306394,
           0.14725962584830654,
           0.13162139877988135,
           0.1724719594818737,
           0.12506084659179229,
           0.14480382009182716,
           0.11608127171890345,
           0.200215138119516,
           0.14317408571888732,
           0.18465179916343835,
           0.1728133807296498,
           0.24397315896184416,
           0.19231886762376546,
           0.18611428568578728,
           0.1902663058042222,
           0.18249037501190585,
           0.22465792072564914,
           0.2655997041016015,
           0.19897986577563678,
           0.0978253650629811
          ],
          [
           0.6002679308560407,
           0.5030159708352944,
           0.5909108431213513,
           0.4767241722873459,
           0.321655651030255,
           0.3185061069394743,
           0.4476244827658958,
           0.4064083613488169,
           0.273270373693185,
           0.2812860608900341,
           0.29431110828144097,
           0.31304999698934594,
           0.3581910072584076,
           0.34435971305232116,
           0.3688476564126417,
           0.2439269181422661,
           0.2690470556378128,
           0.33004166266106244,
           0.3544203802289455,
           0.38805271594151114,
           0.41145380094980066,
           0.3533524935470019,
           0.30418281163535904,
           0.2269767532146996,
           0.2994913166745272,
           0.19029767683998924,
           1.0000000000000038,
           0.29211246351401116,
           0.2772934863397415,
           0.3551164443360525,
           0.20629271332324645,
           0.3074677003763867,
           0.2548885782954356,
           0.22004634822510488,
           0.44380743811757384,
           0.30463580501221776,
           0.27662423757996774,
           0.3053666931163616,
           0.2689564273769747,
           0.236017716906403,
           0.20364183367800093,
           0.20778144656390024,
           0.256377377744549,
           0.13673491084335393,
           0.18758925052504252,
           0.3762651306037402,
           0.48819063336919455,
           0.18845968889704798,
           0.20602584302364307,
           0.17216011202273426,
           0.16916176233974048,
           0.25496780515970974,
           0.25138476518715774,
           0.24969936212519933,
           0.24437723487107535,
           0.2523095167900025,
           0.21078031424877108,
           0.24714135720159114,
           0.3542410638920727,
           0.24599877594064723,
           0.30667999121761824,
           0.1949005187547765,
           0.257262008976061,
           0.24058404534945027,
           0.17854718283638368
          ],
          [
           0.45700299407754313,
           0.37326800841717866,
           0.34574367357103947,
           0.35205722326301175,
           0.22245193517101772,
           0.2557113480663425,
           0.32815685416882456,
           0.2900537218123885,
           0.17703491216849188,
           0.2331040614996736,
           0.2223704646626755,
           0.24114663484150992,
           0.3011597946066679,
           0.29032002386316696,
           0.23424011058507185,
           0.22311670009494838,
           0.21032695707569382,
           0.23130744316560695,
           0.24958675907138966,
           0.25568579671969327,
           0.27767295258033414,
           0.26410331509008605,
           0.21882727391395457,
           0.1917730498112124,
           0.2428213102306871,
           0.15873852783050843,
           0.29211246351401116,
           0.9999999999999905,
           0.24317064260630483,
           0.30717986365460276,
           0.14497118680340684,
           0.26379293414479565,
           0.19104545106149937,
           0.18275628810351824,
           0.2881645069452815,
           0.2920984185977825,
           0.26282592149035283,
           0.23608794310453093,
           0.23821895076159166,
           0.12313506979380827,
           0.1725622482562312,
           0.17236442180298503,
           0.21765410820446532,
           0.09761371464765045,
           0.15284792318316734,
           0.24681216589435057,
           0.19280424136097907,
           0.15150350792112016,
           0.19235699835461428,
           0.13488878097155715,
           0.12366911094543533,
           0.1814381287699273,
           0.19534931519950866,
           0.21536834951042708,
           0.2091180638192378,
           0.21836696902794633,
           0.18998110215811095,
           0.2031813574049777,
           0.2543129082542973,
           0.22380301967647098,
           0.282423402303556,
           0.16231764839956664,
           0.21574163675354618,
           0.2309744481526055,
           0.16615057905700947
          ],
          [
           0.46789172262232137,
           0.38393379594322935,
           0.34395707701371747,
           0.34402967567434045,
           0.2226476936231577,
           0.26361536512690215,
           0.4021407178361481,
           0.32443789225086495,
           0.17169195297391937,
           0.26259884554431195,
           0.23753984102696138,
           0.247005141331788,
           0.24664347775563356,
           0.3093310982139075,
           0.2410090666835393,
           0.25338096276616034,
           0.23454094609533,
           0.22997245477466816,
           0.2672590937956066,
           0.25807655440443567,
           0.28417847006829217,
           0.27047714077069707,
           0.20285942737846066,
           0.21815342303589683,
           0.28246777450721355,
           0.1930517652245709,
           0.2772934863397415,
           0.24317064260630483,
           1.0000000000000029,
           0.34105522147759426,
           0.194097729227463,
           0.2555694942010052,
           0.19803189867492693,
           0.2170525117689364,
           0.27346170363700856,
           0.2885656528186418,
           0.23008519985139053,
           0.24042172812174303,
           0.2587415810651359,
           0.13514302462462374,
           0.18614280663403582,
           0.15314138536566294,
           0.26894820143947357,
           0.1022784578965539,
           0.15213498454169314,
           0.21283088000446268,
           0.19230795610780052,
           0.21225511592012988,
           0.22278811312739147,
           0.13287930267887538,
           0.12541816140484646,
           0.15748414584198955,
           0.20315174700998348,
           0.21022122363864135,
           0.26770896223756174,
           0.21476547714743674,
           0.20440545076173625,
           0.2665847802846345,
           0.23687466170260793,
           0.3173146189998681,
           0.28687842223872334,
           0.172512997349441,
           0.28296947303132347,
           0.22751277592170369,
           0.14748510013502653
          ],
          [
           0.5829692147525851,
           0.4777051614540157,
           0.4825927920002032,
           0.44309752460844387,
           0.3077831388405986,
           0.33099144659541346,
           0.389964124954055,
           0.3710001451312325,
           0.25352885739747777,
           0.336229750656359,
           0.2968460192596259,
           0.31113095257316487,
           0.29865287454918715,
           0.38615013655084024,
           0.2969790775424236,
           0.27889308685167685,
           0.28457395910846506,
           0.3505906610577578,
           0.3631383895179586,
           0.3345420450003159,
           0.3421873937838776,
           0.3554230020455827,
           0.2696917766186692,
           0.25572748479576785,
           0.3007002333851241,
           0.21633129138594281,
           0.3551164443360525,
           0.30717986365460276,
           0.34105522147759426,
           1.0000000000000036,
           0.20804812425001556,
           0.3109387288622611,
           0.30317546568425974,
           0.27499937006698033,
           0.35201695698510943,
           0.3189779709684523,
           0.28714773567797897,
           0.2947045307485687,
           0.26520460270799073,
           0.1782292764244453,
           0.2412179397299048,
           0.19898161673210948,
           0.3010370485836735,
           0.17034056751261512,
           0.2050269201910468,
           0.2985037763394194,
           0.26875160262239617,
           0.22874398048328776,
           0.24056762441036286,
           0.16761429957829796,
           0.15860319903412967,
           0.21576741403913471,
           0.2554461644827361,
           0.2607290525683794,
           0.3604357846476716,
           0.25290292558939587,
           0.2501475182743417,
           0.28926520861634614,
           0.28470537999800327,
           0.25514073641995794,
           0.32967531120588034,
           0.23118996689383886,
           0.2902565755142065,
           0.28764297576725645,
           0.17387095356833668
          ],
          [
           0.3567512046657735,
           0.29366361241340266,
           0.25135554915122654,
           0.2372039032193225,
           0.1769074528718186,
           0.29253517951072133,
           0.19451963279377746,
           0.2382119807703037,
           0.14214913268416912,
           0.2165053190571955,
           0.15260479750775224,
           0.17032876354603607,
           0.18448268572384657,
           0.31945361153390456,
           0.20651941925322662,
           0.1617652434200908,
           0.18192356921790753,
           0.21757821891891682,
           0.19005624836781262,
           0.2881064846142722,
           0.2139086188518398,
           0.2008598014045492,
           0.22087766403905185,
           0.15110739935557624,
           0.18749666517181898,
           0.13736049982905893,
           0.20629271332324645,
           0.14497118680340684,
           0.194097729227463,
           0.20804812425001556,
           1.0000000000000033,
           0.16998967985693106,
           0.16773727523864979,
           0.1494866805668991,
           0.22013079341986433,
           0.19494132123754296,
           0.17174183694267556,
           0.18782768886714118,
           0.17455823176254748,
           0.09969657852985864,
           0.2752194211657191,
           0.11664310277228317,
           0.26812891683731055,
           0.1018363907320162,
           0.10978806724606081,
           0.14157338506686618,
           0.15406879183097405,
           0.15627654211800182,
           0.15226305134349444,
           0.3618647228213439,
           0.09568305581818884,
           0.14044173833981663,
           0.14801468628272912,
           0.13341268258001335,
           0.17875282896508227,
           0.1392171945861003,
           0.15913079099504934,
           0.16941476902004135,
           0.18624600612381353,
           0.1472126232348934,
           0.1685281173742823,
           0.13384376300435938,
           0.17235677217838194,
           0.14218969317220803,
           0.10484080667749401
          ],
          [
           0.5423819167590302,
           0.44952376684468787,
           0.39167693308926166,
           0.3736946673207776,
           0.3332773683640752,
           0.300541983709764,
           0.3679979417055274,
           0.36442025904715075,
           0.21324040457405172,
           0.2652157685359156,
           0.2253798117448139,
           0.2789707886331309,
           0.2937877243410127,
           0.35241330398732323,
           0.25785780006847686,
           0.23910754026869008,
           0.22686542287587214,
           0.35035495600746547,
           0.2562642016985775,
           0.2651101584131438,
           0.288341736121497,
           0.35566464650388907,
           0.2154548429007368,
           0.3161228626089341,
           0.3782277621818413,
           0.2542541377483734,
           0.3074677003763867,
           0.26379293414479565,
           0.2555694942010052,
           0.3109387288622611,
           0.16998967985693106,
           1.000000000000002,
           0.22698669267508503,
           0.24070603546768718,
           0.31048247672066387,
           0.3628361183202841,
           0.235736734906612,
           0.26674125036989094,
           0.24970424034616234,
           0.14304075495182944,
           0.17423186245842176,
           0.19514170742530984,
           0.29500347000555427,
           0.12228411283705824,
           0.29585661393842927,
           0.25047572822654085,
           0.21868366537794612,
           0.18009842186889088,
           0.2957676843725821,
           0.146978704975999,
           0.19996248063774194,
           0.16904914779115035,
           0.25149259636850896,
           0.2271488194366402,
           0.24632589826478304,
           0.2826253609366312,
           0.3094101959456609,
           0.21870534432803448,
           0.28719477698126483,
           0.24303374981307901,
           0.25028166619389164,
           0.36197929406594,
           0.25634400053947215,
           0.2881496408772839,
           0.16229877480779975
          ],
          [
           0.4351687989112487,
           0.35792670612009425,
           0.41824672644875915,
           0.37331592550433806,
           0.2640894479949566,
           0.2546774008182893,
           0.23880890069735952,
           0.26585631585831637,
           0.23438529763620491,
           0.22064551978286281,
           0.19324250778324176,
           0.2421315700184147,
           0.21158717623856987,
           0.25668768943481757,
           0.26262909086310493,
           0.2431959885585004,
           0.2015425215419736,
           0.2897312898669983,
           0.23812913991577336,
           0.2714035776094166,
           0.24116335620525495,
           0.27191757956690893,
           0.19841214087106904,
           0.19979964479735338,
           0.22114478004057783,
           0.15933744364369354,
           0.2548885782954356,
           0.19104545106149937,
           0.19803189867492693,
           0.30317546568425974,
           0.16773727523864979,
           0.22698669267508503,
           0.9999999999999946,
           0.1800908958855355,
           0.26852285097376144,
           0.23886511427815224,
           0.2232269986449182,
           0.2813403452646454,
           0.2286468290774907,
           0.1785046575785068,
           0.14435681379738888,
           0.1579677554306674,
           0.21886484779120827,
           0.1316034912023777,
           0.18276446178003952,
           0.25110522048314843,
           0.2543870925050343,
           0.15117134924710426,
           0.17192442389883925,
           0.12884183391165546,
           0.12100663212626261,
           0.15854748141412442,
           0.2924755135639512,
           0.1817726511481001,
           0.20364757559149058,
           0.18577256142924126,
           0.1894366257715607,
           0.1703691298524991,
           0.20785067457804837,
           0.21492667752116293,
           0.22127978655878217,
           0.1706642540281433,
           0.17959804552551706,
           0.18619602903877958,
           0.1338423628783369
          ],
          [
           0.4227829933691017,
           0.3438206131505741,
           0.33390112800245936,
           0.286013449518072,
           0.2306228728908366,
           0.24445200381355067,
           0.24303696121066928,
           0.3027527723919722,
           0.14752930056809788,
           0.27848372075539046,
           0.1807764879474676,
           0.2021966982230592,
           0.2082812432156533,
           0.2516167859236546,
           0.21645874605950577,
           0.2039684482354741,
           0.23576346153478336,
           0.21639466443039893,
           0.21754149566357958,
           0.22663532386078306,
           0.2582472499460645,
           0.24679769935582752,
           0.19466049917773195,
           0.20595077800557315,
           0.2265015010737972,
           0.18463869482087633,
           0.22004634822510488,
           0.18275628810351824,
           0.2170525117689364,
           0.27499937006698033,
           0.1494866805668991,
           0.24070603546768718,
           0.1800908958855355,
           0.9999999999999826,
           0.27538596478754385,
           0.22650908688409696,
           0.19599884330235814,
           0.2048771458418338,
           0.17716393951323528,
           0.11332411219445697,
           0.15460422391393402,
           0.1340214153961076,
           0.22672614306300817,
           0.09965366350678005,
           0.16001950996744724,
           0.1698900226447284,
           0.16324132167792849,
           0.3398814370968983,
           0.2124761305479468,
           0.11011997919112602,
           0.12563804713685106,
           0.13713625310314498,
           0.18054139823602178,
           0.1803593766193427,
           0.28752267714974555,
           0.17683703807038778,
           0.19475814253368182,
           0.2762516040464036,
           0.2045756078991507,
           0.20614600196312152,
           0.2218390177985883,
           0.2630809371924416,
           0.30923611207026824,
           0.18109412571596983,
           0.11474767759204064
          ],
          [
           0.6258526673023056,
           0.5487748921475838,
           0.47906030888544116,
           0.4947735322506528,
           0.32162067244817044,
           0.3287044540532226,
           0.377805514683292,
           0.45358181411608167,
           0.230277535419634,
           0.3226821467012822,
           0.323712080136295,
           0.327609048856739,
           0.3540972519407178,
           0.33752492303060583,
           0.3302169544610526,
           0.271491244333546,
           0.30506223543153466,
           0.27836487693221124,
           0.37387281470521383,
           0.41391419080219494,
           0.3712069841250415,
           0.35761600338026844,
           0.3299773606890066,
           0.2545993372486207,
           0.31736248081059504,
           0.21660477892883567,
           0.44380743811757384,
           0.2881645069452815,
           0.27346170363700856,
           0.35201695698510943,
           0.22013079341986433,
           0.31048247672066387,
           0.26852285097376144,
           0.27538596478754385,
           1.0000000000000087,
           0.32415184182979173,
           0.3264866929420426,
           0.3570968008499097,
           0.29632630748085975,
           0.17395766860505768,
           0.19895317331462714,
           0.26364446431940086,
           0.2855188118462651,
           0.11747999956275545,
           0.19779221961907947,
           0.2900567557813995,
           0.28611976561982916,
           0.23995831269793846,
           0.2269909258030361,
           0.1796703560476321,
           0.17017353810332747,
           0.24274946062423147,
           0.25453946481691275,
           0.2696179665200581,
           0.27178585080415923,
           0.2762281821200758,
           0.2363082970191404,
           0.25039462899541926,
           0.37374652020003224,
           0.2733222221324049,
           0.3676227996746592,
           0.21136222252901213,
           0.2567434554372285,
           0.27203831205495216,
           0.18168913032478773
          ],
          [
           0.5388131267536322,
           0.42913741168003283,
           0.36425059963745626,
           0.4302523168755707,
           0.2630010247702098,
           0.34580408216930825,
           0.36883413709234103,
           0.34296794417611776,
           0.20752041207713715,
           0.2850162310263227,
           0.2366459972767798,
           0.2673893286502872,
           0.27336053253492887,
           0.33630266574976314,
           0.2896935369948107,
           0.24408521909713785,
           0.24753034071213278,
           0.32786932780113626,
           0.2731763486063137,
           0.306414024337103,
           0.3048356878920482,
           0.30830020280590936,
           0.277125140382839,
           0.3198024702994206,
           0.36749997339411683,
           0.28047201767391855,
           0.30463580501221776,
           0.2920984185977825,
           0.2885656528186418,
           0.3189779709684523,
           0.19494132123754296,
           0.3628361183202841,
           0.23886511427815224,
           0.22650908688409696,
           0.32415184182979173,
           1.0000000000000033,
           0.26757674589199604,
           0.2640561471003121,
           0.2621769485247072,
           0.15180615122501379,
           0.2478048951571474,
           0.17807787733038943,
           0.2965041625837303,
           0.12444074105504982,
           0.18790971577454113,
           0.2204158647951264,
           0.2292718875999405,
           0.18844566652455907,
           0.23210395270036283,
           0.21221050508066397,
           0.15644438176807507,
           0.194457076359065,
           0.2390043731544861,
           0.23197688583820134,
           0.24143850274187034,
           0.2472773575297423,
           0.27199100856021724,
           0.23850072177322218,
           0.27802075454345043,
           0.2874513062191624,
           0.27113359589329167,
           0.23525240134034578,
           0.4088677107488632,
           0.286569366703032,
           0.1648237469760303
          ],
          [
           0.5020779225295009,
           0.3925442933455796,
           0.35647939933716966,
           0.37511735821354864,
           0.22542411589625858,
           0.3259064972648914,
           0.28784270075154755,
           0.30306852252988403,
           0.1961816836536862,
           0.24465138262755598,
           0.2531156138588681,
           0.24737386828628163,
           0.36643557049146336,
           0.2715050388560818,
           0.26483021878752344,
           0.2231696227790272,
           0.25276070568767633,
           0.2265179137680513,
           0.307491161399964,
           0.32310369721939647,
           0.2814206210585414,
           0.25972757898140786,
           0.440179979160623,
           0.19510663398087758,
           0.2317844685078531,
           0.1650074051341593,
           0.27662423757996774,
           0.26282592149035283,
           0.23008519985139053,
           0.28714773567797897,
           0.17174183694267556,
           0.235736734906612,
           0.2232269986449182,
           0.19599884330235814,
           0.3264866929420426,
           0.26757674589199604,
           1.0000000000000078,
           0.259335984515419,
           0.23469058029506695,
           0.1410095472186344,
           0.1487208594712859,
           0.1825157569707355,
           0.22973548199189178,
           0.10755751875012096,
           0.15745836218409553,
           0.21096224905431354,
           0.20944280263258686,
           0.17424739680597606,
           0.17605006827953293,
           0.1574187195008802,
           0.11884103551662868,
           0.3325748112920007,
           0.20319499381168388,
           0.28505370281918313,
           0.20912055317811326,
           0.20974469177044444,
           0.1781302927942307,
           0.19746376201966157,
           0.25474717259133906,
           0.22055984593745262,
           0.2638961091227656,
           0.16508554177186305,
           0.19903703106920456,
           0.22524820168784562,
           0.21400842623435806
          ],
          [
           0.5250327606991432,
           0.5042043140041058,
           0.4021893009160869,
           0.37969122123635995,
           0.27935097082121285,
           0.3063257419009464,
           0.3157967323113425,
           0.33878050664022163,
           0.2007688268168705,
           0.27726754344144694,
           0.282477458269967,
           0.33748474609214535,
           0.2900136242326571,
           0.2967805014588368,
           0.2870294961929543,
           0.2636631801710936,
           0.2723743644594279,
           0.24271007685092544,
           0.2920405077799863,
           0.3466790504577001,
           0.31407422467485413,
           0.33564216732499846,
           0.2535251041499183,
           0.22819392752179704,
           0.25572602926214955,
           0.18821616972728028,
           0.3053666931163616,
           0.23608794310453093,
           0.24042172812174303,
           0.2947045307485687,
           0.18782768886714118,
           0.26674125036989094,
           0.2813403452646454,
           0.2048771458418338,
           0.3570968008499097,
           0.2640561471003121,
           0.259335984515419,
           1.0000000000000069,
           0.2595714384850489,
           0.14382632104820903,
           0.1535858933572001,
           0.235540014967925,
           0.24426934557648874,
           0.11481784929839668,
           0.2240828719081255,
           0.22523538616175537,
           0.25312274943013474,
           0.18452053537392163,
           0.21480381300776366,
           0.14608324310301257,
           0.14113385698643824,
           0.1923777018087865,
           0.5104626985275401,
           0.23008533395424596,
           0.23900718639770321,
           0.2677204798784931,
           0.20496643387463645,
           0.1983962527577042,
           0.30913017903899437,
           0.24435679301330798,
           0.2818754099419622,
           0.20063663995304212,
           0.20836831879539636,
           0.23145587537453358,
           0.19743151667954023
          ],
          [
           0.4415705015504411,
           0.3737163397619178,
           0.3389966862547409,
           0.34598071514595674,
           0.21914846659739048,
           0.24631490747923326,
           0.288764407137687,
           0.2997706524458271,
           0.17910928463241232,
           0.23628712121698248,
           0.2133478856638162,
           0.26525036213194914,
           0.2411109209701268,
           0.27489954547441897,
           0.23814735688347924,
           0.3034820410736253,
           0.21274506632931073,
           0.22984616072497052,
           0.25223992031055276,
           0.26872462629559707,
           0.26142913432862697,
           0.2708650317978721,
           0.20306048364476006,
           0.21163378009586492,
           0.2572326118970428,
           0.18212833225983618,
           0.2689564273769747,
           0.23821895076159166,
           0.2587415810651359,
           0.26520460270799073,
           0.17455823176254748,
           0.24970424034616234,
           0.2286468290774907,
           0.17716393951323528,
           0.29632630748085975,
           0.2621769485247072,
           0.23469058029506695,
           0.2595714384850489,
           1.000000000000002,
           0.12622761961587733,
           0.15042962451251726,
           0.16403390987368746,
           0.2607231354305272,
           0.10657563446884065,
           0.15921612884029704,
           0.19071119727414074,
           0.19454744739193647,
           0.16116067356898078,
           0.22245204976700486,
           0.1364741206419673,
           0.11662300834202266,
           0.16650586741951823,
           0.2197350820381691,
           0.2070243823844762,
           0.20871289429793052,
           0.20339628786379133,
           0.21571340471682954,
           0.19177414545110316,
           0.24773497595226704,
           0.2399905008800971,
           0.2871619558539525,
           0.16697776843232381,
           0.20811071789594088,
           0.2130772694226534,
           0.14399786586036326
          ],
          [
           0.29046649131122665,
           0.22783888679734315,
           0.30647867660695194,
           0.2969519900262176,
           0.17224861522112217,
           0.148714027699117,
           0.16468142684459156,
           0.17098178184512913,
           0.1919738503420326,
           0.14567581769267493,
           0.12189404637387449,
           0.154047630819887,
           0.1470763437628443,
           0.1597644091964302,
           0.34654790490074444,
           0.12749079283584344,
           0.13617688228236266,
           0.1664394867040839,
           0.1374766215291869,
           0.17728646436166462,
           0.15684222337170836,
           0.16478644554252592,
           0.13331888695807304,
           0.11878598121789406,
           0.13990897204944955,
           0.10140311562664592,
           0.236017716906403,
           0.12313506979380827,
           0.13514302462462374,
           0.1782292764244453,
           0.09969657852985864,
           0.14304075495182944,
           0.1785046575785068,
           0.11332411219445697,
           0.17395766860505768,
           0.15180615122501379,
           0.1410095472186344,
           0.14382632104820903,
           0.12622761961587733,
           1.0000000000000038,
           0.08957339429676021,
           0.09020685189051932,
           0.1330318905044986,
           0.07848773626155171,
           0.08909360136185122,
           0.2273024664149669,
           0.17257083690301714,
           0.09081107312783704,
           0.1068624780480768,
           0.0756724034554127,
           0.08411976019498187,
           0.10695649513427662,
           0.12437803132523335,
           0.11861636264562857,
           0.12692998688390092,
           0.11209152695522799,
           0.10733911122523845,
           0.10890203898950913,
           0.13377065658147558,
           0.1225388479932058,
           0.14138663433229176,
           0.1035418188580421,
           0.11513876319752836,
           0.11476984016539812,
           0.0834489894793527
          ],
          [
           0.33432116968355047,
           0.2658121406233074,
           0.2200271012204453,
           0.24990986859915407,
           0.14832188388098047,
           0.22529602275439076,
           0.21402375326655626,
           0.2299286182517217,
           0.12496817844015355,
           0.2206108071331352,
           0.14224573937341345,
           0.15007404448397985,
           0.16096996221800464,
           0.3030418962169296,
           0.17354685429251068,
           0.14771464068486762,
           0.15702535025266784,
           0.24212911649463503,
           0.16922859004567428,
           0.20035091389177326,
           0.19892019652103304,
           0.18409430247105146,
           0.14750755891675324,
           0.14545766083035022,
           0.177625442968491,
           0.13045045534069383,
           0.20364183367800093,
           0.1725622482562312,
           0.18614280663403582,
           0.2412179397299048,
           0.2752194211657191,
           0.17423186245842176,
           0.14435681379738888,
           0.15460422391393402,
           0.19895317331462714,
           0.2478048951571474,
           0.1487208594712859,
           0.1535858933572001,
           0.15042962451251726,
           0.08957339429676021,
           1.0000000000000049,
           0.10164350374635664,
           0.20654447044081486,
           0.07324931066120442,
           0.10433834120448826,
           0.13468856679797486,
           0.13870302906635262,
           0.1358247628924163,
           0.15221945842829895,
           0.1453093012558878,
           0.08833204398136345,
           0.1134026372268144,
           0.1340455988868285,
           0.1310401877974033,
           0.17706364854540202,
           0.1361535928730488,
           0.14678687433489496,
           0.18402069239594732,
           0.17389815747842158,
           0.158012203227477,
           0.19272952060693022,
           0.12148764603530306,
           0.21350231104093437,
           0.15618962203982573,
           0.0876437042741253
          ],
          [
           0.3577076793901031,
           0.32073057515724956,
           0.27440057313000304,
           0.24537490896438524,
           0.1807236757820399,
           0.22866923842080733,
           0.1984562496095676,
           0.23234281207582164,
           0.13253618118183955,
           0.17894186584029617,
           0.24135106608929854,
           0.19965516800442684,
           0.20311263890453243,
           0.1983650416155574,
           0.18986142075774104,
           0.16888884419791442,
           0.18912669114163821,
           0.16194727433538178,
           0.301034176312541,
           0.24618086372381986,
           0.20512979184494706,
           0.1896192043421707,
           0.19000597478188003,
           0.1503464295705475,
           0.18704375139143287,
           0.129529746691943,
           0.20778144656390024,
           0.17236442180298503,
           0.15314138536566294,
           0.19898161673210948,
           0.11664310277228317,
           0.19514170742530984,
           0.1579677554306674,
           0.1340214153961076,
           0.26364446431940086,
           0.17807787733038943,
           0.1825157569707355,
           0.235540014967925,
           0.16403390987368746,
           0.09020685189051932,
           0.10164350374635664,
           0.999999999999996,
           0.16569851554326276,
           0.08509392701966348,
           0.12380801362792318,
           0.15503901833252653,
           0.15614665281072268,
           0.118803480699961,
           0.1400012707419458,
           0.10331011259929,
           0.09220737946222604,
           0.146783970343846,
           0.16123635695831035,
           0.17054702354915122,
           0.16381384681379293,
           0.1652232448582642,
           0.13537229746960816,
           0.1275800203425516,
           0.20285935927828724,
           0.16394498975264155,
           0.1833526406908101,
           0.1427545708867029,
           0.13325947629058985,
           0.15608054589268386,
           0.12561289046910007
          ],
          [
           0.49634494859788314,
           0.41688367861362463,
           0.37437554809326756,
           0.3350468327838955,
           0.2623439984438525,
           0.29552511610268334,
           0.3097716354878418,
           0.4339364061357375,
           0.20873752925882574,
           0.2677185023817646,
           0.20756945758196282,
           0.2407647349731372,
           0.23485468144309835,
           0.46274421023589984,
           0.2533012487637607,
           0.2331381134310168,
           0.26146313383944164,
           0.26642574953106807,
           0.25732935361244014,
           0.2749913892642033,
           0.2735636044254887,
           0.32253186792974997,
           0.22040441367543323,
           0.2759557744689827,
           0.3295221883173436,
           0.2628095292604254,
           0.256377377744549,
           0.21765410820446532,
           0.26894820143947357,
           0.3010370485836735,
           0.26812891683731055,
           0.29500347000555427,
           0.21886484779120827,
           0.22672614306300817,
           0.2855188118462651,
           0.2965041625837303,
           0.22973548199189178,
           0.24426934557648874,
           0.2607231354305272,
           0.1330318905044986,
           0.20654447044081486,
           0.16569851554326276,
           0.9999999999999964,
           0.17451595879558568,
           0.17498024294831896,
           0.20349959940648923,
           0.19798979444410555,
           0.19920746400087996,
           0.35204272913396367,
           0.15756525214560702,
           0.1539261485384381,
           0.16346632191030147,
           0.23434801009571113,
           0.19789141485520592,
           0.2577137006825104,
           0.21174675254656114,
           0.3478689252644977,
           0.2587396465805875,
           0.24954829915218119,
           0.24380523502577453,
           0.2596616492578258,
           0.25180042718565926,
           0.24779701110283028,
           0.23220326243755382,
           0.13505053067993436
          ],
          [
           0.23714990895882093,
           0.18979674975578065,
           0.2705594483844563,
           0.1705999499725461,
           0.14099857865778126,
           0.13748651854912816,
           0.13759840959714587,
           0.1363622445466695,
           0.4356050031650338,
           0.11146723324571026,
           0.09132501526001029,
           0.10890160715991407,
           0.10796246850898107,
           0.14244544278680252,
           0.13374908747355804,
           0.09731580292976234,
           0.11130579121431647,
           0.15433937176064294,
           0.11622036813325187,
           0.18547799796110281,
           0.11158854826419932,
           0.11977461985459661,
           0.1052160464841665,
           0.10065842983610726,
           0.1191330006967868,
           0.10679008194283231,
           0.13673491084335393,
           0.09761371464765045,
           0.1022784578965539,
           0.17034056751261512,
           0.1018363907320162,
           0.12228411283705824,
           0.1316034912023777,
           0.09965366350678005,
           0.11747999956275545,
           0.12444074105504982,
           0.10755751875012096,
           0.11481784929839668,
           0.10657563446884065,
           0.07848773626155171,
           0.07324931066120442,
           0.08509392701966348,
           0.17451595879558568,
           1.000000000000016,
           0.08370131936285405,
           0.10080134162369216,
           0.13030722886400756,
           0.07901025915502295,
           0.08804885372970932,
           0.09363777212662051,
           0.06935573900050937,
           0.1071867252808711,
           0.10027291678234758,
           0.07677987976875096,
           0.11164297832896028,
           0.08443401650901915,
           0.09953984613835383,
           0.09253899567888867,
           0.09758494245754804,
           0.08767905639872133,
           0.10230214333921542,
           0.10121742931363187,
           0.0961079922126772,
           0.10310691772615668,
           0.0685433365970295
          ],
          [
           0.3314782398340026,
           0.2749561130453362,
           0.25344724987416495,
           0.23218265738053737,
           0.1783407689899131,
           0.19910697840107,
           0.2045974817488927,
           0.20521562291502757,
           0.1379087720447593,
           0.1643867362004276,
           0.14638779769906557,
           0.19571971100849267,
           0.1537621124002985,
           0.22137318313760174,
           0.16500319736578759,
           0.15590183786552778,
           0.14333319985340726,
           0.19935922120122357,
           0.1759584241124301,
           0.1854981279932156,
           0.1748795769323571,
           0.199125323081138,
           0.1474316091948695,
           0.19207206386957323,
           0.19339160963809607,
           0.14164144859516906,
           0.18758925052504252,
           0.15284792318316734,
           0.15213498454169314,
           0.2050269201910468,
           0.10978806724606081,
           0.29585661393842927,
           0.18276446178003952,
           0.16001950996744724,
           0.19779221961907947,
           0.18790971577454113,
           0.15745836218409553,
           0.2240828719081255,
           0.15921612884029704,
           0.08909360136185122,
           0.10433834120448826,
           0.12380801362792318,
           0.17498024294831896,
           0.08370131936285405,
           0.9999999999999999,
           0.14266316428625203,
           0.14782510834674503,
           0.11728620373195622,
           0.1761103297524906,
           0.09178573397517656,
           0.09398741080544001,
           0.11180310549038641,
           0.16896678387982025,
           0.13846012747274597,
           0.15018013916122894,
           0.16138171384141026,
           0.23428180823025194,
           0.12693018472637257,
           0.1557446959504113,
           0.15097572941697837,
           0.16042011872138806,
           0.29334945345901614,
           0.14960573049043338,
           0.15160514351740112,
           0.09894871718703946
          ],
          [
           0.4705823184754131,
           0.3963104116353056,
           0.5093599609708375,
           0.37019662540732623,
           0.3337688734152486,
           0.2247894758164141,
           0.35818440297874493,
           0.27520931004646454,
           0.23796407681418896,
           0.20510993616110546,
           0.2147776910579263,
           0.2704645027023281,
           0.30605709402673364,
           0.26949282719187106,
           0.2373949727370138,
           0.17901456299942442,
           0.20454801876397066,
           0.3027280850924616,
           0.23476978958142103,
           0.24407149920212182,
           0.2593556796413016,
           0.2982493110328516,
           0.19317361808000308,
           0.190134562859413,
           0.2439569944799087,
           0.14861918321306394,
           0.3762651306037402,
           0.24681216589435057,
           0.21283088000446268,
           0.2985037763394194,
           0.14157338506686618,
           0.25047572822654085,
           0.25110522048314843,
           0.1698900226447284,
           0.2900567557813995,
           0.2204158647951264,
           0.21096224905431354,
           0.22523538616175537,
           0.19071119727414074,
           0.2273024664149669,
           0.13468856679797486,
           0.15503901833252653,
           0.20349959940648923,
           0.10080134162369216,
           0.14266316428625203,
           0.9999999999999973,
           0.24827694444698245,
           0.14458645790270547,
           0.16948012715894265,
           0.11563101220089303,
           0.21219810932699987,
           0.16456220036764732,
           0.1907920916246545,
           0.1958455617361263,
           0.18621749790054465,
           0.2106420130895166,
           0.1887179316125252,
           0.17825971388689488,
           0.24687198499367224,
           0.17591277960209362,
           0.2217276174906285,
           0.15709912775256346,
           0.17953461020463796,
           0.20100977849521323,
           0.16594947407557417
          ],
          [
           0.4424139162095275,
           0.3545603093833072,
           0.41762634384133396,
           0.3774888536489801,
           0.24570683356078157,
           0.2424142808059673,
           0.26149886246418647,
           0.26790811053247726,
           0.24365729950254822,
           0.21287657091939227,
           0.20593319215601158,
           0.23088127098378677,
           0.23769228284687913,
           0.26328885317315925,
           0.27707668315297557,
           0.1860294413844298,
           0.20271788197578255,
           0.3202309240595906,
           0.2923719312497717,
           0.35615304583628,
           0.2927413600882287,
           0.23373294810317607,
           0.2231640227164826,
           0.18711733385177937,
           0.2165251570041399,
           0.14725962584830654,
           0.48819063336919455,
           0.19280424136097907,
           0.19230795610780052,
           0.26875160262239617,
           0.15406879183097405,
           0.21868366537794612,
           0.2543870925050343,
           0.16324132167792849,
           0.28611976561982916,
           0.2292718875999405,
           0.20944280263258686,
           0.25312274943013474,
           0.19454744739193647,
           0.17257083690301714,
           0.13870302906635262,
           0.15614665281072268,
           0.19798979444410555,
           0.13030722886400756,
           0.14782510834674503,
           0.24827694444698245,
           0.9999999999999999,
           0.14593372906321309,
           0.15852131169437125,
           0.11903924203166129,
           0.11994924654970567,
           0.18677138797112025,
           0.2076145060722495,
           0.17610029022800472,
           0.1858920629628074,
           0.17306913859002016,
           0.16823933592187487,
           0.16699277848687005,
           0.21846483846704545,
           0.18701763116406026,
           0.21764045168892995,
           0.160884712973828,
           0.1766713356590816,
           0.1690227156126166,
           0.13316088081230337
          ],
          [
           0.38197774965200654,
           0.32223679033995045,
           0.297264196646787,
           0.2621889953439467,
           0.174227918236495,
           0.19808228593947977,
           0.2068813493274152,
           0.2632750680015969,
           0.12721283366434652,
           0.3389294632273274,
           0.17259390927296486,
           0.1828788731238749,
           0.16559597614046914,
           0.2352631508107271,
           0.21259518195643984,
           0.22322362861785933,
           0.2544961945920036,
           0.17669159398588669,
           0.20335780970798983,
           0.2639547752203265,
           0.22144269596879526,
           0.2004514442389383,
           0.18330846005082457,
           0.15383036541039907,
           0.17641757497353042,
           0.13162139877988135,
           0.18845968889704798,
           0.15150350792112016,
           0.21225511592012988,
           0.22874398048328776,
           0.15627654211800182,
           0.18009842186889088,
           0.15117134924710426,
           0.3398814370968983,
           0.23995831269793846,
           0.18844566652455907,
           0.17424739680597606,
           0.18452053537392163,
           0.16116067356898078,
           0.09081107312783704,
           0.1358247628924163,
           0.118803480699961,
           0.19920746400087996,
           0.07901025915502295,
           0.11728620373195622,
           0.14458645790270547,
           0.14593372906321309,
           0.9999999999999967,
           0.2027922377260485,
           0.09773590985435798,
           0.09278216062900262,
           0.12300447418507554,
           0.15185657405343825,
           0.1769507880772215,
           0.328957343592081,
           0.17138907087590535,
           0.1483862305834136,
           0.23918150631377375,
           0.17766042719250175,
           0.17507257008391233,
           0.19000369565476086,
           0.18944854244189313,
           0.23667044098947998,
           0.14817729196362833,
           0.10112068088758461
          ],
          [
           0.4084816084662891,
           0.34210823932213114,
           0.3020136309001627,
           0.2705381374381429,
           0.22353087928219847,
           0.23582038026631577,
           0.2513859653396534,
           0.270522356772936,
           0.14626054696665208,
           0.3001780066264949,
           0.17108219605599595,
           0.2019689792598343,
           0.1862721622939169,
           0.27937320193981213,
           0.2020370570160033,
           0.23838295684864455,
           0.19295087669200928,
           0.2187220114802518,
           0.19950183351625927,
           0.20993001336850659,
           0.21855427911016573,
           0.24200987916222277,
           0.1728009278582274,
           0.22374684784047602,
           0.2572244111724069,
           0.1724719594818737,
           0.20602584302364307,
           0.19235699835461428,
           0.22278811312739147,
           0.24056762441036286,
           0.15226305134349444,
           0.2957676843725821,
           0.17192442389883925,
           0.2124761305479468,
           0.2269909258030361,
           0.23210395270036283,
           0.17605006827953293,
           0.21480381300776366,
           0.22245204976700486,
           0.1068624780480768,
           0.15221945842829895,
           0.1400012707419458,
           0.35204272913396367,
           0.08804885372970932,
           0.1761103297524906,
           0.16948012715894265,
           0.15852131169437125,
           0.2027922377260485,
           0.9999999999999928,
           0.10847724804584265,
           0.14005948590840706,
           0.13035667515483854,
           0.1898764753467843,
           0.1810706142419749,
           0.27458230433546943,
           0.1897802587693106,
           0.2558235250097573,
           0.20066991558163463,
           0.18400116505081654,
           0.18958041269817147,
           0.20510335335251473,
           0.24346118006510675,
           0.23290562449368626,
           0.21265096096343153,
           0.1127157554891056
          ],
          [
           0.2860544484917946,
           0.22232617141585953,
           0.2107412306119488,
           0.19681837475291988,
           0.1259669492241135,
           0.2430685363324479,
           0.15648346845436348,
           0.18012526851246186,
           0.11716930842225888,
           0.1593945294809544,
           0.13262057430141627,
           0.13461267588179743,
           0.14645422818534898,
           0.17690290341666928,
           0.14917641346209123,
           0.12713294625848962,
           0.14071065449369413,
           0.16575567202505645,
           0.18328914134957672,
           0.19041900871619521,
           0.17254931543882854,
           0.14794098751136064,
           0.2090109458534385,
           0.12248147908448472,
           0.15017545400857532,
           0.12506084659179229,
           0.17216011202273426,
           0.13488878097155715,
           0.13287930267887538,
           0.16761429957829796,
           0.3618647228213439,
           0.146978704975999,
           0.12884183391165546,
           0.11011997919112602,
           0.1796703560476321,
           0.21221050508066397,
           0.1574187195008802,
           0.14608324310301257,
           0.1364741206419673,
           0.0756724034554127,
           0.1453093012558878,
           0.10331011259929,
           0.15756525214560702,
           0.09363777212662051,
           0.09178573397517656,
           0.11563101220089303,
           0.11903924203166129,
           0.09773590985435798,
           0.10847724804584265,
           1.0000000000000016,
           0.07025214563287781,
           0.13486715512506522,
           0.11640880306260844,
           0.12921510589995583,
           0.12634907724275735,
           0.11959080038979061,
           0.11729709073436863,
           0.1412845674171663,
           0.13564919571850786,
           0.12813632885265663,
           0.1454125313043971,
           0.10806486832715391,
           0.14772678347790655,
           0.11986189962678998,
           0.08492488891874818
          ],
          [
           0.31812555320418684,
           0.29811136649802167,
           0.24553757069550025,
           0.19899302616009698,
           0.44842481644219534,
           0.14852302366735345,
           0.22275875322124927,
           0.24362555057799287,
           0.13048486677940468,
           0.14074289990216682,
           0.11415403924911306,
           0.14637978453817094,
           0.13467707031553214,
           0.1772417408595271,
           0.13535827809664544,
           0.116637986194493,
           0.13163403914028357,
           0.17745475878111525,
           0.12873762415210535,
           0.13611238549555257,
           0.15920571807650505,
           0.2585822233507015,
           0.11697931283336581,
           0.17421036509100596,
           0.3373276617120258,
           0.14480382009182716,
           0.16916176233974048,
           0.12366911094543533,
           0.12541816140484646,
           0.15860319903412967,
           0.09568305581818884,
           0.19996248063774194,
           0.12100663212626261,
           0.12563804713685106,
           0.17017353810332747,
           0.15644438176807507,
           0.11884103551662868,
           0.14113385698643824,
           0.11662300834202266,
           0.08411976019498187,
           0.08833204398136345,
           0.09220737946222604,
           0.1539261485384381,
           0.06935573900050937,
           0.09398741080544001,
           0.21219810932699987,
           0.11994924654970567,
           0.09278216062900262,
           0.14005948590840706,
           0.07025214563287781,
           1.0000000000000013,
           0.07907969460840797,
           0.15916582704434798,
           0.1087431214053015,
           0.14831173426148822,
           0.1466573748096641,
           0.159959970851076,
           0.1354220867435955,
           0.16917565254896205,
           0.12906549391362684,
           0.13230354824949553,
           0.1317566674797784,
           0.1297636607479965,
           0.14629442879398982,
           0.07654099935797844
          ],
          [
           0.3691674637476018,
           0.2811643473652193,
           0.3057454906039575,
           0.2782155061733949,
           0.16790511951346593,
           0.23591050565386115,
           0.20807341675616361,
           0.20363102604290817,
           0.15084953229903397,
           0.18769330686922825,
           0.18189725034013818,
           0.1794964500990534,
           0.30909785873067097,
           0.19602662103349414,
           0.20432280941854689,
           0.16242255501893674,
           0.17338070532461639,
           0.17035269467670544,
           0.23269889758363752,
           0.30464638058599214,
           0.21136038767120552,
           0.1726061642109414,
           0.3971693925061451,
           0.13785544136153394,
           0.16459291800412176,
           0.11608127171890345,
           0.25496780515970974,
           0.1814381287699273,
           0.15748414584198955,
           0.21576741403913471,
           0.14044173833981663,
           0.16904914779115035,
           0.15854748141412442,
           0.13713625310314498,
           0.24274946062423147,
           0.194457076359065,
           0.3325748112920007,
           0.1923777018087865,
           0.16650586741951823,
           0.10695649513427662,
           0.1134026372268144,
           0.146783970343846,
           0.16346632191030147,
           0.1071867252808711,
           0.11180310549038641,
           0.16456220036764732,
           0.18677138797112025,
           0.12300447418507554,
           0.13035667515483854,
           0.13486715512506522,
           0.07907969460840797,
           1.0000000000000047,
           0.14137750756498943,
           0.1725961933744649,
           0.15596368191149226,
           0.15447095225538032,
           0.12316186382750666,
           0.13076071362232555,
           0.18216204442996914,
           0.1427678218510641,
           0.1800068256345259,
           0.11987364498606742,
           0.1403119732873184,
           0.14355642703503166,
           0.14682221891091105
          ],
          [
           0.4421986883151122,
           0.38922665773045584,
           0.35309083956093484,
           0.32598544382551864,
           0.33095496268873137,
           0.24875615319355657,
           0.2649913064594843,
           0.29483161761923393,
           0.17849028988911125,
           0.228130445256537,
           0.20001110817379475,
           0.26454914949038194,
           0.2146094368876216,
           0.26362010449156414,
           0.23693284914453358,
           0.27105569752728265,
           0.20349938766101064,
           0.2447065154414588,
           0.2177862387084883,
           0.25449655005270544,
           0.2510759258065636,
           0.41461358100289347,
           0.18541436470361705,
           0.23370891272792996,
           0.2629453805615575,
           0.200215138119516,
           0.25138476518715774,
           0.19534931519950866,
           0.20315174700998348,
           0.2554461644827361,
           0.14801468628272912,
           0.25149259636850896,
           0.2924755135639512,
           0.18054139823602178,
           0.25453946481691275,
           0.2390043731544861,
           0.20319499381168388,
           0.5104626985275401,
           0.2197350820381691,
           0.12437803132523335,
           0.1340455988868285,
           0.16123635695831035,
           0.23434801009571113,
           0.10027291678234758,
           0.16896678387982025,
           0.1907920916246545,
           0.2076145060722495,
           0.15185657405343825,
           0.1898764753467843,
           0.11640880306260844,
           0.15916582704434798,
           0.14137750756498943,
           1.0000000000000024,
           0.18678007306375044,
           0.21059657234672505,
           0.2192841510821045,
           0.20081823347224617,
           0.1722179653383279,
           0.21685270624779912,
           0.2037848774095507,
           0.2181181843538668,
           0.18109819551421294,
           0.19242403147313908,
           0.2028034382954136,
           0.14883977496365736
          ],
          [
           0.42857403890613954,
           0.34402577627548686,
           0.312249579738108,
           0.3102894769496929,
           0.19535699258120623,
           0.23957312083598326,
           0.271372163504999,
           0.25883560426866853,
           0.15391128557320186,
           0.24522704105208376,
           0.45742600331268773,
           0.23035992662123264,
           0.2757739762362939,
           0.24436687183317277,
           0.24357551445909242,
           0.21418995503722804,
           0.2063227014087756,
           0.1893746884768951,
           0.394203784929774,
           0.24192236563784164,
           0.26100084948946894,
           0.24984119272678826,
           0.2867089429996663,
           0.17469043752217486,
           0.20793654343766163,
           0.14317408571888732,
           0.24969936212519933,
           0.21536834951042708,
           0.21022122363864135,
           0.2607290525683794,
           0.13341268258001335,
           0.2271488194366402,
           0.1817726511481001,
           0.1803593766193427,
           0.2696179665200581,
           0.23197688583820134,
           0.28505370281918313,
           0.23008533395424596,
           0.2070243823844762,
           0.11861636264562857,
           0.1310401877974033,
           0.17054702354915122,
           0.19789141485520592,
           0.07677987976875096,
           0.13846012747274597,
           0.1958455617361263,
           0.17610029022800472,
           0.1769507880772215,
           0.1810706142419749,
           0.12921510589995583,
           0.1087431214053015,
           0.1725961933744649,
           0.18678007306375044,
           1.0000000000000036,
           0.21212632419722033,
           0.20564062441805306,
           0.16766228641804207,
           0.18466711415279338,
           0.22093514687349602,
           0.2068023795491185,
           0.22220055056180446,
           0.14378840293378164,
           0.19500214918125502,
           0.19709791581764355,
           0.21947597591070797
          ],
          [
           0.477769961284925,
           0.42628938659312626,
           0.3500000625190721,
           0.31317830508516176,
           0.23984841475689062,
           0.2508697523382829,
           0.28745240852058523,
           0.3185639816950352,
           0.1732259797735217,
           0.4120304179693681,
           0.21808537997688585,
           0.2305571709499515,
           0.2155160193270072,
           0.30713140783584697,
           0.2648802910089979,
           0.2709902784951696,
           0.2718581631435408,
           0.22240262387755166,
           0.2544765302718657,
           0.293775385922923,
           0.28010235384982196,
           0.2707175954024218,
           0.2375332504478961,
           0.20844997499898915,
           0.256894803521232,
           0.18465179916343835,
           0.24437723487107535,
           0.2091180638192378,
           0.26770896223756174,
           0.3604357846476716,
           0.17875282896508227,
           0.24632589826478304,
           0.20364757559149058,
           0.28752267714974555,
           0.27178585080415923,
           0.24143850274187034,
           0.20912055317811326,
           0.23900718639770321,
           0.20871289429793052,
           0.12692998688390092,
           0.17706364854540202,
           0.16381384681379293,
           0.2577137006825104,
           0.11164297832896028,
           0.15018013916122894,
           0.18621749790054465,
           0.1858920629628074,
           0.328957343592081,
           0.27458230433546943,
           0.12634907724275735,
           0.14831173426148822,
           0.15596368191149226,
           0.21059657234672505,
           0.21212632419722033,
           0.9999999999999936,
           0.21895625936918742,
           0.19572452631357307,
           0.29839396309411303,
           0.2462781114838119,
           0.2109560783967605,
           0.24251871431976543,
           0.19894286639808254,
           0.25982944366599775,
           0.21289848579101606,
           0.130292569042463
          ],
          [
           0.45879499288379083,
           0.4524514547858527,
           0.33014208042647786,
           0.32000105177143207,
           0.2341092037997366,
           0.23214974074639022,
           0.3612570749506241,
           0.30213334059948427,
           0.1597794919688793,
           0.23639653732337196,
           0.21784442219509212,
           0.33261555658284536,
           0.23713847540448604,
           0.25792428113947036,
           0.21023963977476554,
           0.2074476885173282,
           0.22322240186796494,
           0.20302182371874158,
           0.24344605277150347,
           0.23943828215022514,
           0.276282851096374,
           0.3017278372518032,
           0.19986955878158505,
           0.21512858937803409,
           0.24678830560024725,
           0.1728133807296498,
           0.2523095167900025,
           0.21836696902794633,
           0.21476547714743674,
           0.25290292558939587,
           0.1392171945861003,
           0.2826253609366312,
           0.18577256142924126,
           0.17683703807038778,
           0.2762281821200758,
           0.2472773575297423,
           0.20974469177044444,
           0.2677204798784931,
           0.20339628786379133,
           0.11209152695522799,
           0.1361535928730488,
           0.1652232448582642,
           0.21174675254656114,
           0.08443401650901915,
           0.16138171384141026,
           0.2106420130895166,
           0.17306913859002016,
           0.17138907087590535,
           0.1897802587693106,
           0.11959080038979061,
           0.1466573748096641,
           0.15447095225538032,
           0.2192841510821045,
           0.20564062441805306,
           0.21895625936918742,
           1.0000000000000013,
           0.19748990403322889,
           0.18618011075453572,
           0.30772108098520823,
           0.2063460223250149,
           0.2677568788666361,
           0.18202244345020338,
           0.19989310023961854,
           0.3622728724720925,
           0.15063472305787132
          ],
          [
           0.4186644468721696,
           0.34503213560012785,
           0.3151560056166706,
           0.2878835814691853,
           0.25420499781773365,
           0.24507868948772285,
           0.28297518474110345,
           0.2820813714623023,
           0.16076021325681833,
           0.20207036231901607,
           0.16498350492157088,
           0.21497696525559468,
           0.19187941175904646,
           0.3021297744490785,
           0.19801279600738417,
           0.19768695740241368,
           0.17928271271688997,
           0.2624337907334762,
           0.20219206919138413,
           0.2069863976536138,
           0.21907881781616378,
           0.28027362668876504,
           0.15976772754564214,
           0.31710312745758923,
           0.31183663625738883,
           0.24397315896184416,
           0.21078031424877108,
           0.18998110215811095,
           0.20440545076173625,
           0.2501475182743417,
           0.15913079099504934,
           0.3094101959456609,
           0.1894366257715607,
           0.19475814253368182,
           0.2363082970191404,
           0.27199100856021724,
           0.1781302927942307,
           0.20496643387463645,
           0.21571340471682954,
           0.10733911122523845,
           0.14678687433489496,
           0.13537229746960816,
           0.3478689252644977,
           0.09953984613835383,
           0.23428180823025194,
           0.1887179316125252,
           0.16823933592187487,
           0.1483862305834136,
           0.2558235250097573,
           0.11729709073436863,
           0.159959970851076,
           0.12316186382750666,
           0.20081823347224617,
           0.16766228641804207,
           0.19572452631357307,
           0.19748990403322889,
           1.000000000000003,
           0.17571633578097046,
           0.20873765781964218,
           0.1973618728612322,
           0.20251717782213977,
           0.2973040146641205,
           0.20026842298160896,
           0.22398432972550197,
           0.11227753866606435
          ],
          [
           0.42085478642875257,
           0.33988932515759795,
           0.29232119195212997,
           0.29709911373672576,
           0.20651917795437286,
           0.2640680244460828,
           0.3016983595633373,
           0.3812793849967402,
           0.17098173241525724,
           0.2813758965237594,
           0.18491082815440013,
           0.20158707585698768,
           0.2106681402796783,
           0.287276024642476,
           0.2182614552795176,
           0.21495129325120935,
           0.2219382132688033,
           0.20369938349754227,
           0.2343867582709287,
           0.22627209478430493,
           0.3021054091428368,
           0.2680725844036157,
           0.21747068392212326,
           0.1967722440778683,
           0.2558450140526233,
           0.19231886762376546,
           0.24714135720159114,
           0.2031813574049777,
           0.2665847802846345,
           0.28926520861634614,
           0.16941476902004135,
           0.21870534432803448,
           0.1703691298524991,
           0.2762516040464036,
           0.25039462899541926,
           0.23850072177322218,
           0.19746376201966157,
           0.1983962527577042,
           0.19177414545110316,
           0.10890203898950913,
           0.18402069239594732,
           0.1275800203425516,
           0.2587396465805875,
           0.09253899567888867,
           0.12693018472637257,
           0.17825971388689488,
           0.16699277848687005,
           0.23918150631377375,
           0.20066991558163463,
           0.1412845674171663,
           0.1354220867435955,
           0.13076071362232555,
           0.1722179653383279,
           0.18466711415279338,
           0.29839396309411303,
           0.18618011075453572,
           0.17571633578097046,
           1.0000000000000018,
           0.23868131785825666,
           0.19896121470144118,
           0.24383164364907628,
           0.16604858438364986,
           0.28025672063081314,
           0.19914161276725573,
           0.11341433125143967
          ],
          [
           0.5536734611340377,
           0.5706340477638263,
           0.38563614569479115,
           0.38159873435297764,
           0.26708672399419886,
           0.25952520986786304,
           0.41092226013148125,
           0.3796419717712236,
           0.19968466258475556,
           0.27803319371014007,
           0.30005178060525384,
           0.3084475050978442,
           0.3907597022346306,
           0.3044632168536273,
           0.2687460818190055,
           0.2298008636342614,
           0.265153417945303,
           0.22626435711299653,
           0.29516838147416363,
           0.32410785639781586,
           0.35679670507095274,
           0.3341397921886435,
           0.24460039622928323,
           0.22595970161917414,
           0.3093767812004984,
           0.18611428568578728,
           0.3542410638920727,
           0.2543129082542973,
           0.23687466170260793,
           0.28470537999800327,
           0.18624600612381353,
           0.28719477698126483,
           0.20785067457804837,
           0.2045756078991507,
           0.37374652020003224,
           0.27802075454345043,
           0.25474717259133906,
           0.30913017903899437,
           0.24773497595226704,
           0.13377065658147558,
           0.17389815747842158,
           0.20285935927828724,
           0.24954829915218119,
           0.09758494245754804,
           0.1557446959504113,
           0.24687198499367224,
           0.21846483846704545,
           0.17766042719250175,
           0.18400116505081654,
           0.13564919571850786,
           0.16917565254896205,
           0.18216204442996914,
           0.21685270624779912,
           0.22093514687349602,
           0.2462781114838119,
           0.30772108098520823,
           0.20873765781964218,
           0.23868131785825666,
           0.9999999999999961,
           0.23726580131145583,
           0.2859848234467687,
           0.18028938563477268,
           0.22114612549188326,
           0.2662328378782234,
           0.19204555161606876
          ],
          [
           0.43478471826078824,
           0.37019000452264206,
           0.30240963029044704,
           0.31498135718291154,
           0.22564009738612187,
           0.25898946069784845,
           0.3112980169622917,
           0.3192350886911957,
           0.16414590187363035,
           0.22955777294361535,
           0.19960400719740037,
           0.2526574553323326,
           0.24019566188461394,
           0.26610610210806396,
           0.2209688136549014,
           0.20377907331497877,
           0.20883583961831892,
           0.2159257286510157,
           0.22855052560319267,
           0.24205724460868616,
           0.2604800067453948,
           0.2633048149418988,
           0.19478660103527284,
           0.2244608146730889,
           0.3183217932580287,
           0.1902663058042222,
           0.24599877594064723,
           0.22380301967647098,
           0.3173146189998681,
           0.25514073641995794,
           0.1472126232348934,
           0.24303374981307901,
           0.21492667752116293,
           0.20614600196312152,
           0.2733222221324049,
           0.2874513062191624,
           0.22055984593745262,
           0.24435679301330798,
           0.2399905008800971,
           0.1225388479932058,
           0.158012203227477,
           0.16394498975264155,
           0.24380523502577453,
           0.08767905639872133,
           0.15097572941697837,
           0.17591277960209362,
           0.18701763116406026,
           0.17507257008391233,
           0.18958041269817147,
           0.12813632885265663,
           0.12906549391362684,
           0.1427678218510641,
           0.2037848774095507,
           0.2068023795491185,
           0.2109560783967605,
           0.2063460223250149,
           0.1973618728612322,
           0.19896121470144118,
           0.23726580131145583,
           0.9999999999999977,
           0.2954675129842731,
           0.1707874810168551,
           0.2564379770649867,
           0.23076022500305735,
           0.13480290421535068
          ],
          [
           0.5022421606348179,
           0.4428499200821883,
           0.38312748221074616,
           0.3972837627011172,
           0.24483537811547235,
           0.2609385677525969,
           0.33211932171986913,
           0.37541910696148983,
           0.18987608656941524,
           0.2580320199306817,
           0.2578021466238812,
           0.31628994933469373,
           0.27936151366835393,
           0.30631931722861727,
           0.255153911604916,
           0.2266963585560031,
           0.27089414040265924,
           0.23287291398386534,
           0.2797557413983886,
           0.3020890207494498,
           0.33231563489408605,
           0.29061446011183334,
           0.2289840488614651,
           0.21502528092425602,
           0.26667108364051717,
           0.18249037501190585,
           0.30667999121761824,
           0.282423402303556,
           0.28687842223872334,
           0.32967531120588034,
           0.1685281173742823,
           0.25028166619389164,
           0.22127978655878217,
           0.2218390177985883,
           0.3676227996746592,
           0.27113359589329167,
           0.2638961091227656,
           0.2818754099419622,
           0.2871619558539525,
           0.14138663433229176,
           0.19272952060693022,
           0.1833526406908101,
           0.2596616492578258,
           0.10230214333921542,
           0.16042011872138806,
           0.2217276174906285,
           0.21764045168892995,
           0.19000369565476086,
           0.20510335335251473,
           0.1454125313043971,
           0.13230354824949553,
           0.1800068256345259,
           0.2181181843538668,
           0.22220055056180446,
           0.24251871431976543,
           0.2677568788666361,
           0.20251717782213977,
           0.24383164364907628,
           0.2859848234467687,
           0.2954675129842731,
           1.0000000000000009,
           0.18678700391276448,
           0.2189461291661855,
           0.24377787402610973,
           0.15826562210183262
          ],
          [
           0.40867142248631994,
           0.34570276063460925,
           0.3239295599959922,
           0.2516720267658129,
           0.2135455204464561,
           0.2498050406980446,
           0.21371076456555105,
           0.26679627094482505,
           0.15067826779959564,
           0.19468922937094374,
           0.1500652263614061,
           0.1905557048440008,
           0.2006763863971381,
           0.28159319784413345,
           0.20360236968227327,
           0.16120258355739178,
           0.17874244435858097,
           0.2351921907442891,
           0.1794377439909258,
           0.19565663046642276,
           0.1941867377860812,
           0.24280509478839854,
           0.15640239598917208,
           0.2897870491978371,
           0.27847315955510693,
           0.22465792072564914,
           0.1949005187547765,
           0.16231764839956664,
           0.172512997349441,
           0.23118996689383886,
           0.13384376300435938,
           0.36197929406594,
           0.1706642540281433,
           0.2630809371924416,
           0.21136222252901213,
           0.23525240134034578,
           0.16508554177186305,
           0.20063663995304212,
           0.16697776843232381,
           0.1035418188580421,
           0.12148764603530306,
           0.1427545708867029,
           0.25180042718565926,
           0.10121742931363187,
           0.29334945345901614,
           0.15709912775256346,
           0.160884712973828,
           0.18944854244189313,
           0.24346118006510675,
           0.10806486832715391,
           0.1317566674797784,
           0.11987364498606742,
           0.18109819551421294,
           0.14378840293378164,
           0.19894286639808254,
           0.18202244345020338,
           0.2973040146641205,
           0.16604858438364986,
           0.18028938563477268,
           0.1707874810168551,
           0.18678700391276448,
           1.000000000000006,
           0.1905889493627069,
           0.17254394682712115,
           0.1047906924785774
          ],
          [
           0.4419787471406652,
           0.3496691797211884,
           0.3054697943301173,
           0.31301984354290313,
           0.2232112774714473,
           0.28423816567536386,
           0.3164800008187136,
           0.31680485446930895,
           0.178165824468702,
           0.3253762839785881,
           0.19021099856750961,
           0.2263671922618468,
           0.2007986036619101,
           0.2872796865084698,
           0.2271189611114655,
           0.22296418729197243,
           0.21318422350243604,
           0.23634303506153811,
           0.22070847786767922,
           0.2385938342206527,
           0.2810084990329287,
           0.2780043808834162,
           0.19600789783708383,
           0.25239408957105797,
           0.28190730240212236,
           0.2655997041016015,
           0.257262008976061,
           0.21574163675354618,
           0.28296947303132347,
           0.2902565755142065,
           0.17235677217838194,
           0.25634400053947215,
           0.17959804552551706,
           0.30923611207026824,
           0.2567434554372285,
           0.4088677107488632,
           0.19903703106920456,
           0.20836831879539636,
           0.20811071789594088,
           0.11513876319752836,
           0.21350231104093437,
           0.13325947629058985,
           0.24779701110283028,
           0.0961079922126772,
           0.14960573049043338,
           0.17953461020463796,
           0.1766713356590816,
           0.23667044098947998,
           0.23290562449368626,
           0.14772678347790655,
           0.1297636607479965,
           0.1403119732873184,
           0.19242403147313908,
           0.19500214918125502,
           0.25982944366599775,
           0.19989310023961854,
           0.20026842298160896,
           0.28025672063081314,
           0.22114612549188326,
           0.2564379770649867,
           0.2189461291661855,
           0.1905889493627069,
           1.0000000000000013,
           0.24802390290129278,
           0.1223836903721407
          ],
          [
           0.4527769420247227,
           0.4101474548222171,
           0.3194360375625236,
           0.3273476765786797,
           0.24203973462298778,
           0.2571262737264992,
           0.36773822405862666,
           0.29511539538900367,
           0.1622655290148706,
           0.2314086726585872,
           0.20055268729223638,
           0.2864666841734002,
           0.22838044870740115,
           0.2731768240838128,
           0.20555449251770547,
           0.20468037050051047,
           0.21536254535832702,
           0.2268013852230221,
           0.22707126780978212,
           0.22956873477032777,
           0.2559042770446903,
           0.29094518738187625,
           0.19222394117286812,
           0.22998786472382393,
           0.2711572747863644,
           0.19897986577563678,
           0.24058404534945027,
           0.2309744481526055,
           0.22751277592170369,
           0.28764297576725645,
           0.14218969317220803,
           0.2881496408772839,
           0.18619602903877958,
           0.18109412571596983,
           0.27203831205495216,
           0.286569366703032,
           0.22524820168784562,
           0.23145587537453358,
           0.2130772694226534,
           0.11476984016539812,
           0.15618962203982573,
           0.15608054589268386,
           0.23220326243755382,
           0.10310691772615668,
           0.15160514351740112,
           0.20100977849521323,
           0.1690227156126166,
           0.14817729196362833,
           0.21265096096343153,
           0.11986189962678998,
           0.14629442879398982,
           0.14355642703503166,
           0.2028034382954136,
           0.19709791581764355,
           0.21289848579101606,
           0.3622728724720925,
           0.22398432972550197,
           0.19914161276725573,
           0.2662328378782234,
           0.23076022500305735,
           0.24377787402610973,
           0.17254394682712115,
           0.24802390290129278,
           0.9999999999999973,
           0.13613456043305242
          ],
          [
           0.31666873377209676,
           0.2644170270953824,
           0.2366496258452024,
           0.23436468329777663,
           0.1428272054698175,
           0.18769003761658523,
           0.20522710257228313,
           0.16861040586455492,
           0.12631843769997675,
           0.147400005826813,
           0.27344350837531295,
           0.1802081410628223,
           0.37077336011215456,
           0.1747025324174072,
           0.18536050153411876,
           0.13847605935394755,
           0.16322049267962627,
           0.1436475507244018,
           0.22387492159250869,
           0.1927709867492837,
           0.18115775455182798,
           0.18821144321172706,
           0.16304871523256917,
           0.12905658660415611,
           0.14073409945709542,
           0.0978253650629811,
           0.17854718283638368,
           0.16615057905700947,
           0.14748510013502653,
           0.17387095356833668,
           0.10484080667749401,
           0.16229877480779975,
           0.1338423628783369,
           0.11474767759204064,
           0.18168913032478773,
           0.1648237469760303,
           0.21400842623435806,
           0.19743151667954023,
           0.14399786586036326,
           0.0834489894793527,
           0.0876437042741253,
           0.12561289046910007,
           0.13505053067993436,
           0.0685433365970295,
           0.09894871718703946,
           0.16594947407557417,
           0.13316088081230337,
           0.10112068088758461,
           0.1127157554891056,
           0.08492488891874818,
           0.07654099935797844,
           0.14682221891091105,
           0.14883977496365736,
           0.21947597591070797,
           0.130292569042463,
           0.15063472305787132,
           0.11227753866606435,
           0.11341433125143967,
           0.19204555161606876,
           0.13480290421535068,
           0.15826562210183262,
           0.1047906924785774,
           0.1223836903721407,
           0.13613456043305242,
           0.9999999999999993
          ]
         ]
        }
       ],
       "layout": {
        "coloraxis": {
         "colorbar": {
          "title": {
           "text": "Similarity Score"
          }
         },
         "colorscale": [
          [
           0,
           "rgb(247,252,240)"
          ],
          [
           0.125,
           "rgb(224,243,219)"
          ],
          [
           0.25,
           "rgb(204,235,197)"
          ],
          [
           0.375,
           "rgb(168,221,181)"
          ],
          [
           0.5,
           "rgb(123,204,196)"
          ],
          [
           0.625,
           "rgb(78,179,211)"
          ],
          [
           0.75,
           "rgb(43,140,190)"
          ],
          [
           0.875,
           "rgb(8,104,172)"
          ],
          [
           1,
           "rgb(8,64,129)"
          ]
         ]
        },
        "height": 800,
        "hoverlabel": {
         "bgcolor": "white",
         "font": {
          "family": "Rockwell",
          "size": 16
         }
        },
        "legend": {
         "title": {
          "text": "Trend"
         }
        },
        "margin": {
         "t": 60
        },
        "showlegend": true,
        "template": {
         "data": {
          "bar": [
           {
            "error_x": {
             "color": "#2a3f5f"
            },
            "error_y": {
             "color": "#2a3f5f"
            },
            "marker": {
             "line": {
              "color": "#E5ECF6",
              "width": 0.5
             },
             "pattern": {
              "fillmode": "overlay",
              "size": 10,
              "solidity": 0.2
             }
            },
            "type": "bar"
           }
          ],
          "barpolar": [
           {
            "marker": {
             "line": {
              "color": "#E5ECF6",
              "width": 0.5
             },
             "pattern": {
              "fillmode": "overlay",
              "size": 10,
              "solidity": 0.2
             }
            },
            "type": "barpolar"
           }
          ],
          "carpet": [
           {
            "aaxis": {
             "endlinecolor": "#2a3f5f",
             "gridcolor": "white",
             "linecolor": "white",
             "minorgridcolor": "white",
             "startlinecolor": "#2a3f5f"
            },
            "baxis": {
             "endlinecolor": "#2a3f5f",
             "gridcolor": "white",
             "linecolor": "white",
             "minorgridcolor": "white",
             "startlinecolor": "#2a3f5f"
            },
            "type": "carpet"
           }
          ],
          "choropleth": [
           {
            "colorbar": {
             "outlinewidth": 0,
             "ticks": ""
            },
            "type": "choropleth"
           }
          ],
          "contour": [
           {
            "colorbar": {
             "outlinewidth": 0,
             "ticks": ""
            },
            "colorscale": [
             [
              0,
              "#0d0887"
             ],
             [
              0.1111111111111111,
              "#46039f"
             ],
             [
              0.2222222222222222,
              "#7201a8"
             ],
             [
              0.3333333333333333,
              "#9c179e"
             ],
             [
              0.4444444444444444,
              "#bd3786"
             ],
             [
              0.5555555555555556,
              "#d8576b"
             ],
             [
              0.6666666666666666,
              "#ed7953"
             ],
             [
              0.7777777777777778,
              "#fb9f3a"
             ],
             [
              0.8888888888888888,
              "#fdca26"
             ],
             [
              1,
              "#f0f921"
             ]
            ],
            "type": "contour"
           }
          ],
          "contourcarpet": [
           {
            "colorbar": {
             "outlinewidth": 0,
             "ticks": ""
            },
            "type": "contourcarpet"
           }
          ],
          "heatmap": [
           {
            "colorbar": {
             "outlinewidth": 0,
             "ticks": ""
            },
            "colorscale": [
             [
              0,
              "#0d0887"
             ],
             [
              0.1111111111111111,
              "#46039f"
             ],
             [
              0.2222222222222222,
              "#7201a8"
             ],
             [
              0.3333333333333333,
              "#9c179e"
             ],
             [
              0.4444444444444444,
              "#bd3786"
             ],
             [
              0.5555555555555556,
              "#d8576b"
             ],
             [
              0.6666666666666666,
              "#ed7953"
             ],
             [
              0.7777777777777778,
              "#fb9f3a"
             ],
             [
              0.8888888888888888,
              "#fdca26"
             ],
             [
              1,
              "#f0f921"
             ]
            ],
            "type": "heatmap"
           }
          ],
          "heatmapgl": [
           {
            "colorbar": {
             "outlinewidth": 0,
             "ticks": ""
            },
            "colorscale": [
             [
              0,
              "#0d0887"
             ],
             [
              0.1111111111111111,
              "#46039f"
             ],
             [
              0.2222222222222222,
              "#7201a8"
             ],
             [
              0.3333333333333333,
              "#9c179e"
             ],
             [
              0.4444444444444444,
              "#bd3786"
             ],
             [
              0.5555555555555556,
              "#d8576b"
             ],
             [
              0.6666666666666666,
              "#ed7953"
             ],
             [
              0.7777777777777778,
              "#fb9f3a"
             ],
             [
              0.8888888888888888,
              "#fdca26"
             ],
             [
              1,
              "#f0f921"
             ]
            ],
            "type": "heatmapgl"
           }
          ],
          "histogram": [
           {
            "marker": {
             "pattern": {
              "fillmode": "overlay",
              "size": 10,
              "solidity": 0.2
             }
            },
            "type": "histogram"
           }
          ],
          "histogram2d": [
           {
            "colorbar": {
             "outlinewidth": 0,
             "ticks": ""
            },
            "colorscale": [
             [
              0,
              "#0d0887"
             ],
             [
              0.1111111111111111,
              "#46039f"
             ],
             [
              0.2222222222222222,
              "#7201a8"
             ],
             [
              0.3333333333333333,
              "#9c179e"
             ],
             [
              0.4444444444444444,
              "#bd3786"
             ],
             [
              0.5555555555555556,
              "#d8576b"
             ],
             [
              0.6666666666666666,
              "#ed7953"
             ],
             [
              0.7777777777777778,
              "#fb9f3a"
             ],
             [
              0.8888888888888888,
              "#fdca26"
             ],
             [
              1,
              "#f0f921"
             ]
            ],
            "type": "histogram2d"
           }
          ],
          "histogram2dcontour": [
           {
            "colorbar": {
             "outlinewidth": 0,
             "ticks": ""
            },
            "colorscale": [
             [
              0,
              "#0d0887"
             ],
             [
              0.1111111111111111,
              "#46039f"
             ],
             [
              0.2222222222222222,
              "#7201a8"
             ],
             [
              0.3333333333333333,
              "#9c179e"
             ],
             [
              0.4444444444444444,
              "#bd3786"
             ],
             [
              0.5555555555555556,
              "#d8576b"
             ],
             [
              0.6666666666666666,
              "#ed7953"
             ],
             [
              0.7777777777777778,
              "#fb9f3a"
             ],
             [
              0.8888888888888888,
              "#fdca26"
             ],
             [
              1,
              "#f0f921"
             ]
            ],
            "type": "histogram2dcontour"
           }
          ],
          "mesh3d": [
           {
            "colorbar": {
             "outlinewidth": 0,
             "ticks": ""
            },
            "type": "mesh3d"
           }
          ],
          "parcoords": [
           {
            "line": {
             "colorbar": {
              "outlinewidth": 0,
              "ticks": ""
             }
            },
            "type": "parcoords"
           }
          ],
          "pie": [
           {
            "automargin": true,
            "type": "pie"
           }
          ],
          "scatter": [
           {
            "fillpattern": {
             "fillmode": "overlay",
             "size": 10,
             "solidity": 0.2
            },
            "type": "scatter"
           }
          ],
          "scatter3d": [
           {
            "line": {
             "colorbar": {
              "outlinewidth": 0,
              "ticks": ""
             }
            },
            "marker": {
             "colorbar": {
              "outlinewidth": 0,
              "ticks": ""
             }
            },
            "type": "scatter3d"
           }
          ],
          "scattercarpet": [
           {
            "marker": {
             "colorbar": {
              "outlinewidth": 0,
              "ticks": ""
             }
            },
            "type": "scattercarpet"
           }
          ],
          "scattergeo": [
           {
            "marker": {
             "colorbar": {
              "outlinewidth": 0,
              "ticks": ""
             }
            },
            "type": "scattergeo"
           }
          ],
          "scattergl": [
           {
            "marker": {
             "colorbar": {
              "outlinewidth": 0,
              "ticks": ""
             }
            },
            "type": "scattergl"
           }
          ],
          "scattermapbox": [
           {
            "marker": {
             "colorbar": {
              "outlinewidth": 0,
              "ticks": ""
             }
            },
            "type": "scattermapbox"
           }
          ],
          "scatterpolar": [
           {
            "marker": {
             "colorbar": {
              "outlinewidth": 0,
              "ticks": ""
             }
            },
            "type": "scatterpolar"
           }
          ],
          "scatterpolargl": [
           {
            "marker": {
             "colorbar": {
              "outlinewidth": 0,
              "ticks": ""
             }
            },
            "type": "scatterpolargl"
           }
          ],
          "scatterternary": [
           {
            "marker": {
             "colorbar": {
              "outlinewidth": 0,
              "ticks": ""
             }
            },
            "type": "scatterternary"
           }
          ],
          "surface": [
           {
            "colorbar": {
             "outlinewidth": 0,
             "ticks": ""
            },
            "colorscale": [
             [
              0,
              "#0d0887"
             ],
             [
              0.1111111111111111,
              "#46039f"
             ],
             [
              0.2222222222222222,
              "#7201a8"
             ],
             [
              0.3333333333333333,
              "#9c179e"
             ],
             [
              0.4444444444444444,
              "#bd3786"
             ],
             [
              0.5555555555555556,
              "#d8576b"
             ],
             [
              0.6666666666666666,
              "#ed7953"
             ],
             [
              0.7777777777777778,
              "#fb9f3a"
             ],
             [
              0.8888888888888888,
              "#fdca26"
             ],
             [
              1,
              "#f0f921"
             ]
            ],
            "type": "surface"
           }
          ],
          "table": [
           {
            "cells": {
             "fill": {
              "color": "#EBF0F8"
             },
             "line": {
              "color": "white"
             }
            },
            "header": {
             "fill": {
              "color": "#C8D4E3"
             },
             "line": {
              "color": "white"
             }
            },
            "type": "table"
           }
          ]
         },
         "layout": {
          "annotationdefaults": {
           "arrowcolor": "#2a3f5f",
           "arrowhead": 0,
           "arrowwidth": 1
          },
          "autotypenumbers": "strict",
          "coloraxis": {
           "colorbar": {
            "outlinewidth": 0,
            "ticks": ""
           }
          },
          "colorscale": {
           "diverging": [
            [
             0,
             "#8e0152"
            ],
            [
             0.1,
             "#c51b7d"
            ],
            [
             0.2,
             "#de77ae"
            ],
            [
             0.3,
             "#f1b6da"
            ],
            [
             0.4,
             "#fde0ef"
            ],
            [
             0.5,
             "#f7f7f7"
            ],
            [
             0.6,
             "#e6f5d0"
            ],
            [
             0.7,
             "#b8e186"
            ],
            [
             0.8,
             "#7fbc41"
            ],
            [
             0.9,
             "#4d9221"
            ],
            [
             1,
             "#276419"
            ]
           ],
           "sequential": [
            [
             0,
             "#0d0887"
            ],
            [
             0.1111111111111111,
             "#46039f"
            ],
            [
             0.2222222222222222,
             "#7201a8"
            ],
            [
             0.3333333333333333,
             "#9c179e"
            ],
            [
             0.4444444444444444,
             "#bd3786"
            ],
            [
             0.5555555555555556,
             "#d8576b"
            ],
            [
             0.6666666666666666,
             "#ed7953"
            ],
            [
             0.7777777777777778,
             "#fb9f3a"
            ],
            [
             0.8888888888888888,
             "#fdca26"
            ],
            [
             1,
             "#f0f921"
            ]
           ],
           "sequentialminus": [
            [
             0,
             "#0d0887"
            ],
            [
             0.1111111111111111,
             "#46039f"
            ],
            [
             0.2222222222222222,
             "#7201a8"
            ],
            [
             0.3333333333333333,
             "#9c179e"
            ],
            [
             0.4444444444444444,
             "#bd3786"
            ],
            [
             0.5555555555555556,
             "#d8576b"
            ],
            [
             0.6666666666666666,
             "#ed7953"
            ],
            [
             0.7777777777777778,
             "#fb9f3a"
            ],
            [
             0.8888888888888888,
             "#fdca26"
            ],
            [
             1,
             "#f0f921"
            ]
           ]
          },
          "colorway": [
           "#636efa",
           "#EF553B",
           "#00cc96",
           "#ab63fa",
           "#FFA15A",
           "#19d3f3",
           "#FF6692",
           "#B6E880",
           "#FF97FF",
           "#FECB52"
          ],
          "font": {
           "color": "#2a3f5f"
          },
          "geo": {
           "bgcolor": "white",
           "lakecolor": "white",
           "landcolor": "#E5ECF6",
           "showlakes": true,
           "showland": true,
           "subunitcolor": "white"
          },
          "hoverlabel": {
           "align": "left"
          },
          "hovermode": "closest",
          "mapbox": {
           "style": "light"
          },
          "paper_bgcolor": "white",
          "plot_bgcolor": "#E5ECF6",
          "polar": {
           "angularaxis": {
            "gridcolor": "white",
            "linecolor": "white",
            "ticks": ""
           },
           "bgcolor": "#E5ECF6",
           "radialaxis": {
            "gridcolor": "white",
            "linecolor": "white",
            "ticks": ""
           }
          },
          "scene": {
           "xaxis": {
            "backgroundcolor": "#E5ECF6",
            "gridcolor": "white",
            "gridwidth": 2,
            "linecolor": "white",
            "showbackground": true,
            "ticks": "",
            "zerolinecolor": "white"
           },
           "yaxis": {
            "backgroundcolor": "#E5ECF6",
            "gridcolor": "white",
            "gridwidth": 2,
            "linecolor": "white",
            "showbackground": true,
            "ticks": "",
            "zerolinecolor": "white"
           },
           "zaxis": {
            "backgroundcolor": "#E5ECF6",
            "gridcolor": "white",
            "gridwidth": 2,
            "linecolor": "white",
            "showbackground": true,
            "ticks": "",
            "zerolinecolor": "white"
           }
          },
          "shapedefaults": {
           "line": {
            "color": "#2a3f5f"
           }
          },
          "ternary": {
           "aaxis": {
            "gridcolor": "white",
            "linecolor": "white",
            "ticks": ""
           },
           "baxis": {
            "gridcolor": "white",
            "linecolor": "white",
            "ticks": ""
           },
           "bgcolor": "#E5ECF6",
           "caxis": {
            "gridcolor": "white",
            "linecolor": "white",
            "ticks": ""
           }
          },
          "title": {
           "x": 0.05
          },
          "xaxis": {
           "automargin": true,
           "gridcolor": "white",
           "linecolor": "white",
           "ticks": "",
           "title": {
            "standoff": 15
           },
           "zerolinecolor": "white",
           "zerolinewidth": 2
          },
          "yaxis": {
           "automargin": true,
           "gridcolor": "white",
           "linecolor": "white",
           "ticks": "",
           "title": {
            "standoff": 15
           },
           "zerolinecolor": "white",
           "zerolinewidth": 2
          }
         }
        },
        "title": {
         "font": {
          "color": "Black",
          "size": 22
         },
         "text": "<b>Similarity Matrix",
         "x": 0.55,
         "xanchor": "center",
         "y": 0.95,
         "yanchor": "top"
        },
        "width": 800,
        "xaxis": {
         "anchor": "y",
         "constrain": "domain",
         "domain": [
          0,
          1
         ],
         "scaleanchor": "y"
        },
        "yaxis": {
         "anchor": "x",
         "autorange": "reversed",
         "constrain": "domain",
         "domain": [
          0,
          1
         ]
        }
       }
      },
      "text/html": [
       "<div>                            <div id=\"799a64d2-2edf-444b-94b6-0ae1af696bd1\" class=\"plotly-graph-div\" style=\"height:800px; width:800px;\"></div>            <script type=\"text/javascript\">                require([\"plotly\"], function(Plotly) {                    window.PLOTLYENV=window.PLOTLYENV || {};                                    if (document.getElementById(\"799a64d2-2edf-444b-94b6-0ae1af696bd1\")) {                    Plotly.newPlot(                        \"799a64d2-2edf-444b-94b6-0ae1af696bd1\",                        [{\"coloraxis\":\"coloraxis\",\"name\":\"0\",\"x\":[\"-1_trope_character_just\",\"0_evil_villain_good\",\"1_time_work_series\",\"2_language_words_word\",\"3_game_games_player\",\"4_wear_dress_clothes\",\"5_death_dead_die\",\"6_powers_power_magic\",\"7_song_music_songs\",\"8_animal_animals_dog\",\"9_parents_parent_child\",\"10_cop_police_crime\",\"11_love_relationship_couple\",\"12_light_darkness_sun\",\"13_names_nickname_named\",\"14_food_eat_eating\",\"15_god_religion_gods\",\"16_camera_animation_shot\",\"17_age_child_children\",\"18_accent_black_white\",\"19_twins_twin_identity\",\"20_item_macguffin_items\",\"21_gender_female_male\",\"22_gun_guns_weapon\",\"23_attack_damage_martial\",\"24_weapon_sword_weapons\",\"25_character_characters_cast\",\"26_dream_dreams_sleep\",\"27_blood_zombie_zombies\",\"28_horror_puppet_fear\",\"29_color_blue_red\",\"30_elevator_falling_glass\",\"31_product_commercial_produ...\",\"32_robot_robots_mecha\",\"33_aesop_smart_genius\",\"34_gesture_finger_hand\",\"35_sex_sexual_virgin\",\"36_money_rich_wealth\",\"37_drugs_alcohol_poison\",\"38_title_titles_pun\",\"39_eyes_eye_smile\",\"40_school_teacher_schools\",\"41_elemental_smoking_element\",\"42_metal_rock_bands\",\"43_car_vehicle_cars\",\"44_ending_endings_twist\",\"45_actor_actors_celebrity\",\"46_humans_aliens_alien\",\"47_water_fish_underwater\",\"48_hair_beard_hairstyle\",\"49_boss_game_difficulty\",\"50_gay_yuri_straight\",\"51_money_currency_coins\",\"52_baby_pregnancy_pregnant\",\"53_monster_bees_monsters\",\"54_prison_escape_prisoners\",\"55_bomb_lava_explosion\",\"56_transformation_shapeshif...\",\"57_friends_friend_friendship\",\"58_doctor_medical_heart\",\"59_insanity_insane_mental\",\"60_ship_cool_tanks\",\"61_limbs_bones_body\",\"62_torture_trap_victim\",\"63_marriage_wedding_married\"],\"y\":[\"-1_trope_character_just\",\"0_evil_villain_good\",\"1_time_work_series\",\"2_language_words_word\",\"3_game_games_player\",\"4_wear_dress_clothes\",\"5_death_dead_die\",\"6_powers_power_magic\",\"7_song_music_songs\",\"8_animal_animals_dog\",\"9_parents_parent_child\",\"10_cop_police_crime\",\"11_love_relationship_couple\",\"12_light_darkness_sun\",\"13_names_nickname_named\",\"14_food_eat_eating\",\"15_god_religion_gods\",\"16_camera_animation_shot\",\"17_age_child_children\",\"18_accent_black_white\",\"19_twins_twin_identity\",\"20_item_macguffin_items\",\"21_gender_female_male\",\"22_gun_guns_weapon\",\"23_attack_damage_martial\",\"24_weapon_sword_weapons\",\"25_character_characters_cast\",\"26_dream_dreams_sleep\",\"27_blood_zombie_zombies\",\"28_horror_puppet_fear\",\"29_color_blue_red\",\"30_elevator_falling_glass\",\"31_product_commercial_produ...\",\"32_robot_robots_mecha\",\"33_aesop_smart_genius\",\"34_gesture_finger_hand\",\"35_sex_sexual_virgin\",\"36_money_rich_wealth\",\"37_drugs_alcohol_poison\",\"38_title_titles_pun\",\"39_eyes_eye_smile\",\"40_school_teacher_schools\",\"41_elemental_smoking_element\",\"42_metal_rock_bands\",\"43_car_vehicle_cars\",\"44_ending_endings_twist\",\"45_actor_actors_celebrity\",\"46_humans_aliens_alien\",\"47_water_fish_underwater\",\"48_hair_beard_hairstyle\",\"49_boss_game_difficulty\",\"50_gay_yuri_straight\",\"51_money_currency_coins\",\"52_baby_pregnancy_pregnant\",\"53_monster_bees_monsters\",\"54_prison_escape_prisoners\",\"55_bomb_lava_explosion\",\"56_transformation_shapeshif...\",\"57_friends_friend_friendship\",\"58_doctor_medical_heart\",\"59_insanity_insane_mental\",\"60_ship_cool_tanks\",\"61_limbs_bones_body\",\"62_torture_trap_victim\",\"63_marriage_wedding_married\"],\"z\":[[0.9999999999998873,0.8514917658200548,0.7799233272565098,0.7308435597648785,0.5495182456183565,0.5512001429068514,0.6370999751938458,0.6573812078476109,0.40215555237768374,0.523545938476664,0.47874799917841504,0.5240847695131855,0.5575719680112117,0.593354937380359,0.5216355932642264,0.43356704799618784,0.4831391436350233,0.5136798304010538,0.5398879830763196,0.5833143592183977,0.5705498262948573,0.5936569955866042,0.5069453416364486,0.4635395209225498,0.5583984650360283,0.3980159517841856,0.6002679308560407,0.45700299407754313,0.46789172262232137,0.5829692147525851,0.3567512046657735,0.5423819167590302,0.4351687989112487,0.4227829933691017,0.6258526673023056,0.5388131267536322,0.5020779225295009,0.5250327606991432,0.4415705015504411,0.29046649131122665,0.33432116968355047,0.3577076793901031,0.49634494859788314,0.23714990895882093,0.3314782398340026,0.4705823184754131,0.4424139162095275,0.38197774965200654,0.4084816084662891,0.2860544484917946,0.31812555320418684,0.3691674637476018,0.4421986883151122,0.42857403890613954,0.477769961284925,0.45879499288379083,0.4186644468721696,0.42085478642875257,0.5536734611340377,0.43478471826078824,0.5022421606348179,0.40867142248631994,0.4419787471406652,0.4527769420247227,0.31666873377209676],[0.8514917658200548,1.0000000000000544,0.6629638492897978,0.5957113936785426,0.4534154706640736,0.43745949035064624,0.5798097756529952,0.5744858582161192,0.3186654496034273,0.4499887972533371,0.415781525253404,0.5046797112987711,0.4410327736444935,0.513916691161414,0.4260211876584835,0.36779312013627524,0.4702874499988908,0.38625171268886727,0.45401317156839827,0.5241144978536446,0.5081876968570698,0.513168053197189,0.37296839397020837,0.371283228402108,0.44466911900603084,0.30618589627897136,0.5030159708352944,0.37326800841717866,0.38393379594322935,0.4777051614540157,0.29366361241340266,0.44952376684468787,0.35792670612009425,0.3438206131505741,0.5487748921475838,0.42913741168003283,0.3925442933455796,0.5042043140041058,0.3737163397619178,0.22783888679734315,0.2658121406233074,0.32073057515724956,0.41688367861362463,0.18979674975578065,0.2749561130453362,0.3963104116353056,0.3545603093833072,0.32223679033995045,0.34210823932213114,0.22232617141585953,0.29811136649802167,0.2811643473652193,0.38922665773045584,0.34402577627548686,0.42628938659312626,0.4524514547858527,0.34503213560012785,0.33988932515759795,0.5706340477638263,0.37019000452264206,0.4428499200821883,0.34570276063460925,0.3496691797211884,0.4101474548222171,0.2644170270953824],[0.7799233272565098,0.6629638492897978,0.9999999999999434,0.6039725550249871,0.48063637610956295,0.4055878275507561,0.4654425564084574,0.48541329730759036,0.3789802467655567,0.3680092060993607,0.34167505630244327,0.41438767766253315,0.41777602514453555,0.4499329750156949,0.428683691707412,0.31505237546744713,0.38578433944952467,0.4636530576586442,0.4181126426738767,0.4691778982433278,0.4331768889057265,0.44812227797236653,0.34050813169699784,0.3342397771117193,0.393509288000467,0.2704537491219815,0.5909108431213513,0.34574367357103947,0.34395707701371747,0.4825927920002032,0.25135554915122654,0.39167693308926166,0.41824672644875915,0.33390112800245936,0.47906030888544116,0.36425059963745626,0.35647939933716966,0.4021893009160869,0.3389966862547409,0.30647867660695194,0.2200271012204453,0.27440057313000304,0.37437554809326756,0.2705594483844563,0.25344724987416495,0.5093599609708375,0.41762634384133396,0.297264196646787,0.3020136309001627,0.2107412306119488,0.24553757069550025,0.3057454906039575,0.35309083956093484,0.312249579738108,0.3500000625190721,0.33014208042647786,0.3151560056166706,0.29232119195212997,0.38563614569479115,0.30240963029044704,0.38312748221074616,0.3239295599959922,0.3054697943301173,0.3194360375625236,0.2366496258452024],[0.7308435597648785,0.5957113936785426,0.6039725550249871,1.0000000000000318,0.383239193599001,0.38328701922099406,0.4690293489870133,0.44041226409829115,0.3416983328786483,0.3699963678765108,0.3381674589564978,0.4043294686254729,0.418480148803171,0.41519017311024653,0.49773223512886045,0.33070530330521986,0.34779356555854973,0.4066240402313625,0.38732546173424637,0.5130692590889977,0.4383975520063789,0.4150557841364375,0.33701446170452765,0.3118746685313237,0.37280857962865444,0.25632629052725686,0.4767241722873459,0.35205722326301175,0.34402967567434045,0.44309752460844387,0.2372039032193225,0.3736946673207776,0.37331592550433806,0.286013449518072,0.4947735322506528,0.4302523168755707,0.37511735821354864,0.37969122123635995,0.34598071514595674,0.2969519900262176,0.24990986859915407,0.24537490896438524,0.3350468327838955,0.1705999499725461,0.23218265738053737,0.37019662540732623,0.3774888536489801,0.2621889953439467,0.2705381374381429,0.19681837475291988,0.19899302616009698,0.2782155061733949,0.32598544382551864,0.3102894769496929,0.31317830508516176,0.32000105177143207,0.2878835814691853,0.29709911373672576,0.38159873435297764,0.31498135718291154,0.3972837627011172,0.2516720267658129,0.31301984354290313,0.3273476765786797,0.23436468329777663],[0.5495182456183565,0.4534154706640736,0.48063637610956295,0.383239193599001,1.0000000000000013,0.26318656094727977,0.34353980795265227,0.4149242808534693,0.2374403236929824,0.24937751002565733,0.21637999057574497,0.2678285112201436,0.25255604733852005,0.3088672669073699,0.2644984766079939,0.21387992881492374,0.23177011465146308,0.3686483251361491,0.24634130919973,0.2703521392922719,0.2796188082658324,0.4397032244867501,0.22774155784764033,0.2919769679960944,0.4331254333177853,0.22039664531090813,0.321655651030255,0.22245193517101772,0.2226476936231577,0.3077831388405986,0.1769074528718186,0.3332773683640752,0.2640894479949566,0.2306228728908366,0.32162067244817044,0.2630010247702098,0.22542411589625858,0.27935097082121285,0.21914846659739048,0.17224861522112217,0.14832188388098047,0.1807236757820399,0.2623439984438525,0.14099857865778126,0.1783407689899131,0.3337688734152486,0.24570683356078157,0.174227918236495,0.22353087928219847,0.1259669492241135,0.44842481644219534,0.16790511951346593,0.33095496268873137,0.19535699258120623,0.23984841475689062,0.2341092037997366,0.25420499781773365,0.20651917795437286,0.26708672399419886,0.22564009738612187,0.24483537811547235,0.2135455204464561,0.2232112774714473,0.24203973462298778,0.1428272054698175],[0.5512001429068514,0.43745949035064624,0.4055878275507561,0.38328701922099406,0.26318656094727977,0.9999999999999911,0.3166898401561918,0.36571850245492366,0.21267304905094953,0.30808068432595487,0.23646047554936656,0.27440409565003315,0.272033526162111,0.3562739800231,0.2885011544320524,0.24793112940173262,0.26438189983996446,0.31858161233842575,0.2928152219679389,0.34735561741994564,0.35041690729916836,0.3241913915069103,0.3750569815498008,0.2781990530834757,0.31597618926076676,0.2498083090062304,0.3185061069394743,0.2557113480663425,0.26361536512690215,0.33099144659541346,0.29253517951072133,0.300541983709764,0.2546774008182893,0.24445200381355067,0.3287044540532226,0.34580408216930825,0.3259064972648914,0.3063257419009464,0.24631490747923326,0.148714027699117,0.22529602275439076,0.22866923842080733,0.29552511610268334,0.13748651854912816,0.19910697840107,0.2247894758164141,0.2424142808059673,0.19808228593947977,0.23582038026631577,0.2430685363324479,0.14852302366735345,0.23591050565386115,0.24875615319355657,0.23957312083598326,0.2508697523382829,0.23214974074639022,0.24507868948772285,0.2640680244460828,0.25952520986786304,0.25898946069784845,0.2609385677525969,0.2498050406980446,0.28423816567536386,0.2571262737264992,0.18769003761658523],[0.6370999751938458,0.5798097756529952,0.4654425564084574,0.4690293489870133,0.34353980795265227,0.3166898401561918,0.9999999999999986,0.4109364927886741,0.2345393409010872,0.3056847073017579,0.3176678477918912,0.3901482046055955,0.3742325627326166,0.3754716253842126,0.30992512773740577,0.27577575953960565,0.320594944900768,0.2788586325313813,0.3620543279618183,0.32910030318139827,0.40012230327702236,0.3977301936675091,0.2634775445811278,0.2928455596324068,0.3889853962541857,0.2274797564341624,0.4476244827658958,0.32815685416882456,0.4021407178361481,0.389964124954055,0.19451963279377746,0.3679979417055274,0.23880890069735952,0.24303696121066928,0.377805514683292,0.36883413709234103,0.28784270075154755,0.3157967323113425,0.288764407137687,0.16468142684459156,0.21402375326655626,0.1984562496095676,0.3097716354878418,0.13759840959714587,0.2045974817488927,0.35818440297874493,0.26149886246418647,0.2068813493274152,0.2513859653396534,0.15648346845436348,0.22275875322124927,0.20807341675616361,0.2649913064594843,0.271372163504999,0.28745240852058523,0.3612570749506241,0.28297518474110345,0.3016983595633373,0.41092226013148125,0.3112980169622917,0.33211932171986913,0.21371076456555105,0.3164800008187136,0.36773822405862666,0.20522710257228313],[0.6573812078476109,0.5744858582161192,0.48541329730759036,0.44041226409829115,0.4149242808534693,0.36571850245492366,0.4109364927886741,1.0000000000000273,0.2380791059017069,0.32704404749076793,0.28351337087873524,0.322768873250656,0.3145428667397993,0.4443912679245278,0.33626174397870257,0.27672605505379366,0.3609968076098862,0.31706936529178725,0.34020325290314757,0.35369283137996965,0.4170639347348551,0.48315788561073764,0.300339350404147,0.3289174482376929,0.49381602442247174,0.32261450966862953,0.4064083613488169,0.2900537218123885,0.32443789225086495,0.3710001451312325,0.2382119807703037,0.36442025904715075,0.26585631585831637,0.3027527723919722,0.45358181411608167,0.34296794417611776,0.30306852252988403,0.33878050664022163,0.2997706524458271,0.17098178184512913,0.2299286182517217,0.23234281207582164,0.4339364061357375,0.1363622445466695,0.20521562291502757,0.27520931004646454,0.26790811053247726,0.2632750680015969,0.270522356772936,0.18012526851246186,0.24362555057799287,0.20363102604290817,0.29483161761923393,0.25883560426866853,0.3185639816950352,0.30213334059948427,0.2820813714623023,0.3812793849967402,0.3796419717712236,0.3192350886911957,0.37541910696148983,0.26679627094482505,0.31680485446930895,0.29511539538900367,0.16861040586455492],[0.40215555237768374,0.3186654496034273,0.3789802467655567,0.3416983328786483,0.2374403236929824,0.21267304905094953,0.2345393409010872,0.2380791059017069,0.9999999999999863,0.1869251153790614,0.17352547573870247,0.19475063162472814,0.22099543920545853,0.23803553777667286,0.24703361335460322,0.16410537819122706,0.19688356780017088,0.26740737390218927,0.21546511396264179,0.2519067242051873,0.21582529005723136,0.22057100963167917,0.18164812930733118,0.17444174032108797,0.21145504598639941,0.14969623704913085,0.273270373693185,0.17703491216849188,0.17169195297391937,0.25352885739747777,0.14214913268416912,0.21324040457405172,0.23438529763620491,0.14752930056809788,0.230277535419634,0.20752041207713715,0.1961816836536862,0.2007688268168705,0.17910928463241232,0.1919738503420326,0.12496817844015355,0.13253618118183955,0.20873752925882574,0.4356050031650338,0.1379087720447593,0.23796407681418896,0.24365729950254822,0.12721283366434652,0.14626054696665208,0.11716930842225888,0.13048486677940468,0.15084953229903397,0.17849028988911125,0.15391128557320186,0.1732259797735217,0.1597794919688793,0.16076021325681833,0.17098173241525724,0.19968466258475556,0.16414590187363035,0.18987608656941524,0.15067826779959564,0.178165824468702,0.1622655290148706,0.12631843769997675],[0.523545938476664,0.4499887972533371,0.3680092060993607,0.3699963678765108,0.24937751002565733,0.30808068432595487,0.3056847073017579,0.32704404749076793,0.1869251153790614,1.0,0.2583705476253528,0.25284192033670333,0.2528300643866638,0.31128222648489356,0.3184418414155335,0.3213431217079495,0.27433286161909387,0.24679493101409603,0.30066948321318004,0.32939378261258223,0.28864582989448206,0.2847745203809883,0.2797453527960354,0.21621754979865734,0.25390770185663186,0.19322887312124845,0.2812860608900341,0.2331040614996736,0.26259884554431195,0.336229750656359,0.2165053190571955,0.2652157685359156,0.22064551978286281,0.27848372075539046,0.3226821467012822,0.2850162310263227,0.24465138262755598,0.27726754344144694,0.23628712121698248,0.14567581769267493,0.2206108071331352,0.17894186584029617,0.2677185023817646,0.11146723324571026,0.1643867362004276,0.20510993616110546,0.21287657091939227,0.3389294632273274,0.3001780066264949,0.1593945294809544,0.14074289990216682,0.18769330686922825,0.228130445256537,0.24522704105208376,0.4120304179693681,0.23639653732337196,0.20207036231901607,0.2813758965237594,0.27803319371014007,0.22955777294361535,0.2580320199306817,0.19468922937094374,0.3253762839785881,0.2314086726585872,0.147400005826813],[0.47874799917841504,0.415781525253404,0.34167505630244327,0.3381674589564978,0.21637999057574497,0.23646047554936656,0.3176678477918912,0.28351337087873524,0.17352547573870247,0.2583705476253528,1.0000000000000113,0.2603194464377635,0.33304671529652496,0.26200705516560197,0.29318471056883316,0.22152248346487952,0.237429120262006,0.19679235315018054,0.5239676887954807,0.28616780972939815,0.31627682953850295,0.2660345276267145,0.26059623353872885,0.17942718959455173,0.21670044261572455,0.15369090320751838,0.29431110828144097,0.2223704646626755,0.23753984102696138,0.2968460192596259,0.15260479750775224,0.2253798117448139,0.19324250778324176,0.1807764879474676,0.323712080136295,0.2366459972767798,0.2531156138588681,0.282477458269967,0.2133478856638162,0.12189404637387449,0.14224573937341345,0.24135106608929854,0.20756945758196282,0.09132501526001029,0.14638779769906557,0.2147776910579263,0.20593319215601158,0.17259390927296486,0.17108219605599595,0.13262057430141627,0.11415403924911306,0.18189725034013818,0.20001110817379475,0.45742600331268773,0.21808537997688585,0.21784442219509212,0.16498350492157088,0.18491082815440013,0.30005178060525384,0.19960400719740037,0.2578021466238812,0.1500652263614061,0.19021099856750961,0.20055268729223638,0.27344350837531295],[0.5240847695131855,0.5046797112987711,0.41438767766253315,0.4043294686254729,0.2678285112201436,0.27440409565003315,0.3901482046055955,0.322768873250656,0.19475063162472814,0.25284192033670333,0.2603194464377635,0.9999999999999921,0.28265544049984337,0.2943653579651269,0.26531098287003463,0.22454043362650292,0.25508757259986703,0.24862072174786953,0.2886025759544053,0.30813304763809723,0.33001396209970035,0.3071503141442253,0.23143778054618783,0.25766523251692625,0.26637824223498374,0.1885522181668389,0.31304999698934594,0.24114663484150992,0.247005141331788,0.31113095257316487,0.17032876354603607,0.2789707886331309,0.2421315700184147,0.2021966982230592,0.327609048856739,0.2673893286502872,0.24737386828628163,0.33748474609214535,0.26525036213194914,0.154047630819887,0.15007404448397985,0.19965516800442684,0.2407647349731372,0.10890160715991407,0.19571971100849267,0.2704645027023281,0.23088127098378677,0.1828788731238749,0.2019689792598343,0.13461267588179743,0.14637978453817094,0.1794964500990534,0.26454914949038194,0.23035992662123264,0.2305571709499515,0.33261555658284536,0.21497696525559468,0.20158707585698768,0.3084475050978442,0.2526574553323326,0.31628994933469373,0.1905557048440008,0.2263671922618468,0.2864666841734002,0.1802081410628223],[0.5575719680112117,0.4410327736444935,0.41777602514453555,0.418480148803171,0.25255604733852005,0.272033526162111,0.3742325627326166,0.3145428667397993,0.22099543920545853,0.2528300643866638,0.33304671529652496,0.28265544049984337,0.9999999999999991,0.2975542998287991,0.2852184446132383,0.22918869400750458,0.2519705993029816,0.2342537401806831,0.30748316751669835,0.3204626767538123,0.3328843954649091,0.3217686989614437,0.31761200016855834,0.19931226526252324,0.25493688239879897,0.16460062072164883,0.3581910072584076,0.3011597946066679,0.24664347775563356,0.29865287454918715,0.18448268572384657,0.2937877243410127,0.21158717623856987,0.2082812432156533,0.3540972519407178,0.27336053253492887,0.36643557049146336,0.2900136242326571,0.2411109209701268,0.1470763437628443,0.16096996221800464,0.20311263890453243,0.23485468144309835,0.10796246850898107,0.1537621124002985,0.30605709402673364,0.23769228284687913,0.16559597614046914,0.1862721622939169,0.14645422818534898,0.13467707031553214,0.30909785873067097,0.2146094368876216,0.2757739762362939,0.2155160193270072,0.23713847540448604,0.19187941175904646,0.2106681402796783,0.3907597022346306,0.24019566188461394,0.27936151366835393,0.2006763863971381,0.2007986036619101,0.22838044870740115,0.37077336011215456],[0.593354937380359,0.513916691161414,0.4499329750156949,0.41519017311024653,0.3088672669073699,0.3562739800231,0.3754716253842126,0.4443912679245278,0.23803553777667286,0.31128222648489356,0.26200705516560197,0.2943653579651269,0.2975542998287991,1.0000000000000044,0.30865302981985054,0.2578217158158891,0.3299704771863698,0.36282633783489493,0.3031293805849437,0.3381775115281805,0.3489675080264633,0.3691750922288324,0.25591721075355167,0.28121065368375053,0.3376846461589358,0.2504100391299729,0.34435971305232116,0.29032002386316696,0.3093310982139075,0.38615013655084024,0.31945361153390456,0.35241330398732323,0.25668768943481757,0.2516167859236546,0.33752492303060583,0.33630266574976314,0.2715050388560818,0.2967805014588368,0.27489954547441897,0.1597644091964302,0.3030418962169296,0.1983650416155574,0.46274421023589984,0.14244544278680252,0.22137318313760174,0.26949282719187106,0.26328885317315925,0.2352631508107271,0.27937320193981213,0.17690290341666928,0.1772417408595271,0.19602662103349414,0.26362010449156414,0.24436687183317277,0.30713140783584697,0.25792428113947036,0.3021297744490785,0.287276024642476,0.3044632168536273,0.26610610210806396,0.30631931722861727,0.28159319784413345,0.2872796865084698,0.2731768240838128,0.1747025324174072],[0.5216355932642264,0.4260211876584835,0.428683691707412,0.49773223512886045,0.2644984766079939,0.2885011544320524,0.30992512773740577,0.33626174397870257,0.24703361335460322,0.3184418414155335,0.29318471056883316,0.26531098287003463,0.2852184446132383,0.30865302981985054,1.0000000000000244,0.2385032301695809,0.27093673733438134,0.26177730140029926,0.29361112113161647,0.3802366257051998,0.32351474450995993,0.2898689344230015,0.28418442754678597,0.21931393474777436,0.25740852428268146,0.1944710140255594,0.3688476564126417,0.23424011058507185,0.2410090666835393,0.2969790775424236,0.20651941925322662,0.25785780006847686,0.26262909086310493,0.21645874605950577,0.3302169544610526,0.2896935369948107,0.26483021878752344,0.2870294961929543,0.23814735688347924,0.34654790490074444,0.17354685429251068,0.18986142075774104,0.2533012487637607,0.13374908747355804,0.16500319736578759,0.2373949727370138,0.27707668315297557,0.21259518195643984,0.2020370570160033,0.14917641346209123,0.13535827809664544,0.20432280941854689,0.23693284914453358,0.24357551445909242,0.2648802910089979,0.21023963977476554,0.19801279600738417,0.2182614552795176,0.2687460818190055,0.2209688136549014,0.255153911604916,0.20360236968227327,0.2271189611114655,0.20555449251770547,0.18536050153411876],[0.43356704799618784,0.36779312013627524,0.31505237546744713,0.33070530330521986,0.21387992881492374,0.24793112940173262,0.27577575953960565,0.27672605505379366,0.16410537819122706,0.3213431217079495,0.22152248346487952,0.22454043362650292,0.22918869400750458,0.2578217158158891,0.2385032301695809,1.000000000000001,0.21751666753195698,0.20993862420262357,0.2565795230478236,0.2725409834835858,0.2438605115257774,0.2697787487611913,0.21645485769939624,0.18596608281863536,0.23151709117527305,0.17040743150309728,0.2439269181422661,0.22311670009494838,0.25338096276616034,0.27889308685167685,0.1617652434200908,0.23910754026869008,0.2431959885585004,0.2039684482354741,0.271491244333546,0.24408521909713785,0.2231696227790272,0.2636631801710936,0.3034820410736253,0.12749079283584344,0.14771464068486762,0.16888884419791442,0.2331381134310168,0.09731580292976234,0.15590183786552778,0.17901456299942442,0.1860294413844298,0.22322362861785933,0.23838295684864455,0.12713294625848962,0.116637986194493,0.16242255501893674,0.27105569752728265,0.21418995503722804,0.2709902784951696,0.2074476885173282,0.19768695740241368,0.21495129325120935,0.2298008636342614,0.20377907331497877,0.2266963585560031,0.16120258355739178,0.22296418729197243,0.20468037050051047,0.13847605935394755],[0.4831391436350233,0.4702874499988908,0.38578433944952467,0.34779356555854973,0.23177011465146308,0.26438189983996446,0.320594944900768,0.3609968076098862,0.19688356780017088,0.27433286161909387,0.237429120262006,0.25508757259986703,0.2519705993029816,0.3299704771863698,0.27093673733438134,0.21751666753195698,0.9999999999999962,0.2070322351851268,0.2745915046411547,0.3119924676609022,0.2923575056426983,0.27534263439021595,0.23012688204664375,0.20400724441449863,0.2510413577767587,0.17635414835942903,0.2690470556378128,0.21032695707569382,0.23454094609533,0.28457395910846506,0.18192356921790753,0.22686542287587214,0.2015425215419736,0.23576346153478336,0.30506223543153466,0.24753034071213278,0.25276070568767633,0.2723743644594279,0.21274506632931073,0.13617688228236266,0.15702535025266784,0.18912669114163821,0.26146313383944164,0.11130579121431647,0.14333319985340726,0.20454801876397066,0.20271788197578255,0.2544961945920036,0.19295087669200928,0.14071065449369413,0.13163403914028357,0.17338070532461639,0.20349938766101064,0.2063227014087756,0.2718581631435408,0.22322240186796494,0.17928271271688997,0.2219382132688033,0.265153417945303,0.20883583961831892,0.27089414040265924,0.17874244435858097,0.21318422350243604,0.21536254535832702,0.16322049267962627],[0.5136798304010538,0.38625171268886727,0.4636530576586442,0.4066240402313625,0.3686483251361491,0.31858161233842575,0.2788586325313813,0.31706936529178725,0.26740737390218927,0.24679493101409603,0.19679235315018054,0.24862072174786953,0.2342537401806831,0.36282633783489493,0.26177730140029926,0.20993862420262357,0.2070322351851268,0.9999999999999928,0.2564092189276831,0.28534732927579753,0.2690154458216995,0.3040697131705294,0.21091794804134642,0.29523234501645207,0.32487256326384467,0.21322017031835072,0.33004166266106244,0.23130744316560695,0.22997245477466816,0.3505906610577578,0.21757821891891682,0.35035495600746547,0.2897312898669983,0.21639466443039893,0.27836487693221124,0.32786932780113626,0.2265179137680513,0.24271007685092544,0.22984616072497052,0.1664394867040839,0.24212911649463503,0.16194727433538178,0.26642574953106807,0.15433937176064294,0.19935922120122357,0.3027280850924616,0.3202309240595906,0.17669159398588669,0.2187220114802518,0.16575567202505645,0.17745475878111525,0.17035269467670544,0.2447065154414588,0.1893746884768951,0.22240262387755166,0.20302182371874158,0.2624337907334762,0.20369938349754227,0.22626435711299653,0.2159257286510157,0.23287291398386534,0.2351921907442891,0.23634303506153811,0.2268013852230221,0.1436475507244018],[0.5398879830763196,0.45401317156839827,0.4181126426738767,0.38732546173424637,0.24634130919973,0.2928152219679389,0.3620543279618183,0.34020325290314757,0.21546511396264179,0.30066948321318004,0.5239676887954807,0.2886025759544053,0.30748316751669835,0.3031293805849437,0.29361112113161647,0.2565795230478236,0.2745915046411547,0.2564092189276831,1.0000000000000027,0.3270184538746916,0.3217049361415019,0.2991510193899284,0.29551071455108974,0.21413346717548845,0.2640238918472661,0.18656054190102456,0.3544203802289455,0.24958675907138966,0.2672590937956066,0.3631383895179586,0.19005624836781262,0.2562642016985775,0.23812913991577336,0.21754149566357958,0.37387281470521383,0.2731763486063137,0.307491161399964,0.2920405077799863,0.25223992031055276,0.1374766215291869,0.16922859004567428,0.301034176312541,0.25732935361244014,0.11622036813325187,0.1759584241124301,0.23476978958142103,0.2923719312497717,0.20335780970798983,0.19950183351625927,0.18328914134957672,0.12873762415210535,0.23269889758363752,0.2177862387084883,0.394203784929774,0.2544765302718657,0.24344605277150347,0.20219206919138413,0.2343867582709287,0.29516838147416363,0.22855052560319267,0.2797557413983886,0.1794377439909258,0.22070847786767922,0.22707126780978212,0.22387492159250869],[0.5833143592183977,0.5241144978536446,0.4691778982433278,0.5130692590889977,0.2703521392922719,0.34735561741994564,0.32910030318139827,0.35369283137996965,0.2519067242051873,0.32939378261258223,0.28616780972939815,0.30813304763809723,0.3204626767538123,0.3381775115281805,0.3802366257051998,0.2725409834835858,0.3119924676609022,0.28534732927579753,0.3270184538746916,1.000000000000006,0.33816555511429797,0.2914265708396659,0.37020877742663183,0.22605287350950973,0.2673096329872319,0.1925573804111457,0.38805271594151114,0.25568579671969327,0.25807655440443567,0.3345420450003159,0.2881064846142722,0.2651101584131438,0.2714035776094166,0.22663532386078306,0.41391419080219494,0.306414024337103,0.32310369721939647,0.3466790504577001,0.26872462629559707,0.17728646436166462,0.20035091389177326,0.24618086372381986,0.2749913892642033,0.18547799796110281,0.1854981279932156,0.24407149920212182,0.35615304583628,0.2639547752203265,0.20993001336850659,0.19041900871619521,0.13611238549555257,0.30464638058599214,0.25449655005270544,0.24192236563784164,0.293775385922923,0.23943828215022514,0.2069863976536138,0.22627209478430493,0.32410785639781586,0.24205724460868616,0.3020890207494498,0.19565663046642276,0.2385938342206527,0.22956873477032777,0.1927709867492837],[0.5705498262948573,0.5081876968570698,0.4331768889057265,0.4383975520063789,0.2796188082658324,0.35041690729916836,0.40012230327702236,0.4170639347348551,0.21582529005723136,0.28864582989448206,0.31627682953850295,0.33001396209970035,0.3328843954649091,0.3489675080264633,0.32351474450995993,0.2438605115257774,0.2923575056426983,0.2690154458216995,0.3217049361415019,0.33816555511429797,0.9999999999999964,0.3599340686172262,0.29416339221167837,0.2381608729622053,0.29964746480431986,0.2015024066730086,0.41145380094980066,0.27767295258033414,0.28417847006829217,0.3421873937838776,0.2139086188518398,0.288341736121497,0.24116335620525495,0.2582472499460645,0.3712069841250415,0.3048356878920482,0.2814206210585414,0.31407422467485413,0.26142913432862697,0.15684222337170836,0.19892019652103304,0.20512979184494706,0.2735636044254887,0.11158854826419932,0.1748795769323571,0.2593556796413016,0.2927413600882287,0.22144269596879526,0.21855427911016573,0.17254931543882854,0.15920571807650505,0.21136038767120552,0.2510759258065636,0.26100084948946894,0.28010235384982196,0.276282851096374,0.21907881781616378,0.3021054091428368,0.35679670507095274,0.2604800067453948,0.33231563489408605,0.1941867377860812,0.2810084990329287,0.2559042770446903,0.18115775455182798],[0.5936569955866042,0.513168053197189,0.44812227797236653,0.4150557841364375,0.4397032244867501,0.3241913915069103,0.3977301936675091,0.48315788561073764,0.22057100963167917,0.2847745203809883,0.2660345276267145,0.3071503141442253,0.3217686989614437,0.3691750922288324,0.2898689344230015,0.2697787487611913,0.27534263439021595,0.3040697131705294,0.2991510193899284,0.2914265708396659,0.3599340686172262,0.9999999999999948,0.23699088659823977,0.31117603720331766,0.3783335291034219,0.31985983255345163,0.3533524935470019,0.26410331509008605,0.27047714077069707,0.3554230020455827,0.2008598014045492,0.35566464650388907,0.27191757956690893,0.24679769935582752,0.35761600338026844,0.30830020280590936,0.25972757898140786,0.33564216732499846,0.2708650317978721,0.16478644554252592,0.18409430247105146,0.1896192043421707,0.32253186792974997,0.11977461985459661,0.199125323081138,0.2982493110328516,0.23373294810317607,0.2004514442389383,0.24200987916222277,0.14794098751136064,0.2585822233507015,0.1726061642109414,0.41461358100289347,0.24984119272678826,0.2707175954024218,0.3017278372518032,0.28027362668876504,0.2680725844036157,0.3341397921886435,0.2633048149418988,0.29061446011183334,0.24280509478839854,0.2780043808834162,0.29094518738187625,0.18821144321172706],[0.5069453416364486,0.37296839397020837,0.34050813169699784,0.33701446170452765,0.22774155784764033,0.3750569815498008,0.2634775445811278,0.300339350404147,0.18164812930733118,0.2797453527960354,0.26059623353872885,0.23143778054618783,0.31761200016855834,0.25591721075355167,0.28418442754678597,0.21645485769939624,0.23012688204664375,0.21091794804134642,0.29551071455108974,0.37020877742663183,0.29416339221167837,0.23699088659823977,1.000000000000001,0.19296938358030796,0.24030951653810126,0.17398398571338397,0.30418281163535904,0.21882727391395457,0.20285942737846066,0.2696917766186692,0.22087766403905185,0.2154548429007368,0.19841214087106904,0.19466049917773195,0.3299773606890066,0.277125140382839,0.440179979160623,0.2535251041499183,0.20306048364476006,0.13331888695807304,0.14750755891675324,0.19000597478188003,0.22040441367543323,0.1052160464841665,0.1474316091948695,0.19317361808000308,0.2231640227164826,0.18330846005082457,0.1728009278582274,0.2090109458534385,0.11697931283336581,0.3971693925061451,0.18541436470361705,0.2867089429996663,0.2375332504478961,0.19986955878158505,0.15976772754564214,0.21747068392212326,0.24460039622928323,0.19478660103527284,0.2289840488614651,0.15640239598917208,0.19600789783708383,0.19222394117286812,0.16304871523256917],[0.4635395209225498,0.371283228402108,0.3342397771117193,0.3118746685313237,0.2919769679960944,0.2781990530834757,0.2928455596324068,0.3289174482376929,0.17444174032108797,0.21621754979865734,0.17942718959455173,0.25766523251692625,0.19931226526252324,0.28121065368375053,0.21931393474777436,0.18596608281863536,0.20400724441449863,0.29523234501645207,0.21413346717548845,0.22605287350950973,0.2381608729622053,0.31117603720331766,0.19296938358030796,1.0000000000000042,0.3696686022238272,0.4952225431698379,0.2269767532146996,0.1917730498112124,0.21815342303589683,0.25572748479576785,0.15110739935557624,0.3161228626089341,0.19979964479735338,0.20595077800557315,0.2545993372486207,0.3198024702994206,0.19510663398087758,0.22819392752179704,0.21163378009586492,0.11878598121789406,0.14545766083035022,0.1503464295705475,0.2759557744689827,0.10065842983610726,0.19207206386957323,0.190134562859413,0.18711733385177937,0.15383036541039907,0.22374684784047602,0.12248147908448472,0.17421036509100596,0.13785544136153394,0.23370891272792996,0.17469043752217486,0.20844997499898915,0.21512858937803409,0.31710312745758923,0.1967722440778683,0.22595970161917414,0.2244608146730889,0.21502528092425602,0.2897870491978371,0.25239408957105797,0.22998786472382393,0.12905658660415611],[0.5583984650360283,0.44466911900603084,0.393509288000467,0.37280857962865444,0.4331254333177853,0.31597618926076676,0.3889853962541857,0.49381602442247174,0.21145504598639941,0.25390770185663186,0.21670044261572455,0.26637824223498374,0.25493688239879897,0.3376846461589358,0.25740852428268146,0.23151709117527305,0.2510413577767587,0.32487256326384467,0.2640238918472661,0.2673096329872319,0.29964746480431986,0.3783335291034219,0.24030951653810126,0.3696686022238272,0.9999999999999972,0.34871547344540355,0.2994913166745272,0.2428213102306871,0.28246777450721355,0.3007002333851241,0.18749666517181898,0.3782277621818413,0.22114478004057783,0.2265015010737972,0.31736248081059504,0.36749997339411683,0.2317844685078531,0.25572602926214955,0.2572326118970428,0.13990897204944955,0.177625442968491,0.18704375139143287,0.3295221883173436,0.1191330006967868,0.19339160963809607,0.2439569944799087,0.2165251570041399,0.17641757497353042,0.2572244111724069,0.15017545400857532,0.3373276617120258,0.16459291800412176,0.2629453805615575,0.20793654343766163,0.256894803521232,0.24678830560024725,0.31183663625738883,0.2558450140526233,0.3093767812004984,0.3183217932580287,0.26667108364051717,0.27847315955510693,0.28190730240212236,0.2711572747863644,0.14073409945709542],[0.3980159517841856,0.30618589627897136,0.2704537491219815,0.25632629052725686,0.22039664531090813,0.2498083090062304,0.2274797564341624,0.32261450966862953,0.14969623704913085,0.19322887312124845,0.15369090320751838,0.1885522181668389,0.16460062072164883,0.2504100391299729,0.1944710140255594,0.17040743150309728,0.17635414835942903,0.21322017031835072,0.18656054190102456,0.1925573804111457,0.2015024066730086,0.31985983255345163,0.17398398571338397,0.4952225431698379,0.34871547344540355,1.0000000000000246,0.19029767683998924,0.15873852783050843,0.1930517652245709,0.21633129138594281,0.13736049982905893,0.2542541377483734,0.15933744364369354,0.18463869482087633,0.21660477892883567,0.28047201767391855,0.1650074051341593,0.18821616972728028,0.18212833225983618,0.10140311562664592,0.13045045534069383,0.129529746691943,0.2628095292604254,0.10679008194283231,0.14164144859516906,0.14861918321306394,0.14725962584830654,0.13162139877988135,0.1724719594818737,0.12506084659179229,0.14480382009182716,0.11608127171890345,0.200215138119516,0.14317408571888732,0.18465179916343835,0.1728133807296498,0.24397315896184416,0.19231886762376546,0.18611428568578728,0.1902663058042222,0.18249037501190585,0.22465792072564914,0.2655997041016015,0.19897986577563678,0.0978253650629811],[0.6002679308560407,0.5030159708352944,0.5909108431213513,0.4767241722873459,0.321655651030255,0.3185061069394743,0.4476244827658958,0.4064083613488169,0.273270373693185,0.2812860608900341,0.29431110828144097,0.31304999698934594,0.3581910072584076,0.34435971305232116,0.3688476564126417,0.2439269181422661,0.2690470556378128,0.33004166266106244,0.3544203802289455,0.38805271594151114,0.41145380094980066,0.3533524935470019,0.30418281163535904,0.2269767532146996,0.2994913166745272,0.19029767683998924,1.0000000000000038,0.29211246351401116,0.2772934863397415,0.3551164443360525,0.20629271332324645,0.3074677003763867,0.2548885782954356,0.22004634822510488,0.44380743811757384,0.30463580501221776,0.27662423757996774,0.3053666931163616,0.2689564273769747,0.236017716906403,0.20364183367800093,0.20778144656390024,0.256377377744549,0.13673491084335393,0.18758925052504252,0.3762651306037402,0.48819063336919455,0.18845968889704798,0.20602584302364307,0.17216011202273426,0.16916176233974048,0.25496780515970974,0.25138476518715774,0.24969936212519933,0.24437723487107535,0.2523095167900025,0.21078031424877108,0.24714135720159114,0.3542410638920727,0.24599877594064723,0.30667999121761824,0.1949005187547765,0.257262008976061,0.24058404534945027,0.17854718283638368],[0.45700299407754313,0.37326800841717866,0.34574367357103947,0.35205722326301175,0.22245193517101772,0.2557113480663425,0.32815685416882456,0.2900537218123885,0.17703491216849188,0.2331040614996736,0.2223704646626755,0.24114663484150992,0.3011597946066679,0.29032002386316696,0.23424011058507185,0.22311670009494838,0.21032695707569382,0.23130744316560695,0.24958675907138966,0.25568579671969327,0.27767295258033414,0.26410331509008605,0.21882727391395457,0.1917730498112124,0.2428213102306871,0.15873852783050843,0.29211246351401116,0.9999999999999905,0.24317064260630483,0.30717986365460276,0.14497118680340684,0.26379293414479565,0.19104545106149937,0.18275628810351824,0.2881645069452815,0.2920984185977825,0.26282592149035283,0.23608794310453093,0.23821895076159166,0.12313506979380827,0.1725622482562312,0.17236442180298503,0.21765410820446532,0.09761371464765045,0.15284792318316734,0.24681216589435057,0.19280424136097907,0.15150350792112016,0.19235699835461428,0.13488878097155715,0.12366911094543533,0.1814381287699273,0.19534931519950866,0.21536834951042708,0.2091180638192378,0.21836696902794633,0.18998110215811095,0.2031813574049777,0.2543129082542973,0.22380301967647098,0.282423402303556,0.16231764839956664,0.21574163675354618,0.2309744481526055,0.16615057905700947],[0.46789172262232137,0.38393379594322935,0.34395707701371747,0.34402967567434045,0.2226476936231577,0.26361536512690215,0.4021407178361481,0.32443789225086495,0.17169195297391937,0.26259884554431195,0.23753984102696138,0.247005141331788,0.24664347775563356,0.3093310982139075,0.2410090666835393,0.25338096276616034,0.23454094609533,0.22997245477466816,0.2672590937956066,0.25807655440443567,0.28417847006829217,0.27047714077069707,0.20285942737846066,0.21815342303589683,0.28246777450721355,0.1930517652245709,0.2772934863397415,0.24317064260630483,1.0000000000000029,0.34105522147759426,0.194097729227463,0.2555694942010052,0.19803189867492693,0.2170525117689364,0.27346170363700856,0.2885656528186418,0.23008519985139053,0.24042172812174303,0.2587415810651359,0.13514302462462374,0.18614280663403582,0.15314138536566294,0.26894820143947357,0.1022784578965539,0.15213498454169314,0.21283088000446268,0.19230795610780052,0.21225511592012988,0.22278811312739147,0.13287930267887538,0.12541816140484646,0.15748414584198955,0.20315174700998348,0.21022122363864135,0.26770896223756174,0.21476547714743674,0.20440545076173625,0.2665847802846345,0.23687466170260793,0.3173146189998681,0.28687842223872334,0.172512997349441,0.28296947303132347,0.22751277592170369,0.14748510013502653],[0.5829692147525851,0.4777051614540157,0.4825927920002032,0.44309752460844387,0.3077831388405986,0.33099144659541346,0.389964124954055,0.3710001451312325,0.25352885739747777,0.336229750656359,0.2968460192596259,0.31113095257316487,0.29865287454918715,0.38615013655084024,0.2969790775424236,0.27889308685167685,0.28457395910846506,0.3505906610577578,0.3631383895179586,0.3345420450003159,0.3421873937838776,0.3554230020455827,0.2696917766186692,0.25572748479576785,0.3007002333851241,0.21633129138594281,0.3551164443360525,0.30717986365460276,0.34105522147759426,1.0000000000000036,0.20804812425001556,0.3109387288622611,0.30317546568425974,0.27499937006698033,0.35201695698510943,0.3189779709684523,0.28714773567797897,0.2947045307485687,0.26520460270799073,0.1782292764244453,0.2412179397299048,0.19898161673210948,0.3010370485836735,0.17034056751261512,0.2050269201910468,0.2985037763394194,0.26875160262239617,0.22874398048328776,0.24056762441036286,0.16761429957829796,0.15860319903412967,0.21576741403913471,0.2554461644827361,0.2607290525683794,0.3604357846476716,0.25290292558939587,0.2501475182743417,0.28926520861634614,0.28470537999800327,0.25514073641995794,0.32967531120588034,0.23118996689383886,0.2902565755142065,0.28764297576725645,0.17387095356833668],[0.3567512046657735,0.29366361241340266,0.25135554915122654,0.2372039032193225,0.1769074528718186,0.29253517951072133,0.19451963279377746,0.2382119807703037,0.14214913268416912,0.2165053190571955,0.15260479750775224,0.17032876354603607,0.18448268572384657,0.31945361153390456,0.20651941925322662,0.1617652434200908,0.18192356921790753,0.21757821891891682,0.19005624836781262,0.2881064846142722,0.2139086188518398,0.2008598014045492,0.22087766403905185,0.15110739935557624,0.18749666517181898,0.13736049982905893,0.20629271332324645,0.14497118680340684,0.194097729227463,0.20804812425001556,1.0000000000000033,0.16998967985693106,0.16773727523864979,0.1494866805668991,0.22013079341986433,0.19494132123754296,0.17174183694267556,0.18782768886714118,0.17455823176254748,0.09969657852985864,0.2752194211657191,0.11664310277228317,0.26812891683731055,0.1018363907320162,0.10978806724606081,0.14157338506686618,0.15406879183097405,0.15627654211800182,0.15226305134349444,0.3618647228213439,0.09568305581818884,0.14044173833981663,0.14801468628272912,0.13341268258001335,0.17875282896508227,0.1392171945861003,0.15913079099504934,0.16941476902004135,0.18624600612381353,0.1472126232348934,0.1685281173742823,0.13384376300435938,0.17235677217838194,0.14218969317220803,0.10484080667749401],[0.5423819167590302,0.44952376684468787,0.39167693308926166,0.3736946673207776,0.3332773683640752,0.300541983709764,0.3679979417055274,0.36442025904715075,0.21324040457405172,0.2652157685359156,0.2253798117448139,0.2789707886331309,0.2937877243410127,0.35241330398732323,0.25785780006847686,0.23910754026869008,0.22686542287587214,0.35035495600746547,0.2562642016985775,0.2651101584131438,0.288341736121497,0.35566464650388907,0.2154548429007368,0.3161228626089341,0.3782277621818413,0.2542541377483734,0.3074677003763867,0.26379293414479565,0.2555694942010052,0.3109387288622611,0.16998967985693106,1.000000000000002,0.22698669267508503,0.24070603546768718,0.31048247672066387,0.3628361183202841,0.235736734906612,0.26674125036989094,0.24970424034616234,0.14304075495182944,0.17423186245842176,0.19514170742530984,0.29500347000555427,0.12228411283705824,0.29585661393842927,0.25047572822654085,0.21868366537794612,0.18009842186889088,0.2957676843725821,0.146978704975999,0.19996248063774194,0.16904914779115035,0.25149259636850896,0.2271488194366402,0.24632589826478304,0.2826253609366312,0.3094101959456609,0.21870534432803448,0.28719477698126483,0.24303374981307901,0.25028166619389164,0.36197929406594,0.25634400053947215,0.2881496408772839,0.16229877480779975],[0.4351687989112487,0.35792670612009425,0.41824672644875915,0.37331592550433806,0.2640894479949566,0.2546774008182893,0.23880890069735952,0.26585631585831637,0.23438529763620491,0.22064551978286281,0.19324250778324176,0.2421315700184147,0.21158717623856987,0.25668768943481757,0.26262909086310493,0.2431959885585004,0.2015425215419736,0.2897312898669983,0.23812913991577336,0.2714035776094166,0.24116335620525495,0.27191757956690893,0.19841214087106904,0.19979964479735338,0.22114478004057783,0.15933744364369354,0.2548885782954356,0.19104545106149937,0.19803189867492693,0.30317546568425974,0.16773727523864979,0.22698669267508503,0.9999999999999946,0.1800908958855355,0.26852285097376144,0.23886511427815224,0.2232269986449182,0.2813403452646454,0.2286468290774907,0.1785046575785068,0.14435681379738888,0.1579677554306674,0.21886484779120827,0.1316034912023777,0.18276446178003952,0.25110522048314843,0.2543870925050343,0.15117134924710426,0.17192442389883925,0.12884183391165546,0.12100663212626261,0.15854748141412442,0.2924755135639512,0.1817726511481001,0.20364757559149058,0.18577256142924126,0.1894366257715607,0.1703691298524991,0.20785067457804837,0.21492667752116293,0.22127978655878217,0.1706642540281433,0.17959804552551706,0.18619602903877958,0.1338423628783369],[0.4227829933691017,0.3438206131505741,0.33390112800245936,0.286013449518072,0.2306228728908366,0.24445200381355067,0.24303696121066928,0.3027527723919722,0.14752930056809788,0.27848372075539046,0.1807764879474676,0.2021966982230592,0.2082812432156533,0.2516167859236546,0.21645874605950577,0.2039684482354741,0.23576346153478336,0.21639466443039893,0.21754149566357958,0.22663532386078306,0.2582472499460645,0.24679769935582752,0.19466049917773195,0.20595077800557315,0.2265015010737972,0.18463869482087633,0.22004634822510488,0.18275628810351824,0.2170525117689364,0.27499937006698033,0.1494866805668991,0.24070603546768718,0.1800908958855355,0.9999999999999826,0.27538596478754385,0.22650908688409696,0.19599884330235814,0.2048771458418338,0.17716393951323528,0.11332411219445697,0.15460422391393402,0.1340214153961076,0.22672614306300817,0.09965366350678005,0.16001950996744724,0.1698900226447284,0.16324132167792849,0.3398814370968983,0.2124761305479468,0.11011997919112602,0.12563804713685106,0.13713625310314498,0.18054139823602178,0.1803593766193427,0.28752267714974555,0.17683703807038778,0.19475814253368182,0.2762516040464036,0.2045756078991507,0.20614600196312152,0.2218390177985883,0.2630809371924416,0.30923611207026824,0.18109412571596983,0.11474767759204064],[0.6258526673023056,0.5487748921475838,0.47906030888544116,0.4947735322506528,0.32162067244817044,0.3287044540532226,0.377805514683292,0.45358181411608167,0.230277535419634,0.3226821467012822,0.323712080136295,0.327609048856739,0.3540972519407178,0.33752492303060583,0.3302169544610526,0.271491244333546,0.30506223543153466,0.27836487693221124,0.37387281470521383,0.41391419080219494,0.3712069841250415,0.35761600338026844,0.3299773606890066,0.2545993372486207,0.31736248081059504,0.21660477892883567,0.44380743811757384,0.2881645069452815,0.27346170363700856,0.35201695698510943,0.22013079341986433,0.31048247672066387,0.26852285097376144,0.27538596478754385,1.0000000000000087,0.32415184182979173,0.3264866929420426,0.3570968008499097,0.29632630748085975,0.17395766860505768,0.19895317331462714,0.26364446431940086,0.2855188118462651,0.11747999956275545,0.19779221961907947,0.2900567557813995,0.28611976561982916,0.23995831269793846,0.2269909258030361,0.1796703560476321,0.17017353810332747,0.24274946062423147,0.25453946481691275,0.2696179665200581,0.27178585080415923,0.2762281821200758,0.2363082970191404,0.25039462899541926,0.37374652020003224,0.2733222221324049,0.3676227996746592,0.21136222252901213,0.2567434554372285,0.27203831205495216,0.18168913032478773],[0.5388131267536322,0.42913741168003283,0.36425059963745626,0.4302523168755707,0.2630010247702098,0.34580408216930825,0.36883413709234103,0.34296794417611776,0.20752041207713715,0.2850162310263227,0.2366459972767798,0.2673893286502872,0.27336053253492887,0.33630266574976314,0.2896935369948107,0.24408521909713785,0.24753034071213278,0.32786932780113626,0.2731763486063137,0.306414024337103,0.3048356878920482,0.30830020280590936,0.277125140382839,0.3198024702994206,0.36749997339411683,0.28047201767391855,0.30463580501221776,0.2920984185977825,0.2885656528186418,0.3189779709684523,0.19494132123754296,0.3628361183202841,0.23886511427815224,0.22650908688409696,0.32415184182979173,1.0000000000000033,0.26757674589199604,0.2640561471003121,0.2621769485247072,0.15180615122501379,0.2478048951571474,0.17807787733038943,0.2965041625837303,0.12444074105504982,0.18790971577454113,0.2204158647951264,0.2292718875999405,0.18844566652455907,0.23210395270036283,0.21221050508066397,0.15644438176807507,0.194457076359065,0.2390043731544861,0.23197688583820134,0.24143850274187034,0.2472773575297423,0.27199100856021724,0.23850072177322218,0.27802075454345043,0.2874513062191624,0.27113359589329167,0.23525240134034578,0.4088677107488632,0.286569366703032,0.1648237469760303],[0.5020779225295009,0.3925442933455796,0.35647939933716966,0.37511735821354864,0.22542411589625858,0.3259064972648914,0.28784270075154755,0.30306852252988403,0.1961816836536862,0.24465138262755598,0.2531156138588681,0.24737386828628163,0.36643557049146336,0.2715050388560818,0.26483021878752344,0.2231696227790272,0.25276070568767633,0.2265179137680513,0.307491161399964,0.32310369721939647,0.2814206210585414,0.25972757898140786,0.440179979160623,0.19510663398087758,0.2317844685078531,0.1650074051341593,0.27662423757996774,0.26282592149035283,0.23008519985139053,0.28714773567797897,0.17174183694267556,0.235736734906612,0.2232269986449182,0.19599884330235814,0.3264866929420426,0.26757674589199604,1.0000000000000078,0.259335984515419,0.23469058029506695,0.1410095472186344,0.1487208594712859,0.1825157569707355,0.22973548199189178,0.10755751875012096,0.15745836218409553,0.21096224905431354,0.20944280263258686,0.17424739680597606,0.17605006827953293,0.1574187195008802,0.11884103551662868,0.3325748112920007,0.20319499381168388,0.28505370281918313,0.20912055317811326,0.20974469177044444,0.1781302927942307,0.19746376201966157,0.25474717259133906,0.22055984593745262,0.2638961091227656,0.16508554177186305,0.19903703106920456,0.22524820168784562,0.21400842623435806],[0.5250327606991432,0.5042043140041058,0.4021893009160869,0.37969122123635995,0.27935097082121285,0.3063257419009464,0.3157967323113425,0.33878050664022163,0.2007688268168705,0.27726754344144694,0.282477458269967,0.33748474609214535,0.2900136242326571,0.2967805014588368,0.2870294961929543,0.2636631801710936,0.2723743644594279,0.24271007685092544,0.2920405077799863,0.3466790504577001,0.31407422467485413,0.33564216732499846,0.2535251041499183,0.22819392752179704,0.25572602926214955,0.18821616972728028,0.3053666931163616,0.23608794310453093,0.24042172812174303,0.2947045307485687,0.18782768886714118,0.26674125036989094,0.2813403452646454,0.2048771458418338,0.3570968008499097,0.2640561471003121,0.259335984515419,1.0000000000000069,0.2595714384850489,0.14382632104820903,0.1535858933572001,0.235540014967925,0.24426934557648874,0.11481784929839668,0.2240828719081255,0.22523538616175537,0.25312274943013474,0.18452053537392163,0.21480381300776366,0.14608324310301257,0.14113385698643824,0.1923777018087865,0.5104626985275401,0.23008533395424596,0.23900718639770321,0.2677204798784931,0.20496643387463645,0.1983962527577042,0.30913017903899437,0.24435679301330798,0.2818754099419622,0.20063663995304212,0.20836831879539636,0.23145587537453358,0.19743151667954023],[0.4415705015504411,0.3737163397619178,0.3389966862547409,0.34598071514595674,0.21914846659739048,0.24631490747923326,0.288764407137687,0.2997706524458271,0.17910928463241232,0.23628712121698248,0.2133478856638162,0.26525036213194914,0.2411109209701268,0.27489954547441897,0.23814735688347924,0.3034820410736253,0.21274506632931073,0.22984616072497052,0.25223992031055276,0.26872462629559707,0.26142913432862697,0.2708650317978721,0.20306048364476006,0.21163378009586492,0.2572326118970428,0.18212833225983618,0.2689564273769747,0.23821895076159166,0.2587415810651359,0.26520460270799073,0.17455823176254748,0.24970424034616234,0.2286468290774907,0.17716393951323528,0.29632630748085975,0.2621769485247072,0.23469058029506695,0.2595714384850489,1.000000000000002,0.12622761961587733,0.15042962451251726,0.16403390987368746,0.2607231354305272,0.10657563446884065,0.15921612884029704,0.19071119727414074,0.19454744739193647,0.16116067356898078,0.22245204976700486,0.1364741206419673,0.11662300834202266,0.16650586741951823,0.2197350820381691,0.2070243823844762,0.20871289429793052,0.20339628786379133,0.21571340471682954,0.19177414545110316,0.24773497595226704,0.2399905008800971,0.2871619558539525,0.16697776843232381,0.20811071789594088,0.2130772694226534,0.14399786586036326],[0.29046649131122665,0.22783888679734315,0.30647867660695194,0.2969519900262176,0.17224861522112217,0.148714027699117,0.16468142684459156,0.17098178184512913,0.1919738503420326,0.14567581769267493,0.12189404637387449,0.154047630819887,0.1470763437628443,0.1597644091964302,0.34654790490074444,0.12749079283584344,0.13617688228236266,0.1664394867040839,0.1374766215291869,0.17728646436166462,0.15684222337170836,0.16478644554252592,0.13331888695807304,0.11878598121789406,0.13990897204944955,0.10140311562664592,0.236017716906403,0.12313506979380827,0.13514302462462374,0.1782292764244453,0.09969657852985864,0.14304075495182944,0.1785046575785068,0.11332411219445697,0.17395766860505768,0.15180615122501379,0.1410095472186344,0.14382632104820903,0.12622761961587733,1.0000000000000038,0.08957339429676021,0.09020685189051932,0.1330318905044986,0.07848773626155171,0.08909360136185122,0.2273024664149669,0.17257083690301714,0.09081107312783704,0.1068624780480768,0.0756724034554127,0.08411976019498187,0.10695649513427662,0.12437803132523335,0.11861636264562857,0.12692998688390092,0.11209152695522799,0.10733911122523845,0.10890203898950913,0.13377065658147558,0.1225388479932058,0.14138663433229176,0.1035418188580421,0.11513876319752836,0.11476984016539812,0.0834489894793527],[0.33432116968355047,0.2658121406233074,0.2200271012204453,0.24990986859915407,0.14832188388098047,0.22529602275439076,0.21402375326655626,0.2299286182517217,0.12496817844015355,0.2206108071331352,0.14224573937341345,0.15007404448397985,0.16096996221800464,0.3030418962169296,0.17354685429251068,0.14771464068486762,0.15702535025266784,0.24212911649463503,0.16922859004567428,0.20035091389177326,0.19892019652103304,0.18409430247105146,0.14750755891675324,0.14545766083035022,0.177625442968491,0.13045045534069383,0.20364183367800093,0.1725622482562312,0.18614280663403582,0.2412179397299048,0.2752194211657191,0.17423186245842176,0.14435681379738888,0.15460422391393402,0.19895317331462714,0.2478048951571474,0.1487208594712859,0.1535858933572001,0.15042962451251726,0.08957339429676021,1.0000000000000049,0.10164350374635664,0.20654447044081486,0.07324931066120442,0.10433834120448826,0.13468856679797486,0.13870302906635262,0.1358247628924163,0.15221945842829895,0.1453093012558878,0.08833204398136345,0.1134026372268144,0.1340455988868285,0.1310401877974033,0.17706364854540202,0.1361535928730488,0.14678687433489496,0.18402069239594732,0.17389815747842158,0.158012203227477,0.19272952060693022,0.12148764603530306,0.21350231104093437,0.15618962203982573,0.0876437042741253],[0.3577076793901031,0.32073057515724956,0.27440057313000304,0.24537490896438524,0.1807236757820399,0.22866923842080733,0.1984562496095676,0.23234281207582164,0.13253618118183955,0.17894186584029617,0.24135106608929854,0.19965516800442684,0.20311263890453243,0.1983650416155574,0.18986142075774104,0.16888884419791442,0.18912669114163821,0.16194727433538178,0.301034176312541,0.24618086372381986,0.20512979184494706,0.1896192043421707,0.19000597478188003,0.1503464295705475,0.18704375139143287,0.129529746691943,0.20778144656390024,0.17236442180298503,0.15314138536566294,0.19898161673210948,0.11664310277228317,0.19514170742530984,0.1579677554306674,0.1340214153961076,0.26364446431940086,0.17807787733038943,0.1825157569707355,0.235540014967925,0.16403390987368746,0.09020685189051932,0.10164350374635664,0.999999999999996,0.16569851554326276,0.08509392701966348,0.12380801362792318,0.15503901833252653,0.15614665281072268,0.118803480699961,0.1400012707419458,0.10331011259929,0.09220737946222604,0.146783970343846,0.16123635695831035,0.17054702354915122,0.16381384681379293,0.1652232448582642,0.13537229746960816,0.1275800203425516,0.20285935927828724,0.16394498975264155,0.1833526406908101,0.1427545708867029,0.13325947629058985,0.15608054589268386,0.12561289046910007],[0.49634494859788314,0.41688367861362463,0.37437554809326756,0.3350468327838955,0.2623439984438525,0.29552511610268334,0.3097716354878418,0.4339364061357375,0.20873752925882574,0.2677185023817646,0.20756945758196282,0.2407647349731372,0.23485468144309835,0.46274421023589984,0.2533012487637607,0.2331381134310168,0.26146313383944164,0.26642574953106807,0.25732935361244014,0.2749913892642033,0.2735636044254887,0.32253186792974997,0.22040441367543323,0.2759557744689827,0.3295221883173436,0.2628095292604254,0.256377377744549,0.21765410820446532,0.26894820143947357,0.3010370485836735,0.26812891683731055,0.29500347000555427,0.21886484779120827,0.22672614306300817,0.2855188118462651,0.2965041625837303,0.22973548199189178,0.24426934557648874,0.2607231354305272,0.1330318905044986,0.20654447044081486,0.16569851554326276,0.9999999999999964,0.17451595879558568,0.17498024294831896,0.20349959940648923,0.19798979444410555,0.19920746400087996,0.35204272913396367,0.15756525214560702,0.1539261485384381,0.16346632191030147,0.23434801009571113,0.19789141485520592,0.2577137006825104,0.21174675254656114,0.3478689252644977,0.2587396465805875,0.24954829915218119,0.24380523502577453,0.2596616492578258,0.25180042718565926,0.24779701110283028,0.23220326243755382,0.13505053067993436],[0.23714990895882093,0.18979674975578065,0.2705594483844563,0.1705999499725461,0.14099857865778126,0.13748651854912816,0.13759840959714587,0.1363622445466695,0.4356050031650338,0.11146723324571026,0.09132501526001029,0.10890160715991407,0.10796246850898107,0.14244544278680252,0.13374908747355804,0.09731580292976234,0.11130579121431647,0.15433937176064294,0.11622036813325187,0.18547799796110281,0.11158854826419932,0.11977461985459661,0.1052160464841665,0.10065842983610726,0.1191330006967868,0.10679008194283231,0.13673491084335393,0.09761371464765045,0.1022784578965539,0.17034056751261512,0.1018363907320162,0.12228411283705824,0.1316034912023777,0.09965366350678005,0.11747999956275545,0.12444074105504982,0.10755751875012096,0.11481784929839668,0.10657563446884065,0.07848773626155171,0.07324931066120442,0.08509392701966348,0.17451595879558568,1.000000000000016,0.08370131936285405,0.10080134162369216,0.13030722886400756,0.07901025915502295,0.08804885372970932,0.09363777212662051,0.06935573900050937,0.1071867252808711,0.10027291678234758,0.07677987976875096,0.11164297832896028,0.08443401650901915,0.09953984613835383,0.09253899567888867,0.09758494245754804,0.08767905639872133,0.10230214333921542,0.10121742931363187,0.0961079922126772,0.10310691772615668,0.0685433365970295],[0.3314782398340026,0.2749561130453362,0.25344724987416495,0.23218265738053737,0.1783407689899131,0.19910697840107,0.2045974817488927,0.20521562291502757,0.1379087720447593,0.1643867362004276,0.14638779769906557,0.19571971100849267,0.1537621124002985,0.22137318313760174,0.16500319736578759,0.15590183786552778,0.14333319985340726,0.19935922120122357,0.1759584241124301,0.1854981279932156,0.1748795769323571,0.199125323081138,0.1474316091948695,0.19207206386957323,0.19339160963809607,0.14164144859516906,0.18758925052504252,0.15284792318316734,0.15213498454169314,0.2050269201910468,0.10978806724606081,0.29585661393842927,0.18276446178003952,0.16001950996744724,0.19779221961907947,0.18790971577454113,0.15745836218409553,0.2240828719081255,0.15921612884029704,0.08909360136185122,0.10433834120448826,0.12380801362792318,0.17498024294831896,0.08370131936285405,0.9999999999999999,0.14266316428625203,0.14782510834674503,0.11728620373195622,0.1761103297524906,0.09178573397517656,0.09398741080544001,0.11180310549038641,0.16896678387982025,0.13846012747274597,0.15018013916122894,0.16138171384141026,0.23428180823025194,0.12693018472637257,0.1557446959504113,0.15097572941697837,0.16042011872138806,0.29334945345901614,0.14960573049043338,0.15160514351740112,0.09894871718703946],[0.4705823184754131,0.3963104116353056,0.5093599609708375,0.37019662540732623,0.3337688734152486,0.2247894758164141,0.35818440297874493,0.27520931004646454,0.23796407681418896,0.20510993616110546,0.2147776910579263,0.2704645027023281,0.30605709402673364,0.26949282719187106,0.2373949727370138,0.17901456299942442,0.20454801876397066,0.3027280850924616,0.23476978958142103,0.24407149920212182,0.2593556796413016,0.2982493110328516,0.19317361808000308,0.190134562859413,0.2439569944799087,0.14861918321306394,0.3762651306037402,0.24681216589435057,0.21283088000446268,0.2985037763394194,0.14157338506686618,0.25047572822654085,0.25110522048314843,0.1698900226447284,0.2900567557813995,0.2204158647951264,0.21096224905431354,0.22523538616175537,0.19071119727414074,0.2273024664149669,0.13468856679797486,0.15503901833252653,0.20349959940648923,0.10080134162369216,0.14266316428625203,0.9999999999999973,0.24827694444698245,0.14458645790270547,0.16948012715894265,0.11563101220089303,0.21219810932699987,0.16456220036764732,0.1907920916246545,0.1958455617361263,0.18621749790054465,0.2106420130895166,0.1887179316125252,0.17825971388689488,0.24687198499367224,0.17591277960209362,0.2217276174906285,0.15709912775256346,0.17953461020463796,0.20100977849521323,0.16594947407557417],[0.4424139162095275,0.3545603093833072,0.41762634384133396,0.3774888536489801,0.24570683356078157,0.2424142808059673,0.26149886246418647,0.26790811053247726,0.24365729950254822,0.21287657091939227,0.20593319215601158,0.23088127098378677,0.23769228284687913,0.26328885317315925,0.27707668315297557,0.1860294413844298,0.20271788197578255,0.3202309240595906,0.2923719312497717,0.35615304583628,0.2927413600882287,0.23373294810317607,0.2231640227164826,0.18711733385177937,0.2165251570041399,0.14725962584830654,0.48819063336919455,0.19280424136097907,0.19230795610780052,0.26875160262239617,0.15406879183097405,0.21868366537794612,0.2543870925050343,0.16324132167792849,0.28611976561982916,0.2292718875999405,0.20944280263258686,0.25312274943013474,0.19454744739193647,0.17257083690301714,0.13870302906635262,0.15614665281072268,0.19798979444410555,0.13030722886400756,0.14782510834674503,0.24827694444698245,0.9999999999999999,0.14593372906321309,0.15852131169437125,0.11903924203166129,0.11994924654970567,0.18677138797112025,0.2076145060722495,0.17610029022800472,0.1858920629628074,0.17306913859002016,0.16823933592187487,0.16699277848687005,0.21846483846704545,0.18701763116406026,0.21764045168892995,0.160884712973828,0.1766713356590816,0.1690227156126166,0.13316088081230337],[0.38197774965200654,0.32223679033995045,0.297264196646787,0.2621889953439467,0.174227918236495,0.19808228593947977,0.2068813493274152,0.2632750680015969,0.12721283366434652,0.3389294632273274,0.17259390927296486,0.1828788731238749,0.16559597614046914,0.2352631508107271,0.21259518195643984,0.22322362861785933,0.2544961945920036,0.17669159398588669,0.20335780970798983,0.2639547752203265,0.22144269596879526,0.2004514442389383,0.18330846005082457,0.15383036541039907,0.17641757497353042,0.13162139877988135,0.18845968889704798,0.15150350792112016,0.21225511592012988,0.22874398048328776,0.15627654211800182,0.18009842186889088,0.15117134924710426,0.3398814370968983,0.23995831269793846,0.18844566652455907,0.17424739680597606,0.18452053537392163,0.16116067356898078,0.09081107312783704,0.1358247628924163,0.118803480699961,0.19920746400087996,0.07901025915502295,0.11728620373195622,0.14458645790270547,0.14593372906321309,0.9999999999999967,0.2027922377260485,0.09773590985435798,0.09278216062900262,0.12300447418507554,0.15185657405343825,0.1769507880772215,0.328957343592081,0.17138907087590535,0.1483862305834136,0.23918150631377375,0.17766042719250175,0.17507257008391233,0.19000369565476086,0.18944854244189313,0.23667044098947998,0.14817729196362833,0.10112068088758461],[0.4084816084662891,0.34210823932213114,0.3020136309001627,0.2705381374381429,0.22353087928219847,0.23582038026631577,0.2513859653396534,0.270522356772936,0.14626054696665208,0.3001780066264949,0.17108219605599595,0.2019689792598343,0.1862721622939169,0.27937320193981213,0.2020370570160033,0.23838295684864455,0.19295087669200928,0.2187220114802518,0.19950183351625927,0.20993001336850659,0.21855427911016573,0.24200987916222277,0.1728009278582274,0.22374684784047602,0.2572244111724069,0.1724719594818737,0.20602584302364307,0.19235699835461428,0.22278811312739147,0.24056762441036286,0.15226305134349444,0.2957676843725821,0.17192442389883925,0.2124761305479468,0.2269909258030361,0.23210395270036283,0.17605006827953293,0.21480381300776366,0.22245204976700486,0.1068624780480768,0.15221945842829895,0.1400012707419458,0.35204272913396367,0.08804885372970932,0.1761103297524906,0.16948012715894265,0.15852131169437125,0.2027922377260485,0.9999999999999928,0.10847724804584265,0.14005948590840706,0.13035667515483854,0.1898764753467843,0.1810706142419749,0.27458230433546943,0.1897802587693106,0.2558235250097573,0.20066991558163463,0.18400116505081654,0.18958041269817147,0.20510335335251473,0.24346118006510675,0.23290562449368626,0.21265096096343153,0.1127157554891056],[0.2860544484917946,0.22232617141585953,0.2107412306119488,0.19681837475291988,0.1259669492241135,0.2430685363324479,0.15648346845436348,0.18012526851246186,0.11716930842225888,0.1593945294809544,0.13262057430141627,0.13461267588179743,0.14645422818534898,0.17690290341666928,0.14917641346209123,0.12713294625848962,0.14071065449369413,0.16575567202505645,0.18328914134957672,0.19041900871619521,0.17254931543882854,0.14794098751136064,0.2090109458534385,0.12248147908448472,0.15017545400857532,0.12506084659179229,0.17216011202273426,0.13488878097155715,0.13287930267887538,0.16761429957829796,0.3618647228213439,0.146978704975999,0.12884183391165546,0.11011997919112602,0.1796703560476321,0.21221050508066397,0.1574187195008802,0.14608324310301257,0.1364741206419673,0.0756724034554127,0.1453093012558878,0.10331011259929,0.15756525214560702,0.09363777212662051,0.09178573397517656,0.11563101220089303,0.11903924203166129,0.09773590985435798,0.10847724804584265,1.0000000000000016,0.07025214563287781,0.13486715512506522,0.11640880306260844,0.12921510589995583,0.12634907724275735,0.11959080038979061,0.11729709073436863,0.1412845674171663,0.13564919571850786,0.12813632885265663,0.1454125313043971,0.10806486832715391,0.14772678347790655,0.11986189962678998,0.08492488891874818],[0.31812555320418684,0.29811136649802167,0.24553757069550025,0.19899302616009698,0.44842481644219534,0.14852302366735345,0.22275875322124927,0.24362555057799287,0.13048486677940468,0.14074289990216682,0.11415403924911306,0.14637978453817094,0.13467707031553214,0.1772417408595271,0.13535827809664544,0.116637986194493,0.13163403914028357,0.17745475878111525,0.12873762415210535,0.13611238549555257,0.15920571807650505,0.2585822233507015,0.11697931283336581,0.17421036509100596,0.3373276617120258,0.14480382009182716,0.16916176233974048,0.12366911094543533,0.12541816140484646,0.15860319903412967,0.09568305581818884,0.19996248063774194,0.12100663212626261,0.12563804713685106,0.17017353810332747,0.15644438176807507,0.11884103551662868,0.14113385698643824,0.11662300834202266,0.08411976019498187,0.08833204398136345,0.09220737946222604,0.1539261485384381,0.06935573900050937,0.09398741080544001,0.21219810932699987,0.11994924654970567,0.09278216062900262,0.14005948590840706,0.07025214563287781,1.0000000000000013,0.07907969460840797,0.15916582704434798,0.1087431214053015,0.14831173426148822,0.1466573748096641,0.159959970851076,0.1354220867435955,0.16917565254896205,0.12906549391362684,0.13230354824949553,0.1317566674797784,0.1297636607479965,0.14629442879398982,0.07654099935797844],[0.3691674637476018,0.2811643473652193,0.3057454906039575,0.2782155061733949,0.16790511951346593,0.23591050565386115,0.20807341675616361,0.20363102604290817,0.15084953229903397,0.18769330686922825,0.18189725034013818,0.1794964500990534,0.30909785873067097,0.19602662103349414,0.20432280941854689,0.16242255501893674,0.17338070532461639,0.17035269467670544,0.23269889758363752,0.30464638058599214,0.21136038767120552,0.1726061642109414,0.3971693925061451,0.13785544136153394,0.16459291800412176,0.11608127171890345,0.25496780515970974,0.1814381287699273,0.15748414584198955,0.21576741403913471,0.14044173833981663,0.16904914779115035,0.15854748141412442,0.13713625310314498,0.24274946062423147,0.194457076359065,0.3325748112920007,0.1923777018087865,0.16650586741951823,0.10695649513427662,0.1134026372268144,0.146783970343846,0.16346632191030147,0.1071867252808711,0.11180310549038641,0.16456220036764732,0.18677138797112025,0.12300447418507554,0.13035667515483854,0.13486715512506522,0.07907969460840797,1.0000000000000047,0.14137750756498943,0.1725961933744649,0.15596368191149226,0.15447095225538032,0.12316186382750666,0.13076071362232555,0.18216204442996914,0.1427678218510641,0.1800068256345259,0.11987364498606742,0.1403119732873184,0.14355642703503166,0.14682221891091105],[0.4421986883151122,0.38922665773045584,0.35309083956093484,0.32598544382551864,0.33095496268873137,0.24875615319355657,0.2649913064594843,0.29483161761923393,0.17849028988911125,0.228130445256537,0.20001110817379475,0.26454914949038194,0.2146094368876216,0.26362010449156414,0.23693284914453358,0.27105569752728265,0.20349938766101064,0.2447065154414588,0.2177862387084883,0.25449655005270544,0.2510759258065636,0.41461358100289347,0.18541436470361705,0.23370891272792996,0.2629453805615575,0.200215138119516,0.25138476518715774,0.19534931519950866,0.20315174700998348,0.2554461644827361,0.14801468628272912,0.25149259636850896,0.2924755135639512,0.18054139823602178,0.25453946481691275,0.2390043731544861,0.20319499381168388,0.5104626985275401,0.2197350820381691,0.12437803132523335,0.1340455988868285,0.16123635695831035,0.23434801009571113,0.10027291678234758,0.16896678387982025,0.1907920916246545,0.2076145060722495,0.15185657405343825,0.1898764753467843,0.11640880306260844,0.15916582704434798,0.14137750756498943,1.0000000000000024,0.18678007306375044,0.21059657234672505,0.2192841510821045,0.20081823347224617,0.1722179653383279,0.21685270624779912,0.2037848774095507,0.2181181843538668,0.18109819551421294,0.19242403147313908,0.2028034382954136,0.14883977496365736],[0.42857403890613954,0.34402577627548686,0.312249579738108,0.3102894769496929,0.19535699258120623,0.23957312083598326,0.271372163504999,0.25883560426866853,0.15391128557320186,0.24522704105208376,0.45742600331268773,0.23035992662123264,0.2757739762362939,0.24436687183317277,0.24357551445909242,0.21418995503722804,0.2063227014087756,0.1893746884768951,0.394203784929774,0.24192236563784164,0.26100084948946894,0.24984119272678826,0.2867089429996663,0.17469043752217486,0.20793654343766163,0.14317408571888732,0.24969936212519933,0.21536834951042708,0.21022122363864135,0.2607290525683794,0.13341268258001335,0.2271488194366402,0.1817726511481001,0.1803593766193427,0.2696179665200581,0.23197688583820134,0.28505370281918313,0.23008533395424596,0.2070243823844762,0.11861636264562857,0.1310401877974033,0.17054702354915122,0.19789141485520592,0.07677987976875096,0.13846012747274597,0.1958455617361263,0.17610029022800472,0.1769507880772215,0.1810706142419749,0.12921510589995583,0.1087431214053015,0.1725961933744649,0.18678007306375044,1.0000000000000036,0.21212632419722033,0.20564062441805306,0.16766228641804207,0.18466711415279338,0.22093514687349602,0.2068023795491185,0.22220055056180446,0.14378840293378164,0.19500214918125502,0.19709791581764355,0.21947597591070797],[0.477769961284925,0.42628938659312626,0.3500000625190721,0.31317830508516176,0.23984841475689062,0.2508697523382829,0.28745240852058523,0.3185639816950352,0.1732259797735217,0.4120304179693681,0.21808537997688585,0.2305571709499515,0.2155160193270072,0.30713140783584697,0.2648802910089979,0.2709902784951696,0.2718581631435408,0.22240262387755166,0.2544765302718657,0.293775385922923,0.28010235384982196,0.2707175954024218,0.2375332504478961,0.20844997499898915,0.256894803521232,0.18465179916343835,0.24437723487107535,0.2091180638192378,0.26770896223756174,0.3604357846476716,0.17875282896508227,0.24632589826478304,0.20364757559149058,0.28752267714974555,0.27178585080415923,0.24143850274187034,0.20912055317811326,0.23900718639770321,0.20871289429793052,0.12692998688390092,0.17706364854540202,0.16381384681379293,0.2577137006825104,0.11164297832896028,0.15018013916122894,0.18621749790054465,0.1858920629628074,0.328957343592081,0.27458230433546943,0.12634907724275735,0.14831173426148822,0.15596368191149226,0.21059657234672505,0.21212632419722033,0.9999999999999936,0.21895625936918742,0.19572452631357307,0.29839396309411303,0.2462781114838119,0.2109560783967605,0.24251871431976543,0.19894286639808254,0.25982944366599775,0.21289848579101606,0.130292569042463],[0.45879499288379083,0.4524514547858527,0.33014208042647786,0.32000105177143207,0.2341092037997366,0.23214974074639022,0.3612570749506241,0.30213334059948427,0.1597794919688793,0.23639653732337196,0.21784442219509212,0.33261555658284536,0.23713847540448604,0.25792428113947036,0.21023963977476554,0.2074476885173282,0.22322240186796494,0.20302182371874158,0.24344605277150347,0.23943828215022514,0.276282851096374,0.3017278372518032,0.19986955878158505,0.21512858937803409,0.24678830560024725,0.1728133807296498,0.2523095167900025,0.21836696902794633,0.21476547714743674,0.25290292558939587,0.1392171945861003,0.2826253609366312,0.18577256142924126,0.17683703807038778,0.2762281821200758,0.2472773575297423,0.20974469177044444,0.2677204798784931,0.20339628786379133,0.11209152695522799,0.1361535928730488,0.1652232448582642,0.21174675254656114,0.08443401650901915,0.16138171384141026,0.2106420130895166,0.17306913859002016,0.17138907087590535,0.1897802587693106,0.11959080038979061,0.1466573748096641,0.15447095225538032,0.2192841510821045,0.20564062441805306,0.21895625936918742,1.0000000000000013,0.19748990403322889,0.18618011075453572,0.30772108098520823,0.2063460223250149,0.2677568788666361,0.18202244345020338,0.19989310023961854,0.3622728724720925,0.15063472305787132],[0.4186644468721696,0.34503213560012785,0.3151560056166706,0.2878835814691853,0.25420499781773365,0.24507868948772285,0.28297518474110345,0.2820813714623023,0.16076021325681833,0.20207036231901607,0.16498350492157088,0.21497696525559468,0.19187941175904646,0.3021297744490785,0.19801279600738417,0.19768695740241368,0.17928271271688997,0.2624337907334762,0.20219206919138413,0.2069863976536138,0.21907881781616378,0.28027362668876504,0.15976772754564214,0.31710312745758923,0.31183663625738883,0.24397315896184416,0.21078031424877108,0.18998110215811095,0.20440545076173625,0.2501475182743417,0.15913079099504934,0.3094101959456609,0.1894366257715607,0.19475814253368182,0.2363082970191404,0.27199100856021724,0.1781302927942307,0.20496643387463645,0.21571340471682954,0.10733911122523845,0.14678687433489496,0.13537229746960816,0.3478689252644977,0.09953984613835383,0.23428180823025194,0.1887179316125252,0.16823933592187487,0.1483862305834136,0.2558235250097573,0.11729709073436863,0.159959970851076,0.12316186382750666,0.20081823347224617,0.16766228641804207,0.19572452631357307,0.19748990403322889,1.000000000000003,0.17571633578097046,0.20873765781964218,0.1973618728612322,0.20251717782213977,0.2973040146641205,0.20026842298160896,0.22398432972550197,0.11227753866606435],[0.42085478642875257,0.33988932515759795,0.29232119195212997,0.29709911373672576,0.20651917795437286,0.2640680244460828,0.3016983595633373,0.3812793849967402,0.17098173241525724,0.2813758965237594,0.18491082815440013,0.20158707585698768,0.2106681402796783,0.287276024642476,0.2182614552795176,0.21495129325120935,0.2219382132688033,0.20369938349754227,0.2343867582709287,0.22627209478430493,0.3021054091428368,0.2680725844036157,0.21747068392212326,0.1967722440778683,0.2558450140526233,0.19231886762376546,0.24714135720159114,0.2031813574049777,0.2665847802846345,0.28926520861634614,0.16941476902004135,0.21870534432803448,0.1703691298524991,0.2762516040464036,0.25039462899541926,0.23850072177322218,0.19746376201966157,0.1983962527577042,0.19177414545110316,0.10890203898950913,0.18402069239594732,0.1275800203425516,0.2587396465805875,0.09253899567888867,0.12693018472637257,0.17825971388689488,0.16699277848687005,0.23918150631377375,0.20066991558163463,0.1412845674171663,0.1354220867435955,0.13076071362232555,0.1722179653383279,0.18466711415279338,0.29839396309411303,0.18618011075453572,0.17571633578097046,1.0000000000000018,0.23868131785825666,0.19896121470144118,0.24383164364907628,0.16604858438364986,0.28025672063081314,0.19914161276725573,0.11341433125143967],[0.5536734611340377,0.5706340477638263,0.38563614569479115,0.38159873435297764,0.26708672399419886,0.25952520986786304,0.41092226013148125,0.3796419717712236,0.19968466258475556,0.27803319371014007,0.30005178060525384,0.3084475050978442,0.3907597022346306,0.3044632168536273,0.2687460818190055,0.2298008636342614,0.265153417945303,0.22626435711299653,0.29516838147416363,0.32410785639781586,0.35679670507095274,0.3341397921886435,0.24460039622928323,0.22595970161917414,0.3093767812004984,0.18611428568578728,0.3542410638920727,0.2543129082542973,0.23687466170260793,0.28470537999800327,0.18624600612381353,0.28719477698126483,0.20785067457804837,0.2045756078991507,0.37374652020003224,0.27802075454345043,0.25474717259133906,0.30913017903899437,0.24773497595226704,0.13377065658147558,0.17389815747842158,0.20285935927828724,0.24954829915218119,0.09758494245754804,0.1557446959504113,0.24687198499367224,0.21846483846704545,0.17766042719250175,0.18400116505081654,0.13564919571850786,0.16917565254896205,0.18216204442996914,0.21685270624779912,0.22093514687349602,0.2462781114838119,0.30772108098520823,0.20873765781964218,0.23868131785825666,0.9999999999999961,0.23726580131145583,0.2859848234467687,0.18028938563477268,0.22114612549188326,0.2662328378782234,0.19204555161606876],[0.43478471826078824,0.37019000452264206,0.30240963029044704,0.31498135718291154,0.22564009738612187,0.25898946069784845,0.3112980169622917,0.3192350886911957,0.16414590187363035,0.22955777294361535,0.19960400719740037,0.2526574553323326,0.24019566188461394,0.26610610210806396,0.2209688136549014,0.20377907331497877,0.20883583961831892,0.2159257286510157,0.22855052560319267,0.24205724460868616,0.2604800067453948,0.2633048149418988,0.19478660103527284,0.2244608146730889,0.3183217932580287,0.1902663058042222,0.24599877594064723,0.22380301967647098,0.3173146189998681,0.25514073641995794,0.1472126232348934,0.24303374981307901,0.21492667752116293,0.20614600196312152,0.2733222221324049,0.2874513062191624,0.22055984593745262,0.24435679301330798,0.2399905008800971,0.1225388479932058,0.158012203227477,0.16394498975264155,0.24380523502577453,0.08767905639872133,0.15097572941697837,0.17591277960209362,0.18701763116406026,0.17507257008391233,0.18958041269817147,0.12813632885265663,0.12906549391362684,0.1427678218510641,0.2037848774095507,0.2068023795491185,0.2109560783967605,0.2063460223250149,0.1973618728612322,0.19896121470144118,0.23726580131145583,0.9999999999999977,0.2954675129842731,0.1707874810168551,0.2564379770649867,0.23076022500305735,0.13480290421535068],[0.5022421606348179,0.4428499200821883,0.38312748221074616,0.3972837627011172,0.24483537811547235,0.2609385677525969,0.33211932171986913,0.37541910696148983,0.18987608656941524,0.2580320199306817,0.2578021466238812,0.31628994933469373,0.27936151366835393,0.30631931722861727,0.255153911604916,0.2266963585560031,0.27089414040265924,0.23287291398386534,0.2797557413983886,0.3020890207494498,0.33231563489408605,0.29061446011183334,0.2289840488614651,0.21502528092425602,0.26667108364051717,0.18249037501190585,0.30667999121761824,0.282423402303556,0.28687842223872334,0.32967531120588034,0.1685281173742823,0.25028166619389164,0.22127978655878217,0.2218390177985883,0.3676227996746592,0.27113359589329167,0.2638961091227656,0.2818754099419622,0.2871619558539525,0.14138663433229176,0.19272952060693022,0.1833526406908101,0.2596616492578258,0.10230214333921542,0.16042011872138806,0.2217276174906285,0.21764045168892995,0.19000369565476086,0.20510335335251473,0.1454125313043971,0.13230354824949553,0.1800068256345259,0.2181181843538668,0.22220055056180446,0.24251871431976543,0.2677568788666361,0.20251717782213977,0.24383164364907628,0.2859848234467687,0.2954675129842731,1.0000000000000009,0.18678700391276448,0.2189461291661855,0.24377787402610973,0.15826562210183262],[0.40867142248631994,0.34570276063460925,0.3239295599959922,0.2516720267658129,0.2135455204464561,0.2498050406980446,0.21371076456555105,0.26679627094482505,0.15067826779959564,0.19468922937094374,0.1500652263614061,0.1905557048440008,0.2006763863971381,0.28159319784413345,0.20360236968227327,0.16120258355739178,0.17874244435858097,0.2351921907442891,0.1794377439909258,0.19565663046642276,0.1941867377860812,0.24280509478839854,0.15640239598917208,0.2897870491978371,0.27847315955510693,0.22465792072564914,0.1949005187547765,0.16231764839956664,0.172512997349441,0.23118996689383886,0.13384376300435938,0.36197929406594,0.1706642540281433,0.2630809371924416,0.21136222252901213,0.23525240134034578,0.16508554177186305,0.20063663995304212,0.16697776843232381,0.1035418188580421,0.12148764603530306,0.1427545708867029,0.25180042718565926,0.10121742931363187,0.29334945345901614,0.15709912775256346,0.160884712973828,0.18944854244189313,0.24346118006510675,0.10806486832715391,0.1317566674797784,0.11987364498606742,0.18109819551421294,0.14378840293378164,0.19894286639808254,0.18202244345020338,0.2973040146641205,0.16604858438364986,0.18028938563477268,0.1707874810168551,0.18678700391276448,1.000000000000006,0.1905889493627069,0.17254394682712115,0.1047906924785774],[0.4419787471406652,0.3496691797211884,0.3054697943301173,0.31301984354290313,0.2232112774714473,0.28423816567536386,0.3164800008187136,0.31680485446930895,0.178165824468702,0.3253762839785881,0.19021099856750961,0.2263671922618468,0.2007986036619101,0.2872796865084698,0.2271189611114655,0.22296418729197243,0.21318422350243604,0.23634303506153811,0.22070847786767922,0.2385938342206527,0.2810084990329287,0.2780043808834162,0.19600789783708383,0.25239408957105797,0.28190730240212236,0.2655997041016015,0.257262008976061,0.21574163675354618,0.28296947303132347,0.2902565755142065,0.17235677217838194,0.25634400053947215,0.17959804552551706,0.30923611207026824,0.2567434554372285,0.4088677107488632,0.19903703106920456,0.20836831879539636,0.20811071789594088,0.11513876319752836,0.21350231104093437,0.13325947629058985,0.24779701110283028,0.0961079922126772,0.14960573049043338,0.17953461020463796,0.1766713356590816,0.23667044098947998,0.23290562449368626,0.14772678347790655,0.1297636607479965,0.1403119732873184,0.19242403147313908,0.19500214918125502,0.25982944366599775,0.19989310023961854,0.20026842298160896,0.28025672063081314,0.22114612549188326,0.2564379770649867,0.2189461291661855,0.1905889493627069,1.0000000000000013,0.24802390290129278,0.1223836903721407],[0.4527769420247227,0.4101474548222171,0.3194360375625236,0.3273476765786797,0.24203973462298778,0.2571262737264992,0.36773822405862666,0.29511539538900367,0.1622655290148706,0.2314086726585872,0.20055268729223638,0.2864666841734002,0.22838044870740115,0.2731768240838128,0.20555449251770547,0.20468037050051047,0.21536254535832702,0.2268013852230221,0.22707126780978212,0.22956873477032777,0.2559042770446903,0.29094518738187625,0.19222394117286812,0.22998786472382393,0.2711572747863644,0.19897986577563678,0.24058404534945027,0.2309744481526055,0.22751277592170369,0.28764297576725645,0.14218969317220803,0.2881496408772839,0.18619602903877958,0.18109412571596983,0.27203831205495216,0.286569366703032,0.22524820168784562,0.23145587537453358,0.2130772694226534,0.11476984016539812,0.15618962203982573,0.15608054589268386,0.23220326243755382,0.10310691772615668,0.15160514351740112,0.20100977849521323,0.1690227156126166,0.14817729196362833,0.21265096096343153,0.11986189962678998,0.14629442879398982,0.14355642703503166,0.2028034382954136,0.19709791581764355,0.21289848579101606,0.3622728724720925,0.22398432972550197,0.19914161276725573,0.2662328378782234,0.23076022500305735,0.24377787402610973,0.17254394682712115,0.24802390290129278,0.9999999999999973,0.13613456043305242],[0.31666873377209676,0.2644170270953824,0.2366496258452024,0.23436468329777663,0.1428272054698175,0.18769003761658523,0.20522710257228313,0.16861040586455492,0.12631843769997675,0.147400005826813,0.27344350837531295,0.1802081410628223,0.37077336011215456,0.1747025324174072,0.18536050153411876,0.13847605935394755,0.16322049267962627,0.1436475507244018,0.22387492159250869,0.1927709867492837,0.18115775455182798,0.18821144321172706,0.16304871523256917,0.12905658660415611,0.14073409945709542,0.0978253650629811,0.17854718283638368,0.16615057905700947,0.14748510013502653,0.17387095356833668,0.10484080667749401,0.16229877480779975,0.1338423628783369,0.11474767759204064,0.18168913032478773,0.1648237469760303,0.21400842623435806,0.19743151667954023,0.14399786586036326,0.0834489894793527,0.0876437042741253,0.12561289046910007,0.13505053067993436,0.0685433365970295,0.09894871718703946,0.16594947407557417,0.13316088081230337,0.10112068088758461,0.1127157554891056,0.08492488891874818,0.07654099935797844,0.14682221891091105,0.14883977496365736,0.21947597591070797,0.130292569042463,0.15063472305787132,0.11227753866606435,0.11341433125143967,0.19204555161606876,0.13480290421535068,0.15826562210183262,0.1047906924785774,0.1223836903721407,0.13613456043305242,0.9999999999999993]],\"type\":\"heatmap\",\"xaxis\":\"x\",\"yaxis\":\"y\",\"hovertemplate\":\"x: %{x}<br>y: %{y}<br>Similarity Score: %{z}<extra></extra>\"}],                        {\"template\":{\"data\":{\"histogram2dcontour\":[{\"type\":\"histogram2dcontour\",\"colorbar\":{\"outlinewidth\":0,\"ticks\":\"\"},\"colorscale\":[[0.0,\"#0d0887\"],[0.1111111111111111,\"#46039f\"],[0.2222222222222222,\"#7201a8\"],[0.3333333333333333,\"#9c179e\"],[0.4444444444444444,\"#bd3786\"],[0.5555555555555556,\"#d8576b\"],[0.6666666666666666,\"#ed7953\"],[0.7777777777777778,\"#fb9f3a\"],[0.8888888888888888,\"#fdca26\"],[1.0,\"#f0f921\"]]}],\"choropleth\":[{\"type\":\"choropleth\",\"colorbar\":{\"outlinewidth\":0,\"ticks\":\"\"}}],\"histogram2d\":[{\"type\":\"histogram2d\",\"colorbar\":{\"outlinewidth\":0,\"ticks\":\"\"},\"colorscale\":[[0.0,\"#0d0887\"],[0.1111111111111111,\"#46039f\"],[0.2222222222222222,\"#7201a8\"],[0.3333333333333333,\"#9c179e\"],[0.4444444444444444,\"#bd3786\"],[0.5555555555555556,\"#d8576b\"],[0.6666666666666666,\"#ed7953\"],[0.7777777777777778,\"#fb9f3a\"],[0.8888888888888888,\"#fdca26\"],[1.0,\"#f0f921\"]]}],\"heatmap\":[{\"type\":\"heatmap\",\"colorbar\":{\"outlinewidth\":0,\"ticks\":\"\"},\"colorscale\":[[0.0,\"#0d0887\"],[0.1111111111111111,\"#46039f\"],[0.2222222222222222,\"#7201a8\"],[0.3333333333333333,\"#9c179e\"],[0.4444444444444444,\"#bd3786\"],[0.5555555555555556,\"#d8576b\"],[0.6666666666666666,\"#ed7953\"],[0.7777777777777778,\"#fb9f3a\"],[0.8888888888888888,\"#fdca26\"],[1.0,\"#f0f921\"]]}],\"heatmapgl\":[{\"type\":\"heatmapgl\",\"colorbar\":{\"outlinewidth\":0,\"ticks\":\"\"},\"colorscale\":[[0.0,\"#0d0887\"],[0.1111111111111111,\"#46039f\"],[0.2222222222222222,\"#7201a8\"],[0.3333333333333333,\"#9c179e\"],[0.4444444444444444,\"#bd3786\"],[0.5555555555555556,\"#d8576b\"],[0.6666666666666666,\"#ed7953\"],[0.7777777777777778,\"#fb9f3a\"],[0.8888888888888888,\"#fdca26\"],[1.0,\"#f0f921\"]]}],\"contourcarpet\":[{\"type\":\"contourcarpet\",\"colorbar\":{\"outlinewidth\":0,\"ticks\":\"\"}}],\"contour\":[{\"type\":\"contour\",\"colorbar\":{\"outlinewidth\":0,\"ticks\":\"\"},\"colorscale\":[[0.0,\"#0d0887\"],[0.1111111111111111,\"#46039f\"],[0.2222222222222222,\"#7201a8\"],[0.3333333333333333,\"#9c179e\"],[0.4444444444444444,\"#bd3786\"],[0.5555555555555556,\"#d8576b\"],[0.6666666666666666,\"#ed7953\"],[0.7777777777777778,\"#fb9f3a\"],[0.8888888888888888,\"#fdca26\"],[1.0,\"#f0f921\"]]}],\"surface\":[{\"type\":\"surface\",\"colorbar\":{\"outlinewidth\":0,\"ticks\":\"\"},\"colorscale\":[[0.0,\"#0d0887\"],[0.1111111111111111,\"#46039f\"],[0.2222222222222222,\"#7201a8\"],[0.3333333333333333,\"#9c179e\"],[0.4444444444444444,\"#bd3786\"],[0.5555555555555556,\"#d8576b\"],[0.6666666666666666,\"#ed7953\"],[0.7777777777777778,\"#fb9f3a\"],[0.8888888888888888,\"#fdca26\"],[1.0,\"#f0f921\"]]}],\"mesh3d\":[{\"type\":\"mesh3d\",\"colorbar\":{\"outlinewidth\":0,\"ticks\":\"\"}}],\"scatter\":[{\"fillpattern\":{\"fillmode\":\"overlay\",\"size\":10,\"solidity\":0.2},\"type\":\"scatter\"}],\"parcoords\":[{\"type\":\"parcoords\",\"line\":{\"colorbar\":{\"outlinewidth\":0,\"ticks\":\"\"}}}],\"scatterpolargl\":[{\"type\":\"scatterpolargl\",\"marker\":{\"colorbar\":{\"outlinewidth\":0,\"ticks\":\"\"}}}],\"bar\":[{\"error_x\":{\"color\":\"#2a3f5f\"},\"error_y\":{\"color\":\"#2a3f5f\"},\"marker\":{\"line\":{\"color\":\"#E5ECF6\",\"width\":0.5},\"pattern\":{\"fillmode\":\"overlay\",\"size\":10,\"solidity\":0.2}},\"type\":\"bar\"}],\"scattergeo\":[{\"type\":\"scattergeo\",\"marker\":{\"colorbar\":{\"outlinewidth\":0,\"ticks\":\"\"}}}],\"scatterpolar\":[{\"type\":\"scatterpolar\",\"marker\":{\"colorbar\":{\"outlinewidth\":0,\"ticks\":\"\"}}}],\"histogram\":[{\"marker\":{\"pattern\":{\"fillmode\":\"overlay\",\"size\":10,\"solidity\":0.2}},\"type\":\"histogram\"}],\"scattergl\":[{\"type\":\"scattergl\",\"marker\":{\"colorbar\":{\"outlinewidth\":0,\"ticks\":\"\"}}}],\"scatter3d\":[{\"type\":\"scatter3d\",\"line\":{\"colorbar\":{\"outlinewidth\":0,\"ticks\":\"\"}},\"marker\":{\"colorbar\":{\"outlinewidth\":0,\"ticks\":\"\"}}}],\"scattermapbox\":[{\"type\":\"scattermapbox\",\"marker\":{\"colorbar\":{\"outlinewidth\":0,\"ticks\":\"\"}}}],\"scatterternary\":[{\"type\":\"scatterternary\",\"marker\":{\"colorbar\":{\"outlinewidth\":0,\"ticks\":\"\"}}}],\"scattercarpet\":[{\"type\":\"scattercarpet\",\"marker\":{\"colorbar\":{\"outlinewidth\":0,\"ticks\":\"\"}}}],\"carpet\":[{\"aaxis\":{\"endlinecolor\":\"#2a3f5f\",\"gridcolor\":\"white\",\"linecolor\":\"white\",\"minorgridcolor\":\"white\",\"startlinecolor\":\"#2a3f5f\"},\"baxis\":{\"endlinecolor\":\"#2a3f5f\",\"gridcolor\":\"white\",\"linecolor\":\"white\",\"minorgridcolor\":\"white\",\"startlinecolor\":\"#2a3f5f\"},\"type\":\"carpet\"}],\"table\":[{\"cells\":{\"fill\":{\"color\":\"#EBF0F8\"},\"line\":{\"color\":\"white\"}},\"header\":{\"fill\":{\"color\":\"#C8D4E3\"},\"line\":{\"color\":\"white\"}},\"type\":\"table\"}],\"barpolar\":[{\"marker\":{\"line\":{\"color\":\"#E5ECF6\",\"width\":0.5},\"pattern\":{\"fillmode\":\"overlay\",\"size\":10,\"solidity\":0.2}},\"type\":\"barpolar\"}],\"pie\":[{\"automargin\":true,\"type\":\"pie\"}]},\"layout\":{\"autotypenumbers\":\"strict\",\"colorway\":[\"#636efa\",\"#EF553B\",\"#00cc96\",\"#ab63fa\",\"#FFA15A\",\"#19d3f3\",\"#FF6692\",\"#B6E880\",\"#FF97FF\",\"#FECB52\"],\"font\":{\"color\":\"#2a3f5f\"},\"hovermode\":\"closest\",\"hoverlabel\":{\"align\":\"left\"},\"paper_bgcolor\":\"white\",\"plot_bgcolor\":\"#E5ECF6\",\"polar\":{\"bgcolor\":\"#E5ECF6\",\"angularaxis\":{\"gridcolor\":\"white\",\"linecolor\":\"white\",\"ticks\":\"\"},\"radialaxis\":{\"gridcolor\":\"white\",\"linecolor\":\"white\",\"ticks\":\"\"}},\"ternary\":{\"bgcolor\":\"#E5ECF6\",\"aaxis\":{\"gridcolor\":\"white\",\"linecolor\":\"white\",\"ticks\":\"\"},\"baxis\":{\"gridcolor\":\"white\",\"linecolor\":\"white\",\"ticks\":\"\"},\"caxis\":{\"gridcolor\":\"white\",\"linecolor\":\"white\",\"ticks\":\"\"}},\"coloraxis\":{\"colorbar\":{\"outlinewidth\":0,\"ticks\":\"\"}},\"colorscale\":{\"sequential\":[[0.0,\"#0d0887\"],[0.1111111111111111,\"#46039f\"],[0.2222222222222222,\"#7201a8\"],[0.3333333333333333,\"#9c179e\"],[0.4444444444444444,\"#bd3786\"],[0.5555555555555556,\"#d8576b\"],[0.6666666666666666,\"#ed7953\"],[0.7777777777777778,\"#fb9f3a\"],[0.8888888888888888,\"#fdca26\"],[1.0,\"#f0f921\"]],\"sequentialminus\":[[0.0,\"#0d0887\"],[0.1111111111111111,\"#46039f\"],[0.2222222222222222,\"#7201a8\"],[0.3333333333333333,\"#9c179e\"],[0.4444444444444444,\"#bd3786\"],[0.5555555555555556,\"#d8576b\"],[0.6666666666666666,\"#ed7953\"],[0.7777777777777778,\"#fb9f3a\"],[0.8888888888888888,\"#fdca26\"],[1.0,\"#f0f921\"]],\"diverging\":[[0,\"#8e0152\"],[0.1,\"#c51b7d\"],[0.2,\"#de77ae\"],[0.3,\"#f1b6da\"],[0.4,\"#fde0ef\"],[0.5,\"#f7f7f7\"],[0.6,\"#e6f5d0\"],[0.7,\"#b8e186\"],[0.8,\"#7fbc41\"],[0.9,\"#4d9221\"],[1,\"#276419\"]]},\"xaxis\":{\"gridcolor\":\"white\",\"linecolor\":\"white\",\"ticks\":\"\",\"title\":{\"standoff\":15},\"zerolinecolor\":\"white\",\"automargin\":true,\"zerolinewidth\":2},\"yaxis\":{\"gridcolor\":\"white\",\"linecolor\":\"white\",\"ticks\":\"\",\"title\":{\"standoff\":15},\"zerolinecolor\":\"white\",\"automargin\":true,\"zerolinewidth\":2},\"scene\":{\"xaxis\":{\"backgroundcolor\":\"#E5ECF6\",\"gridcolor\":\"white\",\"linecolor\":\"white\",\"showbackground\":true,\"ticks\":\"\",\"zerolinecolor\":\"white\",\"gridwidth\":2},\"yaxis\":{\"backgroundcolor\":\"#E5ECF6\",\"gridcolor\":\"white\",\"linecolor\":\"white\",\"showbackground\":true,\"ticks\":\"\",\"zerolinecolor\":\"white\",\"gridwidth\":2},\"zaxis\":{\"backgroundcolor\":\"#E5ECF6\",\"gridcolor\":\"white\",\"linecolor\":\"white\",\"showbackground\":true,\"ticks\":\"\",\"zerolinecolor\":\"white\",\"gridwidth\":2}},\"shapedefaults\":{\"line\":{\"color\":\"#2a3f5f\"}},\"annotationdefaults\":{\"arrowcolor\":\"#2a3f5f\",\"arrowhead\":0,\"arrowwidth\":1},\"geo\":{\"bgcolor\":\"white\",\"landcolor\":\"#E5ECF6\",\"subunitcolor\":\"white\",\"showland\":true,\"showlakes\":true,\"lakecolor\":\"white\"},\"title\":{\"x\":0.05},\"mapbox\":{\"style\":\"light\"}}},\"xaxis\":{\"anchor\":\"y\",\"domain\":[0.0,1.0],\"scaleanchor\":\"y\",\"constrain\":\"domain\"},\"yaxis\":{\"anchor\":\"x\",\"domain\":[0.0,1.0],\"autorange\":\"reversed\",\"constrain\":\"domain\"},\"coloraxis\":{\"colorbar\":{\"title\":{\"text\":\"Similarity Score\"}},\"colorscale\":[[0.0,\"rgb(247,252,240)\"],[0.125,\"rgb(224,243,219)\"],[0.25,\"rgb(204,235,197)\"],[0.375,\"rgb(168,221,181)\"],[0.5,\"rgb(123,204,196)\"],[0.625,\"rgb(78,179,211)\"],[0.75,\"rgb(43,140,190)\"],[0.875,\"rgb(8,104,172)\"],[1.0,\"rgb(8,64,129)\"]]},\"margin\":{\"t\":60},\"title\":{\"font\":{\"size\":22,\"color\":\"Black\"},\"text\":\"<b>Similarity Matrix\",\"y\":0.95,\"x\":0.55,\"xanchor\":\"center\",\"yanchor\":\"top\"},\"hoverlabel\":{\"font\":{\"size\":16,\"family\":\"Rockwell\"},\"bgcolor\":\"white\"},\"width\":800,\"height\":800,\"showlegend\":true,\"legend\":{\"title\":{\"text\":\"Trend\"}}},                        {\"responsive\": true}                    ).then(function(){\n",
       "                            \n",
       "var gd = document.getElementById('799a64d2-2edf-444b-94b6-0ae1af696bd1');\n",
       "var x = new MutationObserver(function (mutations, observer) {{\n",
       "        var display = window.getComputedStyle(gd).display;\n",
       "        if (!display || display === 'none') {{\n",
       "            console.log([gd, 'removed!']);\n",
       "            Plotly.purge(gd);\n",
       "            observer.disconnect();\n",
       "        }}\n",
       "}});\n",
       "\n",
       "// Listen for the removal of the full notebook cells\n",
       "var notebookContainer = gd.closest('#notebook-container');\n",
       "if (notebookContainer) {{\n",
       "    x.observe(notebookContainer, {childList: true});\n",
       "}}\n",
       "\n",
       "// Listen for the clearing of the current output cell\n",
       "var outputEl = gd.closest('.output');\n",
       "if (outputEl) {{\n",
       "    x.observe(outputEl, {childList: true});\n",
       "}}\n",
       "\n",
       "                        })                };                });            </script>        </div>"
      ]
     },
     "metadata": {},
     "output_type": "display_data"
    }
   ],
   "source": [
    "topic_model.visualize_heatmap()"
   ]
  },
  {
   "cell_type": "code",
   "execution_count": null,
   "id": "9726d2a0",
   "metadata": {},
   "outputs": [],
   "source": []
  }
 ],
 "metadata": {
  "kernelspec": {
   "display_name": "Python [conda env:tvtropes]",
   "language": "python",
   "name": "conda-env-tvtropes-py"
  },
  "language_info": {
   "codemirror_mode": {
    "name": "ipython",
    "version": 3
   },
   "file_extension": ".py",
   "mimetype": "text/x-python",
   "name": "python",
   "nbconvert_exporter": "python",
   "pygments_lexer": "ipython3",
   "version": "3.9.12"
  }
 },
 "nbformat": 4,
 "nbformat_minor": 5
}
