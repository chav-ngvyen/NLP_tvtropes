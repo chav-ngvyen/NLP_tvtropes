{
 "cells": [
  {
   "cell_type": "code",
   "execution_count": 1,
   "id": "b5a680b6",
   "metadata": {},
   "outputs": [],
   "source": [
    "import pandas as pd"
   ]
  },
  {
   "cell_type": "code",
   "execution_count": 12,
   "id": "43a20d61",
   "metadata": {},
   "outputs": [],
   "source": [
    "df = pd.read_csv(\"../TVTropesData/tv_tropes.csv\")"
   ]
  },
  {
   "cell_type": "code",
   "execution_count": 16,
   "id": "06a8bf49",
   "metadata": {},
   "outputs": [
    {
     "data": {
      "text/plain": [
       "' This song from A Bit of Fry and Laurie describes the life of a page 3 model, through to her marriage to a pop star.\\n The Rupert MurdochWonderful Life sketch has Murdoch comment that \"You need tits to sell a newspaper\" after opening a newspaper in a world where he\\'d never been born and finding that page three is just more news.\\n'"
      ]
     },
     "execution_count": 16,
     "metadata": {},
     "output_type": "execute_result"
    }
   ],
   "source": [
    "df.Example[0]"
   ]
  },
  {
   "cell_type": "code",
   "execution_count": null,
   "id": "95685b29",
   "metadata": {},
   "outputs": [],
   "source": []
  }
 ],
 "metadata": {
  "kernelspec": {
   "display_name": "Python [conda env:text-data-class]",
   "language": "python",
   "name": "conda-env-text-data-class-py"
  },
  "language_info": {
   "codemirror_mode": {
    "name": "ipython",
    "version": 3
   },
   "file_extension": ".py",
   "mimetype": "text/x-python",
   "name": "python",
   "nbconvert_exporter": "python",
   "pygments_lexer": "ipython3",
   "version": "3.9.9"
  }
 },
 "nbformat": 4,
 "nbformat_minor": 5
}
