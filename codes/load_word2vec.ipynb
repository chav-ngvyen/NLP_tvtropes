{
 "cells": [
  {
   "cell_type": "code",
   "execution_count": 2,
   "id": "dbe97ccf",
   "metadata": {},
   "outputs": [],
   "source": [
    "from gensim.models import Word2Vec\n"
   ]
  },
  {
   "cell_type": "code",
   "execution_count": 3,
   "id": "a753a04f",
   "metadata": {},
   "outputs": [],
   "source": [
    "bigram = Word2Vec.load(\"../models/bigram_word2vec.model\")"
   ]
  },
  {
   "cell_type": "code",
   "execution_count": 4,
   "id": "1c1de361",
   "metadata": {},
   "outputs": [
    {
     "data": {
      "text/plain": [
       "[('bad_guy', 0.7065610885620117),\n",
       " ('villain', 0.7063288688659668),\n",
       " ('defeated', 0.6340667009353638),\n",
       " ('hero', 0.6219871044158936),\n",
       " ('antagonist', 0.6172733902931213),\n",
       " ('rival', 0.61487877368927),\n",
       " ('dragon', 0.6147741079330444),\n",
       " ('good_guys', 0.6119282245635986),\n",
       " ('minion', 0.6085368990898132),\n",
       " ('good_guy', 0.5965617299079895)]"
      ]
     },
     "execution_count": 4,
     "metadata": {},
     "output_type": "execute_result"
    }
   ],
   "source": [
    "bigram.wv.most_similar('big_bad')"
   ]
  },
  {
   "cell_type": "code",
   "execution_count": 5,
   "id": "44c8b67d",
   "metadata": {},
   "outputs": [
    {
     "data": {
      "text/plain": [
       "[('lancer', 0.6604410409927368),\n",
       " ('wolf', 0.6275288462638855),\n",
       " ('squad', 0.6199926137924194),\n",
       " ('wannabe', 0.6189258694648743),\n",
       " ('big_bad', 0.6147741079330444),\n",
       " ('knight', 0.5930625200271606),\n",
       " ('rival', 0.5887823104858398),\n",
       " ('minion', 0.5824518203735352),\n",
       " ('big_guy', 0.5746404528617859),\n",
       " ('demon', 0.573767364025116)]"
      ]
     },
     "execution_count": 5,
     "metadata": {},
     "output_type": "execute_result"
    }
   ],
   "source": [
    "bigram.wv.most_similar('dragon')"
   ]
  },
  {
   "cell_type": "code",
   "execution_count": 6,
   "id": "3ea956e8",
   "metadata": {},
   "outputs": [
    {
     "data": {
      "text/plain": [
       "[('unstoppable_force', 0.7879235744476318),\n",
       " ('antechamber', 0.7867285013198853),\n",
       " ('axe_to_grind', 0.784503161907196),\n",
       " ('alcoholic_drink', 0.7821184992790222),\n",
       " ('unusable_weapon', 0.7817029356956482),\n",
       " ('enclave', 0.7776504755020142),\n",
       " ('ant', 0.7769170999526978),\n",
       " ('automated_weapon', 0.7734383940696716),\n",
       " ('evolutionary_strategy', 0.771808385848999),\n",
       " ('adjunct', 0.7712868452072144)]"
      ]
     },
     "execution_count": 6,
     "metadata": {},
     "output_type": "execute_result"
    }
   ],
   "source": [
    "bigram.wv.most_similar('immovable_object')"
   ]
  },
  {
   "cell_type": "code",
   "execution_count": 11,
   "id": "87147112",
   "metadata": {},
   "outputs": [
    {
     "data": {
      "text/plain": [
       "[('partner', 0.7391640543937683),\n",
       " ('heroine', 0.7092222571372986),\n",
       " ('friend', 0.6989827752113342),\n",
       " ('lover', 0.6988124251365662),\n",
       " ('main_character', 0.6711701154708862),\n",
       " ('mentor', 0.6628042459487915),\n",
       " ('best_friend', 0.6517846584320068),\n",
       " ('sidekick', 0.6507197022438049),\n",
       " ('significant_other', 0.6480432748794556),\n",
       " ('husband', 0.634878933429718)]"
      ]
     },
     "execution_count": 11,
     "metadata": {},
     "output_type": "execute_result"
    }
   ],
   "source": [
    "bigram.wv.most_similar('love_interest')"
   ]
  },
  {
   "cell_type": "code",
   "execution_count": null,
   "id": "a464621a",
   "metadata": {},
   "outputs": [],
   "source": []
  }
 ],
 "metadata": {
  "kernelspec": {
   "display_name": "Python [conda env:bert]",
   "language": "python",
   "name": "conda-env-bert-py"
  },
  "language_info": {
   "codemirror_mode": {
    "name": "ipython",
    "version": 3
   },
   "file_extension": ".py",
   "mimetype": "text/x-python",
   "name": "python",
   "nbconvert_exporter": "python",
   "pygments_lexer": "ipython3",
   "version": "3.9.12"
  }
 },
 "nbformat": 4,
 "nbformat_minor": 5
}
