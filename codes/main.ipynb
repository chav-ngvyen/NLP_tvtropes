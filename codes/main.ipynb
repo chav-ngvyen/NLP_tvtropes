{
 "cells": [
  {
   "cell_type": "code",
   "execution_count": 1,
   "id": "c96f28e1",
   "metadata": {},
   "outputs": [],
   "source": [
    "import pandas as pd\n",
    "import numpy as np\n",
    "\n",
    "# import pandasql as ps\n",
    "# from pandasql import sqldf\n",
    "\n",
    "import matplotlib.pyplot as plt\n",
    "import seaborn as sns\n",
    "\n",
    "import preprocess_functions\n",
    "from preprocess_functions import *\n",
    "\n",
    "import multiprocessing; cores = multiprocessing.cpu_count() # Count the number of cores in a computer\n",
    "\n",
    "from textblob import Word\n",
    "from nltk.corpus import stopwords\n"
   ]
  },
  {
   "cell_type": "code",
   "execution_count": 2,
   "id": "0a0f4172",
   "metadata": {},
   "outputs": [],
   "source": [
    "import gensim.models\n",
    "from gensim.models import Word2Vec\n",
    "from gensim.test.utils import datapath\n",
    "from gensim import utils\n",
    "from gensim.models.phrases import Phrases, ENGLISH_CONNECTOR_WORDS\n",
    "from gensim.parsing.preprocessing import remove_stopwords"
   ]
  },
  {
   "cell_type": "code",
   "execution_count": 3,
   "id": "12ce3069",
   "metadata": {},
   "outputs": [],
   "source": [
    "from hdbscan import HDBSCAN\n",
    "from bertopic import BERTopic\n",
    "\n",
    "from sentence_transformers import SentenceTransformer\n",
    "from sklearn.feature_extraction.text import CountVectorizer\n",
    "\n",
    "from sklearn.decomposition import PCA\n"
   ]
  },
  {
   "cell_type": "code",
   "execution_count": 4,
   "id": "e7b001e4",
   "metadata": {},
   "outputs": [],
   "source": [
    "from sklearn.metrics.pairwise import cosine_similarity\n",
    "from sklearn.metrics.pairwise import euclidean_distances\n",
    "\n",
    "from sklearn.cluster import MiniBatchKMeans\n",
    "from sklearn.metrics import silhouette_samples, silhouette_score"
   ]
  },
  {
   "cell_type": "markdown",
   "id": "0d8d1785",
   "metadata": {},
   "source": [
    "## Media dataframe (mdf)"
   ]
  },
  {
   "cell_type": "code",
   "execution_count": 5,
   "id": "cd028098",
   "metadata": {},
   "outputs": [],
   "source": [
    "tv = pd.read_csv(\"../TVTropesData/tv_tropes.csv\")\n",
    "tv[\"media\"] = \"tv\"\n",
    "film = pd.read_csv(\"../TVTropesData/film_tropes.csv\")\n",
    "film[\"media\"] = \"film\"\n",
    "lit = pd.read_csv(\"../TVTropesData/lit_tropes.csv\")\n",
    "lit[\"media\"] = \"lit\"\n",
    "\n",
    "mdf = pd.concat([tv, film, lit]).reset_index(drop=True)"
   ]
  },
  {
   "cell_type": "code",
   "execution_count": 6,
   "id": "cf72919f",
   "metadata": {},
   "outputs": [],
   "source": [
    "mdf['Trope'] = clean_trope(mdf.Trope)\n",
    "mdf = mdf.drop(columns=\"Unnamed: 0\")"
   ]
  },
  {
   "cell_type": "code",
   "execution_count": 7,
   "id": "6a245b5e",
   "metadata": {},
   "outputs": [
    {
     "data": {
      "text/html": [
       "<div>\n",
       "<style scoped>\n",
       "    .dataframe tbody tr th:only-of-type {\n",
       "        vertical-align: middle;\n",
       "    }\n",
       "\n",
       "    .dataframe tbody tr th {\n",
       "        vertical-align: top;\n",
       "    }\n",
       "\n",
       "    .dataframe thead th {\n",
       "        text-align: right;\n",
       "    }\n",
       "</style>\n",
       "<table border=\"1\" class=\"dataframe\">\n",
       "  <thead>\n",
       "    <tr style=\"text-align: right;\">\n",
       "      <th></th>\n",
       "      <th>Title</th>\n",
       "      <th>Trope</th>\n",
       "      <th>Example</th>\n",
       "      <th>trope_id</th>\n",
       "      <th>title_id</th>\n",
       "      <th>media</th>\n",
       "    </tr>\n",
       "  </thead>\n",
       "  <tbody>\n",
       "    <tr>\n",
       "      <th>0</th>\n",
       "      <td>ABitOfFryAndLaurie</td>\n",
       "      <td>page_three_stunna</td>\n",
       "      <td>This song from A Bit of Fry and Laurie descri...</td>\n",
       "      <td>t16579</td>\n",
       "      <td>tv0</td>\n",
       "      <td>tv</td>\n",
       "    </tr>\n",
       "    <tr>\n",
       "      <th>1</th>\n",
       "      <td>ABitOfFryAndLaurie</td>\n",
       "      <td>painful_rhyme</td>\n",
       "      <td>Played for humor as the entire basis of Hugh ...</td>\n",
       "      <td>t16587</td>\n",
       "      <td>tv0</td>\n",
       "      <td>tv</td>\n",
       "    </tr>\n",
       "    <tr>\n",
       "      <th>2</th>\n",
       "      <td>ABitOfFryAndLaurie</td>\n",
       "      <td>pocket_protector</td>\n",
       "      <td>Inverted nonsensically in the pilot of A Bit ...</td>\n",
       "      <td>t17280</td>\n",
       "      <td>tv0</td>\n",
       "      <td>tv</td>\n",
       "    </tr>\n",
       "    <tr>\n",
       "      <th>3</th>\n",
       "      <td>ABitOfFryAndLaurie</td>\n",
       "      <td>that_syncing_feeling</td>\n",
       "      <td>Played for laughs in a sketch in A Bit of Fry...</td>\n",
       "      <td>t22562</td>\n",
       "      <td>tv0</td>\n",
       "      <td>tv</td>\n",
       "    </tr>\n",
       "    <tr>\n",
       "      <th>4</th>\n",
       "      <td>ABitOfFryAndLaurie</td>\n",
       "      <td>literal_minded</td>\n",
       "      <td>NaN</td>\n",
       "      <td>t12979</td>\n",
       "      <td>tv0</td>\n",
       "      <td>tv</td>\n",
       "    </tr>\n",
       "    <tr>\n",
       "      <th>5</th>\n",
       "      <td>ABitOfFryAndLaurie</td>\n",
       "      <td>excuse_question</td>\n",
       "      <td>Parodied . Who was the first man to run the ...</td>\n",
       "      <td>t07222</td>\n",
       "      <td>tv0</td>\n",
       "      <td>tv</td>\n",
       "    </tr>\n",
       "    <tr>\n",
       "      <th>6</th>\n",
       "      <td>ABitOfFryAndLaurie</td>\n",
       "      <td>spy_speak</td>\n",
       "      <td>A Bit of Fry and Laurie:\\n In one sketch, a h...</td>\n",
       "      <td>t21241</td>\n",
       "      <td>tv0</td>\n",
       "      <td>tv</td>\n",
       "    </tr>\n",
       "    <tr>\n",
       "      <th>7</th>\n",
       "      <td>ABitOfFryAndLaurie</td>\n",
       "      <td>horror_host</td>\n",
       "      <td>Parodied by two skits in A Bit of Fry and Lau...</td>\n",
       "      <td>t10543</td>\n",
       "      <td>tv0</td>\n",
       "      <td>tv</td>\n",
       "    </tr>\n",
       "    <tr>\n",
       "      <th>8</th>\n",
       "      <td>ABitOfFryAndLaurie</td>\n",
       "      <td>freeze_frame_ending</td>\n",
       "      <td>A Bit of Fry and Laurie: Parodied in the pilo...</td>\n",
       "      <td>t08552</td>\n",
       "      <td>tv0</td>\n",
       "      <td>tv</td>\n",
       "    </tr>\n",
       "    <tr>\n",
       "      <th>9</th>\n",
       "      <td>ABitOfFryAndLaurie</td>\n",
       "      <td>false_reassurance</td>\n",
       "      <td>Stephen   I think we'd better have a word wit...</td>\n",
       "      <td>t07587</td>\n",
       "      <td>tv0</td>\n",
       "      <td>tv</td>\n",
       "    </tr>\n",
       "  </tbody>\n",
       "</table>\n",
       "</div>"
      ],
      "text/plain": [
       "                Title                 Trope  \\\n",
       "0  ABitOfFryAndLaurie     page_three_stunna   \n",
       "1  ABitOfFryAndLaurie         painful_rhyme   \n",
       "2  ABitOfFryAndLaurie      pocket_protector   \n",
       "3  ABitOfFryAndLaurie  that_syncing_feeling   \n",
       "4  ABitOfFryAndLaurie        literal_minded   \n",
       "5  ABitOfFryAndLaurie       excuse_question   \n",
       "6  ABitOfFryAndLaurie             spy_speak   \n",
       "7  ABitOfFryAndLaurie           horror_host   \n",
       "8  ABitOfFryAndLaurie   freeze_frame_ending   \n",
       "9  ABitOfFryAndLaurie     false_reassurance   \n",
       "\n",
       "                                             Example trope_id title_id media  \n",
       "0   This song from A Bit of Fry and Laurie descri...   t16579      tv0    tv  \n",
       "1   Played for humor as the entire basis of Hugh ...   t16587      tv0    tv  \n",
       "2   Inverted nonsensically in the pilot of A Bit ...   t17280      tv0    tv  \n",
       "3   Played for laughs in a sketch in A Bit of Fry...   t22562      tv0    tv  \n",
       "4                                                NaN   t12979      tv0    tv  \n",
       "5    Parodied . Who was the first man to run the ...   t07222      tv0    tv  \n",
       "6   A Bit of Fry and Laurie:\\n In one sketch, a h...   t21241      tv0    tv  \n",
       "7   Parodied by two skits in A Bit of Fry and Lau...   t10543      tv0    tv  \n",
       "8   A Bit of Fry and Laurie: Parodied in the pilo...   t08552      tv0    tv  \n",
       "9   Stephen   I think we'd better have a word wit...   t07587      tv0    tv  "
      ]
     },
     "execution_count": 7,
     "metadata": {},
     "output_type": "execute_result"
    }
   ],
   "source": [
    "mdf.head(10)"
   ]
  },
  {
   "cell_type": "markdown",
   "id": "f7be4d58",
   "metadata": {},
   "source": [
    "### Trope count"
   ]
  },
  {
   "cell_type": "code",
   "execution_count": 8,
   "id": "922630ba",
   "metadata": {},
   "outputs": [],
   "source": [
    "# Count number of appearances by media type\n",
    "trope_count_media = mdf.groupby(['Trope','media'])['Trope'].count().unstack().fillna(0)"
   ]
  },
  {
   "cell_type": "code",
   "execution_count": 9,
   "id": "9556f085",
   "metadata": {},
   "outputs": [],
   "source": [
    "# Total count accross all 3\n",
    "trope_count_media['total_count'] = trope_count_media['film']+ trope_count_media['lit'] +trope_count_media['tv']"
   ]
  },
  {
   "cell_type": "code",
   "execution_count": 10,
   "id": "cfd230a2",
   "metadata": {},
   "outputs": [],
   "source": [
    "# Order by total_count\n",
    "trope_count_media = trope_count_media.sort_values(by='total_count', ascending=False)\n",
    "\n",
    "trope_count_media = trope_count_media.reset_index()"
   ]
  },
  {
   "cell_type": "code",
   "execution_count": 11,
   "id": "2739695c",
   "metadata": {},
   "outputs": [],
   "source": [
    "trope_count_wide = trope_count_media"
   ]
  },
  {
   "cell_type": "code",
   "execution_count": 12,
   "id": "cb859ac8",
   "metadata": {},
   "outputs": [
    {
     "data": {
      "text/html": [
       "<div>\n",
       "<style scoped>\n",
       "    .dataframe tbody tr th:only-of-type {\n",
       "        vertical-align: middle;\n",
       "    }\n",
       "\n",
       "    .dataframe tbody tr th {\n",
       "        vertical-align: top;\n",
       "    }\n",
       "\n",
       "    .dataframe thead th {\n",
       "        text-align: right;\n",
       "    }\n",
       "</style>\n",
       "<table border=\"1\" class=\"dataframe\">\n",
       "  <thead>\n",
       "    <tr style=\"text-align: right;\">\n",
       "      <th>media</th>\n",
       "      <th>Trope</th>\n",
       "      <th>film</th>\n",
       "      <th>lit</th>\n",
       "      <th>tv</th>\n",
       "      <th>total_count</th>\n",
       "    </tr>\n",
       "  </thead>\n",
       "  <tbody>\n",
       "    <tr>\n",
       "      <th>0</th>\n",
       "      <td>shout_out</td>\n",
       "      <td>2091.0</td>\n",
       "      <td>1431.0</td>\n",
       "      <td>597.0</td>\n",
       "      <td>4119.0</td>\n",
       "    </tr>\n",
       "    <tr>\n",
       "      <th>1</th>\n",
       "      <td>big_bad</td>\n",
       "      <td>1229.0</td>\n",
       "      <td>953.0</td>\n",
       "      <td>234.0</td>\n",
       "      <td>2416.0</td>\n",
       "    </tr>\n",
       "    <tr>\n",
       "      <th>2</th>\n",
       "      <td>chekhovs_gun</td>\n",
       "      <td>1343.0</td>\n",
       "      <td>771.0</td>\n",
       "      <td>208.0</td>\n",
       "      <td>2322.0</td>\n",
       "    </tr>\n",
       "    <tr>\n",
       "      <th>3</th>\n",
       "      <td>deadpan_snarker</td>\n",
       "      <td>1043.0</td>\n",
       "      <td>711.0</td>\n",
       "      <td>424.0</td>\n",
       "      <td>2178.0</td>\n",
       "    </tr>\n",
       "    <tr>\n",
       "      <th>4</th>\n",
       "      <td>foreshadowing</td>\n",
       "      <td>1232.0</td>\n",
       "      <td>692.0</td>\n",
       "      <td>207.0</td>\n",
       "      <td>2131.0</td>\n",
       "    </tr>\n",
       "    <tr>\n",
       "      <th>5</th>\n",
       "      <td>meaningful_name</td>\n",
       "      <td>781.0</td>\n",
       "      <td>1103.0</td>\n",
       "      <td>242.0</td>\n",
       "      <td>2126.0</td>\n",
       "    </tr>\n",
       "    <tr>\n",
       "      <th>6</th>\n",
       "      <td>bittersweet_ending</td>\n",
       "      <td>1006.0</td>\n",
       "      <td>788.0</td>\n",
       "      <td>198.0</td>\n",
       "      <td>1992.0</td>\n",
       "    </tr>\n",
       "    <tr>\n",
       "      <th>7</th>\n",
       "      <td>horror_film</td>\n",
       "      <td>1972.0</td>\n",
       "      <td>18.0</td>\n",
       "      <td>0.0</td>\n",
       "      <td>1990.0</td>\n",
       "    </tr>\n",
       "    <tr>\n",
       "      <th>8</th>\n",
       "      <td>oh_crap</td>\n",
       "      <td>1340.0</td>\n",
       "      <td>421.0</td>\n",
       "      <td>200.0</td>\n",
       "      <td>1961.0</td>\n",
       "    </tr>\n",
       "    <tr>\n",
       "      <th>9</th>\n",
       "      <td>title_drop</td>\n",
       "      <td>936.0</td>\n",
       "      <td>570.0</td>\n",
       "      <td>184.0</td>\n",
       "      <td>1690.0</td>\n",
       "    </tr>\n",
       "    <tr>\n",
       "      <th>10</th>\n",
       "      <td>running_gag</td>\n",
       "      <td>817.0</td>\n",
       "      <td>381.0</td>\n",
       "      <td>422.0</td>\n",
       "      <td>1620.0</td>\n",
       "    </tr>\n",
       "    <tr>\n",
       "      <th>11</th>\n",
       "      <td>berserk_button</td>\n",
       "      <td>715.0</td>\n",
       "      <td>545.0</td>\n",
       "      <td>273.0</td>\n",
       "      <td>1533.0</td>\n",
       "    </tr>\n",
       "    <tr>\n",
       "      <th>12</th>\n",
       "      <td>films_of_the1980</td>\n",
       "      <td>1442.0</td>\n",
       "      <td>52.0</td>\n",
       "      <td>9.0</td>\n",
       "      <td>1503.0</td>\n",
       "    </tr>\n",
       "    <tr>\n",
       "      <th>13</th>\n",
       "      <td>what_happened_to_the_mouse</td>\n",
       "      <td>891.0</td>\n",
       "      <td>410.0</td>\n",
       "      <td>145.0</td>\n",
       "      <td>1446.0</td>\n",
       "    </tr>\n",
       "    <tr>\n",
       "      <th>14</th>\n",
       "      <td>retroactive_recognition</td>\n",
       "      <td>582.0</td>\n",
       "      <td>25.0</td>\n",
       "      <td>832.0</td>\n",
       "      <td>1439.0</td>\n",
       "    </tr>\n",
       "    <tr>\n",
       "      <th>15</th>\n",
       "      <td>jerkas</td>\n",
       "      <td>810.0</td>\n",
       "      <td>425.0</td>\n",
       "      <td>181.0</td>\n",
       "      <td>1416.0</td>\n",
       "    </tr>\n",
       "    <tr>\n",
       "      <th>16</th>\n",
       "      <td>the_cameo</td>\n",
       "      <td>1019.0</td>\n",
       "      <td>143.0</td>\n",
       "      <td>222.0</td>\n",
       "      <td>1384.0</td>\n",
       "    </tr>\n",
       "    <tr>\n",
       "      <th>17</th>\n",
       "      <td>driven_to_suicide</td>\n",
       "      <td>559.0</td>\n",
       "      <td>603.0</td>\n",
       "      <td>186.0</td>\n",
       "      <td>1348.0</td>\n",
       "    </tr>\n",
       "    <tr>\n",
       "      <th>18</th>\n",
       "      <td>large_ham</td>\n",
       "      <td>909.0</td>\n",
       "      <td>175.0</td>\n",
       "      <td>213.0</td>\n",
       "      <td>1297.0</td>\n",
       "    </tr>\n",
       "    <tr>\n",
       "      <th>19</th>\n",
       "      <td>downer_ending</td>\n",
       "      <td>622.0</td>\n",
       "      <td>452.0</td>\n",
       "      <td>163.0</td>\n",
       "      <td>1237.0</td>\n",
       "    </tr>\n",
       "  </tbody>\n",
       "</table>\n",
       "</div>"
      ],
      "text/plain": [
       "media                       Trope    film     lit     tv  total_count\n",
       "0                       shout_out  2091.0  1431.0  597.0       4119.0\n",
       "1                         big_bad  1229.0   953.0  234.0       2416.0\n",
       "2                    chekhovs_gun  1343.0   771.0  208.0       2322.0\n",
       "3                 deadpan_snarker  1043.0   711.0  424.0       2178.0\n",
       "4                   foreshadowing  1232.0   692.0  207.0       2131.0\n",
       "5                 meaningful_name   781.0  1103.0  242.0       2126.0\n",
       "6              bittersweet_ending  1006.0   788.0  198.0       1992.0\n",
       "7                     horror_film  1972.0    18.0    0.0       1990.0\n",
       "8                         oh_crap  1340.0   421.0  200.0       1961.0\n",
       "9                      title_drop   936.0   570.0  184.0       1690.0\n",
       "10                    running_gag   817.0   381.0  422.0       1620.0\n",
       "11                 berserk_button   715.0   545.0  273.0       1533.0\n",
       "12               films_of_the1980  1442.0    52.0    9.0       1503.0\n",
       "13     what_happened_to_the_mouse   891.0   410.0  145.0       1446.0\n",
       "14        retroactive_recognition   582.0    25.0  832.0       1439.0\n",
       "15                         jerkas   810.0   425.0  181.0       1416.0\n",
       "16                      the_cameo  1019.0   143.0  222.0       1384.0\n",
       "17              driven_to_suicide   559.0   603.0  186.0       1348.0\n",
       "18                      large_ham   909.0   175.0  213.0       1297.0\n",
       "19                  downer_ending   622.0   452.0  163.0       1237.0"
      ]
     },
     "execution_count": 12,
     "metadata": {},
     "output_type": "execute_result"
    }
   ],
   "source": [
    "trope_count_wide.head(20)"
   ]
  },
  {
   "cell_type": "code",
   "execution_count": 13,
   "id": "47a90e1d",
   "metadata": {},
   "outputs": [],
   "source": [
    "top20 = trope_count_wide[0:20]"
   ]
  },
  {
   "cell_type": "code",
   "execution_count": 14,
   "id": "235977f9",
   "metadata": {},
   "outputs": [],
   "source": [
    "# wide to long-ish\n",
    "trope_count_media = (\n",
    "pd.melt(trope_count_media, id_vars= ['Trope','total_count'])\n",
    "    .sort_values(by=['total_count'], ascending=False)\n",
    "    .reset_index(drop=True)\n",
    ")"
   ]
  },
  {
   "cell_type": "code",
   "execution_count": 15,
   "id": "6f1bc050",
   "metadata": {},
   "outputs": [],
   "source": [
    "# Reorder columns \n",
    "trope_count_media = trope_count_media[['Trope','media','value','total_count']]"
   ]
  },
  {
   "cell_type": "code",
   "execution_count": 16,
   "id": "ce6106cc",
   "metadata": {},
   "outputs": [],
   "source": [
    "# Rename\n",
    "trope_count_media = trope_count_media.rename(columns={'value':'count'})"
   ]
  },
  {
   "cell_type": "markdown",
   "id": "c14af651",
   "metadata": {},
   "source": [
    "# Top 20 Tropes"
   ]
  },
  {
   "cell_type": "code",
   "execution_count": 17,
   "id": "0ed635c4",
   "metadata": {},
   "outputs": [],
   "source": [
    "long20 = trope_count_media[trope_count_media.Trope.isin(top20.Trope)]"
   ]
  },
  {
   "cell_type": "code",
   "execution_count": 133,
   "id": "24b9d850",
   "metadata": {},
   "outputs": [
    {
     "data": {
      "image/png": "[encoded data removed]",
      "text/plain": [
       "<Figure size 1800x720 with 1 Axes>"
      ]
     },
     "metadata": {},
     "output_type": "display_data"
    }
   ],
   "source": [
    "sns.set(rc={'figure.figsize':(25,10)}, style ='white', font_scale = 2)\n",
    "sns.barplot(data=long20, y = 'Trope', x = 'count', hue = 'media', palette=\"Set2\").set(title='Top 20 Tropes')\n",
    "plt.savefig('../figs/top20.png',bbox_inches='tight')"
   ]
  },
  {
   "cell_type": "markdown",
   "id": "f817c18b",
   "metadata": {},
   "source": [
    "## Trope dataframe (tdf)"
   ]
  },
  {
   "cell_type": "code",
   "execution_count": 23,
   "id": "bd71bd14",
   "metadata": {},
   "outputs": [],
   "source": [
    "tdf = pd.read_csv(\"../TVTropesData/tropes.csv\")"
   ]
  },
  {
   "cell_type": "code",
   "execution_count": 24,
   "id": "ee64fdbc",
   "metadata": {},
   "outputs": [],
   "source": [
    "# Clean Trope column\n",
    "tdf['Trope'] = clean_trope(tdf.Trope)\n",
    "tdf = tdf.drop(columns=\"Unnamed: 0\")"
   ]
  },
  {
   "cell_type": "code",
   "execution_count": 25,
   "id": "171c6952",
   "metadata": {},
   "outputs": [
    {
     "name": "stderr",
     "output_type": "stream",
     "text": [
      "100%|███████████████████████████████████| 30984/30984 [00:03<00:00, 9928.47it/s]\n"
     ]
    }
   ],
   "source": [
    "tdf['clean_description'] = preprocess(tdf.Description)"
   ]
  },
  {
   "cell_type": "code",
   "execution_count": 26,
   "id": "2272dd58",
   "metadata": {},
   "outputs": [
    {
     "data": {
      "text/html": [
       "<div>\n",
       "<style scoped>\n",
       "    .dataframe tbody tr th:only-of-type {\n",
       "        vertical-align: middle;\n",
       "    }\n",
       "\n",
       "    .dataframe tbody tr th {\n",
       "        vertical-align: top;\n",
       "    }\n",
       "\n",
       "    .dataframe thead th {\n",
       "        text-align: right;\n",
       "    }\n",
       "</style>\n",
       "<table border=\"1\" class=\"dataframe\">\n",
       "  <thead>\n",
       "    <tr style=\"text-align: right;\">\n",
       "      <th></th>\n",
       "      <th>TropeID</th>\n",
       "      <th>Trope</th>\n",
       "      <th>Description</th>\n",
       "      <th>clean_description</th>\n",
       "    </tr>\n",
       "  </thead>\n",
       "  <tbody>\n",
       "    <tr>\n",
       "      <th>0</th>\n",
       "      <td>t00001</td>\n",
       "      <td>abandoned_area</td>\n",
       "      <td>\\nAbandoned places make good settings for fict...</td>\n",
       "      <td>abandoned places make good settings for fictio...</td>\n",
       "    </tr>\n",
       "    <tr>\n",
       "      <th>1</th>\n",
       "      <td>t00002</td>\n",
       "      <td>abandoned_catchphrase</td>\n",
       "      <td>Catchphrases are a great and simple way to hel...</td>\n",
       "      <td>catchphrases are a great and simple way to hel...</td>\n",
       "    </tr>\n",
       "    <tr>\n",
       "      <th>2</th>\n",
       "      <td>t00003</td>\n",
       "      <td>abandoned_hospital</td>\n",
       "      <td>The creepy abandoned hospital/mental instituti...</td>\n",
       "      <td>the creepy abandoned hospital mental instituti...</td>\n",
       "    </tr>\n",
       "    <tr>\n",
       "      <th>3</th>\n",
       "      <td>t00004</td>\n",
       "      <td>abandoned_hospital_awakening</td>\n",
       "      <td>An Abandoned Hospital Awakening is, as the nam...</td>\n",
       "      <td>an abandoned hospital awakening is as the name...</td>\n",
       "    </tr>\n",
       "    <tr>\n",
       "      <th>4</th>\n",
       "      <td>t00005</td>\n",
       "      <td>abandoned_info_page</td>\n",
       "      <td>When a work is getting more and more complicat...</td>\n",
       "      <td>when a work is getting more and more complicat...</td>\n",
       "    </tr>\n",
       "    <tr>\n",
       "      <th>5</th>\n",
       "      <td>t00006</td>\n",
       "      <td>abandoned_laboratory</td>\n",
       "      <td>The Abandoned Laboratory is a common setting i...</td>\n",
       "      <td>the abandoned laboratory is a common setting i...</td>\n",
       "    </tr>\n",
       "    <tr>\n",
       "      <th>6</th>\n",
       "      <td>t00007</td>\n",
       "      <td>abandoned_mascot</td>\n",
       "      <td>Series Mascots are usually consistent for deca...</td>\n",
       "      <td>series mascots are usually consistent for deca...</td>\n",
       "    </tr>\n",
       "    <tr>\n",
       "      <th>7</th>\n",
       "      <td>t00008</td>\n",
       "      <td>abandoned_mine</td>\n",
       "      <td>Maybe there's nothing left to mine. Maybe it w...</td>\n",
       "      <td>maybe there is nothing left to mine maybe it w...</td>\n",
       "    </tr>\n",
       "    <tr>\n",
       "      <th>8</th>\n",
       "      <td>t00009</td>\n",
       "      <td>abandoned_pet_in_a_box</td>\n",
       "      <td>\\nIn many works of fiction, there comes a time...</td>\n",
       "      <td>in many works of fiction there comes a time wh...</td>\n",
       "    </tr>\n",
       "    <tr>\n",
       "      <th>9</th>\n",
       "      <td>t00010</td>\n",
       "      <td>abandoned_playground</td>\n",
       "      <td>\\nThere's just something about the image of a ...</td>\n",
       "      <td>there is just something about the image of a p...</td>\n",
       "    </tr>\n",
       "  </tbody>\n",
       "</table>\n",
       "</div>"
      ],
      "text/plain": [
       "  TropeID                         Trope  \\\n",
       "0  t00001                abandoned_area   \n",
       "1  t00002         abandoned_catchphrase   \n",
       "2  t00003            abandoned_hospital   \n",
       "3  t00004  abandoned_hospital_awakening   \n",
       "4  t00005           abandoned_info_page   \n",
       "5  t00006          abandoned_laboratory   \n",
       "6  t00007              abandoned_mascot   \n",
       "7  t00008                abandoned_mine   \n",
       "8  t00009        abandoned_pet_in_a_box   \n",
       "9  t00010          abandoned_playground   \n",
       "\n",
       "                                         Description  \\\n",
       "0  \\nAbandoned places make good settings for fict...   \n",
       "1  Catchphrases are a great and simple way to hel...   \n",
       "2  The creepy abandoned hospital/mental instituti...   \n",
       "3  An Abandoned Hospital Awakening is, as the nam...   \n",
       "4  When a work is getting more and more complicat...   \n",
       "5  The Abandoned Laboratory is a common setting i...   \n",
       "6  Series Mascots are usually consistent for deca...   \n",
       "7  Maybe there's nothing left to mine. Maybe it w...   \n",
       "8  \\nIn many works of fiction, there comes a time...   \n",
       "9  \\nThere's just something about the image of a ...   \n",
       "\n",
       "                                   clean_description  \n",
       "0  abandoned places make good settings for fictio...  \n",
       "1  catchphrases are a great and simple way to hel...  \n",
       "2  the creepy abandoned hospital mental instituti...  \n",
       "3  an abandoned hospital awakening is as the name...  \n",
       "4  when a work is getting more and more complicat...  \n",
       "5  the abandoned laboratory is a common setting i...  \n",
       "6  series mascots are usually consistent for deca...  \n",
       "7  maybe there is nothing left to mine maybe it w...  \n",
       "8  in many works of fiction there comes a time wh...  \n",
       "9  there is just something about the image of a p...  "
      ]
     },
     "execution_count": 26,
     "metadata": {},
     "output_type": "execute_result"
    }
   ],
   "source": [
    "tdf.head(10)"
   ]
  },
  {
   "cell_type": "markdown",
   "id": "11950fd7",
   "metadata": {},
   "source": [
    "## Facts about data"
   ]
  },
  {
   "cell_type": "code",
   "execution_count": 27,
   "id": "a8fd7bfb",
   "metadata": {},
   "outputs": [
    {
     "data": {
      "text/plain": [
       "30734"
      ]
     },
     "execution_count": 27,
     "metadata": {},
     "output_type": "execute_result"
    }
   ],
   "source": [
    "# Unique trope\n",
    "tdf.Trope.nunique()"
   ]
  },
  {
   "cell_type": "markdown",
   "id": "8d5ab0e3",
   "metadata": {},
   "source": [
    "### Unique works"
   ]
  },
  {
   "cell_type": "code",
   "execution_count": 80,
   "id": "03b53b28",
   "metadata": {},
   "outputs": [
    {
     "data": {
      "text/html": [
       "<div>\n",
       "<style scoped>\n",
       "    .dataframe tbody tr th:only-of-type {\n",
       "        vertical-align: middle;\n",
       "    }\n",
       "\n",
       "    .dataframe tbody tr th {\n",
       "        vertical-align: top;\n",
       "    }\n",
       "\n",
       "    .dataframe thead th {\n",
       "        text-align: right;\n",
       "    }\n",
       "</style>\n",
       "<table border=\"1\" class=\"dataframe\">\n",
       "  <thead>\n",
       "    <tr style=\"text-align: right;\">\n",
       "      <th></th>\n",
       "      <th>media</th>\n",
       "      <th>Title</th>\n",
       "    </tr>\n",
       "  </thead>\n",
       "  <tbody>\n",
       "    <tr>\n",
       "      <th>0</th>\n",
       "      <td>film</td>\n",
       "      <td>17019</td>\n",
       "    </tr>\n",
       "    <tr>\n",
       "      <th>1</th>\n",
       "      <td>lit</td>\n",
       "      <td>15495</td>\n",
       "    </tr>\n",
       "    <tr>\n",
       "      <th>2</th>\n",
       "      <td>tv</td>\n",
       "      <td>7921</td>\n",
       "    </tr>\n",
       "  </tbody>\n",
       "</table>\n",
       "</div>"
      ],
      "text/plain": [
       "  media  Title\n",
       "0  film  17019\n",
       "1   lit  15495\n",
       "2    tv   7921"
      ]
     },
     "execution_count": 80,
     "metadata": {},
     "output_type": "execute_result"
    }
   ],
   "source": [
    "# Unique works\n",
    "n_title = mdf.groupby([\"media\"])[\"Title\"].nunique().reset_index()\n",
    "n_title"
   ]
  },
  {
   "cell_type": "code",
   "execution_count": 132,
   "id": "c502d4cf",
   "metadata": {},
   "outputs": [
    {
     "data": {
      "image/png": "[encoded data removed]",
      "text/plain": [
       "<Figure size 432x288 with 1 Axes>"
      ]
     },
     "metadata": {},
     "output_type": "display_data"
    }
   ],
   "source": [
    "sns.set(rc={'figure.figsize':(6,4)}, style ='white', font_scale = 1.5)\n",
    "sns.barplot(data =n_title, x = 'media', y= 'Title', order=['film','tv','lit'], palette='Set2').set(title = 'Number of unique works')\n",
    "plt.savefig('../figs/n_title.png',bbox_inches='tight')"
   ]
  },
  {
   "cell_type": "markdown",
   "id": "72039498",
   "metadata": {},
   "source": [
    "### Top works"
   ]
  },
  {
   "cell_type": "code",
   "execution_count": 97,
   "id": "8c8f4bcc",
   "metadata": {},
   "outputs": [],
   "source": [
    "top_works = mdf.groupby([\"Title\",\"media\"])[\"Trope\"].size().reset_index().sort_values(by=\"Trope\", ascending=False)"
   ]
  },
  {
   "cell_type": "code",
   "execution_count": 118,
   "id": "4689b169",
   "metadata": {},
   "outputs": [],
   "source": [
    "top_tv = top_works[top_works.media == \"tv\"].sort_values(by=\"Trope\", ascending=False)[0:10]\n"
   ]
  },
  {
   "cell_type": "code",
   "execution_count": 131,
   "id": "3b599190",
   "metadata": {},
   "outputs": [
    {
     "data": {
      "image/png": "[encoded data removed]",
      "text/plain": [
       "<Figure size 432x288 with 1 Axes>"
      ]
     },
     "metadata": {},
     "output_type": "display_data"
    }
   ],
   "source": [
    "sns.set(rc={'figure.figsize':(6,4)}, style ='white', font_scale = 1.5)\n",
    "sns.barplot(data = top_tv, y = \"Title\", x = \"Trope\", palette= 'Set2').set(title = \"TV shows with highest trope count\")\n",
    "plt.savefig('../figs/tv_top10.png',bbox_inches='tight')"
   ]
  },
  {
   "cell_type": "code",
   "execution_count": 119,
   "id": "92f1c3bb",
   "metadata": {},
   "outputs": [
    {
     "data": {
      "text/html": [
       "<div>\n",
       "<style scoped>\n",
       "    .dataframe tbody tr th:only-of-type {\n",
       "        vertical-align: middle;\n",
       "    }\n",
       "\n",
       "    .dataframe tbody tr th {\n",
       "        vertical-align: top;\n",
       "    }\n",
       "\n",
       "    .dataframe thead th {\n",
       "        text-align: right;\n",
       "    }\n",
       "</style>\n",
       "<table border=\"1\" class=\"dataframe\">\n",
       "  <thead>\n",
       "    <tr style=\"text-align: right;\">\n",
       "      <th></th>\n",
       "      <th>Title</th>\n",
       "      <th>media</th>\n",
       "      <th>Trope</th>\n",
       "    </tr>\n",
       "  </thead>\n",
       "  <tbody>\n",
       "    <tr>\n",
       "      <th>7790</th>\n",
       "      <td>Discworld</td>\n",
       "      <td>lit</td>\n",
       "      <td>6904</td>\n",
       "    </tr>\n",
       "    <tr>\n",
       "      <th>12226</th>\n",
       "      <td>HarryPotter</td>\n",
       "      <td>lit</td>\n",
       "      <td>5077</td>\n",
       "    </tr>\n",
       "    <tr>\n",
       "      <th>29922</th>\n",
       "      <td>TheDresdenFiles</td>\n",
       "      <td>lit</td>\n",
       "      <td>3734</td>\n",
       "    </tr>\n",
       "    <tr>\n",
       "      <th>506</th>\n",
       "      <td>ASongOfIceAndFire</td>\n",
       "      <td>lit</td>\n",
       "      <td>3704</td>\n",
       "    </tr>\n",
       "    <tr>\n",
       "      <th>28354</th>\n",
       "      <td>TheBible</td>\n",
       "      <td>lit</td>\n",
       "      <td>3033</td>\n",
       "    </tr>\n",
       "    <tr>\n",
       "      <th>32543</th>\n",
       "      <td>TheLordOfTheRings</td>\n",
       "      <td>lit</td>\n",
       "      <td>2889</td>\n",
       "    </tr>\n",
       "    <tr>\n",
       "      <th>39247</th>\n",
       "      <td>WhateleyUniverse</td>\n",
       "      <td>lit</td>\n",
       "      <td>2546</td>\n",
       "    </tr>\n",
       "    <tr>\n",
       "      <th>9632</th>\n",
       "      <td>FateStayNight</td>\n",
       "      <td>lit</td>\n",
       "      <td>2389</td>\n",
       "    </tr>\n",
       "    <tr>\n",
       "      <th>1778</th>\n",
       "      <td>Animorphs</td>\n",
       "      <td>lit</td>\n",
       "      <td>2235</td>\n",
       "    </tr>\n",
       "    <tr>\n",
       "      <th>36259</th>\n",
       "      <td>TheWheelOfTime</td>\n",
       "      <td>lit</td>\n",
       "      <td>2143</td>\n",
       "    </tr>\n",
       "  </tbody>\n",
       "</table>\n",
       "</div>"
      ],
      "text/plain": [
       "                   Title media  Trope\n",
       "7790           Discworld   lit   6904\n",
       "12226        HarryPotter   lit   5077\n",
       "29922    TheDresdenFiles   lit   3734\n",
       "506    ASongOfIceAndFire   lit   3704\n",
       "28354           TheBible   lit   3033\n",
       "32543  TheLordOfTheRings   lit   2889\n",
       "39247   WhateleyUniverse   lit   2546\n",
       "9632       FateStayNight   lit   2389\n",
       "1778           Animorphs   lit   2235\n",
       "36259     TheWheelOfTime   lit   2143"
      ]
     },
     "execution_count": 119,
     "metadata": {},
     "output_type": "execute_result"
    }
   ],
   "source": [
    "top_lit = top_works[top_works.media == \"lit\"].sort_values(by=\"Trope\", ascending=False)[0:10]\n",
    "top_lit.head(10)"
   ]
  },
  {
   "cell_type": "code",
   "execution_count": 130,
   "id": "00d2433b",
   "metadata": {},
   "outputs": [
    {
     "data": {
      "image/png": "[encoded data removed]",
      "text/plain": [
       "<Figure size 432x288 with 1 Axes>"
      ]
     },
     "metadata": {},
     "output_type": "display_data"
    }
   ],
   "source": [
    "sns.set(rc={'figure.figsize':(6,4)}, style ='white', font_scale = 1.5)\n",
    "sns.barplot(data = top_lit, y = \"Title\", x = \"Trope\", palette= 'Set2').set(title = \"Literatures with highest trope count\")\n",
    "plt.savefig('../figs/lit_top10.png', bbox_inches='tight')"
   ]
  },
  {
   "cell_type": "code",
   "execution_count": 122,
   "id": "38933f24",
   "metadata": {},
   "outputs": [
    {
     "data": {
      "text/html": [
       "<div>\n",
       "<style scoped>\n",
       "    .dataframe tbody tr th:only-of-type {\n",
       "        vertical-align: middle;\n",
       "    }\n",
       "\n",
       "    .dataframe tbody tr th {\n",
       "        vertical-align: top;\n",
       "    }\n",
       "\n",
       "    .dataframe thead th {\n",
       "        text-align: right;\n",
       "    }\n",
       "</style>\n",
       "<table border=\"1\" class=\"dataframe\">\n",
       "  <thead>\n",
       "    <tr style=\"text-align: right;\">\n",
       "      <th></th>\n",
       "      <th>Title</th>\n",
       "      <th>media</th>\n",
       "      <th>Trope</th>\n",
       "    </tr>\n",
       "  </thead>\n",
       "  <tbody>\n",
       "    <tr>\n",
       "      <th>14536</th>\n",
       "      <td>JamesBond</td>\n",
       "      <td>film</td>\n",
       "      <td>2633</td>\n",
       "    </tr>\n",
       "    <tr>\n",
       "      <th>32919</th>\n",
       "      <td>TheMatrix</td>\n",
       "      <td>film</td>\n",
       "      <td>1776</td>\n",
       "    </tr>\n",
       "    <tr>\n",
       "      <th>29546</th>\n",
       "      <td>TheDarkKnight</td>\n",
       "      <td>film</td>\n",
       "      <td>1692</td>\n",
       "    </tr>\n",
       "    <tr>\n",
       "      <th>378</th>\n",
       "      <td>ANewHope</td>\n",
       "      <td>film</td>\n",
       "      <td>1565</td>\n",
       "    </tr>\n",
       "    <tr>\n",
       "      <th>32542</th>\n",
       "      <td>TheLordOfTheRings</td>\n",
       "      <td>film</td>\n",
       "      <td>1477</td>\n",
       "    </tr>\n",
       "    <tr>\n",
       "      <th>2380</th>\n",
       "      <td>AvengersEndgame</td>\n",
       "      <td>film</td>\n",
       "      <td>1465</td>\n",
       "    </tr>\n",
       "    <tr>\n",
       "      <th>26196</th>\n",
       "      <td>StarTrek2009</td>\n",
       "      <td>film</td>\n",
       "      <td>1461</td>\n",
       "    </tr>\n",
       "    <tr>\n",
       "      <th>28143</th>\n",
       "      <td>TheAvengers2012</td>\n",
       "      <td>film</td>\n",
       "      <td>1433</td>\n",
       "    </tr>\n",
       "    <tr>\n",
       "      <th>23025</th>\n",
       "      <td>ReturnOfTheJedi</td>\n",
       "      <td>film</td>\n",
       "      <td>1431</td>\n",
       "    </tr>\n",
       "    <tr>\n",
       "      <th>36835</th>\n",
       "      <td>Thor</td>\n",
       "      <td>film</td>\n",
       "      <td>1410</td>\n",
       "    </tr>\n",
       "  </tbody>\n",
       "</table>\n",
       "</div>"
      ],
      "text/plain": [
       "                   Title media  Trope\n",
       "14536          JamesBond  film   2633\n",
       "32919          TheMatrix  film   1776\n",
       "29546      TheDarkKnight  film   1692\n",
       "378             ANewHope  film   1565\n",
       "32542  TheLordOfTheRings  film   1477\n",
       "2380     AvengersEndgame  film   1465\n",
       "26196       StarTrek2009  film   1461\n",
       "28143    TheAvengers2012  film   1433\n",
       "23025    ReturnOfTheJedi  film   1431\n",
       "36835               Thor  film   1410"
      ]
     },
     "execution_count": 122,
     "metadata": {},
     "output_type": "execute_result"
    }
   ],
   "source": [
    "top_film = top_works[top_works.media == \"film\"].sort_values(by=\"Trope\", ascending=False)[0:10]\n",
    "top_film.head(10)"
   ]
  },
  {
   "cell_type": "code",
   "execution_count": 129,
   "id": "ca481737",
   "metadata": {},
   "outputs": [
    {
     "data": {
      "image/png": "[encoded data removed]",
      "text/plain": [
       "<Figure size 432x288 with 1 Axes>"
      ]
     },
     "metadata": {},
     "output_type": "display_data"
    }
   ],
   "source": [
    "sns.set(rc={'figure.figsize':(6,4)}, style ='white', font_scale = 1.5)\n",
    "sns.barplot(data = top_film, y = \"Title\", x = \"Trope\", palette= 'Set2').set(title = \"Films with highest trope count\")\n",
    "plt.savefig('../figs/film_top10.png', bbox_inches='tight')"
   ]
  },
  {
   "cell_type": "markdown",
   "id": "35b0342f",
   "metadata": {},
   "source": [
    "### Word2Vec"
   ]
  },
  {
   "cell_type": "code",
   "execution_count": null,
   "id": "5b1be509",
   "metadata": {},
   "outputs": [],
   "source": []
  },
  {
   "cell_type": "code",
   "execution_count": null,
   "id": "453ebfa7",
   "metadata": {},
   "outputs": [],
   "source": []
  },
  {
   "cell_type": "code",
   "execution_count": null,
   "id": "e340fc3c",
   "metadata": {},
   "outputs": [],
   "source": [
    "sentences = [row.lower().split() for row in tdf[\"clean_description\"]]"
   ]
  },
  {
   "cell_type": "code",
   "execution_count": null,
   "id": "556e31bd",
   "metadata": {},
   "outputs": [],
   "source": [
    "# singularize\n",
    "for i in range(len(sentences)):\n",
    "    sentences[i] = [word for word in sentences[i] if word not in stopwords.words('english')]\n",
    "#     sentences[i] = [Word(w).singularize() for w in sentences[i]]"
   ]
  },
  {
   "cell_type": "code",
   "execution_count": null,
   "id": "41565296",
   "metadata": {},
   "outputs": [],
   "source": [
    "# Train a toy phrase model on our training corpus.\n",
    "phrase_model = Phrases(sentences, min_count=2, connector_words=ENGLISH_CONNECTOR_WORDS)"
   ]
  },
  {
   "cell_type": "code",
   "execution_count": null,
   "id": "9577d461",
   "metadata": {},
   "outputs": [],
   "source": [
    "bigram_no_sw = Word2Vec(phrase_model[sentences],\n",
    "                  min_count=2,\n",
    "                  window=5,\n",
    "                  vector_size=100,\n",
    "                  workers=cores-1,\n",
    "                  epochs=30,\n",
    "                  seed=42)"
   ]
  },
  {
   "cell_type": "code",
   "execution_count": null,
   "id": "1c6495f7",
   "metadata": {},
   "outputs": [],
   "source": [
    "unigram_no_sw = Word2Vec(sentences,\n",
    "                   min_count=5,\n",
    "                   window=5,\n",
    "                   vector_size=100,\n",
    "                   workers=cores-1,\n",
    "                   epochs=30,\n",
    "                   seed=42)"
   ]
  },
  {
   "cell_type": "markdown",
   "id": "093d9d81",
   "metadata": {},
   "source": [
    "### Save word vectors"
   ]
  },
  {
   "cell_type": "code",
   "execution_count": null,
   "id": "611371eb",
   "metadata": {},
   "outputs": [],
   "source": [
    "# bigram_no_sw.wv.save_word2vec_format(\"../models/bigram_word2vec_no_sw\")\n",
    "# unigram_no_sw.wv.save_word2vec_format(\"../models/unigram_word2vec_no_sw\")"
   ]
  },
  {
   "cell_type": "markdown",
   "id": "827ac3ed",
   "metadata": {},
   "source": [
    "### Save models"
   ]
  },
  {
   "cell_type": "code",
   "execution_count": null,
   "id": "ddaab349",
   "metadata": {},
   "outputs": [],
   "source": [
    "bigram_no_sw.save(\"../models/bigram_word2vec_no_sw.model\")\n",
    "unigram_no_sw.save(\"../models/unigram_word2vec_no_sw.model\")"
   ]
  },
  {
   "cell_type": "code",
   "execution_count": null,
   "id": "4e85e2bf",
   "metadata": {},
   "outputs": [],
   "source": []
  },
  {
   "cell_type": "code",
   "execution_count": null,
   "id": "9f86f0e0",
   "metadata": {},
   "outputs": [],
   "source": [
    "bigram.wv.most_similar(positive=['love_interest'])"
   ]
  },
  {
   "cell_type": "code",
   "execution_count": null,
   "id": "a3bd1d5d",
   "metadata": {},
   "outputs": [],
   "source": [
    "bigram.wv.similarity('villain','girl')"
   ]
  },
  {
   "cell_type": "markdown",
   "id": "f2d0f0c2",
   "metadata": {},
   "source": [
    "#### Convert to tensor"
   ]
  },
  {
   "cell_type": "code",
   "execution_count": null,
   "id": "3ca6d7f8",
   "metadata": {},
   "outputs": [],
   "source": [
    "# Run in terminal:\n",
    "# python -m gensim.scripts.word2vec2tensor -i models/unigram_word2vec -o tensors/unigram\n",
    "# python -m gensim.scripts.word2vec2tensor -i models/bigram_word2vec -o tensors/bigram"
   ]
  },
  {
   "cell_type": "markdown",
   "id": "8d31d637",
   "metadata": {},
   "source": [
    "### Load"
   ]
  },
  {
   "cell_type": "code",
   "execution_count": 137,
   "id": "239fa72b",
   "metadata": {},
   "outputs": [],
   "source": [
    "bigram = Word2Vec.load(\"../models/bigram_word2vec.model\")"
   ]
  },
  {
   "cell_type": "code",
   "execution_count": 138,
   "id": "2bce9071",
   "metadata": {},
   "outputs": [
    {
     "data": {
      "text/plain": [
       "[('bad_guy', 0.7065610885620117),\n",
       " ('villain', 0.7063288688659668),\n",
       " ('defeated', 0.6340667009353638),\n",
       " ('hero', 0.6219871044158936),\n",
       " ('antagonist', 0.6172733902931213),\n",
       " ('rival', 0.61487877368927),\n",
       " ('dragon', 0.6147741079330444),\n",
       " ('good_guys', 0.6119282245635986),\n",
       " ('minion', 0.6085368990898132),\n",
       " ('good_guy', 0.5965617299079895)]"
      ]
     },
     "execution_count": 138,
     "metadata": {},
     "output_type": "execute_result"
    }
   ],
   "source": [
    "bigram.wv.most_similar('big_bad')"
   ]
  },
  {
   "cell_type": "code",
   "execution_count": 139,
   "id": "97982ded",
   "metadata": {},
   "outputs": [
    {
     "data": {
      "text/plain": [
       "[('lancer', 0.6604410409927368),\n",
       " ('wolf', 0.6275288462638855),\n",
       " ('squad', 0.6199926137924194),\n",
       " ('wannabe', 0.6189258694648743),\n",
       " ('big_bad', 0.6147741079330444),\n",
       " ('knight', 0.5930625200271606),\n",
       " ('rival', 0.5887823104858398),\n",
       " ('minion', 0.5824518203735352),\n",
       " ('big_guy', 0.5746404528617859),\n",
       " ('demon', 0.573767364025116)]"
      ]
     },
     "execution_count": 139,
     "metadata": {},
     "output_type": "execute_result"
    }
   ],
   "source": [
    "bigram.wv.most_similar('dragon')"
   ]
  },
  {
   "cell_type": "code",
   "execution_count": 143,
   "id": "c3336e61",
   "metadata": {},
   "outputs": [
    {
     "data": {
      "text/plain": [
       "[('unstoppable_force', 0.7879235744476318),\n",
       " ('antechamber', 0.7867285013198853),\n",
       " ('axe_to_grind', 0.784503161907196),\n",
       " ('alcoholic_drink', 0.7821184992790222),\n",
       " ('unusable_weapon', 0.7817029356956482),\n",
       " ('enclave', 0.7776504755020142),\n",
       " ('ant', 0.7769170999526978),\n",
       " ('automated_weapon', 0.7734383940696716),\n",
       " ('evolutionary_strategy', 0.771808385848999),\n",
       " ('adjunct', 0.7712868452072144)]"
      ]
     },
     "execution_count": 143,
     "metadata": {},
     "output_type": "execute_result"
    }
   ],
   "source": [
    "bigram.wv.most_similar('immovable_object')"
   ]
  },
  {
   "cell_type": "code",
   "execution_count": null,
   "id": "1506f2d4",
   "metadata": {},
   "outputs": [],
   "source": []
  }
 ],
 "metadata": {
  "kernelspec": {
   "display_name": "Python [conda env:bert]",
   "language": "python",
   "name": "conda-env-bert-py"
  },
  "language_info": {
   "codemirror_mode": {
    "name": "ipython",
    "version": 3
   },
   "file_extension": ".py",
   "mimetype": "text/x-python",
   "name": "python",
   "nbconvert_exporter": "python",
   "pygments_lexer": "ipython3",
   "version": "3.9.12"
  }
 },
 "nbformat": 4,
 "nbformat_minor": 5
}
