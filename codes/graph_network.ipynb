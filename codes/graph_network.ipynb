{
 "cells": [
  {
   "cell_type": "code",
   "execution_count": 1,
   "id": "a9b33ff8",
   "metadata": {},
   "outputs": [],
   "source": [
    "import pandas as pd\n",
    "import numpy as np\n",
    "import networkx as nx\n",
    "\n",
    "import pandasql as ps\n",
    "from pandasql import sqldf\n",
    "\n",
    "import matplotlib.pyplot as plt\n",
    "\n",
    "# Ignore matplotlib warnings\n",
    "# import warnings\n",
    "# warnings.filterwarnings(\"ignore\")"
   ]
  },
  {
   "cell_type": "code",
   "execution_count": 2,
   "id": "0a27645b",
   "metadata": {},
   "outputs": [
    {
     "data": {
      "text/html": [
       "<div>\n",
       "<style scoped>\n",
       "    .dataframe tbody tr th:only-of-type {\n",
       "        vertical-align: middle;\n",
       "    }\n",
       "\n",
       "    .dataframe tbody tr th {\n",
       "        vertical-align: top;\n",
       "    }\n",
       "\n",
       "    .dataframe thead th {\n",
       "        text-align: right;\n",
       "    }\n",
       "</style>\n",
       "<table border=\"1\" class=\"dataframe\">\n",
       "  <thead>\n",
       "    <tr style=\"text-align: right;\">\n",
       "      <th></th>\n",
       "      <th>Unnamed: 0</th>\n",
       "      <th>Title</th>\n",
       "      <th>Trope</th>\n",
       "      <th>Example</th>\n",
       "      <th>trope_id</th>\n",
       "      <th>title_id</th>\n",
       "    </tr>\n",
       "  </thead>\n",
       "  <tbody>\n",
       "    <tr>\n",
       "      <th>0</th>\n",
       "      <td>0</td>\n",
       "      <td>ABBATheMovie</td>\n",
       "      <td>MsFanservice</td>\n",
       "      <td>The concert segments make it clear that Agnet...</td>\n",
       "      <td>t14656</td>\n",
       "      <td>f0</td>\n",
       "    </tr>\n",
       "    <tr>\n",
       "      <th>1</th>\n",
       "      <td>1</td>\n",
       "      <td>ABBATheMovie</td>\n",
       "      <td>InsistentTerminology</td>\n",
       "      <td>The radio station manager that tasks Ashley w...</td>\n",
       "      <td>t11527</td>\n",
       "      <td>f0</td>\n",
       "    </tr>\n",
       "    <tr>\n",
       "      <th>2</th>\n",
       "      <td>2</td>\n",
       "      <td>ABBATheMovie</td>\n",
       "      <td>TheIngenue</td>\n",
       "      <td>A rare male example; when Benny reads one new...</td>\n",
       "      <td>t23019</td>\n",
       "      <td>f0</td>\n",
       "    </tr>\n",
       "    <tr>\n",
       "      <th>3</th>\n",
       "      <td>3</td>\n",
       "      <td>ABBATheMovie</td>\n",
       "      <td>GettingCrapPastTheRadar</td>\n",
       "      <td>During Ashley's fantasy sequence in which he ...</td>\n",
       "      <td>t09016</td>\n",
       "      <td>f0</td>\n",
       "    </tr>\n",
       "    <tr>\n",
       "      <th>4</th>\n",
       "      <td>4</td>\n",
       "      <td>ABBATheMovie</td>\n",
       "      <td>WhoWearsShortShorts</td>\n",
       "      <td>Frida's outfit in the \"Why Did It Have to Be ...</td>\n",
       "      <td>t25994</td>\n",
       "      <td>f0</td>\n",
       "    </tr>\n",
       "  </tbody>\n",
       "</table>\n",
       "</div>"
      ],
      "text/plain": [
       "   Unnamed: 0         Title                    Trope  \\\n",
       "0           0  ABBATheMovie             MsFanservice   \n",
       "1           1  ABBATheMovie     InsistentTerminology   \n",
       "2           2  ABBATheMovie               TheIngenue   \n",
       "3           3  ABBATheMovie  GettingCrapPastTheRadar   \n",
       "4           4  ABBATheMovie      WhoWearsShortShorts   \n",
       "\n",
       "                                             Example trope_id title_id  \n",
       "0   The concert segments make it clear that Agnet...   t14656       f0  \n",
       "1   The radio station manager that tasks Ashley w...   t11527       f0  \n",
       "2   A rare male example; when Benny reads one new...   t23019       f0  \n",
       "3   During Ashley's fantasy sequence in which he ...   t09016       f0  \n",
       "4   Frida's outfit in the \"Why Did It Have to Be ...   t25994       f0  "
      ]
     },
     "execution_count": 2,
     "metadata": {},
     "output_type": "execute_result"
    }
   ],
   "source": [
    "df = pd.read_csv(\"../TVTropesData/film_tropes.csv\")\n",
    "df.head()"
   ]
  },
  {
   "cell_type": "code",
   "execution_count": 3,
   "id": "0b4df7e6",
   "metadata": {},
   "outputs": [
    {
     "data": {
      "text/plain": [
       "Unnamed: 0    751594\n",
       "Title         751594\n",
       "Trope         751594\n",
       "Example       733106\n",
       "trope_id      751594\n",
       "title_id      751594\n",
       "dtype: int64"
      ]
     },
     "execution_count": 3,
     "metadata": {},
     "output_type": "execute_result"
    }
   ],
   "source": [
    "df.count()"
   ]
  },
  {
   "cell_type": "code",
   "execution_count": 4,
   "id": "06688987",
   "metadata": {},
   "outputs": [],
   "source": [
    "# q = (\n",
    "#     \"\"\"\n",
    "#     SELECT Trope, COUNT(DISTINCT Title)\n",
    "#     FROM df\n",
    "#     GROUP BY Trope\n",
    "#     ORDER BY COUNT(DISTINCT Title) desc\n",
    "#     LIMIT 10;\n",
    "#     \"\"\"\n",
    "# )\n",
    "\n",
    "# print(ps.sqldf(q, locals()))"
   ]
  },
  {
   "cell_type": "code",
   "execution_count": 5,
   "id": "c3c42df1",
   "metadata": {},
   "outputs": [],
   "source": [
    "q = (\"\"\"\n",
    "    WITH top_tropes AS\n",
    "        (SELECT Trope, COUNT(DISTINCT Title)\n",
    "        FROM df\n",
    "        GROUP BY Trope\n",
    "        ORDER BY COUNT(DISTINCT Title) desc\n",
    "        LIMIT 10\n",
    "        )\n",
    "    SELECT df.Trope, df.Title\n",
    "    FROM df, top_tropes\n",
    "    WHERE df.Trope = top_tropes.Trope;\n",
    "    \"\"\")\n",
    "top = sqldf(q)"
   ]
  },
  {
   "cell_type": "code",
   "execution_count": 6,
   "id": "ec676a8e",
   "metadata": {},
   "outputs": [],
   "source": [
    "# q = (\"\"\"\n",
    "#     WITH top_tropes AS\n",
    "#         (SELECT Title, COUNT(DISTINCT Trope)\n",
    "#         FROM df\n",
    "#         GROUP BY Title\n",
    "#         ORDER BY COUNT(DISTINCT Trope) desc\n",
    "#         LIMIT 5)\n",
    "#     SELECT df.Trope, df.Title\n",
    "#     FROM df, top_tropes\n",
    "#     WHERE df.Title = top_tropes.Title;\n",
    "#     \"\"\")\n",
    "# top = sqldf(q)"
   ]
  },
  {
   "cell_type": "code",
   "execution_count": 7,
   "id": "3005505b",
   "metadata": {},
   "outputs": [
    {
     "data": {
      "text/html": [
       "<div>\n",
       "<style scoped>\n",
       "    .dataframe tbody tr th:only-of-type {\n",
       "        vertical-align: middle;\n",
       "    }\n",
       "\n",
       "    .dataframe tbody tr th {\n",
       "        vertical-align: top;\n",
       "    }\n",
       "\n",
       "    .dataframe thead th {\n",
       "        text-align: right;\n",
       "    }\n",
       "</style>\n",
       "<table border=\"1\" class=\"dataframe\">\n",
       "  <thead>\n",
       "    <tr style=\"text-align: right;\">\n",
       "      <th></th>\n",
       "      <th>Trope</th>\n",
       "      <th>Title</th>\n",
       "    </tr>\n",
       "  </thead>\n",
       "  <tbody>\n",
       "    <tr>\n",
       "      <th>0</th>\n",
       "      <td>DeadpanSnarker</td>\n",
       "      <td>ABBATheMovie</td>\n",
       "    </tr>\n",
       "    <tr>\n",
       "      <th>1</th>\n",
       "      <td>TheCameo</td>\n",
       "      <td>ABBATheMovie</td>\n",
       "    </tr>\n",
       "    <tr>\n",
       "      <th>2</th>\n",
       "      <td>HorrorFilms</td>\n",
       "      <td>ABCsOfDeath2</td>\n",
       "    </tr>\n",
       "    <tr>\n",
       "      <th>3</th>\n",
       "      <td>Foreshadowing</td>\n",
       "      <td>ABeautifulMind</td>\n",
       "    </tr>\n",
       "    <tr>\n",
       "      <th>4</th>\n",
       "      <td>ShoutOut</td>\n",
       "      <td>ABeautifulMind</td>\n",
       "    </tr>\n",
       "  </tbody>\n",
       "</table>\n",
       "</div>"
      ],
      "text/plain": [
       "            Trope           Title\n",
       "0  DeadpanSnarker    ABBATheMovie\n",
       "1        TheCameo    ABBATheMovie\n",
       "2     HorrorFilms    ABCsOfDeath2\n",
       "3   Foreshadowing  ABeautifulMind\n",
       "4        ShoutOut  ABeautifulMind"
      ]
     },
     "execution_count": 7,
     "metadata": {},
     "output_type": "execute_result"
    }
   ],
   "source": [
    "top.head(5)"
   ]
  },
  {
   "cell_type": "code",
   "execution_count": 8,
   "id": "9e877202",
   "metadata": {},
   "outputs": [
    {
     "data": {
      "text/plain": [
       "Trope    13717\n",
       "Title    13717\n",
       "dtype: int64"
      ]
     },
     "execution_count": 8,
     "metadata": {},
     "output_type": "execute_result"
    }
   ],
   "source": [
    "top.count()"
   ]
  },
  {
   "cell_type": "code",
   "execution_count": 9,
   "id": "bf85748d",
   "metadata": {},
   "outputs": [],
   "source": [
    "# g = nx.from_pandas_edgelist(top, source='Title', target='Trope') "
   ]
  },
  {
   "cell_type": "markdown",
   "id": "08ecc297",
   "metadata": {},
   "source": [
    "Next time: https://melaniewalsh.github.io/Intro-Cultural-Analytics/06-Network-Analysis/02-Making-Network-Viz-with-Bokeh.html"
   ]
  },
  {
   "cell_type": "code",
   "execution_count": 10,
   "id": "48850e58",
   "metadata": {},
   "outputs": [],
   "source": [
    "# deg_centrality = nx.degree_centrality(g)\n",
    "# centrality = np.fromiter(deg_centrality.values(), float)"
   ]
  },
  {
   "cell_type": "code",
   "execution_count": 11,
   "id": "1a803509",
   "metadata": {},
   "outputs": [],
   "source": [
    "# ## Source: https://stackoverflow.com/questions/67190637/change-color-size-of-graph-in-networkx-based-on-degree-centrality-measure\n",
    "\n",
    "# pos = nx.kamada_kawai_layout(g)\n",
    "# nx.draw(g, pos, node_color=centrality, node_size=centrality*2e3)\n",
    "# nx.draw_networkx_labels(g, pos)\n",
    "# plt.show()"
   ]
  },
  {
   "cell_type": "code",
   "execution_count": 12,
   "id": "83083f7e",
   "metadata": {},
   "outputs": [],
   "source": [
    "## Source: https://www.cs.utah.edu/~yos/2021/02/02/plotly-python.html\n",
    "%run visualize.py\n",
    "\n",
    "\n",
    "# g = nx.petersen_graph()\n",
    "g = nx.from_pandas_edgelist(top, source='Title', target='Trope') \n",
    "\n",
    "# set 2D positions\n",
    "import math\n",
    "\n",
    "pos2d = {}\n",
    "\n",
    "for i in range(5):\n",
    "    theta = 2 * math.pi * i / 5 + math.pi / 2\n",
    "    pos2d[i] = (2 * math.cos(theta), 2 * math.sin(theta))  # outer vertices\n",
    "    pos2d[5 + i] = (math.cos(theta), math.sin(theta))      # inner vertices\n",
    "\n",
    "# for v in g:\n",
    "#     print('%d: (%6s, %6s)' % (v, '%.3f' % pos2d[v][0], '%.3f' % pos2d[v][1]))\n",
    "\n",
    "\n",
    "\n"
   ]
  },
  {
   "cell_type": "code",
   "execution_count": 13,
   "id": "4b8a06c1",
   "metadata": {},
   "outputs": [
    {
     "ename": "ValueError",
     "evalue": "",
     "output_type": "error",
     "traceback": [
      "\u001b[0;31m---------------------------------------------------------------------------\u001b[0m",
      "\u001b[0;31mValueError\u001b[0m                                Traceback (most recent call last)",
      "Input \u001b[0;32mIn [13]\u001b[0m, in \u001b[0;36m<cell line: 1>\u001b[0;34m()\u001b[0m\n\u001b[0;32m----> 1\u001b[0m vis \u001b[38;5;241m=\u001b[39m \u001b[43mGraphVisualization\u001b[49m\u001b[43m(\u001b[49m\u001b[43mg\u001b[49m\u001b[43m,\u001b[49m\u001b[43m \u001b[49m\u001b[43mpos2d\u001b[49m\u001b[43m)\u001b[49m\n\u001b[1;32m      2\u001b[0m fig \u001b[38;5;241m=\u001b[39m vis\u001b[38;5;241m.\u001b[39mcreate_figure()\n\u001b[1;32m      4\u001b[0m g \u001b[38;5;241m=\u001b[39m nx\u001b[38;5;241m.\u001b[39mwatts_strogatz_graph(\u001b[38;5;241m300\u001b[39m, \u001b[38;5;241m12\u001b[39m, \u001b[38;5;241m0.01\u001b[39m, seed\u001b[38;5;241m=\u001b[39m\u001b[38;5;241m12345\u001b[39m)\n",
      "File \u001b[0;32m~/nlp_tvtropes/codes/visualize.py:38\u001b[0m, in \u001b[0;36mGraphVisualization.__init__\u001b[0;34m(self, G, pos, node_text, node_text_position, node_text_font_color, node_text_font_family, node_text_font_size, node_size, node_color, node_border_width, node_border_color, node_opacity, edge_width, edge_color, edge_opacity)\u001b[0m\n\u001b[1;32m     36\u001b[0m     \u001b[38;5;28mself\u001b[39m\u001b[38;5;241m.\u001b[39mis_3d \u001b[38;5;241m=\u001b[39m \u001b[38;5;28;01mTrue\u001b[39;00m\n\u001b[1;32m     37\u001b[0m \u001b[38;5;28;01melse\u001b[39;00m:\n\u001b[0;32m---> 38\u001b[0m     \u001b[38;5;28;01mraise\u001b[39;00m \u001b[38;5;167;01mValueError\u001b[39;00m\n\u001b[1;32m     40\u001b[0m \u001b[38;5;66;03m# default settings\u001b[39;00m\n\u001b[1;32m     41\u001b[0m \u001b[38;5;28mself\u001b[39m\u001b[38;5;241m.\u001b[39mdefault_settings \u001b[38;5;241m=\u001b[39m \u001b[38;5;28mdict\u001b[39m(\n\u001b[1;32m     42\u001b[0m     node_text\u001b[38;5;241m=\u001b[39m\u001b[38;5;28mstr\u001b[39m,  \u001b[38;5;66;03m# show node label\u001b[39;00m\n\u001b[1;32m     43\u001b[0m     node_text_position\u001b[38;5;241m=\u001b[39m\u001b[38;5;124m\"\u001b[39m\u001b[38;5;124mmiddle center\u001b[39m\u001b[38;5;124m\"\u001b[39m,\n\u001b[0;32m   (...)\u001b[0m\n\u001b[1;32m     54\u001b[0m     edge_opacity\u001b[38;5;241m=\u001b[39m\u001b[38;5;241m0.8\u001b[39m,\n\u001b[1;32m     55\u001b[0m )\n",
      "\u001b[0;31mValueError\u001b[0m: "
     ]
    }
   ],
   "source": [
    "vis = GraphVisualization(g, pos2d)\n",
    "fig = vis.create_figure()\n",
    "\n",
    "g = nx.watts_strogatz_graph(300, 12, 0.01, seed=12345)\n",
    "pos = nx.spring_layout(g)\n",
    "vis = GraphVisualization(g, pos, node_size=4, node_border_width=1, edge_width=0.5)\n",
    "fig = vis.create_figure(height=800, width=800, showlabel=False)\n",
    "fig.show()\n"
   ]
  },
  {
   "cell_type": "code",
   "execution_count": null,
   "id": "c6c56803",
   "metadata": {},
   "outputs": [],
   "source": []
  }
 ],
 "metadata": {
  "kernelspec": {
   "display_name": "Python [conda env:tvtropes]",
   "language": "python",
   "name": "conda-env-tvtropes-py"
  },
  "language_info": {
   "codemirror_mode": {
    "name": "ipython",
    "version": 3
   },
   "file_extension": ".py",
   "mimetype": "text/x-python",
   "name": "python",
   "nbconvert_exporter": "python",
   "pygments_lexer": "ipython3",
   "version": "3.9.12"
  }
 },
 "nbformat": 4,
 "nbformat_minor": 5
}
