{
 "cells": [
  {
   "cell_type": "code",
   "execution_count": 1,
   "id": "2d6ff341",
   "metadata": {},
   "outputs": [],
   "source": [
    "import pandas as pd\n",
    "import numpy as np\n",
    "import re\n",
    "from textblob import Word\n",
    "\n",
    "import pandasql as ps\n",
    "from pandasql import sqldf\n",
    "\n",
    "import matplotlib.pyplot as plt\n",
    "import seaborn as sns\n",
    "\n",
    "# Ignore matplotlib warnings\n",
    "# import warnings\n",
    "# warnings.filterwarnings(\"ignore\")"
   ]
  },
  {
   "cell_type": "code",
   "execution_count": 2,
   "id": "4606e7ec",
   "metadata": {},
   "outputs": [],
   "source": [
    "tv = pd.read_csv(\"../TVTropesData/tv_tropes.csv\")\n",
    "tv[\"media\"] = \"tv\""
   ]
  },
  {
   "cell_type": "code",
   "execution_count": 3,
   "id": "e4a101ce",
   "metadata": {},
   "outputs": [],
   "source": [
    "film = pd.read_csv(\"../TVTropesData/film_tropes.csv\")\n",
    "film[\"media\"] = \"film\""
   ]
  },
  {
   "cell_type": "code",
   "execution_count": 4,
   "id": "e1781f31",
   "metadata": {},
   "outputs": [],
   "source": [
    "lit = pd.read_csv(\"../TVTropesData/lit_tropes.csv\")\n",
    "lit[\"media\"] = \"lit\""
   ]
  },
  {
   "cell_type": "code",
   "execution_count": 5,
   "id": "a5c7500f",
   "metadata": {},
   "outputs": [],
   "source": [
    "df = pd.concat([tv, film, lit])"
   ]
  },
  {
   "cell_type": "code",
   "execution_count": 6,
   "id": "af6760b0",
   "metadata": {},
   "outputs": [],
   "source": [
    "# Replace Longrunner with LongRunner\n",
    "df.loc[df.Trope=='Longrunner', 'Trope'] = 'LongRunner'"
   ]
  },
  {
   "cell_type": "code",
   "execution_count": 7,
   "id": "365730b9",
   "metadata": {},
   "outputs": [],
   "source": [
    "# Split at capitalize words and add underscore\n",
    "def convert(name):\n",
    "    s1 = re.sub('(.)([A-Z][a-z]+)', r'\\1_\\2', name)\n",
    "    return re.sub('([a-z0-9])([A-Z])', r'\\1_\\2', s1).lower()"
   ]
  },
  {
   "cell_type": "code",
   "execution_count": 8,
   "id": "18acd7d7",
   "metadata": {},
   "outputs": [],
   "source": [
    "# Apply to df\n",
    "df.Trope = df.Trope.apply(lambda w: convert(w))"
   ]
  },
  {
   "cell_type": "code",
   "execution_count": 9,
   "id": "064b3511",
   "metadata": {},
   "outputs": [],
   "source": [
    "# Convert plural to singular to get rid of duplicates\n",
    "df['Trope'] = df.Trope.apply(lambda w: Word(w).singularize())"
   ]
  },
  {
   "cell_type": "markdown",
   "id": "aeacf1e5",
   "metadata": {},
   "source": [
    "# Trope by title"
   ]
  },
  {
   "cell_type": "code",
   "execution_count": 10,
   "id": "c0243e86",
   "metadata": {},
   "outputs": [],
   "source": [
    "trope_by_title = df.groupby(['Title','media']).agg({\"Trope\": lambda x: \" \".join(x)}).reset_index()"
   ]
  },
  {
   "cell_type": "code",
   "execution_count": 11,
   "id": "47f08b62",
   "metadata": {},
   "outputs": [
    {
     "data": {
      "text/html": [
       "<div>\n",
       "<style scoped>\n",
       "    .dataframe tbody tr th:only-of-type {\n",
       "        vertical-align: middle;\n",
       "    }\n",
       "\n",
       "    .dataframe tbody tr th {\n",
       "        vertical-align: top;\n",
       "    }\n",
       "\n",
       "    .dataframe thead th {\n",
       "        text-align: right;\n",
       "    }\n",
       "</style>\n",
       "<table border=\"1\" class=\"dataframe\">\n",
       "  <thead>\n",
       "    <tr style=\"text-align: right;\">\n",
       "      <th></th>\n",
       "      <th>Title</th>\n",
       "      <th>media</th>\n",
       "      <th>Trope</th>\n",
       "    </tr>\n",
       "  </thead>\n",
       "  <tbody>\n",
       "    <tr>\n",
       "      <th>0</th>\n",
       "      <td>ABBATheMovie</td>\n",
       "      <td>film</td>\n",
       "      <td>ms_fanservice insistent_terminology the_ingenu...</td>\n",
       "    </tr>\n",
       "    <tr>\n",
       "      <th>1</th>\n",
       "      <td>ABCsOfDeath2</td>\n",
       "      <td>film</td>\n",
       "      <td>subverted_kids_show ass_shove man_bites_man st...</td>\n",
       "    </tr>\n",
       "    <tr>\n",
       "      <th>2</th>\n",
       "      <td>ABadCaseOfStripes</td>\n",
       "      <td>lit</td>\n",
       "      <td>stock_yuck involuntary_shapeshifting involunta...</td>\n",
       "    </tr>\n",
       "    <tr>\n",
       "      <th>3</th>\n",
       "      <td>ABadDayForVoodoo</td>\n",
       "      <td>lit</td>\n",
       "      <td>sadist_teacher bread_eggs_breaded_egg sadistic...</td>\n",
       "    </tr>\n",
       "    <tr>\n",
       "      <th>4</th>\n",
       "      <td>ABatalhaDoApocalipse</td>\n",
       "      <td>lit</td>\n",
       "      <td>dead_all_along our_angels_are_different weak_s...</td>\n",
       "    </tr>\n",
       "  </tbody>\n",
       "</table>\n",
       "</div>"
      ],
      "text/plain": [
       "                  Title media  \\\n",
       "0          ABBATheMovie  film   \n",
       "1          ABCsOfDeath2  film   \n",
       "2     ABadCaseOfStripes   lit   \n",
       "3      ABadDayForVoodoo   lit   \n",
       "4  ABatalhaDoApocalipse   lit   \n",
       "\n",
       "                                               Trope  \n",
       "0  ms_fanservice insistent_terminology the_ingenu...  \n",
       "1  subverted_kids_show ass_shove man_bites_man st...  \n",
       "2  stock_yuck involuntary_shapeshifting involunta...  \n",
       "3  sadist_teacher bread_eggs_breaded_egg sadistic...  \n",
       "4  dead_all_along our_angels_are_different weak_s...  "
      ]
     },
     "execution_count": 11,
     "metadata": {},
     "output_type": "execute_result"
    }
   ],
   "source": [
    "trope_by_title.head()"
   ]
  },
  {
   "cell_type": "code",
   "execution_count": 12,
   "id": "321bf440",
   "metadata": {},
   "outputs": [],
   "source": [
    "from sklearn.feature_extraction.text import CountVectorizer"
   ]
  },
  {
   "cell_type": "markdown",
   "id": "d21064c9",
   "metadata": {},
   "source": [
    "### Trope matrix"
   ]
  },
  {
   "cell_type": "code",
   "execution_count": 13,
   "id": "7deddd22",
   "metadata": {},
   "outputs": [],
   "source": [
    "vectorizer = CountVectorizer()\n",
    "trope_matrix = vectorizer.fit_transform(trope_by_title.Trope)"
   ]
  },
  {
   "cell_type": "code",
   "execution_count": 14,
   "id": "18cf17db",
   "metadata": {},
   "outputs": [
    {
     "name": "stdout",
     "output_type": "stream",
     "text": [
      "Trope Matrix: [[0 0 0 ... 0 0 0]\n",
      " [0 0 0 ... 0 0 0]\n",
      " [0 0 0 ... 0 0 0]\n",
      " ...\n",
      " [0 0 0 ... 0 0 0]\n",
      " [0 0 0 ... 0 0 0]\n",
      " [0 0 0 ... 0 0 0]]\n"
     ]
    }
   ],
   "source": [
    "print(\"Trope Matrix:\", trope_matrix.toarray())"
   ]
  },
  {
   "cell_type": "markdown",
   "id": "00db3910",
   "metadata": {},
   "source": [
    "### Cosine similarity"
   ]
  },
  {
   "cell_type": "code",
   "execution_count": 15,
   "id": "cfe0d40e",
   "metadata": {},
   "outputs": [],
   "source": [
    "# Source: https://towardsdatascience.com/using-cosine-similarity-to-build-a-movie-recommendation-system-ae7f20842599\n",
    "\n",
    "from sklearn.metrics.pairwise import cosine_similarity\n",
    "\n",
    "cosine_sim = cosine_similarity(trope_matrix)"
   ]
  },
  {
   "cell_type": "code",
   "execution_count": 16,
   "id": "b2e31d5e",
   "metadata": {},
   "outputs": [
    {
     "data": {
      "text/plain": [
       "(40435, 40435)"
      ]
     },
     "execution_count": 16,
     "metadata": {},
     "output_type": "execute_result"
    }
   ],
   "source": [
    "cosine_sim.shape"
   ]
  },
  {
   "cell_type": "code",
   "execution_count": 17,
   "id": "fd49db32",
   "metadata": {},
   "outputs": [],
   "source": [
    "# https://machinelearninggeek.com/movie-recommender-system-using-text-similarity/\n",
    "\n",
    "# Create a pandas series with titles as indices and indices as series values \n",
    "indices = pd.Series(trope_by_title.index, index=trope_by_title['Title']).drop_duplicates()"
   ]
  },
  {
   "cell_type": "code",
   "execution_count": 18,
   "id": "f34111b5",
   "metadata": {},
   "outputs": [
    {
     "data": {
      "text/plain": [
       "10559                  Friends\n",
       "28360         TheBigBangTheory\n",
       "24267                   Scrubs\n",
       "10443                  Frasier\n",
       "5952                 Community\n",
       "27684              That70sShow\n",
       "5269                    Cheers\n",
       "4426     BuffyTheVampireSlayer\n",
       "24411                 Seinfeld\n",
       "36770               ThirtyRock\n",
       "Name: Title, dtype: object"
      ]
     },
     "execution_count": 18,
     "metadata": {},
     "output_type": "execute_result"
    }
   ],
   "source": [
    "title='HowIMetYourMother'\n",
    "\n",
    "# Get the index corresponding to movie title\n",
    "index = indices[title]\n",
    "\n",
    "# Get the cosine similarity scores \n",
    "similarity_scores = list(enumerate(cosine_sim[index]))\n",
    "\n",
    "\n",
    "# Sort the similarity scores in descending order\n",
    "sorted_similarity_scores = sorted(similarity_scores, key=lambda x: x[1], reverse=True)\n",
    "\n",
    "\n",
    "# Top-10 most similar movie scores\n",
    "top_10_movies_scores = sorted_similarity_scores[1:11]\n",
    "\n",
    "# Get movie indices\n",
    "top_10_movie_indices=[]\n",
    "for i in top_10_movies_scores:\n",
    "    top_10_movie_indices.append(i[0])\n",
    "    \n",
    "# Top 10 recommende movie\n",
    "trope_by_title['Title'].iloc[top_10_movie_indices]"
   ]
  },
  {
   "cell_type": "code",
   "execution_count": 22,
   "id": "de33b7ec",
   "metadata": {},
   "outputs": [
    {
     "data": {
      "text/plain": [
       "29546                     TheDarkKnight\n",
       "29549              TheDarkKnightTrilogy\n",
       "2759                       BatmanBegins\n",
       "4775     CaptainAmericaTheWinterSoldier\n",
       "2375                AvengersAgeOfUltron\n",
       "26230              StarTrekIntoDarkness\n",
       "2770       BatmanVSupermanDawnOfJustice\n",
       "4772             CaptainAmericaCivilWar\n",
       "2768                      BatmanReturns\n",
       "2756                         Batman1989\n",
       "Name: Title, dtype: object"
      ]
     },
     "execution_count": 22,
     "metadata": {},
     "output_type": "execute_result"
    }
   ],
   "source": [
    "title='TheDarkKnightRises'\n",
    "\n",
    "# Get the index corresponding to movie title\n",
    "index = indices[title]\n",
    "\n",
    "# Get the cosine similarity scores \n",
    "similarity_scores = list(enumerate(cosine_sim[index]))\n",
    "\n",
    "\n",
    "# Sort the similarity scores in descending order\n",
    "sorted_similarity_scores = sorted(similarity_scores, key=lambda x: x[1], reverse=True)\n",
    "\n",
    "\n",
    "# Top-10 most similar movie scores\n",
    "top_10_movies_scores = sorted_similarity_scores[1:11]\n",
    "\n",
    "# Get movie indices\n",
    "top_10_movie_indices=[]\n",
    "for i in top_10_movies_scores:\n",
    "    top_10_movie_indices.append(i[0])\n",
    "    \n",
    "# Top 10 recommende movie\n",
    "trope_by_title['Title'].iloc[top_10_movie_indices]"
   ]
  },
  {
   "cell_type": "code",
   "execution_count": 20,
   "id": "e8e147c5",
   "metadata": {},
   "outputs": [
    {
     "data": {
      "text/plain": [
       "9635                          FateZero\n",
       "29922                  TheDresdenFiles\n",
       "31193             TheHammerAndTheCross\n",
       "37773                        Tsukihime\n",
       "51                ACertainMagicalIndex\n",
       "12731                    HighSchoolDXD\n",
       "7778                         DiscWorld\n",
       "29273    TheConfessionsOfPeterCrossman\n",
       "15585                 KnightLifeSeries\n",
       "30572                   TheFourthRealm\n",
       "Name: Title, dtype: object"
      ]
     },
     "execution_count": 20,
     "metadata": {},
     "output_type": "execute_result"
    }
   ],
   "source": [
    "title='FateStayNight'\n",
    "\n",
    "# Get the index corresponding to movie title\n",
    "index = indices[title]\n",
    "\n",
    "# Get the cosine similarity scores \n",
    "similarity_scores = list(enumerate(cosine_sim[index]))\n",
    "\n",
    "\n",
    "# Sort the similarity scores in descending order\n",
    "sorted_similarity_scores = sorted(similarity_scores, key=lambda x: x[1], reverse=True)\n",
    "\n",
    "\n",
    "# Top-10 most similar movie scores\n",
    "top_10_movies_scores = sorted_similarity_scores[1:11]\n",
    "\n",
    "# Get movie indices\n",
    "top_10_movie_indices=[]\n",
    "for i in top_10_movies_scores:\n",
    "    top_10_movie_indices.append(i[0])\n",
    "    \n",
    "# Top 10 recommende movie\n",
    "trope_by_title['Title'].iloc[top_10_movie_indices]"
   ]
  }
 ],
 "metadata": {
  "kernelspec": {
   "display_name": "Python [conda env:tvtropes]",
   "language": "python",
   "name": "conda-env-tvtropes-py"
  },
  "language_info": {
   "codemirror_mode": {
    "name": "ipython",
    "version": 3
   },
   "file_extension": ".py",
   "mimetype": "text/x-python",
   "name": "python",
   "nbconvert_exporter": "python",
   "pygments_lexer": "ipython3",
   "version": "3.9.12"
  }
 },
 "nbformat": 4,
 "nbformat_minor": 5
}
