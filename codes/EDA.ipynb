{
 "cells": [
  {
   "cell_type": "code",
   "execution_count": 16,
   "id": "b5a680b6",
   "metadata": {},
   "outputs": [],
   "source": [
    "import pandas as pd"
   ]
  },
  {
   "cell_type": "code",
   "execution_count": 17,
   "id": "43a20d61",
   "metadata": {},
   "outputs": [],
   "source": [
    "df = pd.read_csv(\"../TVTropesData/tropes.csv\")"
   ]
  },
  {
   "cell_type": "code",
   "execution_count": 18,
   "id": "06a8bf49",
   "metadata": {},
   "outputs": [
    {
     "data": {
      "text/html": [
       "<div>\n",
       "<style scoped>\n",
       "    .dataframe tbody tr th:only-of-type {\n",
       "        vertical-align: middle;\n",
       "    }\n",
       "\n",
       "    .dataframe tbody tr th {\n",
       "        vertical-align: top;\n",
       "    }\n",
       "\n",
       "    .dataframe thead th {\n",
       "        text-align: right;\n",
       "    }\n",
       "</style>\n",
       "<table border=\"1\" class=\"dataframe\">\n",
       "  <thead>\n",
       "    <tr style=\"text-align: right;\">\n",
       "      <th></th>\n",
       "      <th>Unnamed: 0</th>\n",
       "      <th>TropeID</th>\n",
       "      <th>Trope</th>\n",
       "      <th>Description</th>\n",
       "    </tr>\n",
       "  </thead>\n",
       "  <tbody>\n",
       "    <tr>\n",
       "      <th>0</th>\n",
       "      <td>0</td>\n",
       "      <td>t00001</td>\n",
       "      <td>AbandonedArea</td>\n",
       "      <td>\\nAbandoned places make good settings for fict...</td>\n",
       "    </tr>\n",
       "    <tr>\n",
       "      <th>1</th>\n",
       "      <td>1</td>\n",
       "      <td>t00002</td>\n",
       "      <td>AbandonedCatchphrase</td>\n",
       "      <td>Catchphrases are a great and simple way to hel...</td>\n",
       "    </tr>\n",
       "    <tr>\n",
       "      <th>2</th>\n",
       "      <td>2</td>\n",
       "      <td>t00003</td>\n",
       "      <td>AbandonedHospital</td>\n",
       "      <td>The creepy abandoned hospital/mental instituti...</td>\n",
       "    </tr>\n",
       "    <tr>\n",
       "      <th>3</th>\n",
       "      <td>3</td>\n",
       "      <td>t00004</td>\n",
       "      <td>AbandonedHospitalAwakening</td>\n",
       "      <td>An Abandoned Hospital Awakening is, as the nam...</td>\n",
       "    </tr>\n",
       "    <tr>\n",
       "      <th>4</th>\n",
       "      <td>4</td>\n",
       "      <td>t00005</td>\n",
       "      <td>AbandonedInfoPage</td>\n",
       "      <td>When a work is getting more and more complicat...</td>\n",
       "    </tr>\n",
       "  </tbody>\n",
       "</table>\n",
       "</div>"
      ],
      "text/plain": [
       "   Unnamed: 0 TropeID                       Trope  \\\n",
       "0           0  t00001               AbandonedArea   \n",
       "1           1  t00002        AbandonedCatchphrase   \n",
       "2           2  t00003           AbandonedHospital   \n",
       "3           3  t00004  AbandonedHospitalAwakening   \n",
       "4           4  t00005           AbandonedInfoPage   \n",
       "\n",
       "                                         Description  \n",
       "0  \\nAbandoned places make good settings for fict...  \n",
       "1  Catchphrases are a great and simple way to hel...  \n",
       "2  The creepy abandoned hospital/mental instituti...  \n",
       "3  An Abandoned Hospital Awakening is, as the nam...  \n",
       "4  When a work is getting more and more complicat...  "
      ]
     },
     "execution_count": 18,
     "metadata": {},
     "output_type": "execute_result"
    }
   ],
   "source": [
    "df.head()"
   ]
  },
  {
   "cell_type": "code",
   "execution_count": 19,
   "id": "95685b29",
   "metadata": {},
   "outputs": [
    {
     "data": {
      "text/plain": [
       "'\\nAbandoned places make good settings for fiction. Normally seen in fiction that evokes types of horror, the concept of a place just being abandoned makes an unnerving feeling in the viewer. It also creates suspense and increases the surprise when it turns out that the place isn\\'t really abandoned. The use of abandoned places as an aesthetic aid, as it normally is, often overlaps with Scenery Gorn. Depending on the state of the location, it may give a justified example of No OSHA Compliance, because, really, would you be bothered with health and safety in somewhere you\\'ve abandoned?\\nSub-tropes:\\nAlso see Never Recycle a Building. Beautiful Void is a related trope. Any of these can be Unexpectedly Abandoned. See also Bat Scare, which is frequently used in abandoned areas. When a part of a city has been so abandoned that even the police won\\'t go in, you have The City Narrows. (Robert A. Heinlein used the term \"Abandoned Area\" in I Will Fear No Evil to refer to that part of a city.)\\n'"
      ]
     },
     "execution_count": 19,
     "metadata": {},
     "output_type": "execute_result"
    }
   ],
   "source": [
    "df.Description[0]"
   ]
  },
  {
   "cell_type": "code",
   "execution_count": 20,
   "id": "87d1906d",
   "metadata": {},
   "outputs": [
    {
     "data": {
      "text/plain": [
       "30984"
      ]
     },
     "execution_count": 20,
     "metadata": {},
     "output_type": "execute_result"
    }
   ],
   "source": [
    "len(df)"
   ]
  },
  {
   "cell_type": "code",
   "execution_count": 21,
   "id": "4120a0ac",
   "metadata": {},
   "outputs": [
    {
     "data": {
      "text/html": [
       "<div>\n",
       "<style scoped>\n",
       "    .dataframe tbody tr th:only-of-type {\n",
       "        vertical-align: middle;\n",
       "    }\n",
       "\n",
       "    .dataframe tbody tr th {\n",
       "        vertical-align: top;\n",
       "    }\n",
       "\n",
       "    .dataframe thead th {\n",
       "        text-align: right;\n",
       "    }\n",
       "</style>\n",
       "<table border=\"1\" class=\"dataframe\">\n",
       "  <thead>\n",
       "    <tr style=\"text-align: right;\">\n",
       "      <th></th>\n",
       "      <th>Unnamed: 0</th>\n",
       "      <th>TropeID</th>\n",
       "      <th>Trope</th>\n",
       "      <th>Description</th>\n",
       "    </tr>\n",
       "  </thead>\n",
       "  <tbody>\n",
       "    <tr>\n",
       "      <th>30979</th>\n",
       "      <td>30979</td>\n",
       "      <td>t30980</td>\n",
       "      <td>FlowersInHerHair</td>\n",
       "      <td>\\nFlowers have long been a symbol of femininit...</td>\n",
       "    </tr>\n",
       "    <tr>\n",
       "      <th>30980</th>\n",
       "      <td>30980</td>\n",
       "      <td>t30981</td>\n",
       "      <td>KicktheSonOfABitch</td>\n",
       "      <td>\\nThere's nothing quite so evil as when a char...</td>\n",
       "    </tr>\n",
       "    <tr>\n",
       "      <th>30981</th>\n",
       "      <td>30981</td>\n",
       "      <td>t30982</td>\n",
       "      <td>ParentProducedProject</td>\n",
       "      <td>When a child needs a school project done, some...</td>\n",
       "    </tr>\n",
       "    <tr>\n",
       "      <th>30982</th>\n",
       "      <td>30982</td>\n",
       "      <td>t30983</td>\n",
       "      <td>CutAwayGag</td>\n",
       "      <td>\\nA Cutaway Gag is a joke generally found in s...</td>\n",
       "    </tr>\n",
       "    <tr>\n",
       "      <th>30983</th>\n",
       "      <td>30983</td>\n",
       "      <td>t30984</td>\n",
       "      <td>SqueakingCarpet</td>\n",
       "      <td>\\nRodents are widely reviled, but not very thr...</td>\n",
       "    </tr>\n",
       "  </tbody>\n",
       "</table>\n",
       "</div>"
      ],
      "text/plain": [
       "       Unnamed: 0 TropeID                  Trope  \\\n",
       "30979       30979  t30980       FlowersInHerHair   \n",
       "30980       30980  t30981     KicktheSonOfABitch   \n",
       "30981       30981  t30982  ParentProducedProject   \n",
       "30982       30982  t30983             CutAwayGag   \n",
       "30983       30983  t30984        SqueakingCarpet   \n",
       "\n",
       "                                             Description  \n",
       "30979  \\nFlowers have long been a symbol of femininit...  \n",
       "30980  \\nThere's nothing quite so evil as when a char...  \n",
       "30981  When a child needs a school project done, some...  \n",
       "30982  \\nA Cutaway Gag is a joke generally found in s...  \n",
       "30983  \\nRodents are widely reviled, but not very thr...  "
      ]
     },
     "execution_count": 21,
     "metadata": {},
     "output_type": "execute_result"
    }
   ],
   "source": [
    "df.tail()"
   ]
  },
  {
   "cell_type": "code",
   "execution_count": 22,
   "id": "b953a04f",
   "metadata": {},
   "outputs": [
    {
     "data": {
      "text/plain": [
       "\"\\nA Cutaway Gag is a joke generally found in sillier comedies in which a character says something and the action immediately cuts to a throwaway joke related to what the character said. The Cutaway Gag is usually a non sequitur which has absolutely nothing to do with the plot of the comedy. It is just there to be funny. If the gag is funny, no one minds the non sequitur. Of course, if it isn't...\\nA staple of the Gag Series, or those using Rapid-Fire Comedy (after all, it's easy to have lots of jokes if you don't need them to make sense).\\nCompare Big-Lipped Alligator Moment, Imagine Spot, Crazy Memory, Product-Promotion Parade (which this can overlap with), Separate Scene Storytelling. Also an Aversion to the Noodle Incident, especially when they briefly start off with a bit of dialogue that would imply such a trope.\\n\""
      ]
     },
     "execution_count": 22,
     "metadata": {},
     "output_type": "execute_result"
    }
   ],
   "source": [
    "df.Description[30982]"
   ]
  },
  {
   "cell_type": "code",
   "execution_count": 57,
   "id": "ed946092",
   "metadata": {},
   "outputs": [
    {
     "data": {
      "text/html": [
       "<div>\n",
       "<style scoped>\n",
       "    .dataframe tbody tr th:only-of-type {\n",
       "        vertical-align: middle;\n",
       "    }\n",
       "\n",
       "    .dataframe tbody tr th {\n",
       "        vertical-align: top;\n",
       "    }\n",
       "\n",
       "    .dataframe thead th {\n",
       "        text-align: right;\n",
       "    }\n",
       "</style>\n",
       "<table border=\"1\" class=\"dataframe\">\n",
       "  <thead>\n",
       "    <tr style=\"text-align: right;\">\n",
       "      <th></th>\n",
       "      <th>Unnamed: 0</th>\n",
       "      <th>TropeID</th>\n",
       "      <th>Trope</th>\n",
       "      <th>Description</th>\n",
       "    </tr>\n",
       "  </thead>\n",
       "  <tbody>\n",
       "    <tr>\n",
       "      <th>30888</th>\n",
       "      <td>30888</td>\n",
       "      <td>t30889</td>\n",
       "      <td>GoodColoursEvilColours</td>\n",
       "      <td>In an age where every other hero is an Anti-He...</td>\n",
       "    </tr>\n",
       "  </tbody>\n",
       "</table>\n",
       "</div>"
      ],
      "text/plain": [
       "       Unnamed: 0 TropeID                   Trope  \\\n",
       "30888       30888  t30889  GoodColoursEvilColours   \n",
       "\n",
       "                                             Description  \n",
       "30888  In an age where every other hero is an Anti-He...  "
      ]
     },
     "execution_count": 57,
     "metadata": {},
     "output_type": "execute_result"
    }
   ],
   "source": [
    "df[df.Trope.str.contains('GoodColoursEvilColours',na=False)]"
   ]
  },
  {
   "cell_type": "code",
   "execution_count": 41,
   "id": "d8f6c8f5",
   "metadata": {},
   "outputs": [
    {
     "data": {
      "text/plain": [
       "'A character, usually the protagonist, is looking for someone, often an older, wiser character. During the search, he meets a stranger, and the conversation turns to the sought-after character. The stranger will typically either respond, \"Oh, I know him well...\" or else act as if he\\'s never heard of the person. Either way, in time it is revealed that this stranger is the sought-after character.\\nOften, the stranger is playing dumb about their true identity in order to assess the searcher\\'s character and intentions, the idea being that the searcher\\'s behavior will be more genuine in the presence of someone they perceive to be just an ordinary stranger. This can lead to a painful lesson for the searcher once he learns the truth about the stranger, making this a favorite form of introduction among Trickster Mentors.\\nIt still satisfies this trope if the person tells the searcher straight-out, without pussyfooting around or playing games, who he is, as in the opening Star Wars quote.\\nFurther confusion can arise if the sought-after character is of a different gender, race, species, etc. than the searcher was expecting, such as when a sought-after \"doctor\" turns out to be a woman scientist. Or maybe the searcher was just Expecting Someone Taller.\\nCan also be Luke, I Am Your Father if the sought-after character is the searcher\\'s parent. See also You Have No Idea Who You\\'re Dealing With, Right in Front of Me, King Incognito, Actually, That\\'s My Assistant, I Am One of Those, Too, ...But He Sounds Handsome, Mistaken for Servant, and ...And That Little Girl Was Me. Might invoke Your Costume Needs Work if a character thinks the person is just someone dressed up to look like them. For when you weren\\'t expecting something to be a character at all, see I Am the Noun. Compare and contrast Something Only They Would Say and No Doubt the Years Have Changed Me, where the unrecognized character is someone the oblivious party had actually known before.\\nNot to be confused with Confronting Your Imposter, which is sort of an inverse of this trope. Also contrast Friend of Masked Self, where the misidentified character doesn\\'t admit \"I am him\" because it would ruin his Secret Identity.\\nGiven that this trope is about a plot twist, here be spoilers.\\n\\n'"
      ]
     },
     "execution_count": 41,
     "metadata": {},
     "output_type": "execute_result"
    }
   ],
   "source": [
    "df.Description[216]"
   ]
  },
  {
   "cell_type": "code",
   "execution_count": 54,
   "id": "f2a2848a",
   "metadata": {},
   "outputs": [
    {
     "data": {
      "text/html": [
       "<div>\n",
       "<style scoped>\n",
       "    .dataframe tbody tr th:only-of-type {\n",
       "        vertical-align: middle;\n",
       "    }\n",
       "\n",
       "    .dataframe tbody tr th {\n",
       "        vertical-align: top;\n",
       "    }\n",
       "\n",
       "    .dataframe thead th {\n",
       "        text-align: right;\n",
       "    }\n",
       "</style>\n",
       "<table border=\"1\" class=\"dataframe\">\n",
       "  <thead>\n",
       "    <tr style=\"text-align: right;\">\n",
       "      <th></th>\n",
       "      <th>Unnamed: 0</th>\n",
       "      <th>TropeID</th>\n",
       "      <th>Trope</th>\n",
       "      <th>Description</th>\n",
       "    </tr>\n",
       "  </thead>\n",
       "  <tbody>\n",
       "    <tr>\n",
       "      <th>23158</th>\n",
       "      <td>23158</td>\n",
       "      <td>t23159</td>\n",
       "      <td>ThemeNaming</td>\n",
       "      <td>\\nAuthors like to use themes to create a sense...</td>\n",
       "    </tr>\n",
       "  </tbody>\n",
       "</table>\n",
       "</div>"
      ],
      "text/plain": [
       "       Unnamed: 0 TropeID        Trope  \\\n",
       "23158       23158  t23159  ThemeNaming   \n",
       "\n",
       "                                             Description  \n",
       "23158  \\nAuthors like to use themes to create a sense...  "
      ]
     },
     "execution_count": 54,
     "metadata": {},
     "output_type": "execute_result"
    }
   ],
   "source": [
    "df[df.Trope=='ThemeNaming']"
   ]
  },
  {
   "cell_type": "code",
   "execution_count": 55,
   "id": "eecbf067",
   "metadata": {},
   "outputs": [
    {
     "data": {
      "text/plain": [
       "\"\\nAuthors like to use themes to create a sense of unity or cohesiveness within their work. Some extend themes to the names of the characters, often beyond the similarities that would be expected for characters from the same culture or who all speak the same language. When the author does this, you have Theme Naming. For instance, all the female characters will have names of flowers or plants (occasionally the male characters will get Gender Blender Names); all the names start with the same letter or syllable, groups of characters are named after groups of gods, demigods, or mythical heroes. As the list of subtropes demonstrates, there are a lot of possible themes (and that's not all of them, either)\\nThe Recurring Extras, Those Two Guys and Creepy Twins sometimes have thematic names that link them. Theme naming is also common for characters with unusual names as a mnemonic in order to keep track of a huge cast; it's easier to keep track of which character is associated with which other characters if each group uses a theme.\\nTheme Naming can also be a Genius Bonus if it involves puns or other types of wordplay, names or words from languages other than the language the work is written in, or multiple layers of meaning in the name, or alternate or changed spellings.\\n\\nVariations:\\nSubtropes include:\\nThis page is for examples that don't really fit into any of the above subtropes. Those that do should be placed on the appropriate subtrope's page.\\nSee also Meaningful Name, Prophetic Names, Who's on First?, Steven Ulysses Perhero, Names Given to Computers, and This Is My Name on Foreign. See Idiosyncratic Episode Naming for titles.\\n\""
      ]
     },
     "execution_count": 55,
     "metadata": {},
     "output_type": "execute_result"
    }
   ],
   "source": [
    "df.Description[23158]"
   ]
  },
  {
   "cell_type": "code",
   "execution_count": null,
   "id": "07bf326e",
   "metadata": {},
   "outputs": [],
   "source": []
  }
 ],
 "metadata": {
  "kernelspec": {
   "display_name": "Python [conda env:text-data-class]",
   "language": "python",
   "name": "conda-env-text-data-class-py"
  },
  "language_info": {
   "codemirror_mode": {
    "name": "ipython",
    "version": 3
   },
   "file_extension": ".py",
   "mimetype": "text/x-python",
   "name": "python",
   "nbconvert_exporter": "python",
   "pygments_lexer": "ipython3",
   "version": "3.9.9"
  }
 },
 "nbformat": 4,
 "nbformat_minor": 5
}
